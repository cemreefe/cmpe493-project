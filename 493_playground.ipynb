{
  "nbformat": 4,
  "nbformat_minor": 0,
  "metadata": {
    "colab": {
      "name": "Copy of 493-playground.ipynb",
      "provenance": [],
      "collapsed_sections": [],
      "include_colab_link": true
    },
    "kernelspec": {
      "name": "python3",
      "display_name": "Python 3"
    }
  },
  "cells": [
    {
      "cell_type": "markdown",
      "metadata": {
        "id": "view-in-github",
        "colab_type": "text"
      },
      "source": [
        "<a href=\"https://colab.research.google.com/github/cemreefe/cmpe493-project/blob/main/493_playground.ipynb\" target=\"_parent\"><img src=\"https://colab.research.google.com/assets/colab-badge.svg\" alt=\"Open In Colab\"/></a>"
      ]
    },
    {
      "cell_type": "code",
      "metadata": {
        "colab": {
          "base_uri": "https://localhost:8080/"
        },
        "id": "JVZLCZdmBY78",
        "outputId": "3dbcb94a-d326-4d3e-b1a5-040731b0f234"
      },
      "source": [
        "!pip3 install xmltodict\n",
        "\n",
        "import os\n",
        "import tarfile\n",
        "import pandas as pd\n",
        "import xmltodict\n",
        "import json\n",
        "import io   \n",
        "import math"
      ],
      "execution_count": 34,
      "outputs": [
        {
          "output_type": "stream",
          "text": [
            "Requirement already satisfied: xmltodict in /usr/local/lib/python3.6/dist-packages (0.12.0)\n"
          ],
          "name": "stdout"
        }
      ]
    },
    {
      "cell_type": "code",
      "metadata": {
        "colab": {
          "base_uri": "https://localhost:8080/"
        },
        "id": "vF1KRp5a_KRn",
        "outputId": "2a59bd6a-ed1f-4faf-9f63-873629f28659"
      },
      "source": [
        "from google.colab import drive\n",
        "drive.mount('/content/drive')"
      ],
      "execution_count": 35,
      "outputs": [
        {
          "output_type": "stream",
          "text": [
            "Drive already mounted at /content/drive; to attempt to forcibly remount, call drive.mount(\"/content/drive\", force_remount=True).\n"
          ],
          "name": "stdout"
        }
      ]
    },
    {
      "cell_type": "code",
      "metadata": {
        "id": "nQ5AG9XTGv3c"
      },
      "source": [
        "def read_file(path):\n",
        "  with open(path, 'r') as f:\n",
        "    return f.read()"
      ],
      "execution_count": 36,
      "outputs": []
    },
    {
      "cell_type": "code",
      "metadata": {
        "id": "fCj1rJ6bAjC2"
      },
      "source": [
        "if not os.path.exists('drive/MyDrive/CMPE/CMPE493'):\n",
        "  os.makedirs('drive/MyDrive/CMPE/CMPE493')"
      ],
      "execution_count": 37,
      "outputs": []
    },
    {
      "cell_type": "code",
      "metadata": {
        "id": "mm-aEzfN-53E"
      },
      "source": [
        "if not os.path.exists('drive/MyDrive/CMPE/CMPE493/topics-rnd5.xml'):\n",
        "  !curl https://ir.nist.gov/covidSubmit/data/topics-rnd5.xml --output drive/MyDrive/CMPE/CMPE493/topics-rnd5.xml\n",
        "\n",
        "if not os.path.exists('drive/MyDrive/CMPE/CMPE493/qrels-covid_d5_j0.5-5.txt'):\n",
        "  !curl https://ir.nist.gov/covidSubmit/data/qrels-covid_d5_j0.5-5.txt --output drive/MyDrive/CMPE/CMPE493/qrels-covid_d5_j0.5-5.txt\n",
        "\n",
        "if not os.path.exists('drive/MyDrive/CMPE/CMPE493/cord-19_2020-07-16.tar.gz'):\n",
        "  !curl https://ai2-semanticscholar-cord-19.s3-us-west-2.amazonaws.com/historical_releases/cord-19_2020-07-16.tar.gz --output drive/MyDrive/CMPE/CMPE493/cord-19_2020-07-16.tar.gz"
      ],
      "execution_count": 38,
      "outputs": []
    },
    {
      "cell_type": "code",
      "metadata": {
        "id": "GcQnwTCRBbv7"
      },
      "source": [
        "if not os.path.exists('2020-07-16'):\n",
        "  tar = tarfile.open('drive/MyDrive/CMPE/CMPE493/cord-19_2020-07-16.tar.gz', \"r:gz\")\n",
        "  tar.extractall()\n",
        "  tar.close()"
      ],
      "execution_count": 39,
      "outputs": []
    },
    {
      "cell_type": "code",
      "metadata": {
        "colab": {
          "base_uri": "https://localhost:8080/"
        },
        "id": "m_psEwqmCBb2",
        "outputId": "79aeca4f-870b-4f23-c40c-f6509c295519"
      },
      "source": [
        "df_metadata = pd.read_csv('2020-07-16/metadata.csv')"
      ],
      "execution_count": 40,
      "outputs": [
        {
          "output_type": "stream",
          "text": [
            "/usr/local/lib/python3.6/dist-packages/IPython/core/interactiveshell.py:2718: DtypeWarning: Columns (1,4,5,6,13,14,15,16) have mixed types.Specify dtype option on import or set low_memory=False.\n",
            "  interactivity=interactivity, compiler=compiler, result=result)\n"
          ],
          "name": "stderr"
        }
      ]
    },
    {
      "cell_type": "code",
      "metadata": {
        "id": "sYc9bGgtOx-u"
      },
      "source": [
        "del df_metadata['sha'], df_metadata['source_x'], df_metadata['doi'], df_metadata['pmcid'], df_metadata['pubmed_id'], df_metadata['license'], df_metadata['publish_time'], df_metadata['authors'], df_metadata['journal'], df_metadata['mag_id'], df_metadata['who_covidence_id'], df_metadata['arxiv_id'], df_metadata['pdf_json_files'], df_metadata['pmc_json_files'], df_metadata['url'], df_metadata['s2_id']"
      ],
      "execution_count": 41,
      "outputs": []
    },
    {
      "cell_type": "code",
      "metadata": {
        "colab": {
          "base_uri": "https://localhost:8080/",
          "height": 78
        },
        "id": "JEIttS2QPUIP",
        "outputId": "2468d684-5ee3-4ef1-dc19-9a860d2efb10"
      },
      "source": [
        "df_metadata[df_metadata['cord_uid'] == 'ug7v899j']"
      ],
      "execution_count": 42,
      "outputs": [
        {
          "output_type": "execute_result",
          "data": {
            "text/html": [
              "<div>\n",
              "<style scoped>\n",
              "    .dataframe tbody tr th:only-of-type {\n",
              "        vertical-align: middle;\n",
              "    }\n",
              "\n",
              "    .dataframe tbody tr th {\n",
              "        vertical-align: top;\n",
              "    }\n",
              "\n",
              "    .dataframe thead th {\n",
              "        text-align: right;\n",
              "    }\n",
              "</style>\n",
              "<table border=\"1\" class=\"dataframe\">\n",
              "  <thead>\n",
              "    <tr style=\"text-align: right;\">\n",
              "      <th></th>\n",
              "      <th>cord_uid</th>\n",
              "      <th>title</th>\n",
              "      <th>abstract</th>\n",
              "    </tr>\n",
              "  </thead>\n",
              "  <tbody>\n",
              "    <tr>\n",
              "      <th>0</th>\n",
              "      <td>ug7v899j</td>\n",
              "      <td>Clinical features of culture-proven Mycoplasma...</td>\n",
              "      <td>OBJECTIVE: This retrospective chart review des...</td>\n",
              "    </tr>\n",
              "  </tbody>\n",
              "</table>\n",
              "</div>"
            ],
            "text/plain": [
              "   cord_uid  ...                                           abstract\n",
              "0  ug7v899j  ...  OBJECTIVE: This retrospective chart review des...\n",
              "\n",
              "[1 rows x 3 columns]"
            ]
          },
          "metadata": {
            "tags": []
          },
          "execution_count": 42
        }
      ]
    },
    {
      "cell_type": "code",
      "metadata": {
        "id": "cKt-HNIOji_W"
      },
      "source": [
        "df_metadata.drop_duplicates(subset='cord_uid', keep='first', inplace=True)"
      ],
      "execution_count": 43,
      "outputs": []
    },
    {
      "cell_type": "code",
      "metadata": {
        "id": "7I7QIYPDmov8",
        "colab": {
          "base_uri": "https://localhost:8080/",
          "height": 407
        },
        "outputId": "deb75646-3152-414c-ff44-4a3ef0e32030"
      },
      "source": [
        "df_metadata"
      ],
      "execution_count": 44,
      "outputs": [
        {
          "output_type": "execute_result",
          "data": {
            "text/html": [
              "<div>\n",
              "<style scoped>\n",
              "    .dataframe tbody tr th:only-of-type {\n",
              "        vertical-align: middle;\n",
              "    }\n",
              "\n",
              "    .dataframe tbody tr th {\n",
              "        vertical-align: top;\n",
              "    }\n",
              "\n",
              "    .dataframe thead th {\n",
              "        text-align: right;\n",
              "    }\n",
              "</style>\n",
              "<table border=\"1\" class=\"dataframe\">\n",
              "  <thead>\n",
              "    <tr style=\"text-align: right;\">\n",
              "      <th></th>\n",
              "      <th>cord_uid</th>\n",
              "      <th>title</th>\n",
              "      <th>abstract</th>\n",
              "    </tr>\n",
              "  </thead>\n",
              "  <tbody>\n",
              "    <tr>\n",
              "      <th>0</th>\n",
              "      <td>ug7v899j</td>\n",
              "      <td>Clinical features of culture-proven Mycoplasma...</td>\n",
              "      <td>OBJECTIVE: This retrospective chart review des...</td>\n",
              "    </tr>\n",
              "    <tr>\n",
              "      <th>1</th>\n",
              "      <td>02tnwd4m</td>\n",
              "      <td>Nitric oxide: a pro-inflammatory mediator in l...</td>\n",
              "      <td>Inflammatory diseases of the respiratory tract...</td>\n",
              "    </tr>\n",
              "    <tr>\n",
              "      <th>2</th>\n",
              "      <td>ejv2xln0</td>\n",
              "      <td>Surfactant protein-D and pulmonary host defense</td>\n",
              "      <td>Surfactant protein-D (SP-D) participates in th...</td>\n",
              "    </tr>\n",
              "    <tr>\n",
              "      <th>3</th>\n",
              "      <td>2b73a28n</td>\n",
              "      <td>Role of endothelin-1 in lung disease</td>\n",
              "      <td>Endothelin-1 (ET-1) is a 21 amino acid peptide...</td>\n",
              "    </tr>\n",
              "    <tr>\n",
              "      <th>4</th>\n",
              "      <td>9785vg6d</td>\n",
              "      <td>Gene expression in epithelial cells in respons...</td>\n",
              "      <td>Respiratory syncytial virus (RSV) and pneumoni...</td>\n",
              "    </tr>\n",
              "    <tr>\n",
              "      <th>...</th>\n",
              "      <td>...</td>\n",
              "      <td>...</td>\n",
              "      <td>...</td>\n",
              "    </tr>\n",
              "    <tr>\n",
              "      <th>192504</th>\n",
              "      <td>z4ro6lmh</td>\n",
              "      <td>Rapid radiological improvement of COVID-19 pne...</td>\n",
              "      <td>NaN</td>\n",
              "    </tr>\n",
              "    <tr>\n",
              "      <th>192505</th>\n",
              "      <td>hi8k8wvb</td>\n",
              "      <td>SARS E protein in phospholipid bilayers: an an...</td>\n",
              "      <td>Abstract We report on an anomalous X-ray refle...</td>\n",
              "    </tr>\n",
              "    <tr>\n",
              "      <th>192506</th>\n",
              "      <td>ma3ndg41</td>\n",
              "      <td>Italian Society of Interventional Cardiology (...</td>\n",
              "      <td>COVID‐19 pandemic raised the issue to guarante...</td>\n",
              "    </tr>\n",
              "    <tr>\n",
              "      <th>192507</th>\n",
              "      <td>wh10285j</td>\n",
              "      <td>Nimble, Together: A Training Program's Respons...</td>\n",
              "      <td>NaN</td>\n",
              "    </tr>\n",
              "    <tr>\n",
              "      <th>192508</th>\n",
              "      <td>pnl9th2c</td>\n",
              "      <td>Vascular Life during the COVID-19 Pandemic Rem...</td>\n",
              "      <td>NaN</td>\n",
              "    </tr>\n",
              "  </tbody>\n",
              "</table>\n",
              "<p>191175 rows × 3 columns</p>\n",
              "</div>"
            ],
            "text/plain": [
              "        cord_uid  ...                                           abstract\n",
              "0       ug7v899j  ...  OBJECTIVE: This retrospective chart review des...\n",
              "1       02tnwd4m  ...  Inflammatory diseases of the respiratory tract...\n",
              "2       ejv2xln0  ...  Surfactant protein-D (SP-D) participates in th...\n",
              "3       2b73a28n  ...  Endothelin-1 (ET-1) is a 21 amino acid peptide...\n",
              "4       9785vg6d  ...  Respiratory syncytial virus (RSV) and pneumoni...\n",
              "...          ...  ...                                                ...\n",
              "192504  z4ro6lmh  ...                                                NaN\n",
              "192505  hi8k8wvb  ...  Abstract We report on an anomalous X-ray refle...\n",
              "192506  ma3ndg41  ...  COVID‐19 pandemic raised the issue to guarante...\n",
              "192507  wh10285j  ...                                                NaN\n",
              "192508  pnl9th2c  ...                                                NaN\n",
              "\n",
              "[191175 rows x 3 columns]"
            ]
          },
          "metadata": {
            "tags": []
          },
          "execution_count": 44
        }
      ]
    },
    {
      "cell_type": "code",
      "metadata": {
        "colab": {
          "base_uri": "https://localhost:8080/",
          "height": 407
        },
        "id": "EGkG7afREkla",
        "outputId": "d0e3262b-3ba5-483a-94a3-022a0e88145d"
      },
      "source": [
        "topic_relevances = 'topic iter document_id judgement\\n' + read_file('drive/MyDrive/CMPE/CMPE493/qrels-covid_d5_j0.5-5.txt')\n",
        "\n",
        "df_relevances = pd.read_csv(  io.StringIO(topic_relevances)  , sep=\" \")\n",
        "del df_relevances['iter']\n",
        "\n",
        "df_relevances"
      ],
      "execution_count": 45,
      "outputs": [
        {
          "output_type": "execute_result",
          "data": {
            "text/html": [
              "<div>\n",
              "<style scoped>\n",
              "    .dataframe tbody tr th:only-of-type {\n",
              "        vertical-align: middle;\n",
              "    }\n",
              "\n",
              "    .dataframe tbody tr th {\n",
              "        vertical-align: top;\n",
              "    }\n",
              "\n",
              "    .dataframe thead th {\n",
              "        text-align: right;\n",
              "    }\n",
              "</style>\n",
              "<table border=\"1\" class=\"dataframe\">\n",
              "  <thead>\n",
              "    <tr style=\"text-align: right;\">\n",
              "      <th></th>\n",
              "      <th>topic</th>\n",
              "      <th>document_id</th>\n",
              "      <th>judgement</th>\n",
              "    </tr>\n",
              "  </thead>\n",
              "  <tbody>\n",
              "    <tr>\n",
              "      <th>0</th>\n",
              "      <td>1</td>\n",
              "      <td>005b2j4b</td>\n",
              "      <td>2</td>\n",
              "    </tr>\n",
              "    <tr>\n",
              "      <th>1</th>\n",
              "      <td>1</td>\n",
              "      <td>00fmeepz</td>\n",
              "      <td>1</td>\n",
              "    </tr>\n",
              "    <tr>\n",
              "      <th>2</th>\n",
              "      <td>1</td>\n",
              "      <td>010vptx3</td>\n",
              "      <td>2</td>\n",
              "    </tr>\n",
              "    <tr>\n",
              "      <th>3</th>\n",
              "      <td>1</td>\n",
              "      <td>0194oljo</td>\n",
              "      <td>1</td>\n",
              "    </tr>\n",
              "    <tr>\n",
              "      <th>4</th>\n",
              "      <td>1</td>\n",
              "      <td>021q9884</td>\n",
              "      <td>1</td>\n",
              "    </tr>\n",
              "    <tr>\n",
              "      <th>...</th>\n",
              "      <td>...</td>\n",
              "      <td>...</td>\n",
              "      <td>...</td>\n",
              "    </tr>\n",
              "    <tr>\n",
              "      <th>69313</th>\n",
              "      <td>50</td>\n",
              "      <td>zvop8bxh</td>\n",
              "      <td>2</td>\n",
              "    </tr>\n",
              "    <tr>\n",
              "      <th>69314</th>\n",
              "      <td>50</td>\n",
              "      <td>zwf26o63</td>\n",
              "      <td>1</td>\n",
              "    </tr>\n",
              "    <tr>\n",
              "      <th>69315</th>\n",
              "      <td>50</td>\n",
              "      <td>zwsvlnwe</td>\n",
              "      <td>0</td>\n",
              "    </tr>\n",
              "    <tr>\n",
              "      <th>69316</th>\n",
              "      <td>50</td>\n",
              "      <td>zxr01yln</td>\n",
              "      <td>1</td>\n",
              "    </tr>\n",
              "    <tr>\n",
              "      <th>69317</th>\n",
              "      <td>50</td>\n",
              "      <td>zz8wvos9</td>\n",
              "      <td>1</td>\n",
              "    </tr>\n",
              "  </tbody>\n",
              "</table>\n",
              "<p>69318 rows × 3 columns</p>\n",
              "</div>"
            ],
            "text/plain": [
              "       topic document_id  judgement\n",
              "0          1    005b2j4b          2\n",
              "1          1    00fmeepz          1\n",
              "2          1    010vptx3          2\n",
              "3          1    0194oljo          1\n",
              "4          1    021q9884          1\n",
              "...      ...         ...        ...\n",
              "69313     50    zvop8bxh          2\n",
              "69314     50    zwf26o63          1\n",
              "69315     50    zwsvlnwe          0\n",
              "69316     50    zxr01yln          1\n",
              "69317     50    zz8wvos9          1\n",
              "\n",
              "[69318 rows x 3 columns]"
            ]
          },
          "metadata": {
            "tags": []
          },
          "execution_count": 45
        }
      ]
    },
    {
      "cell_type": "code",
      "metadata": {
        "id": "BfQ3a3yIItFa"
      },
      "source": [
        "topics_obj = xmltodict.parse(read_file('drive/MyDrive/CMPE/CMPE493/topics-rnd5.xml'))\n",
        "topics     = json.loads(json.dumps(topics_obj))\n",
        "\n",
        "topics_dict = {}\n",
        "for topic in topics['topics']['topic']:\n",
        "  # a topic has the following fields:\n",
        "  #  * @number\n",
        "  #  * narrative\n",
        "  #  * query\n",
        "  #  * question\n",
        "  topics_dict[topic['@number']] = topic['query'] + ' ' + topic['question'] + ' ' + topic['narrative']"
      ],
      "execution_count": 46,
      "outputs": []
    },
    {
      "cell_type": "code",
      "metadata": {
        "colab": {
          "base_uri": "https://localhost:8080/"
        },
        "id": "Ym_9xG3zVjrk",
        "outputId": "3974d732-7d16-4efc-b9b0-aacd90475939"
      },
      "source": [
        "len(topics_dict)"
      ],
      "execution_count": 47,
      "outputs": [
        {
          "output_type": "execute_result",
          "data": {
            "text/plain": [
              "50"
            ]
          },
          "metadata": {
            "tags": []
          },
          "execution_count": 47
        }
      ]
    },
    {
      "cell_type": "markdown",
      "metadata": {
        "id": "iwwehnTLLIyy"
      },
      "source": [
        "# Data so far\n",
        "\n",
        "* `topics_dict` \n",
        "      has `topic-id` for keys, and topic description for values\n",
        "* `df_relevances` \n",
        "      has the following three columns:\n",
        "      topic\tdocument-id\tjudgement\n",
        "* `df_metadata`\n",
        "      holds information about the documents\n",
        "      has the following three columns (others are deleted):\n",
        "      cord_uid\ttitle\tabstract\n"
      ]
    },
    {
      "cell_type": "code",
      "metadata": {
        "id": "YPY55dZNTZBk"
      },
      "source": [
        "def strip_non_alphanum(text):\n",
        "    import re\n",
        "    return ' '.join(re.compile(r'\\W+', re.UNICODE).split(text))"
      ],
      "execution_count": 48,
      "outputs": []
    },
    {
      "cell_type": "code",
      "metadata": {
        "colab": {
          "base_uri": "https://localhost:8080/"
        },
        "id": "2mxxhHAgRf7E",
        "outputId": "909916c2-7a19-4eaa-80b7-e626c347c80e"
      },
      "source": [
        "from sklearn.feature_extraction.text import TfidfVectorizer\n",
        "corpus = [\n",
        "    'This is the first document.',\n",
        "    'This document is the second document.',\n",
        "    'And this is the third one.',\n",
        "    'Is this the first document?',\n",
        "]\n",
        "ex_vectorizer = TfidfVectorizer(stop_words=stopwords.words('english'))\n",
        "X = ex_vectorizer.fit_transform(corpus)\n",
        "print(ex_vectorizer.get_feature_names())\n",
        "\n",
        "print(X.shape)"
      ],
      "execution_count": 76,
      "outputs": [
        {
          "output_type": "stream",
          "text": [
            "['document', 'first', 'one', 'second', 'third']\n",
            "(4, 5)\n"
          ],
          "name": "stdout"
        }
      ]
    },
    {
      "cell_type": "code",
      "metadata": {
        "colab": {
          "base_uri": "https://localhost:8080/",
          "height": 198
        },
        "id": "YHBB6aNYTYlW",
        "outputId": "1c2d8f21-f6d4-46a6-b901-3a5b2c49a89a"
      },
      "source": [
        "ex_feature_names = ex_vectorizer.get_feature_names() \n",
        " \n",
        "#get tfidf vector for first document \n",
        "first_document_vector=X[3] \n",
        " \n",
        "#print the scores \n",
        "df = pd.DataFrame(first_document_vector.T.todense(), index=ex_feature_names, columns=[\"tfidf\"]) \n",
        "df.sort_values(by=[\"tfidf\"],ascending=False)"
      ],
      "execution_count": 77,
      "outputs": [
        {
          "output_type": "execute_result",
          "data": {
            "text/html": [
              "<div>\n",
              "<style scoped>\n",
              "    .dataframe tbody tr th:only-of-type {\n",
              "        vertical-align: middle;\n",
              "    }\n",
              "\n",
              "    .dataframe tbody tr th {\n",
              "        vertical-align: top;\n",
              "    }\n",
              "\n",
              "    .dataframe thead th {\n",
              "        text-align: right;\n",
              "    }\n",
              "</style>\n",
              "<table border=\"1\" class=\"dataframe\">\n",
              "  <thead>\n",
              "    <tr style=\"text-align: right;\">\n",
              "      <th></th>\n",
              "      <th>tfidf</th>\n",
              "    </tr>\n",
              "  </thead>\n",
              "  <tbody>\n",
              "    <tr>\n",
              "      <th>first</th>\n",
              "      <td>0.777221</td>\n",
              "    </tr>\n",
              "    <tr>\n",
              "      <th>document</th>\n",
              "      <td>0.629228</td>\n",
              "    </tr>\n",
              "    <tr>\n",
              "      <th>one</th>\n",
              "      <td>0.000000</td>\n",
              "    </tr>\n",
              "    <tr>\n",
              "      <th>second</th>\n",
              "      <td>0.000000</td>\n",
              "    </tr>\n",
              "    <tr>\n",
              "      <th>third</th>\n",
              "      <td>0.000000</td>\n",
              "    </tr>\n",
              "  </tbody>\n",
              "</table>\n",
              "</div>"
            ],
            "text/plain": [
              "             tfidf\n",
              "first     0.777221\n",
              "document  0.629228\n",
              "one       0.000000\n",
              "second    0.000000\n",
              "third     0.000000"
            ]
          },
          "metadata": {
            "tags": []
          },
          "execution_count": 77
        }
      ]
    },
    {
      "cell_type": "code",
      "metadata": {
        "colab": {
          "base_uri": "https://localhost:8080/"
        },
        "id": "IPPMeP9OUSQU",
        "outputId": "b5dfb5c4-0cdf-4320-c474-9d915e7f8961"
      },
      "source": [
        "from sklearn.metrics.pairwise import cosine_similarity\n",
        "cosine_similarity(X[1], X).flatten()\n"
      ],
      "execution_count": 79,
      "outputs": [
        {
          "output_type": "execute_result",
          "data": {
            "text/plain": [
              "array([0.49534236, 1.        , 0.        , 0.49534236])"
            ]
          },
          "metadata": {
            "tags": []
          },
          "execution_count": 79
        }
      ]
    },
    {
      "cell_type": "code",
      "metadata": {
        "id": "nfBFOSwlX9w5"
      },
      "source": [
        "import numpy as np\n",
        "\n",
        "docs = np.array(df_metadata)\n",
        "contents = {}\n",
        "\n",
        "for doc in docs:\n",
        "  contents[doc[0]] = f'{doc[1]} {doc[2]}'"
      ],
      "execution_count": 53,
      "outputs": []
    },
    {
      "cell_type": "code",
      "metadata": {
        "colab": {
          "base_uri": "https://localhost:8080/"
        },
        "id": "moo9WB8LY5R4",
        "outputId": "0967cb8c-0a0b-4ac1-906f-e6ecd4293666"
      },
      "source": [
        "import nltk\n",
        "from nltk.corpus import stopwords\n",
        "nltk.download('stopwords')\n",
        "#stopwords.words('english')"
      ],
      "execution_count": 54,
      "outputs": [
        {
          "output_type": "stream",
          "text": [
            "[nltk_data] Downloading package stopwords to /root/nltk_data...\n",
            "[nltk_data]   Package stopwords is already up-to-date!\n"
          ],
          "name": "stdout"
        },
        {
          "output_type": "execute_result",
          "data": {
            "text/plain": [
              "True"
            ]
          },
          "metadata": {
            "tags": []
          },
          "execution_count": 54
        }
      ]
    },
    {
      "cell_type": "code",
      "metadata": {
        "id": "R7h_TY6PvwWY"
      },
      "source": [
        "import string\n",
        "import re\n",
        "from nltk.stem.porter import PorterStemmer\n",
        "porter_stemmer = PorterStemmer()\n",
        "sw = stopwords.words('english')\n",
        "\n",
        "def preprocess(s):\n",
        "  s = s.casefold()\n",
        "  s = s.translate(str.maketrans(string.punctuation, ' ' * len(string.punctuation)))\n",
        "  s = re.sub(\"\\d+\", \"\", s) #Delete numbers\n",
        "  s = ' '.join([porter_stemmer.stem(word) for word in s.split() if word not in sw or word != 'nan'])\n",
        "  return s"
      ],
      "execution_count": 110,
      "outputs": []
    },
    {
      "cell_type": "code",
      "metadata": {
        "id": "Q1n3qZ6iU0pp"
      },
      "source": [
        "from sklearn.feature_extraction.text import TfidfVectorizer\n",
        "\n",
        "vectorizer = TfidfVectorizer(preprocessor=preprocess)\n",
        "vectors = vectorizer.fit_transform(list(contents.values()) + list(topics_dict.values()))"
      ],
      "execution_count": null,
      "outputs": []
    },
    {
      "cell_type": "code",
      "metadata": {
        "id": "rLmws0RWb5re"
      },
      "source": [
        "doc_vectors = vectors[:-50]\n",
        "topic_vectors = vectors[-50:]"
      ],
      "execution_count": null,
      "outputs": []
    },
    {
      "cell_type": "code",
      "metadata": {
        "id": "2jXjECpbGHfY"
      },
      "source": [
        "topic_vectors.shape"
      ],
      "execution_count": null,
      "outputs": []
    },
    {
      "cell_type": "code",
      "metadata": {
        "id": "AyNFLw7birAa"
      },
      "source": [
        "doc_vectors_dict = {\n",
        "    docs[i][0] : doc_vectors[i]\n",
        "    for i in range(0,len(docs))\n",
        "}"
      ],
      "execution_count": null,
      "outputs": []
    },
    {
      "cell_type": "code",
      "metadata": {
        "id": "gMbq_tAHnVAS"
      },
      "source": [
        "topic_vectors_dict = {\n",
        "    key : topic_vectors[i]\n",
        "    for i, key in enumerate(topics_dict.keys())\n",
        "}"
      ],
      "execution_count": null,
      "outputs": []
    },
    {
      "cell_type": "code",
      "metadata": {
        "id": "LI8k1njZbdFz"
      },
      "source": [
        "from sklearn.metrics.pairwise import cosine_similarity\n",
        "#Takes random doc_id and prints most relevant topic\n",
        "ex_document = df_metadata.sample().cord_uid.to_string().split()[1]\n",
        "similarity = cosine_similarity(doc_vectors_dict[ex_document],topic_vectors).flatten()\n",
        "\n",
        "print(ex_document)\n",
        "print(similarity)\n",
        "print(np.max(similarity))\n",
        "print(np.argmax(similarity))\n",
        "print(contents[ex_document])\n",
        "print(topics_dict[str(np.argmax(similarity) + 1)])"
      ],
      "execution_count": null,
      "outputs": []
    },
    {
      "cell_type": "code",
      "metadata": {
        "id": "7x4Gwc01c2YK"
      },
      "source": [
        "df_relevances['cosine_similarity'] = df_relevances.apply(\n",
        "    lambda r: cosine_similarity(topic_vectors_dict[str(r.topic)], doc_vectors_dict[r.document_id]).flatten()[0],\n",
        "    axis=1\n",
        ")"
      ],
      "execution_count": null,
      "outputs": []
    },
    {
      "cell_type": "code",
      "metadata": {
        "id": "MrnSOav8oUxH"
      },
      "source": [
        "df_relevances"
      ],
      "execution_count": null,
      "outputs": []
    },
    {
      "cell_type": "code",
      "metadata": {
        "id": "_YFFzF_qoWWo"
      },
      "source": [
        "stuff = np.abs(np.array(df_relevances.judgement) - np.array(df_relevances.cosine_similarity)*2)"
      ],
      "execution_count": null,
      "outputs": []
    },
    {
      "cell_type": "code",
      "metadata": {
        "id": "GZlHPP9MsO25"
      },
      "source": [
        "np.mean(stuff)"
      ],
      "execution_count": null,
      "outputs": []
    },
    {
      "cell_type": "code",
      "metadata": {
        "id": "vRJZDQ-Xsjv3"
      },
      "source": [
        "similarities = np.array(df_relevances[df_relevances['topic'] == 5].sort_values(by=[\"judgement\"],ascending=False).cosine_similarity)\n",
        "\n",
        "import matplotlib.pyplot as plt\n",
        "plt.plot(similarities)\n",
        "plt.plot(np.array(df_relevances[df_relevances['topic'] == 5].sort_values(by=[\"judgement\"],ascending=False).judgement))"
      ],
      "execution_count": null,
      "outputs": []
    },
    {
      "cell_type": "code",
      "metadata": {
        "id": "7Gm8KbrSs62S"
      },
      "source": [
        ""
      ],
      "execution_count": 65,
      "outputs": []
    }
  ]
}