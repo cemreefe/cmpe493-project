{
  "nbformat": 4,
  "nbformat_minor": 0,
  "metadata": {
    "colab": {
      "name": "Copy of 493-playground.ipynb",
      "provenance": [],
      "collapsed_sections": [],
      "toc_visible": true,
      "include_colab_link": true
    },
    "kernelspec": {
      "name": "python3",
      "display_name": "Python 3"
    }
  },
  "cells": [
    {
      "cell_type": "markdown",
      "metadata": {
        "id": "view-in-github",
        "colab_type": "text"
      },
      "source": [
        "<a href=\"https://colab.research.google.com/github/cemreefe/cmpe493-project/blob/main/word_embeddings_nn.ipynb\" target=\"_parent\"><img src=\"https://colab.research.google.com/assets/colab-badge.svg\" alt=\"Open In Colab\"/></a>"
      ]
    },
    {
      "cell_type": "code",
      "metadata": {
        "colab": {
          "base_uri": "https://localhost:8080/"
        },
        "id": "JVZLCZdmBY78",
        "outputId": "f8ea1b4e-050e-487e-c70a-646456aa0c44"
      },
      "source": [
        "!pip3 install xmltodict\n",
        "\n",
        "import os\n",
        "import io   \n",
        "import re\n",
        "import json\n",
        "import math\n",
        "import pickle\n",
        "import string\n",
        "import tarfile\n",
        "import xmltodict\n",
        "import numpy as np\n",
        "import pandas as pd\n",
        "\n",
        "import nltk\n",
        "from nltk.stem.porter import PorterStemmer\n",
        "from nltk.corpus import stopwords"
      ],
      "execution_count": 1,
      "outputs": [
        {
          "output_type": "stream",
          "text": [
            "Requirement already satisfied: xmltodict in /usr/local/lib/python3.6/dist-packages (0.12.0)\n"
          ],
          "name": "stdout"
        }
      ]
    },
    {
      "cell_type": "code",
      "metadata": {
        "colab": {
          "base_uri": "https://localhost:8080/"
        },
        "id": "vF1KRp5a_KRn",
        "outputId": "ddd0a9a8-a440-473d-dd0a-6b977be265a6"
      },
      "source": [
        "from google.colab import drive\n",
        "drive.mount('/content/drive')"
      ],
      "execution_count": 2,
      "outputs": [
        {
          "output_type": "stream",
          "text": [
            "Drive already mounted at /content/drive; to attempt to forcibly remount, call drive.mount(\"/content/drive\", force_remount=True).\n"
          ],
          "name": "stdout"
        }
      ]
    },
    {
      "cell_type": "code",
      "metadata": {
        "id": "nQ5AG9XTGv3c"
      },
      "source": [
        "def read_file(path):\n",
        "  with open(path, 'r') as f:\n",
        "    return f.read()"
      ],
      "execution_count": 3,
      "outputs": []
    },
    {
      "cell_type": "code",
      "metadata": {
        "id": "fCj1rJ6bAjC2"
      },
      "source": [
        "if not os.path.exists('drive/MyDrive/CMPE/CMPE493'):\n",
        "  os.makedirs('drive/MyDrive/CMPE/CMPE493')"
      ],
      "execution_count": 4,
      "outputs": []
    },
    {
      "cell_type": "code",
      "metadata": {
        "id": "mm-aEzfN-53E"
      },
      "source": [
        "if not os.path.exists('drive/MyDrive/CMPE/CMPE493/topics-rnd5.xml'):\n",
        "  !curl https://ir.nist.gov/covidSubmit/data/topics-rnd5.xml --output drive/MyDrive/CMPE/CMPE493/topics-rnd5.xml\n",
        "\n",
        "if not os.path.exists('drive/MyDrive/CMPE/CMPE493/qrels-covid_d5_j0.5-5.txt'):\n",
        "  !curl https://ir.nist.gov/covidSubmit/data/qrels-covid_d5_j0.5-5.txt --output drive/MyDrive/CMPE/CMPE493/qrels-covid_d5_j0.5-5.txt\n",
        "\n",
        "if not os.path.exists('drive/MyDrive/CMPE/CMPE493/cord-19_2020-07-16.tar.gz'):\n",
        "  !curl https://ai2-semanticscholar-cord-19.s3-us-west-2.amazonaws.com/historical_releases/cord-19_2020-07-16.tar.gz --output drive/MyDrive/CMPE/CMPE493/cord-19_2020-07-16.tar.gz"
      ],
      "execution_count": 5,
      "outputs": []
    },
    {
      "cell_type": "code",
      "metadata": {
        "id": "GcQnwTCRBbv7"
      },
      "source": [
        "if not os.path.exists('2020-07-16'):\n",
        "  tar = tarfile.open('drive/MyDrive/CMPE/CMPE493/cord-19_2020-07-16.tar.gz', \"r:gz\")\n",
        "  tar.extractall()\n",
        "  tar.close()"
      ],
      "execution_count": 6,
      "outputs": []
    },
    {
      "cell_type": "code",
      "metadata": {
        "colab": {
          "base_uri": "https://localhost:8080/"
        },
        "id": "m_psEwqmCBb2",
        "outputId": "f5b2e205-491b-42f2-9650-9f40445ae078"
      },
      "source": [
        "df_metadata = pd.read_csv('2020-07-16/metadata.csv')"
      ],
      "execution_count": 7,
      "outputs": [
        {
          "output_type": "stream",
          "text": [
            "/usr/local/lib/python3.6/dist-packages/IPython/core/interactiveshell.py:2718: DtypeWarning: Columns (1,4,5,6,13,14,15,16) have mixed types.Specify dtype option on import or set low_memory=False.\n",
            "  interactivity=interactivity, compiler=compiler, result=result)\n"
          ],
          "name": "stderr"
        }
      ]
    },
    {
      "cell_type": "code",
      "metadata": {
        "id": "sYc9bGgtOx-u"
      },
      "source": [
        "del df_metadata['sha'], df_metadata['source_x'], df_metadata['doi'], df_metadata['pmcid'], df_metadata['pubmed_id'], df_metadata['license'], df_metadata['publish_time'], df_metadata['authors'], df_metadata['journal'], df_metadata['mag_id'], df_metadata['who_covidence_id'], df_metadata['arxiv_id'], df_metadata['pdf_json_files'], df_metadata['pmc_json_files'], df_metadata['url'], df_metadata['s2_id']"
      ],
      "execution_count": 8,
      "outputs": []
    },
    {
      "cell_type": "code",
      "metadata": {
        "id": "cKt-HNIOji_W"
      },
      "source": [
        "df_metadata.drop_duplicates(subset='cord_uid', keep='first', inplace=True)"
      ],
      "execution_count": 9,
      "outputs": []
    },
    {
      "cell_type": "code",
      "metadata": {
        "id": "7I7QIYPDmov8",
        "colab": {
          "base_uri": "https://localhost:8080/",
          "height": 402
        },
        "outputId": "8bca1d15-a937-41f8-887d-008a0b936577"
      },
      "source": [
        "df_metadata"
      ],
      "execution_count": 10,
      "outputs": [
        {
          "output_type": "execute_result",
          "data": {
            "text/html": [
              "<div>\n",
              "<style scoped>\n",
              "    .dataframe tbody tr th:only-of-type {\n",
              "        vertical-align: middle;\n",
              "    }\n",
              "\n",
              "    .dataframe tbody tr th {\n",
              "        vertical-align: top;\n",
              "    }\n",
              "\n",
              "    .dataframe thead th {\n",
              "        text-align: right;\n",
              "    }\n",
              "</style>\n",
              "<table border=\"1\" class=\"dataframe\">\n",
              "  <thead>\n",
              "    <tr style=\"text-align: right;\">\n",
              "      <th></th>\n",
              "      <th>cord_uid</th>\n",
              "      <th>title</th>\n",
              "      <th>abstract</th>\n",
              "    </tr>\n",
              "  </thead>\n",
              "  <tbody>\n",
              "    <tr>\n",
              "      <th>0</th>\n",
              "      <td>ug7v899j</td>\n",
              "      <td>Clinical features of culture-proven Mycoplasma...</td>\n",
              "      <td>OBJECTIVE: This retrospective chart review des...</td>\n",
              "    </tr>\n",
              "    <tr>\n",
              "      <th>1</th>\n",
              "      <td>02tnwd4m</td>\n",
              "      <td>Nitric oxide: a pro-inflammatory mediator in l...</td>\n",
              "      <td>Inflammatory diseases of the respiratory tract...</td>\n",
              "    </tr>\n",
              "    <tr>\n",
              "      <th>2</th>\n",
              "      <td>ejv2xln0</td>\n",
              "      <td>Surfactant protein-D and pulmonary host defense</td>\n",
              "      <td>Surfactant protein-D (SP-D) participates in th...</td>\n",
              "    </tr>\n",
              "    <tr>\n",
              "      <th>3</th>\n",
              "      <td>2b73a28n</td>\n",
              "      <td>Role of endothelin-1 in lung disease</td>\n",
              "      <td>Endothelin-1 (ET-1) is a 21 amino acid peptide...</td>\n",
              "    </tr>\n",
              "    <tr>\n",
              "      <th>4</th>\n",
              "      <td>9785vg6d</td>\n",
              "      <td>Gene expression in epithelial cells in respons...</td>\n",
              "      <td>Respiratory syncytial virus (RSV) and pneumoni...</td>\n",
              "    </tr>\n",
              "    <tr>\n",
              "      <th>...</th>\n",
              "      <td>...</td>\n",
              "      <td>...</td>\n",
              "      <td>...</td>\n",
              "    </tr>\n",
              "    <tr>\n",
              "      <th>192504</th>\n",
              "      <td>z4ro6lmh</td>\n",
              "      <td>Rapid radiological improvement of COVID-19 pne...</td>\n",
              "      <td>NaN</td>\n",
              "    </tr>\n",
              "    <tr>\n",
              "      <th>192505</th>\n",
              "      <td>hi8k8wvb</td>\n",
              "      <td>SARS E protein in phospholipid bilayers: an an...</td>\n",
              "      <td>Abstract We report on an anomalous X-ray refle...</td>\n",
              "    </tr>\n",
              "    <tr>\n",
              "      <th>192506</th>\n",
              "      <td>ma3ndg41</td>\n",
              "      <td>Italian Society of Interventional Cardiology (...</td>\n",
              "      <td>COVID‐19 pandemic raised the issue to guarante...</td>\n",
              "    </tr>\n",
              "    <tr>\n",
              "      <th>192507</th>\n",
              "      <td>wh10285j</td>\n",
              "      <td>Nimble, Together: A Training Program's Respons...</td>\n",
              "      <td>NaN</td>\n",
              "    </tr>\n",
              "    <tr>\n",
              "      <th>192508</th>\n",
              "      <td>pnl9th2c</td>\n",
              "      <td>Vascular Life during the COVID-19 Pandemic Rem...</td>\n",
              "      <td>NaN</td>\n",
              "    </tr>\n",
              "  </tbody>\n",
              "</table>\n",
              "<p>191175 rows × 3 columns</p>\n",
              "</div>"
            ],
            "text/plain": [
              "        cord_uid  ...                                           abstract\n",
              "0       ug7v899j  ...  OBJECTIVE: This retrospective chart review des...\n",
              "1       02tnwd4m  ...  Inflammatory diseases of the respiratory tract...\n",
              "2       ejv2xln0  ...  Surfactant protein-D (SP-D) participates in th...\n",
              "3       2b73a28n  ...  Endothelin-1 (ET-1) is a 21 amino acid peptide...\n",
              "4       9785vg6d  ...  Respiratory syncytial virus (RSV) and pneumoni...\n",
              "...          ...  ...                                                ...\n",
              "192504  z4ro6lmh  ...                                                NaN\n",
              "192505  hi8k8wvb  ...  Abstract We report on an anomalous X-ray refle...\n",
              "192506  ma3ndg41  ...  COVID‐19 pandemic raised the issue to guarante...\n",
              "192507  wh10285j  ...                                                NaN\n",
              "192508  pnl9th2c  ...                                                NaN\n",
              "\n",
              "[191175 rows x 3 columns]"
            ]
          },
          "metadata": {
            "tags": []
          },
          "execution_count": 10
        }
      ]
    },
    {
      "cell_type": "code",
      "metadata": {
        "colab": {
          "base_uri": "https://localhost:8080/",
          "height": 402
        },
        "id": "EGkG7afREkla",
        "outputId": "852d02a9-59fc-42e2-8ce1-dc5ed4cf7731"
      },
      "source": [
        "topic_relevances = 'topic iter document_id judgement\\n' + read_file('drive/MyDrive/CMPE/CMPE493/qrels-covid_d5_j0.5-5.txt')\n",
        "\n",
        "df_relevances = pd.read_csv(  io.StringIO(topic_relevances)  , sep=\" \")\n",
        "del df_relevances['iter']\n",
        "\n",
        "df_relevances"
      ],
      "execution_count": 11,
      "outputs": [
        {
          "output_type": "execute_result",
          "data": {
            "text/html": [
              "<div>\n",
              "<style scoped>\n",
              "    .dataframe tbody tr th:only-of-type {\n",
              "        vertical-align: middle;\n",
              "    }\n",
              "\n",
              "    .dataframe tbody tr th {\n",
              "        vertical-align: top;\n",
              "    }\n",
              "\n",
              "    .dataframe thead th {\n",
              "        text-align: right;\n",
              "    }\n",
              "</style>\n",
              "<table border=\"1\" class=\"dataframe\">\n",
              "  <thead>\n",
              "    <tr style=\"text-align: right;\">\n",
              "      <th></th>\n",
              "      <th>topic</th>\n",
              "      <th>document_id</th>\n",
              "      <th>judgement</th>\n",
              "    </tr>\n",
              "  </thead>\n",
              "  <tbody>\n",
              "    <tr>\n",
              "      <th>0</th>\n",
              "      <td>1</td>\n",
              "      <td>005b2j4b</td>\n",
              "      <td>2</td>\n",
              "    </tr>\n",
              "    <tr>\n",
              "      <th>1</th>\n",
              "      <td>1</td>\n",
              "      <td>00fmeepz</td>\n",
              "      <td>1</td>\n",
              "    </tr>\n",
              "    <tr>\n",
              "      <th>2</th>\n",
              "      <td>1</td>\n",
              "      <td>010vptx3</td>\n",
              "      <td>2</td>\n",
              "    </tr>\n",
              "    <tr>\n",
              "      <th>3</th>\n",
              "      <td>1</td>\n",
              "      <td>0194oljo</td>\n",
              "      <td>1</td>\n",
              "    </tr>\n",
              "    <tr>\n",
              "      <th>4</th>\n",
              "      <td>1</td>\n",
              "      <td>021q9884</td>\n",
              "      <td>1</td>\n",
              "    </tr>\n",
              "    <tr>\n",
              "      <th>...</th>\n",
              "      <td>...</td>\n",
              "      <td>...</td>\n",
              "      <td>...</td>\n",
              "    </tr>\n",
              "    <tr>\n",
              "      <th>69313</th>\n",
              "      <td>50</td>\n",
              "      <td>zvop8bxh</td>\n",
              "      <td>2</td>\n",
              "    </tr>\n",
              "    <tr>\n",
              "      <th>69314</th>\n",
              "      <td>50</td>\n",
              "      <td>zwf26o63</td>\n",
              "      <td>1</td>\n",
              "    </tr>\n",
              "    <tr>\n",
              "      <th>69315</th>\n",
              "      <td>50</td>\n",
              "      <td>zwsvlnwe</td>\n",
              "      <td>0</td>\n",
              "    </tr>\n",
              "    <tr>\n",
              "      <th>69316</th>\n",
              "      <td>50</td>\n",
              "      <td>zxr01yln</td>\n",
              "      <td>1</td>\n",
              "    </tr>\n",
              "    <tr>\n",
              "      <th>69317</th>\n",
              "      <td>50</td>\n",
              "      <td>zz8wvos9</td>\n",
              "      <td>1</td>\n",
              "    </tr>\n",
              "  </tbody>\n",
              "</table>\n",
              "<p>69318 rows × 3 columns</p>\n",
              "</div>"
            ],
            "text/plain": [
              "       topic document_id  judgement\n",
              "0          1    005b2j4b          2\n",
              "1          1    00fmeepz          1\n",
              "2          1    010vptx3          2\n",
              "3          1    0194oljo          1\n",
              "4          1    021q9884          1\n",
              "...      ...         ...        ...\n",
              "69313     50    zvop8bxh          2\n",
              "69314     50    zwf26o63          1\n",
              "69315     50    zwsvlnwe          0\n",
              "69316     50    zxr01yln          1\n",
              "69317     50    zz8wvos9          1\n",
              "\n",
              "[69318 rows x 3 columns]"
            ]
          },
          "metadata": {
            "tags": []
          },
          "execution_count": 11
        }
      ]
    },
    {
      "cell_type": "code",
      "metadata": {
        "id": "BfQ3a3yIItFa"
      },
      "source": [
        "topics_obj = xmltodict.parse(read_file('drive/MyDrive/CMPE/CMPE493/topics-rnd5.xml'))\n",
        "topics     = json.loads(json.dumps(topics_obj))\n",
        "\n",
        "topics_dict = {}\n",
        "for topic in topics['topics']['topic']:\n",
        "  # a topic has the following fields:\n",
        "  #  * @number\n",
        "  #  * narrative\n",
        "  #  * query\n",
        "  #  * question\n",
        "  topics_dict[topic['@number']] = topic['query'] + ' ' + topic['question'] + ' ' + topic['narrative']"
      ],
      "execution_count": 12,
      "outputs": []
    },
    {
      "cell_type": "code",
      "metadata": {
        "colab": {
          "base_uri": "https://localhost:8080/"
        },
        "id": "Ym_9xG3zVjrk",
        "outputId": "205e9053-0dc2-491b-ed8d-198eed2924a0"
      },
      "source": [
        "len(topics_dict)"
      ],
      "execution_count": 13,
      "outputs": [
        {
          "output_type": "execute_result",
          "data": {
            "text/plain": [
              "50"
            ]
          },
          "metadata": {
            "tags": []
          },
          "execution_count": 13
        }
      ]
    },
    {
      "cell_type": "markdown",
      "metadata": {
        "id": "iwwehnTLLIyy"
      },
      "source": [
        "# Data so far\n",
        "\n",
        "* `topics_dict` \n",
        "      has `topic-id` for keys, and topic description for values\n",
        "* `df_relevances` \n",
        "      has the following three columns:\n",
        "      topic\tdocument-id\tjudgement\n",
        "* `df_metadata`\n",
        "      holds information about the documents\n",
        "      has the following three columns (others are deleted):\n",
        "      cord_uid\ttitle\tabstract\n"
      ]
    },
    {
      "cell_type": "code",
      "metadata": {
        "colab": {
          "base_uri": "https://localhost:8080/"
        },
        "id": "moo9WB8LY5R4",
        "outputId": "1952bb98-64b0-4f5c-d8bb-88f3c6ae6a89"
      },
      "source": [
        "nltk.download('stopwords')\n",
        "stopwords.words('english')"
      ],
      "execution_count": 14,
      "outputs": [
        {
          "output_type": "stream",
          "text": [
            "[nltk_data] Downloading package stopwords to /root/nltk_data...\n",
            "[nltk_data]   Package stopwords is already up-to-date!\n"
          ],
          "name": "stdout"
        },
        {
          "output_type": "execute_result",
          "data": {
            "text/plain": [
              "['i',\n",
              " 'me',\n",
              " 'my',\n",
              " 'myself',\n",
              " 'we',\n",
              " 'our',\n",
              " 'ours',\n",
              " 'ourselves',\n",
              " 'you',\n",
              " \"you're\",\n",
              " \"you've\",\n",
              " \"you'll\",\n",
              " \"you'd\",\n",
              " 'your',\n",
              " 'yours',\n",
              " 'yourself',\n",
              " 'yourselves',\n",
              " 'he',\n",
              " 'him',\n",
              " 'his',\n",
              " 'himself',\n",
              " 'she',\n",
              " \"she's\",\n",
              " 'her',\n",
              " 'hers',\n",
              " 'herself',\n",
              " 'it',\n",
              " \"it's\",\n",
              " 'its',\n",
              " 'itself',\n",
              " 'they',\n",
              " 'them',\n",
              " 'their',\n",
              " 'theirs',\n",
              " 'themselves',\n",
              " 'what',\n",
              " 'which',\n",
              " 'who',\n",
              " 'whom',\n",
              " 'this',\n",
              " 'that',\n",
              " \"that'll\",\n",
              " 'these',\n",
              " 'those',\n",
              " 'am',\n",
              " 'is',\n",
              " 'are',\n",
              " 'was',\n",
              " 'were',\n",
              " 'be',\n",
              " 'been',\n",
              " 'being',\n",
              " 'have',\n",
              " 'has',\n",
              " 'had',\n",
              " 'having',\n",
              " 'do',\n",
              " 'does',\n",
              " 'did',\n",
              " 'doing',\n",
              " 'a',\n",
              " 'an',\n",
              " 'the',\n",
              " 'and',\n",
              " 'but',\n",
              " 'if',\n",
              " 'or',\n",
              " 'because',\n",
              " 'as',\n",
              " 'until',\n",
              " 'while',\n",
              " 'of',\n",
              " 'at',\n",
              " 'by',\n",
              " 'for',\n",
              " 'with',\n",
              " 'about',\n",
              " 'against',\n",
              " 'between',\n",
              " 'into',\n",
              " 'through',\n",
              " 'during',\n",
              " 'before',\n",
              " 'after',\n",
              " 'above',\n",
              " 'below',\n",
              " 'to',\n",
              " 'from',\n",
              " 'up',\n",
              " 'down',\n",
              " 'in',\n",
              " 'out',\n",
              " 'on',\n",
              " 'off',\n",
              " 'over',\n",
              " 'under',\n",
              " 'again',\n",
              " 'further',\n",
              " 'then',\n",
              " 'once',\n",
              " 'here',\n",
              " 'there',\n",
              " 'when',\n",
              " 'where',\n",
              " 'why',\n",
              " 'how',\n",
              " 'all',\n",
              " 'any',\n",
              " 'both',\n",
              " 'each',\n",
              " 'few',\n",
              " 'more',\n",
              " 'most',\n",
              " 'other',\n",
              " 'some',\n",
              " 'such',\n",
              " 'no',\n",
              " 'nor',\n",
              " 'not',\n",
              " 'only',\n",
              " 'own',\n",
              " 'same',\n",
              " 'so',\n",
              " 'than',\n",
              " 'too',\n",
              " 'very',\n",
              " 's',\n",
              " 't',\n",
              " 'can',\n",
              " 'will',\n",
              " 'just',\n",
              " 'don',\n",
              " \"don't\",\n",
              " 'should',\n",
              " \"should've\",\n",
              " 'now',\n",
              " 'd',\n",
              " 'll',\n",
              " 'm',\n",
              " 'o',\n",
              " 're',\n",
              " 've',\n",
              " 'y',\n",
              " 'ain',\n",
              " 'aren',\n",
              " \"aren't\",\n",
              " 'couldn',\n",
              " \"couldn't\",\n",
              " 'didn',\n",
              " \"didn't\",\n",
              " 'doesn',\n",
              " \"doesn't\",\n",
              " 'hadn',\n",
              " \"hadn't\",\n",
              " 'hasn',\n",
              " \"hasn't\",\n",
              " 'haven',\n",
              " \"haven't\",\n",
              " 'isn',\n",
              " \"isn't\",\n",
              " 'ma',\n",
              " 'mightn',\n",
              " \"mightn't\",\n",
              " 'mustn',\n",
              " \"mustn't\",\n",
              " 'needn',\n",
              " \"needn't\",\n",
              " 'shan',\n",
              " \"shan't\",\n",
              " 'shouldn',\n",
              " \"shouldn't\",\n",
              " 'wasn',\n",
              " \"wasn't\",\n",
              " 'weren',\n",
              " \"weren't\",\n",
              " 'won',\n",
              " \"won't\",\n",
              " 'wouldn',\n",
              " \"wouldn't\"]"
            ]
          },
          "metadata": {
            "tags": []
          },
          "execution_count": 14
        }
      ]
    },
    {
      "cell_type": "code",
      "metadata": {
        "id": "rEBS1sVohKgW"
      },
      "source": [
        ""
      ],
      "execution_count": 14,
      "outputs": []
    },
    {
      "cell_type": "code",
      "metadata": {
        "id": "nfBFOSwlX9w5"
      },
      "source": [
        "docs = np.array(df_metadata)\n",
        "contents = {}\n",
        "\n",
        "for doc in docs:\n",
        "  contents[doc[0]] = f'{doc[1]} {doc[2]}'"
      ],
      "execution_count": 15,
      "outputs": []
    },
    {
      "cell_type": "code",
      "metadata": {
        "id": "R7h_TY6PvwWY"
      },
      "source": [
        "porter_stemmer = PorterStemmer()\n",
        "sw = stopwords.words('english')\n",
        "\n",
        "# preprocessing\n",
        "# case folding\n",
        "# punctuation removal\n",
        "# number deletion\n",
        "# stemming & stopword removal\n",
        "def preprocess(s):\n",
        "  s = s.casefold()\n",
        "  s = s.translate(str.maketrans(string.punctuation, ' ' * len(string.punctuation)))\n",
        "  #s = re.sub(\"\\d+\", \"\", s) #Delete numbers\n",
        "  s = ' '.join([porter_stemmer.stem(word) for word in s.split() if word not in sw and word != 'nan'])\n",
        "  return s"
      ],
      "execution_count": 16,
      "outputs": []
    },
    {
      "cell_type": "markdown",
      "metadata": {
        "id": "c4xzgaOSNnz1"
      },
      "source": [
        "### `contents` is a dictionary with document id keys and f'{document title} {document content}' values.\n",
        "```\n",
        "document_id: f'{document_title} {document_content}'\n",
        "```"
      ]
    },
    {
      "cell_type": "code",
      "metadata": {
        "id": "s1-SnUFDTmjZ"
      },
      "source": [
        "################################################## WORD EMBEDDINGS ##########################################################"
      ],
      "execution_count": 17,
      "outputs": []
    },
    {
      "cell_type": "code",
      "metadata": {
        "colab": {
          "base_uri": "https://localhost:8080/"
        },
        "id": "-mCm_i31NjFn",
        "outputId": "a2387ec4-d81a-4958-caf4-096a7ffe9fc2"
      },
      "source": [
        "!python3 -m spacy download en_core_web_md"
      ],
      "execution_count": 18,
      "outputs": [
        {
          "output_type": "stream",
          "text": [
            "Requirement already satisfied: en_core_web_md==2.2.5 from https://github.com/explosion/spacy-models/releases/download/en_core_web_md-2.2.5/en_core_web_md-2.2.5.tar.gz#egg=en_core_web_md==2.2.5 in /usr/local/lib/python3.6/dist-packages (2.2.5)\n",
            "Requirement already satisfied: spacy>=2.2.2 in /usr/local/lib/python3.6/dist-packages (from en_core_web_md==2.2.5) (2.2.4)\n",
            "Requirement already satisfied: murmurhash<1.1.0,>=0.28.0 in /usr/local/lib/python3.6/dist-packages (from spacy>=2.2.2->en_core_web_md==2.2.5) (1.0.5)\n",
            "Requirement already satisfied: catalogue<1.1.0,>=0.0.7 in /usr/local/lib/python3.6/dist-packages (from spacy>=2.2.2->en_core_web_md==2.2.5) (1.0.0)\n",
            "Requirement already satisfied: tqdm<5.0.0,>=4.38.0 in /usr/local/lib/python3.6/dist-packages (from spacy>=2.2.2->en_core_web_md==2.2.5) (4.41.1)\n",
            "Requirement already satisfied: thinc==7.4.0 in /usr/local/lib/python3.6/dist-packages (from spacy>=2.2.2->en_core_web_md==2.2.5) (7.4.0)\n",
            "Requirement already satisfied: wasabi<1.1.0,>=0.4.0 in /usr/local/lib/python3.6/dist-packages (from spacy>=2.2.2->en_core_web_md==2.2.5) (0.8.2)\n",
            "Requirement already satisfied: requests<3.0.0,>=2.13.0 in /usr/local/lib/python3.6/dist-packages (from spacy>=2.2.2->en_core_web_md==2.2.5) (2.23.0)\n",
            "Requirement already satisfied: plac<1.2.0,>=0.9.6 in /usr/local/lib/python3.6/dist-packages (from spacy>=2.2.2->en_core_web_md==2.2.5) (1.1.3)\n",
            "Requirement already satisfied: preshed<3.1.0,>=3.0.2 in /usr/local/lib/python3.6/dist-packages (from spacy>=2.2.2->en_core_web_md==2.2.5) (3.0.5)\n",
            "Requirement already satisfied: numpy>=1.15.0 in /usr/local/lib/python3.6/dist-packages (from spacy>=2.2.2->en_core_web_md==2.2.5) (1.19.5)\n",
            "Requirement already satisfied: srsly<1.1.0,>=1.0.2 in /usr/local/lib/python3.6/dist-packages (from spacy>=2.2.2->en_core_web_md==2.2.5) (1.0.5)\n",
            "Requirement already satisfied: cymem<2.1.0,>=2.0.2 in /usr/local/lib/python3.6/dist-packages (from spacy>=2.2.2->en_core_web_md==2.2.5) (2.0.5)\n",
            "Requirement already satisfied: setuptools in /usr/local/lib/python3.6/dist-packages (from spacy>=2.2.2->en_core_web_md==2.2.5) (53.0.0)\n",
            "Requirement already satisfied: blis<0.5.0,>=0.4.0 in /usr/local/lib/python3.6/dist-packages (from spacy>=2.2.2->en_core_web_md==2.2.5) (0.4.1)\n",
            "Requirement already satisfied: importlib-metadata>=0.20; python_version < \"3.8\" in /usr/local/lib/python3.6/dist-packages (from catalogue<1.1.0,>=0.0.7->spacy>=2.2.2->en_core_web_md==2.2.5) (3.4.0)\n",
            "Requirement already satisfied: certifi>=2017.4.17 in /usr/local/lib/python3.6/dist-packages (from requests<3.0.0,>=2.13.0->spacy>=2.2.2->en_core_web_md==2.2.5) (2020.12.5)\n",
            "Requirement already satisfied: idna<3,>=2.5 in /usr/local/lib/python3.6/dist-packages (from requests<3.0.0,>=2.13.0->spacy>=2.2.2->en_core_web_md==2.2.5) (2.10)\n",
            "Requirement already satisfied: chardet<4,>=3.0.2 in /usr/local/lib/python3.6/dist-packages (from requests<3.0.0,>=2.13.0->spacy>=2.2.2->en_core_web_md==2.2.5) (3.0.4)\n",
            "Requirement already satisfied: urllib3!=1.25.0,!=1.25.1,<1.26,>=1.21.1 in /usr/local/lib/python3.6/dist-packages (from requests<3.0.0,>=2.13.0->spacy>=2.2.2->en_core_web_md==2.2.5) (1.24.3)\n",
            "Requirement already satisfied: typing-extensions>=3.6.4; python_version < \"3.8\" in /usr/local/lib/python3.6/dist-packages (from importlib-metadata>=0.20; python_version < \"3.8\"->catalogue<1.1.0,>=0.0.7->spacy>=2.2.2->en_core_web_md==2.2.5) (3.7.4.3)\n",
            "Requirement already satisfied: zipp>=0.5 in /usr/local/lib/python3.6/dist-packages (from importlib-metadata>=0.20; python_version < \"3.8\"->catalogue<1.1.0,>=0.0.7->spacy>=2.2.2->en_core_web_md==2.2.5) (3.4.0)\n",
            "\u001b[38;5;2m✔ Download and installation successful\u001b[0m\n",
            "You can now load the model via spacy.load('en_core_web_md')\n"
          ],
          "name": "stdout"
        }
      ]
    },
    {
      "cell_type": "code",
      "metadata": {
        "id": "5U_ykgj7QsKv"
      },
      "source": [
        "import spacy\n",
        "\n",
        "# Load the spacy model that you have installed\n",
        "nlp = spacy.load('en_core_web_md')"
      ],
      "execution_count": 19,
      "outputs": []
    },
    {
      "cell_type": "code",
      "metadata": {
        "id": "5DGqizMqdMih"
      },
      "source": [
        "nlp_stripped = spacy.load('en_core_web_md', disable=['tagger', 'parser', 'ner', 'entity_linker', 'entity_ruler', 'textcat', 'lemmatizer', 'morphologizer', 'attribute_ruler', 'senter', 'sentencizer', 'tok2vec', 'transformer'])"
      ],
      "execution_count": 20,
      "outputs": []
    },
    {
      "cell_type": "code",
      "metadata": {
        "id": "SBRUyLX2eCy1",
        "colab": {
          "base_uri": "https://localhost:8080/"
        },
        "outputId": "4c49b33c-c062-4d13-fc7f-50f4c11e3c05"
      },
      "source": [
        "%%time\n",
        "docx = nlp_stripped('i will only be parsed')"
      ],
      "execution_count": 21,
      "outputs": [
        {
          "output_type": "stream",
          "text": [
            "CPU times: user 401 µs, sys: 0 ns, total: 401 µs\n",
            "Wall time: 475 µs\n"
          ],
          "name": "stdout"
        }
      ]
    },
    {
      "cell_type": "code",
      "metadata": {
        "id": "BElTlCz0dQKr",
        "colab": {
          "base_uri": "https://localhost:8080/"
        },
        "outputId": "b62508bc-0ce4-475e-ffc3-5200605fe63b"
      },
      "source": [
        "%%time\n",
        "docy = nlp('i will only be parsed')"
      ],
      "execution_count": 22,
      "outputs": [
        {
          "output_type": "stream",
          "text": [
            "CPU times: user 17.1 ms, sys: 127 µs, total: 17.2 ms\n",
            "Wall time: 27.8 ms\n"
          ],
          "name": "stdout"
        }
      ]
    },
    {
      "cell_type": "code",
      "metadata": {
        "id": "k7uDsWsReiUE"
      },
      "source": [
        "# they yield the same vectors\n",
        "assert np.prod(docx.vector == docy.vector) == 1"
      ],
      "execution_count": 23,
      "outputs": []
    },
    {
      "cell_type": "code",
      "metadata": {
        "id": "ZWa66yiYftTt"
      },
      "source": [
        "# they yield the same vectors\n",
        "assert np.prod(list(nlp_stripped.pipe(list(contents.values())[:5]))[0].vector == list(nlp.pipe(list(contents.values())[:5]))[0].vector)"
      ],
      "execution_count": 24,
      "outputs": []
    },
    {
      "cell_type": "code",
      "metadata": {
        "id": "qad1XbxvsQ7P"
      },
      "source": [
        "preprocessing = False"
      ],
      "execution_count": 25,
      "outputs": []
    },
    {
      "cell_type": "code",
      "metadata": {
        "id": "y3fDrTk8gqfw",
        "colab": {
          "base_uri": "https://localhost:8080/"
        },
        "outputId": "01ee796d-8df3-4ab1-8e51-02d308e88403"
      },
      "source": [
        "%%time\n",
        "if preprocessing:\n",
        "  preprocessed_contents = list(map(preprocess, contents.values()))\n",
        "else:\n",
        "  preprocessed_contents = list(contents.values())"
      ],
      "execution_count": 26,
      "outputs": [
        {
          "output_type": "stream",
          "text": [
            "CPU times: user 11.7 ms, sys: 0 ns, total: 11.7 ms\n",
            "Wall time: 11.9 ms\n"
          ],
          "name": "stdout"
        }
      ]
    },
    {
      "cell_type": "code",
      "metadata": {
        "id": "gWroOfXNqZ2q",
        "colab": {
          "base_uri": "https://localhost:8080/"
        },
        "outputId": "7bd2602f-95ef-4bdc-fbfe-7218691a8270"
      },
      "source": [
        "%%time\n",
        "if preprocessing:\n",
        "  preprocessed_topic_contents = list(map(preprocess, topics_dict.values()))\n",
        "else:\n",
        "  preprocessed_topic_contents = list(topics_dict.values())"
      ],
      "execution_count": 27,
      "outputs": [
        {
          "output_type": "stream",
          "text": [
            "CPU times: user 65 µs, sys: 0 ns, total: 65 µs\n",
            "Wall time: 69.4 µs\n"
          ],
          "name": "stdout"
        }
      ]
    },
    {
      "cell_type": "code",
      "metadata": {
        "colab": {
          "base_uri": "https://localhost:8080/"
        },
        "id": "1GDjpRKAPkvF",
        "outputId": "b60b67e9-66f6-4602-8940-705592d70def"
      },
      "source": [
        "%%time\n",
        "doc_content_list = []\n",
        "doc_content_list = list(nlp_stripped.pipe(preprocessed_contents))"
      ],
      "execution_count": 28,
      "outputs": [
        {
          "output_type": "stream",
          "text": [
            "CPU times: user 1min 37s, sys: 17 s, total: 1min 54s\n",
            "Wall time: 1min 55s\n"
          ],
          "name": "stdout"
        }
      ]
    },
    {
      "cell_type": "code",
      "metadata": {
        "colab": {
          "base_uri": "https://localhost:8080/"
        },
        "id": "INwiyB-KauPN",
        "outputId": "a339abd4-95d7-4fce-de43-eb182ec59ed9"
      },
      "source": [
        "%%time\n",
        "topic_content_list = []\n",
        "topic_content_list = list(nlp.pipe(preprocessed_topic_contents))"
      ],
      "execution_count": 29,
      "outputs": [
        {
          "output_type": "stream",
          "text": [
            "CPU times: user 318 ms, sys: 50 ms, total: 368 ms\n",
            "Wall time: 367 ms\n"
          ],
          "name": "stdout"
        }
      ]
    },
    {
      "cell_type": "code",
      "metadata": {
        "id": "l0oH796aXpMo"
      },
      "source": [
        ""
      ],
      "execution_count": 29,
      "outputs": []
    },
    {
      "cell_type": "code",
      "metadata": {
        "id": "4UDSeKJTiQWG",
        "colab": {
          "base_uri": "https://localhost:8080/"
        },
        "outputId": "5dc88148-de5f-4e91-ac52-09ae545147cd"
      },
      "source": [
        "%%time\n",
        "doc_vector_list = list(map(lambda x: x.vector, doc_content_list))\n",
        "topic_vector_list = list(map(lambda x: x.vector, topic_content_list))"
      ],
      "execution_count": 30,
      "outputs": [
        {
          "output_type": "stream",
          "text": [
            "CPU times: user 5min 12s, sys: 2.12 s, total: 5min 14s\n",
            "Wall time: 5min 14s\n"
          ],
          "name": "stdout"
        }
      ]
    },
    {
      "cell_type": "code",
      "metadata": {
        "id": "kIKDOqjrE7sU"
      },
      "source": [
        ""
      ],
      "execution_count": 30,
      "outputs": []
    },
    {
      "cell_type": "code",
      "metadata": {
        "id": "J7tXlhXPCxJw",
        "outputId": "ff8d658f-71d8-430e-973f-f5d1f70e35b0",
        "colab": {
          "base_uri": "https://localhost:8080/"
        }
      },
      "source": [
        "len(doc_vector_list[0]), len(topic_vector_list[0])"
      ],
      "execution_count": 31,
      "outputs": [
        {
          "output_type": "execute_result",
          "data": {
            "text/plain": [
              "(300, 300)"
            ]
          },
          "metadata": {
            "tags": []
          },
          "execution_count": 31
        }
      ]
    },
    {
      "cell_type": "code",
      "metadata": {
        "id": "deZfsPSSDqvx",
        "outputId": "bc3763a9-bf57-4c34-faab-94ebc421ce91",
        "colab": {
          "base_uri": "https://localhost:8080/",
          "height": 402
        }
      },
      "source": [
        "rel = df_relevances.copy()\n",
        "rel"
      ],
      "execution_count": 32,
      "outputs": [
        {
          "output_type": "execute_result",
          "data": {
            "text/html": [
              "<div>\n",
              "<style scoped>\n",
              "    .dataframe tbody tr th:only-of-type {\n",
              "        vertical-align: middle;\n",
              "    }\n",
              "\n",
              "    .dataframe tbody tr th {\n",
              "        vertical-align: top;\n",
              "    }\n",
              "\n",
              "    .dataframe thead th {\n",
              "        text-align: right;\n",
              "    }\n",
              "</style>\n",
              "<table border=\"1\" class=\"dataframe\">\n",
              "  <thead>\n",
              "    <tr style=\"text-align: right;\">\n",
              "      <th></th>\n",
              "      <th>topic</th>\n",
              "      <th>document_id</th>\n",
              "      <th>judgement</th>\n",
              "    </tr>\n",
              "  </thead>\n",
              "  <tbody>\n",
              "    <tr>\n",
              "      <th>0</th>\n",
              "      <td>1</td>\n",
              "      <td>005b2j4b</td>\n",
              "      <td>2</td>\n",
              "    </tr>\n",
              "    <tr>\n",
              "      <th>1</th>\n",
              "      <td>1</td>\n",
              "      <td>00fmeepz</td>\n",
              "      <td>1</td>\n",
              "    </tr>\n",
              "    <tr>\n",
              "      <th>2</th>\n",
              "      <td>1</td>\n",
              "      <td>010vptx3</td>\n",
              "      <td>2</td>\n",
              "    </tr>\n",
              "    <tr>\n",
              "      <th>3</th>\n",
              "      <td>1</td>\n",
              "      <td>0194oljo</td>\n",
              "      <td>1</td>\n",
              "    </tr>\n",
              "    <tr>\n",
              "      <th>4</th>\n",
              "      <td>1</td>\n",
              "      <td>021q9884</td>\n",
              "      <td>1</td>\n",
              "    </tr>\n",
              "    <tr>\n",
              "      <th>...</th>\n",
              "      <td>...</td>\n",
              "      <td>...</td>\n",
              "      <td>...</td>\n",
              "    </tr>\n",
              "    <tr>\n",
              "      <th>69313</th>\n",
              "      <td>50</td>\n",
              "      <td>zvop8bxh</td>\n",
              "      <td>2</td>\n",
              "    </tr>\n",
              "    <tr>\n",
              "      <th>69314</th>\n",
              "      <td>50</td>\n",
              "      <td>zwf26o63</td>\n",
              "      <td>1</td>\n",
              "    </tr>\n",
              "    <tr>\n",
              "      <th>69315</th>\n",
              "      <td>50</td>\n",
              "      <td>zwsvlnwe</td>\n",
              "      <td>0</td>\n",
              "    </tr>\n",
              "    <tr>\n",
              "      <th>69316</th>\n",
              "      <td>50</td>\n",
              "      <td>zxr01yln</td>\n",
              "      <td>1</td>\n",
              "    </tr>\n",
              "    <tr>\n",
              "      <th>69317</th>\n",
              "      <td>50</td>\n",
              "      <td>zz8wvos9</td>\n",
              "      <td>1</td>\n",
              "    </tr>\n",
              "  </tbody>\n",
              "</table>\n",
              "<p>69318 rows × 3 columns</p>\n",
              "</div>"
            ],
            "text/plain": [
              "       topic document_id  judgement\n",
              "0          1    005b2j4b          2\n",
              "1          1    00fmeepz          1\n",
              "2          1    010vptx3          2\n",
              "3          1    0194oljo          1\n",
              "4          1    021q9884          1\n",
              "...      ...         ...        ...\n",
              "69313     50    zvop8bxh          2\n",
              "69314     50    zwf26o63          1\n",
              "69315     50    zwsvlnwe          0\n",
              "69316     50    zxr01yln          1\n",
              "69317     50    zz8wvos9          1\n",
              "\n",
              "[69318 rows x 3 columns]"
            ]
          },
          "metadata": {
            "tags": []
          },
          "execution_count": 32
        }
      ]
    },
    {
      "cell_type": "code",
      "metadata": {
        "id": "JOxxB5IEFmS2",
        "outputId": "4c6b7c3d-203a-4f03-d995-0af68781d2db",
        "colab": {
          "base_uri": "https://localhost:8080/"
        }
      },
      "source": [
        "np.hstack([doc_vector_list[0], topic_vector_list[0]]).shape"
      ],
      "execution_count": 33,
      "outputs": [
        {
          "output_type": "execute_result",
          "data": {
            "text/plain": [
              "(600,)"
            ]
          },
          "metadata": {
            "tags": []
          },
          "execution_count": 33
        }
      ]
    },
    {
      "cell_type": "code",
      "metadata": {
        "id": "Z51RDqWGYZpW"
      },
      "source": [
        "from sklearn.metrics.pairwise import cosine_similarity\n",
        "from sklearn.metrics.pairwise import euclidean_distances\n",
        "from sklearn.metrics.pairwise import manhattan_distances\n",
        "from sklearn.metrics.pairwise import cosine_distances"
      ],
      "execution_count": 79,
      "outputs": []
    },
    {
      "cell_type": "code",
      "metadata": {
        "id": "CGGQaZPQYEpL",
        "outputId": "d85fe8e9-da51-41bc-df12-5716fe09f599",
        "colab": {
          "base_uri": "https://localhost:8080/"
        }
      },
      "source": [
        "%%time\n",
        "cos_sims = cosine_similarity(doc_vector_list, topic_vector_list)\n",
        "man_dist = manhattan_distances(doc_vector_list, topic_vector_list)\n",
        "euc_dist = euclidean_distances(doc_vector_list, topic_vector_list)"
      ],
      "execution_count": 86,
      "outputs": [
        {
          "output_type": "stream",
          "text": [
            "CPU times: user 4.04 s, sys: 2.5 s, total: 6.54 s\n",
            "Wall time: 5.59 s\n"
          ],
          "name": "stdout"
        }
      ]
    },
    {
      "cell_type": "code",
      "metadata": {
        "id": "f4BC744sEBzn"
      },
      "source": [
        "lookup_ck = {\n",
        "    key: i\n",
        "    for i, key in enumerate(contents.keys())\n",
        "}\n",
        "lookup_tk = {\n",
        "    int(key): i\n",
        "    for i, key in enumerate(topics_dict.keys())\n",
        "}\n",
        "\n",
        "X_all, y_all     = [], []\n",
        "X_train, y_train = [], []\n",
        "X_test, y_test   = [], []\n",
        "\n",
        "for row in np.array(rel):\n",
        "  ck_index = lookup_ck[row[1]]\n",
        "  tk_index = lookup_tk[row[0]]\n",
        "  x = np.hstack([\n",
        "    doc_vector_list[ck_index], \n",
        "    topic_vector_list[tk_index],\n",
        "    doc_vector_list[ck_index] - topic_vector_list[tk_index],\n",
        "    [\n",
        "      cos_sims[ck_index, tk_index],\n",
        "      man_dist[ck_index, tk_index],\n",
        "      euc_dist[ck_index, tk_index],\n",
        "    ],\n",
        "  ])\n",
        "  \n",
        "  if row[0] % 2:\n",
        "    X_train.append(x)\n",
        "    y_train.append(np.array([row[2]/2]))\n",
        "  else:\n",
        "    X_test.append(x)\n",
        "    y_test.append(np.array([row[2]/2]))\n",
        "  \n",
        "  X_all.append(x)\n",
        "  y_all.append(np.array([row[2]/2]))\n",
        "\n",
        "X_train = np.array(X_train)\n",
        "y_train = np.array(y_train)\n",
        "\n",
        "X_test = np.array(X_test)\n",
        "y_test = np.array(y_test)\n",
        "\n",
        "X_all = np.array(X_all)\n",
        "y_all = np.array(y_all)"
      ],
      "execution_count": 44,
      "outputs": []
    },
    {
      "cell_type": "code",
      "metadata": {
        "id": "xiipBQuDIgkk",
        "outputId": "28f27614-7be7-4994-e0e5-d29cf866ca4e",
        "colab": {
          "base_uri": "https://localhost:8080/"
        }
      },
      "source": [
        "print('train set', X_train.shape, y_train.shape)\n",
        "print('test set', X_test.shape, y_test.shape)"
      ],
      "execution_count": 35,
      "outputs": [
        {
          "output_type": "stream",
          "text": [
            "train set (35894, 600) (35894, 1)\n",
            "test set (33424, 600) (33424, 1)\n"
          ],
          "name": "stdout"
        }
      ]
    },
    {
      "cell_type": "code",
      "metadata": {
        "id": "Pq0qHme5GHRN",
        "outputId": "a905b250-d95f-4beb-fe95-76ea98f230f1",
        "colab": {
          "base_uri": "https://localhost:8080/"
        }
      },
      "source": [
        "%%time \n",
        "\n",
        "# first neural network with keras make predictions\n",
        "from numpy import loadtxt\n",
        "from keras.models import Sequential\n",
        "from keras.layers import Dense, Dropout\n",
        "\n",
        "# define the keras model\n",
        "model = Sequential()\n",
        "\n",
        "model.add(Dense(12, input_dim=600, activation='relu'))\n",
        "model.add(Dropout(0.4))\n",
        "\n",
        "model.add(Dense(8, activation='relu'))\n",
        "model.add(Dropout(0.4))\n",
        "\n",
        "model.add(Dense(1, activation='sigmoid'))\n",
        "# compile the keras model\n",
        "model.compile(loss='mse', optimizer='adam', metrics=['mse'])\n",
        "# fit the keras model on the dataset\n",
        "history = model.fit(X_train[:], y_train[:], epochs=20, batch_size=10, verbose=1, validation_data=(X_test, y_test))"
      ],
      "execution_count": 77,
      "outputs": [
        {
          "output_type": "stream",
          "text": [
            "Epoch 1/20\n",
            "3590/3590 [==============================] - 8s 2ms/step - loss: 0.1590 - mse: 0.1590 - val_loss: 0.1780 - val_mse: 0.1780\n",
            "Epoch 2/20\n",
            "3590/3590 [==============================] - 7s 2ms/step - loss: 0.1450 - mse: 0.1450 - val_loss: 0.1747 - val_mse: 0.1747\n",
            "Epoch 3/20\n",
            "3590/3590 [==============================] - 7s 2ms/step - loss: 0.1406 - mse: 0.1406 - val_loss: 0.1774 - val_mse: 0.1774\n",
            "Epoch 4/20\n",
            "3590/3590 [==============================] - 7s 2ms/step - loss: 0.1388 - mse: 0.1388 - val_loss: 0.1795 - val_mse: 0.1795\n",
            "Epoch 5/20\n",
            "3590/3590 [==============================] - 7s 2ms/step - loss: 0.1386 - mse: 0.1386 - val_loss: 0.1777 - val_mse: 0.1777\n",
            "Epoch 6/20\n",
            "3590/3590 [==============================] - 8s 2ms/step - loss: 0.1349 - mse: 0.1349 - val_loss: 0.1774 - val_mse: 0.1774\n",
            "Epoch 7/20\n",
            "3590/3590 [==============================] - 7s 2ms/step - loss: 0.1374 - mse: 0.1374 - val_loss: 0.1801 - val_mse: 0.1801\n",
            "Epoch 8/20\n",
            "3590/3590 [==============================] - 7s 2ms/step - loss: 0.1351 - mse: 0.1351 - val_loss: 0.1796 - val_mse: 0.1796\n",
            "Epoch 9/20\n",
            "3590/3590 [==============================] - 7s 2ms/step - loss: 0.1351 - mse: 0.1351 - val_loss: 0.1876 - val_mse: 0.1876\n",
            "Epoch 10/20\n",
            "3590/3590 [==============================] - 7s 2ms/step - loss: 0.1349 - mse: 0.1349 - val_loss: 0.1829 - val_mse: 0.1829\n",
            "Epoch 11/20\n",
            "3590/3590 [==============================] - 8s 2ms/step - loss: 0.1343 - mse: 0.1343 - val_loss: 0.1838 - val_mse: 0.1838\n",
            "Epoch 12/20\n",
            "3590/3590 [==============================] - 8s 2ms/step - loss: 0.1347 - mse: 0.1347 - val_loss: 0.1806 - val_mse: 0.1806\n",
            "Epoch 13/20\n",
            "3590/3590 [==============================] - 7s 2ms/step - loss: 0.1352 - mse: 0.1352 - val_loss: 0.1822 - val_mse: 0.1822\n",
            "Epoch 14/20\n",
            "3590/3590 [==============================] - 7s 2ms/step - loss: 0.1324 - mse: 0.1324 - val_loss: 0.1827 - val_mse: 0.1827\n",
            "Epoch 15/20\n",
            "3590/3590 [==============================] - 8s 2ms/step - loss: 0.1323 - mse: 0.1323 - val_loss: 0.1828 - val_mse: 0.1828\n",
            "Epoch 16/20\n",
            "3590/3590 [==============================] - 8s 2ms/step - loss: 0.1325 - mse: 0.1325 - val_loss: 0.1796 - val_mse: 0.1796\n",
            "Epoch 17/20\n",
            "3590/3590 [==============================] - 7s 2ms/step - loss: 0.1327 - mse: 0.1327 - val_loss: 0.1886 - val_mse: 0.1886\n",
            "Epoch 18/20\n",
            "3590/3590 [==============================] - 7s 2ms/step - loss: 0.1328 - mse: 0.1328 - val_loss: 0.1792 - val_mse: 0.1792\n",
            "Epoch 19/20\n",
            "3590/3590 [==============================] - 7s 2ms/step - loss: 0.1322 - mse: 0.1322 - val_loss: 0.1791 - val_mse: 0.1791\n",
            "Epoch 20/20\n",
            "3590/3590 [==============================] - 7s 2ms/step - loss: 0.1308 - mse: 0.1308 - val_loss: 0.1790 - val_mse: 0.1790\n",
            "CPU times: user 2min 58s, sys: 14.8 s, total: 3min 13s\n",
            "Wall time: 2min 31s\n"
          ],
          "name": "stdout"
        }
      ]
    },
    {
      "cell_type": "code",
      "metadata": {
        "id": "V8rNmitAVacp",
        "outputId": "528a36d2-382a-4da3-e53e-285ad0ae49ee",
        "colab": {
          "base_uri": "https://localhost:8080/",
          "height": 282
        }
      },
      "source": [
        "import matplotlib.pyplot as plt\n",
        "\n",
        "for key, hist in history.history.items():\n",
        "  plt.plot(hist, label=key)\n",
        "plt.legend()"
      ],
      "execution_count": 76,
      "outputs": [
        {
          "output_type": "execute_result",
          "data": {
            "text/plain": [
              "<matplotlib.legend.Legend at 0x7fb655bcd898>"
            ]
          },
          "metadata": {
            "tags": []
          },
          "execution_count": 76
        },
        {
          "output_type": "display_data",
          "data": {
            "image/png": "[encoded data removed]",
            "text/plain": [
              "<Figure size 432x288 with 1 Axes>"
            ]
          },
          "metadata": {
            "tags": [],
            "needs_background": "light"
          }
        }
      ]
    },
    {
      "cell_type": "code",
      "metadata": {
        "id": "7-3MeURuHsvH",
        "outputId": "3057ca3f-aa0a-4dad-e8d1-fcdbfd51bb6a",
        "colab": {
          "base_uri": "https://localhost:8080/"
        }
      },
      "source": [
        "# summarize the first 5 cases\n",
        "mae = 0\n",
        "l = 100\n",
        "\n",
        "# make class predictions with the model\n",
        "predictions = model.predict(X_test[:l])\n",
        "\n",
        "for i in range(l):\n",
        "  mae += abs(predictions[i] - y_test[i])\n",
        "  if not i%10:\n",
        "    print(f' => {predictions[i]} (expected {y_test[i]})')\n",
        "print(mae/l)"
      ],
      "execution_count": 67,
      "outputs": [
        {
          "output_type": "stream",
          "text": [
            " => [0.69472003] (expected [1.])\n",
            " => [0.37448865] (expected [0.])\n",
            " => [0.14610243] (expected [0.])\n",
            " => [0.6436872] (expected [0.])\n",
            " => [0.2866332] (expected [0.])\n",
            " => [0.42179716] (expected [1.])\n",
            " => [0.45028865] (expected [0.])\n",
            " => [0.28705323] (expected [0.])\n",
            " => [0.3868739] (expected [0.])\n",
            " => [0.5785826] (expected [0.])\n",
            "[0.34653035]\n"
          ],
          "name": "stdout"
        }
      ]
    },
    {
      "cell_type": "code",
      "metadata": {
        "id": "uGD4mCXtSCRc",
        "outputId": "4e334aea-07f3-4dcf-d79c-42ebe7b3c90d",
        "colab": {
          "base_uri": "https://localhost:8080/"
        }
      },
      "source": [
        "len(X_test), len(X_all)"
      ],
      "execution_count": 41,
      "outputs": [
        {
          "output_type": "execute_result",
          "data": {
            "text/plain": [
              "(33424, 69318)"
            ]
          },
          "metadata": {
            "tags": []
          },
          "execution_count": 41
        }
      ]
    },
    {
      "cell_type": "code",
      "metadata": {
        "id": "4DJAvdTNRsIN",
        "outputId": "a86d8267-6c16-49b1-e686-cefd915f83ba",
        "colab": {
          "base_uri": "https://localhost:8080/"
        }
      },
      "source": [
        "%%time\n",
        "pred_all = model.predict(X_all)"
      ],
      "execution_count": 45,
      "outputs": [
        {
          "output_type": "stream",
          "text": [
            "CPU times: user 1.65 s, sys: 147 ms, total: 1.8 s\n",
            "Wall time: 1.38 s\n"
          ],
          "name": "stdout"
        }
      ]
    },
    {
      "cell_type": "code",
      "metadata": {
        "id": "IWmI5g54DCIH",
        "outputId": "2f0be986-8ac2-4f46-cbc3-9dd3c7dbf8f7",
        "colab": {
          "base_uri": "https://localhost:8080/"
        }
      },
      "source": [
        "rel_nn = np.array(rel)\n",
        "for i in range(len(rel_nn)):\n",
        "  rel_nn[i][-1] = pred_all[i][0]\n",
        "rel_nn"
      ],
      "execution_count": 56,
      "outputs": [
        {
          "output_type": "execute_result",
          "data": {
            "text/plain": [
              "array([[1, '005b2j4b', 0.45848677],\n",
              "       [1, '00fmeepz', 0.36429635],\n",
              "       [1, '010vptx3', 0.28393203],\n",
              "       ...,\n",
              "       [50, 'zwsvlnwe', 0.44451547],\n",
              "       [50, 'zxr01yln', 0.24295071],\n",
              "       [50, 'zz8wvos9', 0.37504572]], dtype=object)"
            ]
          },
          "metadata": {
            "tags": []
          },
          "execution_count": 56
        }
      ]
    },
    {
      "cell_type": "code",
      "metadata": {
        "id": "Hz_JCST4OK5h"
      },
      "source": [
        "results = []\n",
        "for i, row in enumerate(rel_nn):\n",
        "  if not row[0] % 2:\n",
        "    results.append(f'{row[0]} 0 {row[1]} 0 {row[2]} 0')"
      ],
      "execution_count": 64,
      "outputs": []
    },
    {
      "cell_type": "code",
      "metadata": {
        "id": "PjGlUWF7Tef8",
        "outputId": "14d79b01-7b59-484d-d397-1a8181b09051",
        "colab": {
          "base_uri": "https://localhost:8080/"
        }
      },
      "source": [
        "results[:10]"
      ],
      "execution_count": 65,
      "outputs": [
        {
          "output_type": "execute_result",
          "data": {
            "text/plain": [
              "['1 0 005b2j4b 0 0.45848676562309265 0',\n",
              " '1 0 00fmeepz 0 0.3642963469028473 0',\n",
              " '1 0 010vptx3 0 0.28393203020095825 0',\n",
              " '1 0 0194oljo 0 0.2632930278778076 0',\n",
              " '1 0 021q9884 0 0.11390602588653564 0',\n",
              " '1 0 02f0opkr 0 0.3611307144165039 0',\n",
              " '1 0 047xpt2c 0 0.6228258609771729 0',\n",
              " '1 0 04ftw7k9 0 0.08057340979576111 0',\n",
              " '1 0 05qglt1f 0 0.23935788869857788 0',\n",
              " '1 0 05vx82oo 0 0.09585243463516235 0']"
            ]
          },
          "metadata": {
            "tags": []
          },
          "execution_count": 65
        }
      ]
    },
    {
      "cell_type": "code",
      "metadata": {
        "id": "I8r9P5RDSelZ"
      },
      "source": [
        "# Write results to file\n",
        "with open('results_we_nn_69_nprep_overfit_2.txt', 'w') as f:\n",
        "    f.write('\\n'.join(results))"
      ],
      "execution_count": 66,
      "outputs": []
    },
    {
      "cell_type": "code",
      "metadata": {
        "id": "oaULcSA7Cs4F"
      },
      "source": [
        "############################################ SIMILARITY / DISTANCE #######################################################"
      ],
      "execution_count": null,
      "outputs": []
    },
    {
      "cell_type": "code",
      "metadata": {
        "colab": {
          "base_uri": "https://localhost:8080/"
        },
        "id": "HGslBdfUa2_-",
        "outputId": "a71d3a20-fe33-40c8-f9c3-89d6bc5dc0e8"
      },
      "source": [
        "%%time\n",
        "from sklearn.metrics.pairwise import cosine_similarity\n",
        "from sklearn.metrics.pairwise import euclidean_distances\n",
        "from sklearn.metrics.pairwise import manhattan_distances\n",
        "from sklearn.metrics.pairwise import cosine_distances\n",
        "\n",
        "#sims = cosine_similarity(doc_vector_list, topic_vector_list)\n",
        "#sims = euclidean_distances(doc_vector_list, topic_vector_list)*-1\n",
        "sims = manhattan_distances(doc_vector_list, topic_vector_list)*-1"
      ],
      "execution_count": 31,
      "outputs": [
        {
          "output_type": "stream",
          "text": [
            "CPU times: user 2.28 s, sys: 522 ms, total: 2.8 s\n",
            "Wall time: 2.81 s\n"
          ],
          "name": "stdout"
        }
      ]
    },
    {
      "cell_type": "code",
      "metadata": {
        "id": "q_OcDplclyUJ",
        "colab": {
          "base_uri": "https://localhost:8080/"
        },
        "outputId": "be8af60b-5363-4bc9-e38d-0298893a9582"
      },
      "source": [
        "sims.shape"
      ],
      "execution_count": 32,
      "outputs": [
        {
          "output_type": "execute_result",
          "data": {
            "text/plain": [
              "(191175, 50)"
            ]
          },
          "metadata": {
            "tags": []
          },
          "execution_count": 32
        }
      ]
    },
    {
      "cell_type": "code",
      "metadata": {
        "id": "Z58tacXRsQ81",
        "colab": {
          "base_uri": "https://localhost:8080/",
          "height": 286
        },
        "outputId": "d5b93d22-02c0-441d-fe43-21779f8ef1ee"
      },
      "source": [
        "import matplotlib.pyplot as plt\n",
        "plt.imshow(sims[:100])"
      ],
      "execution_count": 33,
      "outputs": [
        {
          "output_type": "execute_result",
          "data": {
            "text/plain": [
              "<matplotlib.image.AxesImage at 0x7effe29b7668>"
            ]
          },
          "metadata": {
            "tags": []
          },
          "execution_count": 33
        },
        {
          "output_type": "display_data",
          "data": {
            "image/png": "[encoded data removed]",
            "text/plain": [
              "<Figure size 432x288 with 1 Axes>"
            ]
          },
          "metadata": {
            "tags": [],
            "needs_background": "light"
          }
        }
      ]
    },
    {
      "cell_type": "code",
      "metadata": {
        "id": "50IGnGegrva4",
        "colab": {
          "base_uri": "https://localhost:8080/",
          "height": 422
        },
        "outputId": "dca9ed18-7b46-4ea5-9e99-1f45cdc0feb6"
      },
      "source": [
        "all_sims = pd.DataFrame(sims, columns=list(np.array(range(50))+1))\n",
        "all_sims.insert(loc=0, column='doc_id', value=contents.keys())\n",
        "all_sims"
      ],
      "execution_count": 34,
      "outputs": [
        {
          "output_type": "execute_result",
          "data": {
            "text/html": [
              "<div>\n",
              "<style scoped>\n",
              "    .dataframe tbody tr th:only-of-type {\n",
              "        vertical-align: middle;\n",
              "    }\n",
              "\n",
              "    .dataframe tbody tr th {\n",
              "        vertical-align: top;\n",
              "    }\n",
              "\n",
              "    .dataframe thead th {\n",
              "        text-align: right;\n",
              "    }\n",
              "</style>\n",
              "<table border=\"1\" class=\"dataframe\">\n",
              "  <thead>\n",
              "    <tr style=\"text-align: right;\">\n",
              "      <th></th>\n",
              "      <th>doc_id</th>\n",
              "      <th>1</th>\n",
              "      <th>2</th>\n",
              "      <th>3</th>\n",
              "      <th>4</th>\n",
              "      <th>5</th>\n",
              "      <th>6</th>\n",
              "      <th>7</th>\n",
              "      <th>8</th>\n",
              "      <th>9</th>\n",
              "      <th>10</th>\n",
              "      <th>11</th>\n",
              "      <th>12</th>\n",
              "      <th>13</th>\n",
              "      <th>14</th>\n",
              "      <th>15</th>\n",
              "      <th>16</th>\n",
              "      <th>17</th>\n",
              "      <th>18</th>\n",
              "      <th>19</th>\n",
              "      <th>20</th>\n",
              "      <th>21</th>\n",
              "      <th>22</th>\n",
              "      <th>23</th>\n",
              "      <th>24</th>\n",
              "      <th>25</th>\n",
              "      <th>26</th>\n",
              "      <th>27</th>\n",
              "      <th>28</th>\n",
              "      <th>29</th>\n",
              "      <th>30</th>\n",
              "      <th>31</th>\n",
              "      <th>32</th>\n",
              "      <th>33</th>\n",
              "      <th>34</th>\n",
              "      <th>35</th>\n",
              "      <th>36</th>\n",
              "      <th>37</th>\n",
              "      <th>38</th>\n",
              "      <th>39</th>\n",
              "      <th>40</th>\n",
              "      <th>41</th>\n",
              "      <th>42</th>\n",
              "      <th>43</th>\n",
              "      <th>44</th>\n",
              "      <th>45</th>\n",
              "      <th>46</th>\n",
              "      <th>47</th>\n",
              "      <th>48</th>\n",
              "      <th>49</th>\n",
              "      <th>50</th>\n",
              "    </tr>\n",
              "  </thead>\n",
              "  <tbody>\n",
              "    <tr>\n",
              "      <th>0</th>\n",
              "      <td>ug7v899j</td>\n",
              "      <td>-22.892150</td>\n",
              "      <td>-25.777851</td>\n",
              "      <td>-23.105872</td>\n",
              "      <td>-22.120537</td>\n",
              "      <td>-20.463820</td>\n",
              "      <td>-23.943452</td>\n",
              "      <td>-25.331112</td>\n",
              "      <td>-21.360435</td>\n",
              "      <td>-17.358048</td>\n",
              "      <td>-22.615498</td>\n",
              "      <td>-21.908926</td>\n",
              "      <td>-21.976519</td>\n",
              "      <td>-23.499201</td>\n",
              "      <td>-22.663306</td>\n",
              "      <td>-20.773356</td>\n",
              "      <td>-20.309476</td>\n",
              "      <td>-29.168415</td>\n",
              "      <td>-24.664589</td>\n",
              "      <td>-23.834610</td>\n",
              "      <td>-19.083720</td>\n",
              "      <td>-21.822192</td>\n",
              "      <td>-21.053926</td>\n",
              "      <td>-19.286104</td>\n",
              "      <td>-20.101651</td>\n",
              "      <td>-21.997145</td>\n",
              "      <td>-21.283789</td>\n",
              "      <td>-20.399549</td>\n",
              "      <td>-20.874410</td>\n",
              "      <td>-22.259830</td>\n",
              "      <td>-22.134062</td>\n",
              "      <td>-21.353481</td>\n",
              "      <td>-24.835046</td>\n",
              "      <td>-22.419443</td>\n",
              "      <td>-19.805431</td>\n",
              "      <td>-24.274607</td>\n",
              "      <td>-23.537149</td>\n",
              "      <td>-25.978945</td>\n",
              "      <td>-19.920652</td>\n",
              "      <td>-24.066374</td>\n",
              "      <td>-25.691379</td>\n",
              "      <td>-19.278514</td>\n",
              "      <td>-21.247311</td>\n",
              "      <td>-23.920299</td>\n",
              "      <td>-19.831444</td>\n",
              "      <td>-25.743518</td>\n",
              "      <td>-18.726393</td>\n",
              "      <td>-20.787606</td>\n",
              "      <td>-19.585569</td>\n",
              "      <td>-17.713578</td>\n",
              "      <td>-22.434893</td>\n",
              "    </tr>\n",
              "    <tr>\n",
              "      <th>1</th>\n",
              "      <td>02tnwd4m</td>\n",
              "      <td>-17.314186</td>\n",
              "      <td>-19.474885</td>\n",
              "      <td>-20.179528</td>\n",
              "      <td>-17.986842</td>\n",
              "      <td>-14.221932</td>\n",
              "      <td>-19.784402</td>\n",
              "      <td>-21.139885</td>\n",
              "      <td>-17.067907</td>\n",
              "      <td>-20.525098</td>\n",
              "      <td>-17.356325</td>\n",
              "      <td>-21.727838</td>\n",
              "      <td>-19.665291</td>\n",
              "      <td>-19.488070</td>\n",
              "      <td>-17.130299</td>\n",
              "      <td>-15.673408</td>\n",
              "      <td>-17.359196</td>\n",
              "      <td>-27.588676</td>\n",
              "      <td>-19.949766</td>\n",
              "      <td>-19.155269</td>\n",
              "      <td>-17.472901</td>\n",
              "      <td>-20.623691</td>\n",
              "      <td>-17.900891</td>\n",
              "      <td>-17.760673</td>\n",
              "      <td>-18.559787</td>\n",
              "      <td>-19.136848</td>\n",
              "      <td>-18.208951</td>\n",
              "      <td>-20.200734</td>\n",
              "      <td>-13.877830</td>\n",
              "      <td>-15.037780</td>\n",
              "      <td>-18.846351</td>\n",
              "      <td>-18.733271</td>\n",
              "      <td>-18.522836</td>\n",
              "      <td>-18.294793</td>\n",
              "      <td>-14.853613</td>\n",
              "      <td>-21.825332</td>\n",
              "      <td>-15.774277</td>\n",
              "      <td>-19.094746</td>\n",
              "      <td>-11.265217</td>\n",
              "      <td>-13.764125</td>\n",
              "      <td>-17.963411</td>\n",
              "      <td>-16.263607</td>\n",
              "      <td>-16.803066</td>\n",
              "      <td>-21.357649</td>\n",
              "      <td>-14.988059</td>\n",
              "      <td>-24.198231</td>\n",
              "      <td>-16.207276</td>\n",
              "      <td>-16.934114</td>\n",
              "      <td>-14.881286</td>\n",
              "      <td>-15.191512</td>\n",
              "      <td>-19.116628</td>\n",
              "    </tr>\n",
              "    <tr>\n",
              "      <th>2</th>\n",
              "      <td>ejv2xln0</td>\n",
              "      <td>-21.151809</td>\n",
              "      <td>-22.781486</td>\n",
              "      <td>-21.619737</td>\n",
              "      <td>-21.607797</td>\n",
              "      <td>-15.869118</td>\n",
              "      <td>-23.297888</td>\n",
              "      <td>-21.717959</td>\n",
              "      <td>-22.438938</td>\n",
              "      <td>-23.162451</td>\n",
              "      <td>-22.742689</td>\n",
              "      <td>-24.476722</td>\n",
              "      <td>-22.753685</td>\n",
              "      <td>-22.149481</td>\n",
              "      <td>-21.576031</td>\n",
              "      <td>-17.830555</td>\n",
              "      <td>-20.419110</td>\n",
              "      <td>-30.713510</td>\n",
              "      <td>-23.011262</td>\n",
              "      <td>-20.844317</td>\n",
              "      <td>-16.580560</td>\n",
              "      <td>-23.615778</td>\n",
              "      <td>-20.841543</td>\n",
              "      <td>-20.537752</td>\n",
              "      <td>-21.178777</td>\n",
              "      <td>-22.194480</td>\n",
              "      <td>-21.598982</td>\n",
              "      <td>-22.386184</td>\n",
              "      <td>-19.127080</td>\n",
              "      <td>-14.292782</td>\n",
              "      <td>-22.509845</td>\n",
              "      <td>-22.128969</td>\n",
              "      <td>-17.707399</td>\n",
              "      <td>-22.395253</td>\n",
              "      <td>-20.097150</td>\n",
              "      <td>-25.332754</td>\n",
              "      <td>-17.124834</td>\n",
              "      <td>-21.300090</td>\n",
              "      <td>-15.709538</td>\n",
              "      <td>-19.808954</td>\n",
              "      <td>-18.934989</td>\n",
              "      <td>-20.778215</td>\n",
              "      <td>-19.068961</td>\n",
              "      <td>-25.273457</td>\n",
              "      <td>-19.647452</td>\n",
              "      <td>-28.073511</td>\n",
              "      <td>-20.583341</td>\n",
              "      <td>-21.316093</td>\n",
              "      <td>-19.480464</td>\n",
              "      <td>-15.841467</td>\n",
              "      <td>-22.070071</td>\n",
              "    </tr>\n",
              "    <tr>\n",
              "      <th>3</th>\n",
              "      <td>2b73a28n</td>\n",
              "      <td>-20.074424</td>\n",
              "      <td>-22.385052</td>\n",
              "      <td>-21.960632</td>\n",
              "      <td>-21.031420</td>\n",
              "      <td>-16.666689</td>\n",
              "      <td>-22.046277</td>\n",
              "      <td>-22.769520</td>\n",
              "      <td>-19.966341</td>\n",
              "      <td>-19.887853</td>\n",
              "      <td>-20.725210</td>\n",
              "      <td>-21.711954</td>\n",
              "      <td>-21.187352</td>\n",
              "      <td>-22.862425</td>\n",
              "      <td>-20.559999</td>\n",
              "      <td>-17.857241</td>\n",
              "      <td>-20.158454</td>\n",
              "      <td>-27.534702</td>\n",
              "      <td>-23.298487</td>\n",
              "      <td>-21.440309</td>\n",
              "      <td>-17.985879</td>\n",
              "      <td>-21.449683</td>\n",
              "      <td>-17.461739</td>\n",
              "      <td>-19.086002</td>\n",
              "      <td>-19.656553</td>\n",
              "      <td>-19.195516</td>\n",
              "      <td>-19.681643</td>\n",
              "      <td>-21.188686</td>\n",
              "      <td>-16.704918</td>\n",
              "      <td>-17.423879</td>\n",
              "      <td>-18.405540</td>\n",
              "      <td>-20.031606</td>\n",
              "      <td>-19.924136</td>\n",
              "      <td>-21.413301</td>\n",
              "      <td>-18.127018</td>\n",
              "      <td>-24.008763</td>\n",
              "      <td>-19.749054</td>\n",
              "      <td>-21.173185</td>\n",
              "      <td>-12.208979</td>\n",
              "      <td>-16.451122</td>\n",
              "      <td>-18.449897</td>\n",
              "      <td>-19.386865</td>\n",
              "      <td>-16.397051</td>\n",
              "      <td>-22.596552</td>\n",
              "      <td>-18.459889</td>\n",
              "      <td>-24.145783</td>\n",
              "      <td>-17.403746</td>\n",
              "      <td>-19.179681</td>\n",
              "      <td>-18.721911</td>\n",
              "      <td>-17.171211</td>\n",
              "      <td>-20.699903</td>\n",
              "    </tr>\n",
              "    <tr>\n",
              "      <th>4</th>\n",
              "      <td>9785vg6d</td>\n",
              "      <td>-19.178845</td>\n",
              "      <td>-19.941123</td>\n",
              "      <td>-19.436324</td>\n",
              "      <td>-20.322310</td>\n",
              "      <td>-14.908190</td>\n",
              "      <td>-20.318660</td>\n",
              "      <td>-17.501116</td>\n",
              "      <td>-20.716472</td>\n",
              "      <td>-19.449913</td>\n",
              "      <td>-20.429056</td>\n",
              "      <td>-19.622858</td>\n",
              "      <td>-19.925184</td>\n",
              "      <td>-19.607507</td>\n",
              "      <td>-19.213037</td>\n",
              "      <td>-17.013651</td>\n",
              "      <td>-20.051065</td>\n",
              "      <td>-27.627272</td>\n",
              "      <td>-21.591117</td>\n",
              "      <td>-19.412195</td>\n",
              "      <td>-15.465175</td>\n",
              "      <td>-20.479899</td>\n",
              "      <td>-17.372509</td>\n",
              "      <td>-17.362757</td>\n",
              "      <td>-17.770112</td>\n",
              "      <td>-17.954982</td>\n",
              "      <td>-18.996697</td>\n",
              "      <td>-20.376150</td>\n",
              "      <td>-18.918336</td>\n",
              "      <td>-13.915267</td>\n",
              "      <td>-20.476695</td>\n",
              "      <td>-18.353101</td>\n",
              "      <td>-15.598622</td>\n",
              "      <td>-18.236388</td>\n",
              "      <td>-18.833610</td>\n",
              "      <td>-21.698214</td>\n",
              "      <td>-18.721464</td>\n",
              "      <td>-20.052908</td>\n",
              "      <td>-13.460852</td>\n",
              "      <td>-18.690320</td>\n",
              "      <td>-14.823727</td>\n",
              "      <td>-19.697835</td>\n",
              "      <td>-19.209680</td>\n",
              "      <td>-23.468777</td>\n",
              "      <td>-17.625732</td>\n",
              "      <td>-26.387749</td>\n",
              "      <td>-19.165747</td>\n",
              "      <td>-18.639001</td>\n",
              "      <td>-18.713277</td>\n",
              "      <td>-14.640151</td>\n",
              "      <td>-18.327145</td>\n",
              "    </tr>\n",
              "    <tr>\n",
              "      <th>...</th>\n",
              "      <td>...</td>\n",
              "      <td>...</td>\n",
              "      <td>...</td>\n",
              "      <td>...</td>\n",
              "      <td>...</td>\n",
              "      <td>...</td>\n",
              "      <td>...</td>\n",
              "      <td>...</td>\n",
              "      <td>...</td>\n",
              "      <td>...</td>\n",
              "      <td>...</td>\n",
              "      <td>...</td>\n",
              "      <td>...</td>\n",
              "      <td>...</td>\n",
              "      <td>...</td>\n",
              "      <td>...</td>\n",
              "      <td>...</td>\n",
              "      <td>...</td>\n",
              "      <td>...</td>\n",
              "      <td>...</td>\n",
              "      <td>...</td>\n",
              "      <td>...</td>\n",
              "      <td>...</td>\n",
              "      <td>...</td>\n",
              "      <td>...</td>\n",
              "      <td>...</td>\n",
              "      <td>...</td>\n",
              "      <td>...</td>\n",
              "      <td>...</td>\n",
              "      <td>...</td>\n",
              "      <td>...</td>\n",
              "      <td>...</td>\n",
              "      <td>...</td>\n",
              "      <td>...</td>\n",
              "      <td>...</td>\n",
              "      <td>...</td>\n",
              "      <td>...</td>\n",
              "      <td>...</td>\n",
              "      <td>...</td>\n",
              "      <td>...</td>\n",
              "      <td>...</td>\n",
              "      <td>...</td>\n",
              "      <td>...</td>\n",
              "      <td>...</td>\n",
              "      <td>...</td>\n",
              "      <td>...</td>\n",
              "      <td>...</td>\n",
              "      <td>...</td>\n",
              "      <td>...</td>\n",
              "      <td>...</td>\n",
              "      <td>...</td>\n",
              "    </tr>\n",
              "    <tr>\n",
              "      <th>191170</th>\n",
              "      <td>z4ro6lmh</td>\n",
              "      <td>-28.190382</td>\n",
              "      <td>-28.722186</td>\n",
              "      <td>-25.482290</td>\n",
              "      <td>-27.831838</td>\n",
              "      <td>-25.956084</td>\n",
              "      <td>-24.710983</td>\n",
              "      <td>-26.443739</td>\n",
              "      <td>-25.827025</td>\n",
              "      <td>-26.716767</td>\n",
              "      <td>-28.842063</td>\n",
              "      <td>-25.614225</td>\n",
              "      <td>-25.596957</td>\n",
              "      <td>-29.895257</td>\n",
              "      <td>-28.594042</td>\n",
              "      <td>-27.588678</td>\n",
              "      <td>-26.412928</td>\n",
              "      <td>-31.721613</td>\n",
              "      <td>-27.774430</td>\n",
              "      <td>-27.215632</td>\n",
              "      <td>-26.395269</td>\n",
              "      <td>-30.472618</td>\n",
              "      <td>-24.177700</td>\n",
              "      <td>-25.869744</td>\n",
              "      <td>-26.328303</td>\n",
              "      <td>-25.381986</td>\n",
              "      <td>-23.244141</td>\n",
              "      <td>-27.632320</td>\n",
              "      <td>-23.599171</td>\n",
              "      <td>-26.042057</td>\n",
              "      <td>-23.025172</td>\n",
              "      <td>-27.367927</td>\n",
              "      <td>-31.210062</td>\n",
              "      <td>-27.706928</td>\n",
              "      <td>-24.172700</td>\n",
              "      <td>-31.926669</td>\n",
              "      <td>-27.428205</td>\n",
              "      <td>-28.550579</td>\n",
              "      <td>-23.491641</td>\n",
              "      <td>-24.391469</td>\n",
              "      <td>-27.513299</td>\n",
              "      <td>-28.167346</td>\n",
              "      <td>-24.544356</td>\n",
              "      <td>-30.076843</td>\n",
              "      <td>-26.021460</td>\n",
              "      <td>-28.846772</td>\n",
              "      <td>-23.723908</td>\n",
              "      <td>-26.908770</td>\n",
              "      <td>-27.925093</td>\n",
              "      <td>-24.792458</td>\n",
              "      <td>-26.766946</td>\n",
              "    </tr>\n",
              "    <tr>\n",
              "      <th>191171</th>\n",
              "      <td>hi8k8wvb</td>\n",
              "      <td>-19.780420</td>\n",
              "      <td>-22.162298</td>\n",
              "      <td>-24.088242</td>\n",
              "      <td>-21.161539</td>\n",
              "      <td>-15.830519</td>\n",
              "      <td>-22.472384</td>\n",
              "      <td>-23.030744</td>\n",
              "      <td>-22.218842</td>\n",
              "      <td>-26.086116</td>\n",
              "      <td>-21.210847</td>\n",
              "      <td>-25.706605</td>\n",
              "      <td>-23.324374</td>\n",
              "      <td>-21.135855</td>\n",
              "      <td>-19.511572</td>\n",
              "      <td>-17.319165</td>\n",
              "      <td>-18.891091</td>\n",
              "      <td>-30.517929</td>\n",
              "      <td>-23.537991</td>\n",
              "      <td>-21.299599</td>\n",
              "      <td>-19.277930</td>\n",
              "      <td>-23.482377</td>\n",
              "      <td>-23.603896</td>\n",
              "      <td>-22.097486</td>\n",
              "      <td>-22.929164</td>\n",
              "      <td>-24.223377</td>\n",
              "      <td>-23.000314</td>\n",
              "      <td>-24.036205</td>\n",
              "      <td>-18.106485</td>\n",
              "      <td>-13.412805</td>\n",
              "      <td>-22.532371</td>\n",
              "      <td>-21.878712</td>\n",
              "      <td>-18.372592</td>\n",
              "      <td>-20.798170</td>\n",
              "      <td>-19.972946</td>\n",
              "      <td>-22.739955</td>\n",
              "      <td>-13.062673</td>\n",
              "      <td>-17.882052</td>\n",
              "      <td>-19.127792</td>\n",
              "      <td>-21.309197</td>\n",
              "      <td>-19.111351</td>\n",
              "      <td>-20.390387</td>\n",
              "      <td>-21.121308</td>\n",
              "      <td>-25.774739</td>\n",
              "      <td>-18.379397</td>\n",
              "      <td>-29.989482</td>\n",
              "      <td>-21.196613</td>\n",
              "      <td>-21.244687</td>\n",
              "      <td>-18.852994</td>\n",
              "      <td>-19.361453</td>\n",
              "      <td>-20.748498</td>\n",
              "    </tr>\n",
              "    <tr>\n",
              "      <th>191172</th>\n",
              "      <td>ma3ndg41</td>\n",
              "      <td>-18.746791</td>\n",
              "      <td>-20.391967</td>\n",
              "      <td>-21.246036</td>\n",
              "      <td>-18.379432</td>\n",
              "      <td>-16.446954</td>\n",
              "      <td>-20.186634</td>\n",
              "      <td>-24.068393</td>\n",
              "      <td>-16.057819</td>\n",
              "      <td>-16.875174</td>\n",
              "      <td>-18.239713</td>\n",
              "      <td>-18.367631</td>\n",
              "      <td>-16.478766</td>\n",
              "      <td>-18.242720</td>\n",
              "      <td>-16.709213</td>\n",
              "      <td>-16.229673</td>\n",
              "      <td>-18.229831</td>\n",
              "      <td>-25.536004</td>\n",
              "      <td>-21.145914</td>\n",
              "      <td>-20.603243</td>\n",
              "      <td>-20.486555</td>\n",
              "      <td>-19.809537</td>\n",
              "      <td>-19.306183</td>\n",
              "      <td>-17.413071</td>\n",
              "      <td>-18.305418</td>\n",
              "      <td>-20.669956</td>\n",
              "      <td>-20.198277</td>\n",
              "      <td>-20.590036</td>\n",
              "      <td>-13.300259</td>\n",
              "      <td>-20.020606</td>\n",
              "      <td>-16.745663</td>\n",
              "      <td>-18.097601</td>\n",
              "      <td>-23.598374</td>\n",
              "      <td>-17.546891</td>\n",
              "      <td>-14.173758</td>\n",
              "      <td>-18.768594</td>\n",
              "      <td>-19.749023</td>\n",
              "      <td>-21.857049</td>\n",
              "      <td>-16.776638</td>\n",
              "      <td>-18.575711</td>\n",
              "      <td>-22.613173</td>\n",
              "      <td>-14.227825</td>\n",
              "      <td>-17.894341</td>\n",
              "      <td>-19.748404</td>\n",
              "      <td>-15.402705</td>\n",
              "      <td>-23.209589</td>\n",
              "      <td>-16.187051</td>\n",
              "      <td>-15.742280</td>\n",
              "      <td>-13.042199</td>\n",
              "      <td>-18.082568</td>\n",
              "      <td>-19.209077</td>\n",
              "    </tr>\n",
              "    <tr>\n",
              "      <th>191173</th>\n",
              "      <td>wh10285j</td>\n",
              "      <td>-23.622749</td>\n",
              "      <td>-24.707834</td>\n",
              "      <td>-26.849311</td>\n",
              "      <td>-24.814243</td>\n",
              "      <td>-23.963814</td>\n",
              "      <td>-23.743382</td>\n",
              "      <td>-27.399534</td>\n",
              "      <td>-23.416272</td>\n",
              "      <td>-24.825832</td>\n",
              "      <td>-21.621865</td>\n",
              "      <td>-26.484407</td>\n",
              "      <td>-23.682850</td>\n",
              "      <td>-24.898679</td>\n",
              "      <td>-21.956154</td>\n",
              "      <td>-21.983778</td>\n",
              "      <td>-23.566169</td>\n",
              "      <td>-33.152442</td>\n",
              "      <td>-27.229880</td>\n",
              "      <td>-25.570836</td>\n",
              "      <td>-27.866177</td>\n",
              "      <td>-28.755931</td>\n",
              "      <td>-28.294118</td>\n",
              "      <td>-26.256186</td>\n",
              "      <td>-27.433957</td>\n",
              "      <td>-28.171096</td>\n",
              "      <td>-26.457176</td>\n",
              "      <td>-27.896684</td>\n",
              "      <td>-22.157810</td>\n",
              "      <td>-24.105710</td>\n",
              "      <td>-24.975151</td>\n",
              "      <td>-24.290820</td>\n",
              "      <td>-26.333168</td>\n",
              "      <td>-23.258520</td>\n",
              "      <td>-22.358349</td>\n",
              "      <td>-24.532975</td>\n",
              "      <td>-23.532054</td>\n",
              "      <td>-25.024342</td>\n",
              "      <td>-24.148485</td>\n",
              "      <td>-26.004082</td>\n",
              "      <td>-28.720114</td>\n",
              "      <td>-22.676907</td>\n",
              "      <td>-25.454869</td>\n",
              "      <td>-24.689152</td>\n",
              "      <td>-22.452996</td>\n",
              "      <td>-28.772147</td>\n",
              "      <td>-25.165704</td>\n",
              "      <td>-23.592632</td>\n",
              "      <td>-20.404567</td>\n",
              "      <td>-22.847818</td>\n",
              "      <td>-23.998740</td>\n",
              "    </tr>\n",
              "    <tr>\n",
              "      <th>191174</th>\n",
              "      <td>pnl9th2c</td>\n",
              "      <td>-25.682187</td>\n",
              "      <td>-24.792721</td>\n",
              "      <td>-27.536571</td>\n",
              "      <td>-22.237787</td>\n",
              "      <td>-23.682401</td>\n",
              "      <td>-25.143082</td>\n",
              "      <td>-26.106417</td>\n",
              "      <td>-23.419708</td>\n",
              "      <td>-27.930701</td>\n",
              "      <td>-25.626815</td>\n",
              "      <td>-27.040854</td>\n",
              "      <td>-23.689425</td>\n",
              "      <td>-24.923932</td>\n",
              "      <td>-24.987084</td>\n",
              "      <td>-22.360605</td>\n",
              "      <td>-22.622681</td>\n",
              "      <td>-32.997919</td>\n",
              "      <td>-26.303416</td>\n",
              "      <td>-24.433517</td>\n",
              "      <td>-27.547466</td>\n",
              "      <td>-29.494287</td>\n",
              "      <td>-26.455157</td>\n",
              "      <td>-24.819506</td>\n",
              "      <td>-25.486739</td>\n",
              "      <td>-26.340868</td>\n",
              "      <td>-25.607394</td>\n",
              "      <td>-27.823964</td>\n",
              "      <td>-22.102594</td>\n",
              "      <td>-24.380596</td>\n",
              "      <td>-25.999422</td>\n",
              "      <td>-25.007470</td>\n",
              "      <td>-28.423937</td>\n",
              "      <td>-26.077609</td>\n",
              "      <td>-21.623828</td>\n",
              "      <td>-29.387621</td>\n",
              "      <td>-23.395087</td>\n",
              "      <td>-25.485030</td>\n",
              "      <td>-24.394368</td>\n",
              "      <td>-23.794005</td>\n",
              "      <td>-26.339883</td>\n",
              "      <td>-23.323090</td>\n",
              "      <td>-26.992189</td>\n",
              "      <td>-25.734025</td>\n",
              "      <td>-22.590079</td>\n",
              "      <td>-30.416385</td>\n",
              "      <td>-25.086144</td>\n",
              "      <td>-22.806635</td>\n",
              "      <td>-21.731504</td>\n",
              "      <td>-23.853271</td>\n",
              "      <td>-25.591165</td>\n",
              "    </tr>\n",
              "  </tbody>\n",
              "</table>\n",
              "<p>191175 rows × 51 columns</p>\n",
              "</div>"
            ],
            "text/plain": [
              "          doc_id          1          2  ...         48         49         50\n",
              "0       ug7v899j -22.892150 -25.777851  ... -19.585569 -17.713578 -22.434893\n",
              "1       02tnwd4m -17.314186 -19.474885  ... -14.881286 -15.191512 -19.116628\n",
              "2       ejv2xln0 -21.151809 -22.781486  ... -19.480464 -15.841467 -22.070071\n",
              "3       2b73a28n -20.074424 -22.385052  ... -18.721911 -17.171211 -20.699903\n",
              "4       9785vg6d -19.178845 -19.941123  ... -18.713277 -14.640151 -18.327145\n",
              "...          ...        ...        ...  ...        ...        ...        ...\n",
              "191170  z4ro6lmh -28.190382 -28.722186  ... -27.925093 -24.792458 -26.766946\n",
              "191171  hi8k8wvb -19.780420 -22.162298  ... -18.852994 -19.361453 -20.748498\n",
              "191172  ma3ndg41 -18.746791 -20.391967  ... -13.042199 -18.082568 -19.209077\n",
              "191173  wh10285j -23.622749 -24.707834  ... -20.404567 -22.847818 -23.998740\n",
              "191174  pnl9th2c -25.682187 -24.792721  ... -21.731504 -23.853271 -25.591165\n",
              "\n",
              "[191175 rows x 51 columns]"
            ]
          },
          "metadata": {
            "tags": []
          },
          "execution_count": 34
        }
      ]
    },
    {
      "cell_type": "code",
      "metadata": {
        "id": "TjeYAQiczSgu",
        "colab": {
          "base_uri": "https://localhost:8080/",
          "height": 402
        },
        "outputId": "77166bf3-9cee-40dc-a2dc-775f93402396"
      },
      "source": [
        "ours = df_relevances.copy()\n",
        "ours"
      ],
      "execution_count": 35,
      "outputs": [
        {
          "output_type": "execute_result",
          "data": {
            "text/html": [
              "<div>\n",
              "<style scoped>\n",
              "    .dataframe tbody tr th:only-of-type {\n",
              "        vertical-align: middle;\n",
              "    }\n",
              "\n",
              "    .dataframe tbody tr th {\n",
              "        vertical-align: top;\n",
              "    }\n",
              "\n",
              "    .dataframe thead th {\n",
              "        text-align: right;\n",
              "    }\n",
              "</style>\n",
              "<table border=\"1\" class=\"dataframe\">\n",
              "  <thead>\n",
              "    <tr style=\"text-align: right;\">\n",
              "      <th></th>\n",
              "      <th>topic</th>\n",
              "      <th>document_id</th>\n",
              "      <th>judgement</th>\n",
              "    </tr>\n",
              "  </thead>\n",
              "  <tbody>\n",
              "    <tr>\n",
              "      <th>0</th>\n",
              "      <td>1</td>\n",
              "      <td>005b2j4b</td>\n",
              "      <td>2</td>\n",
              "    </tr>\n",
              "    <tr>\n",
              "      <th>1</th>\n",
              "      <td>1</td>\n",
              "      <td>00fmeepz</td>\n",
              "      <td>1</td>\n",
              "    </tr>\n",
              "    <tr>\n",
              "      <th>2</th>\n",
              "      <td>1</td>\n",
              "      <td>010vptx3</td>\n",
              "      <td>2</td>\n",
              "    </tr>\n",
              "    <tr>\n",
              "      <th>3</th>\n",
              "      <td>1</td>\n",
              "      <td>0194oljo</td>\n",
              "      <td>1</td>\n",
              "    </tr>\n",
              "    <tr>\n",
              "      <th>4</th>\n",
              "      <td>1</td>\n",
              "      <td>021q9884</td>\n",
              "      <td>1</td>\n",
              "    </tr>\n",
              "    <tr>\n",
              "      <th>...</th>\n",
              "      <td>...</td>\n",
              "      <td>...</td>\n",
              "      <td>...</td>\n",
              "    </tr>\n",
              "    <tr>\n",
              "      <th>69313</th>\n",
              "      <td>50</td>\n",
              "      <td>zvop8bxh</td>\n",
              "      <td>2</td>\n",
              "    </tr>\n",
              "    <tr>\n",
              "      <th>69314</th>\n",
              "      <td>50</td>\n",
              "      <td>zwf26o63</td>\n",
              "      <td>1</td>\n",
              "    </tr>\n",
              "    <tr>\n",
              "      <th>69315</th>\n",
              "      <td>50</td>\n",
              "      <td>zwsvlnwe</td>\n",
              "      <td>0</td>\n",
              "    </tr>\n",
              "    <tr>\n",
              "      <th>69316</th>\n",
              "      <td>50</td>\n",
              "      <td>zxr01yln</td>\n",
              "      <td>1</td>\n",
              "    </tr>\n",
              "    <tr>\n",
              "      <th>69317</th>\n",
              "      <td>50</td>\n",
              "      <td>zz8wvos9</td>\n",
              "      <td>1</td>\n",
              "    </tr>\n",
              "  </tbody>\n",
              "</table>\n",
              "<p>69318 rows × 3 columns</p>\n",
              "</div>"
            ],
            "text/plain": [
              "       topic document_id  judgement\n",
              "0          1    005b2j4b          2\n",
              "1          1    00fmeepz          1\n",
              "2          1    010vptx3          2\n",
              "3          1    0194oljo          1\n",
              "4          1    021q9884          1\n",
              "...      ...         ...        ...\n",
              "69313     50    zvop8bxh          2\n",
              "69314     50    zwf26o63          1\n",
              "69315     50    zwsvlnwe          0\n",
              "69316     50    zxr01yln          1\n",
              "69317     50    zz8wvos9          1\n",
              "\n",
              "[69318 rows x 3 columns]"
            ]
          },
          "metadata": {
            "tags": []
          },
          "execution_count": 35
        }
      ]
    },
    {
      "cell_type": "code",
      "metadata": {
        "id": "dJxGUF8e3iFK"
      },
      "source": [
        "c = all_sims.melt(\n",
        "    id_vars=['doc_id'],\n",
        "    var_name='topic',\n",
        "    value_name='similarity',\n",
        ")"
      ],
      "execution_count": 36,
      "outputs": []
    },
    {
      "cell_type": "code",
      "metadata": {
        "id": "qPDfbS4b358t"
      },
      "source": [
        "c.columns = ['document_id', 'topic', 'similarity']"
      ],
      "execution_count": 37,
      "outputs": []
    },
    {
      "cell_type": "code",
      "metadata": {
        "id": "scr0QVox4JFg"
      },
      "source": [
        "new_results = pd.merge(c, df_relevances, left_on=['document_id', 'topic'], right_on=['document_id', 'topic'])"
      ],
      "execution_count": 38,
      "outputs": []
    },
    {
      "cell_type": "code",
      "metadata": {
        "id": "vNBKASqx5CF7"
      },
      "source": [
        "del new_results['judgement']"
      ],
      "execution_count": 39,
      "outputs": []
    },
    {
      "cell_type": "code",
      "metadata": {
        "id": "rx-JLMBM5Fbq"
      },
      "source": [
        "nae = np.array(new_results)"
      ],
      "execution_count": 40,
      "outputs": []
    },
    {
      "cell_type": "code",
      "metadata": {
        "id": "ZXKLKqTo5Mej",
        "colab": {
          "base_uri": "https://localhost:8080/"
        },
        "outputId": "b5c7f809-f28e-477a-ea7a-56bf1db06cf9"
      },
      "source": [
        "nae"
      ],
      "execution_count": 41,
      "outputs": [
        {
          "output_type": "execute_result",
          "data": {
            "text/plain": [
              "array([['sw4wtxdk', 1, -17.733252924321278],\n",
              "       ['6wu024ng', 1, -17.714127253835613],\n",
              "       ['sbxqwfmy', 1, -17.573692263111298],\n",
              "       ...,\n",
              "       ['7g3p570l', 50, -22.12086854779409],\n",
              "       ['eqfz0wpm', 50, -16.611537000349927],\n",
              "       ['qyflkmi9', 50, -16.425966546714335]], dtype=object)"
            ]
          },
          "metadata": {
            "tags": []
          },
          "execution_count": 41
        }
      ]
    },
    {
      "cell_type": "code",
      "metadata": {
        "id": "SN2ZMpTRv-m2"
      },
      "source": [
        "results = []\n",
        "for i, row in enumerate(nae):\n",
        "  results.append(f'{row[1]} 0 {row[0]} 0 {row[2]} 0')"
      ],
      "execution_count": 42,
      "outputs": []
    },
    {
      "cell_type": "code",
      "metadata": {
        "id": "VzlqJabV5aZm",
        "colab": {
          "base_uri": "https://localhost:8080/"
        },
        "outputId": "e0f1fc37-e21e-4172-ea4a-0dda6437f959"
      },
      "source": [
        "results[:10]"
      ],
      "execution_count": 43,
      "outputs": [
        {
          "output_type": "execute_result",
          "data": {
            "text/plain": [
              "['1 0 sw4wtxdk 0 -17.733252924321278 0',\n",
              " '1 0 6wu024ng 0 -17.714127253835613 0',\n",
              " '1 0 sbxqwfmy 0 -17.573692263111298 0',\n",
              " '1 0 1rhy8td0 0 -15.191630252746108 0',\n",
              " '1 0 t7rxmzvi 0 -20.999028905040177 0',\n",
              " '1 0 480d3yfv 0 -23.067925343602838 0',\n",
              " '1 0 b66bb2ri 0 -15.161752639389306 0',\n",
              " '1 0 sn1a7ikq 0 -21.205071425698407 0',\n",
              " '1 0 j7fx64k1 0 -20.205407256491526 0',\n",
              " '1 0 5opiip58 0 -17.20253032663095 0']"
            ]
          },
          "metadata": {
            "tags": []
          },
          "execution_count": 43
        }
      ]
    },
    {
      "cell_type": "code",
      "metadata": {
        "id": "wdRtLbkTmEkI"
      },
      "source": [
        "# Write results to file\n",
        "with open('results_we_nman_69_nprep.txt', 'w') as f:\n",
        "    f.write('\\n'.join(results))"
      ],
      "execution_count": 44,
      "outputs": []
    },
    {
      "cell_type": "code",
      "metadata": {
        "id": "y2ykazypM3Hj"
      },
      "source": [
        "##################################################### TFIDF ################################################################"
      ],
      "execution_count": 45,
      "outputs": []
    },
    {
      "cell_type": "code",
      "metadata": {
        "id": "t3HnUO8Eq-_7"
      },
      "source": [
        "if os.path.exists('drive/MyDrive/CMPE/CMPE493'):\n",
        "  doc_vectors = pickle.load(open(\"drive/MyDrive/CMPE/CMPE493/doc_vectors.pickle\", \"rb\"))\n",
        "  doc_vectorizer = pickle.load(open(\"drive/MyDrive/CMPE/CMPE493/doc_vectorizer.pickle\", \"rb\"))"
      ],
      "execution_count": null,
      "outputs": []
    },
    {
      "cell_type": "code",
      "metadata": {
        "colab": {
          "base_uri": "https://localhost:8080/"
        },
        "id": "oGdwOCOlYak7",
        "outputId": "c00ff580-53f6-4ee6-d028-ef736af8eab7"
      },
      "source": [
        "from sklearn.feature_extraction.text import TfidfVectorizer\n",
        "\n",
        "# fit TfidfVectorizer on documents \n",
        "doc_vectorizer = TfidfVectorizer(preprocessor=preprocess)\n",
        "doc_vectors = doc_vectorizer.fit_transform(list(contents.values()))\n",
        "\n",
        "print(\"There are\", len(doc_vectorizer.vocabulary_), \"tokens in our vocabulary.\")"
      ],
      "execution_count": null,
      "outputs": [
        {
          "output_type": "stream",
          "text": [
            "There are 145387 tokens in our vocabulary.\n"
          ],
          "name": "stdout"
        }
      ]
    },
    {
      "cell_type": "code",
      "metadata": {
        "id": "ZD0Au6yKfIFU"
      },
      "source": [
        "# Vectorize the topics with the same vectorizer\n",
        "topic_vectors = doc_vectorizer.transform(list(topics_dict.values()))"
      ],
      "execution_count": null,
      "outputs": []
    },
    {
      "cell_type": "code",
      "metadata": {
        "id": "00_-qfbYRVlG"
      },
      "source": [
        "pickle.dump(doc_vectors, open(\"drive/MyDrive/CMPE/CMPE493/doc_vectors.pickle\", \"wb\"))\n",
        "pickle.dump(doc_vectorizer, open(\"drive/MyDrive/CMPE/CMPE493/doc_vectorizer.pickle\", \"wb\"))"
      ],
      "execution_count": null,
      "outputs": []
    },
    {
      "cell_type": "code",
      "metadata": {
        "colab": {
          "base_uri": "https://localhost:8080/"
        },
        "id": "2jXjECpbGHfY",
        "outputId": "ee3bdc2f-8b6c-4d62-a17a-f3333d4f4fb0"
      },
      "source": [
        "# number of documents, length of vector\n",
        "doc_vectors.shape"
      ],
      "execution_count": null,
      "outputs": [
        {
          "output_type": "execute_result",
          "data": {
            "text/plain": [
              "(191175, 145387)"
            ]
          },
          "metadata": {
            "tags": []
          },
          "execution_count": 21
        }
      ]
    },
    {
      "cell_type": "code",
      "metadata": {
        "colab": {
          "base_uri": "https://localhost:8080/"
        },
        "id": "NqdsRXTefRee",
        "outputId": "e7e4e45c-e354-429e-a99b-21240eebbacc"
      },
      "source": [
        "# number of topics, length of vector\n",
        "topic_vectors.shape"
      ],
      "execution_count": null,
      "outputs": [
        {
          "output_type": "execute_result",
          "data": {
            "text/plain": [
              "(50, 145387)"
            ]
          },
          "metadata": {
            "tags": []
          },
          "execution_count": 22
        }
      ]
    },
    {
      "cell_type": "code",
      "metadata": {
        "id": "AyNFLw7birAa"
      },
      "source": [
        "# key: document_id\n",
        "# val: document's TFIDF vector\n",
        "doc_vectors_dict = {\n",
        "    docs[i][0] : doc_vectors[i]\n",
        "    for i in range(0,len(docs))\n",
        "}"
      ],
      "execution_count": null,
      "outputs": []
    },
    {
      "cell_type": "code",
      "metadata": {
        "id": "gMbq_tAHnVAS"
      },
      "source": [
        "# key: topic_id\n",
        "# val: topic's TFIDF vector\n",
        "topic_vectors_dict = {\n",
        "    key : topic_vectors[i]\n",
        "    for i, key in enumerate(topics_dict.keys())\n",
        "}"
      ],
      "execution_count": null,
      "outputs": []
    },
    {
      "cell_type": "code",
      "metadata": {
        "colab": {
          "base_uri": "https://localhost:8080/"
        },
        "id": "LI8k1njZbdFz",
        "outputId": "88cc8eec-24cd-4a28-8e82-72cd41821223"
      },
      "source": [
        "from sklearn.metrics.pairwise import cosine_similarity\n",
        "\n",
        "#Take random doc_id and print most relevant topic\n",
        "ex_document = df_metadata.sample().cord_uid.to_string().split()[1]\n",
        "similarity = cosine_similarity(doc_vectors_dict[ex_document],topic_vectors).flatten()\n",
        "\n",
        "best_sim      = np.max(similarity)\n",
        "best_topic_id = np.argmax(similarity) + 1\n",
        "\n",
        "print(f\"Example document id: {ex_document}\")\n",
        "print(f\"Maximum cosine similarity among all topics: {best_sim:.4f}\")\n",
        "print(f\"Argmax of maximum cos. sim.: {best_topic_id}\")\n",
        "print(f\"Contents of document '{ex_document}': {contents[ex_document]}\")\n",
        "print(f\"Contents of topic '{best_topic_id}': {topics_dict[str(best_topic_id)]}\")\n"
      ],
      "execution_count": null,
      "outputs": [
        {
          "output_type": "stream",
          "text": [
            "Example document id: um607cmb\n",
            "Maximum cosine similarity among all topics: 0.0379\n",
            "Argmax of maximum cos. sim.: 4\n",
            "Contents of document 'um607cmb': Letter: News From the COVID-19 Front Lines: How Neurosurgeons Are Contributing nan\n",
            "Contents of topic '4': how do people die from the coronavirus what causes death from Covid-19? Studies looking at mechanisms of death from Covid-19.\n"
          ],
          "name": "stdout"
        }
      ]
    },
    {
      "cell_type": "code",
      "metadata": {
        "id": "TW5q7j63eQzs",
        "colab": {
          "base_uri": "https://localhost:8080/"
        },
        "outputId": "ea19968a-76e2-441f-deb1-a172b9dc0029"
      },
      "source": [
        "sims = cosine_similarity(topic_vectors, doc_vectors)\n",
        "sims.shape"
      ],
      "execution_count": null,
      "outputs": [
        {
          "output_type": "execute_result",
          "data": {
            "text/plain": [
              "(50, 191175)"
            ]
          },
          "metadata": {
            "tags": []
          },
          "execution_count": 26
        }
      ]
    },
    {
      "cell_type": "code",
      "metadata": {
        "id": "towzilv0oBlg"
      },
      "source": [
        "results = np.ndarray((len(contents)*int(len(topics_dict)/2),1))\n",
        "results = list(results)\n",
        "\n",
        "#Even results\n",
        "for j,topic in enumerate(topics_dict.keys()):\n",
        "  if(j%2 != 0):\n",
        "    for i,doc_id in enumerate(contents.keys()):\n",
        "      element = f'{topic} 0 {doc_id} 0 {sims[j][i]} 0'\n",
        "      results[int(j/2)*len(contents.keys())+i] = element"
      ],
      "execution_count": null,
      "outputs": []
    },
    {
      "cell_type": "markdown",
      "metadata": {
        "id": "Pk742I-7uu_N"
      },
      "source": [
        "**results.csv columns:**\n",
        "qid, iter, docno, rank, sim, run_id "
      ]
    },
    {
      "cell_type": "code",
      "metadata": {
        "colab": {
          "base_uri": "https://localhost:8080/"
        },
        "id": "hsUXg21UqvBM",
        "outputId": "f345b3c5-ddc8-4cfd-b83e-4d9aaa2dbd62"
      },
      "source": [
        "results[:10]"
      ],
      "execution_count": null,
      "outputs": [
        {
          "output_type": "execute_result",
          "data": {
            "text/plain": [
              "['2 0 ug7v899j 0 0.0 0',\n",
              " '2 0 02tnwd4m 0 0.011011974322833466 0',\n",
              " '2 0 ejv2xln0 0 0.012277492779388261 0',\n",
              " '2 0 2b73a28n 0 0.0 0',\n",
              " '2 0 9785vg6d 0 0.06059505130597204 0',\n",
              " '2 0 zjufx4fo 0 0.00864037385739897 0',\n",
              " '2 0 5yhe786e 0 0.0 0',\n",
              " '2 0 8zchiykl 0 0.0 0',\n",
              " '2 0 8qnrcgnk 0 0.008868282023550493 0',\n",
              " '2 0 jg13scgo 0 0.0035325109038701072 0']"
            ]
          },
          "metadata": {
            "tags": []
          },
          "execution_count": 28
        }
      ]
    },
    {
      "cell_type": "code",
      "metadata": {
        "id": "k7AdWE-cld6C"
      },
      "source": [
        "# Write results to file\n",
        "with open('results.txt', 'w') as f:\n",
        "    f.write('\\n'.join(results))"
      ],
      "execution_count": null,
      "outputs": []
    },
    {
      "cell_type": "code",
      "metadata": {
        "id": "r4LnteE5Nfcf"
      },
      "source": [
        "import random\n",
        "\n",
        "results_random = np.ndarray((len(contents)*int(len(topics_dict)/2),1))\n",
        "results_random = list(results_random)\n",
        "\n",
        "#Even results\n",
        "for j,topic in enumerate(topics_dict.keys()):\n",
        "  if(j%2 != 0):\n",
        "    for i,doc_id in enumerate(contents.keys()):\n",
        "      element = f'{topic} 0 {doc_id} 0 {random.random()} 0'\n",
        "      results_random[int(j/2)*len(contents.keys())+i] = element"
      ],
      "execution_count": null,
      "outputs": []
    },
    {
      "cell_type": "code",
      "metadata": {
        "id": "fGCUusxlo0nk"
      },
      "source": [
        "# Write results to file\n",
        "with open('results_random.txt', 'w') as f:\n",
        "    f.write('\\n'.join(results_random))"
      ],
      "execution_count": null,
      "outputs": []
    },
    {
      "cell_type": "code",
      "metadata": {
        "id": "-RPAJUAyo4j6"
      },
      "source": [
        "import random\n",
        "\n",
        "results_random = np.ndarray((len(contents)*int(len(topics_dict)/2),1))\n",
        "results_random = list(results_random)\n",
        "\n",
        "#Even results\n",
        "for j,topic in enumerate(topics_dict.keys()):\n",
        "  if(j%2 != 0):\n",
        "    for i,doc_id in enumerate(contents.keys()):\n",
        "      element = f'{topic} 0 {doc_id} 0 {random.random()} 0'\n",
        "      results_random[int(j/2)*len(contents.keys())+i] = element"
      ],
      "execution_count": null,
      "outputs": []
    },
    {
      "cell_type": "code",
      "metadata": {
        "colab": {
          "base_uri": "https://localhost:8080/",
          "height": 402
        },
        "id": "CswU6IgskUNR",
        "outputId": "94da57a6-0903-4159-d2a0-5afb6c93fdc9"
      },
      "source": [
        "rd = df_relevances.copy()\n",
        "rd['judgement'] = np.random(np.array(rd['judgement']).shape)"
      ],
      "execution_count": 22,
      "outputs": [
        {
          "output_type": "execute_result",
          "data": {
            "text/html": [
              "<div>\n",
              "<style scoped>\n",
              "    .dataframe tbody tr th:only-of-type {\n",
              "        vertical-align: middle;\n",
              "    }\n",
              "\n",
              "    .dataframe tbody tr th {\n",
              "        vertical-align: top;\n",
              "    }\n",
              "\n",
              "    .dataframe thead th {\n",
              "        text-align: right;\n",
              "    }\n",
              "</style>\n",
              "<table border=\"1\" class=\"dataframe\">\n",
              "  <thead>\n",
              "    <tr style=\"text-align: right;\">\n",
              "      <th></th>\n",
              "      <th>topic</th>\n",
              "      <th>document_id</th>\n",
              "      <th>judgement</th>\n",
              "    </tr>\n",
              "  </thead>\n",
              "  <tbody>\n",
              "    <tr>\n",
              "      <th>0</th>\n",
              "      <td>1</td>\n",
              "      <td>005b2j4b</td>\n",
              "      <td>2</td>\n",
              "    </tr>\n",
              "    <tr>\n",
              "      <th>1</th>\n",
              "      <td>1</td>\n",
              "      <td>00fmeepz</td>\n",
              "      <td>1</td>\n",
              "    </tr>\n",
              "    <tr>\n",
              "      <th>2</th>\n",
              "      <td>1</td>\n",
              "      <td>010vptx3</td>\n",
              "      <td>2</td>\n",
              "    </tr>\n",
              "    <tr>\n",
              "      <th>3</th>\n",
              "      <td>1</td>\n",
              "      <td>0194oljo</td>\n",
              "      <td>1</td>\n",
              "    </tr>\n",
              "    <tr>\n",
              "      <th>4</th>\n",
              "      <td>1</td>\n",
              "      <td>021q9884</td>\n",
              "      <td>1</td>\n",
              "    </tr>\n",
              "    <tr>\n",
              "      <th>...</th>\n",
              "      <td>...</td>\n",
              "      <td>...</td>\n",
              "      <td>...</td>\n",
              "    </tr>\n",
              "    <tr>\n",
              "      <th>69313</th>\n",
              "      <td>50</td>\n",
              "      <td>zvop8bxh</td>\n",
              "      <td>2</td>\n",
              "    </tr>\n",
              "    <tr>\n",
              "      <th>69314</th>\n",
              "      <td>50</td>\n",
              "      <td>zwf26o63</td>\n",
              "      <td>1</td>\n",
              "    </tr>\n",
              "    <tr>\n",
              "      <th>69315</th>\n",
              "      <td>50</td>\n",
              "      <td>zwsvlnwe</td>\n",
              "      <td>0</td>\n",
              "    </tr>\n",
              "    <tr>\n",
              "      <th>69316</th>\n",
              "      <td>50</td>\n",
              "      <td>zxr01yln</td>\n",
              "      <td>1</td>\n",
              "    </tr>\n",
              "    <tr>\n",
              "      <th>69317</th>\n",
              "      <td>50</td>\n",
              "      <td>zz8wvos9</td>\n",
              "      <td>1</td>\n",
              "    </tr>\n",
              "  </tbody>\n",
              "</table>\n",
              "<p>69318 rows × 3 columns</p>\n",
              "</div>"
            ],
            "text/plain": [
              "       topic document_id  judgement\n",
              "0          1    005b2j4b          2\n",
              "1          1    00fmeepz          1\n",
              "2          1    010vptx3          2\n",
              "3          1    0194oljo          1\n",
              "4          1    021q9884          1\n",
              "...      ...         ...        ...\n",
              "69313     50    zvop8bxh          2\n",
              "69314     50    zwf26o63          1\n",
              "69315     50    zwsvlnwe          0\n",
              "69316     50    zxr01yln          1\n",
              "69317     50    zz8wvos9          1\n",
              "\n",
              "[69318 rows x 3 columns]"
            ]
          },
          "metadata": {
            "tags": []
          },
          "execution_count": 22
        }
      ]
    },
    {
      "cell_type": "code",
      "metadata": {
        "id": "9Q4mgbu_ka4F"
      },
      "source": [
        ""
      ],
      "execution_count": null,
      "outputs": []
    }
  ]
}