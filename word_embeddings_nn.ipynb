{
  "nbformat": 4,
  "nbformat_minor": 0,
  "metadata": {
    "colab": {
      "name": "Copy of 493-playground.ipynb",
      "provenance": [],
      "collapsed_sections": [],
      "toc_visible": true,
      "include_colab_link": true
    },
    "kernelspec": {
      "name": "python3",
      "display_name": "Python 3"
    }
  },
  "cells": [
    {
      "cell_type": "markdown",
      "metadata": {
        "id": "view-in-github",
        "colab_type": "text"
      },
      "source": [
        "<a href=\"https://colab.research.google.com/github/cemreefe/cmpe493-project/blob/main/word_embeddings_nn.ipynb\" target=\"_parent\"><img src=\"https://colab.research.google.com/assets/colab-badge.svg\" alt=\"Open In Colab\"/></a>"
      ]
    },
    {
      "cell_type": "code",
      "metadata": {
        "colab": {
          "base_uri": "https://localhost:8080/"
        },
        "id": "JVZLCZdmBY78",
        "outputId": "c3b61959-2675-43e6-b0c0-2186e92906dd"
      },
      "source": [
        "!pip3 install xmltodict\n",
        "\n",
        "import os\n",
        "import io   \n",
        "import re\n",
        "import json\n",
        "import math\n",
        "import pickle\n",
        "import string\n",
        "import tarfile\n",
        "import xmltodict\n",
        "import numpy as np\n",
        "import pandas as pd\n",
        "import matplotlib.pyplot as plt\n",
        "\n",
        "import nltk\n",
        "from nltk.stem.porter import PorterStemmer\n",
        "from nltk.corpus import stopwords\n",
        "\n",
        "from sklearn.metrics.pairwise import cosine_similarity\n",
        "from sklearn.metrics.pairwise import euclidean_distances\n",
        "from sklearn.metrics.pairwise import manhattan_distances\n",
        "from sklearn.metrics.pairwise import cosine_distances"
      ],
      "execution_count": 1,
      "outputs": [
        {
          "output_type": "stream",
          "text": [
            "Requirement already satisfied: xmltodict in /usr/local/lib/python3.6/dist-packages (0.12.0)\n"
          ],
          "name": "stdout"
        }
      ]
    },
    {
      "cell_type": "code",
      "metadata": {
        "colab": {
          "base_uri": "https://localhost:8080/"
        },
        "id": "vF1KRp5a_KRn",
        "outputId": "0ce71c5c-fe31-4720-f8b3-9e3da8b374e5"
      },
      "source": [
        "from google.colab import drive\n",
        "drive.mount('/content/drive')"
      ],
      "execution_count": 2,
      "outputs": [
        {
          "output_type": "stream",
          "text": [
            "Drive already mounted at /content/drive; to attempt to forcibly remount, call drive.mount(\"/content/drive\", force_remount=True).\n"
          ],
          "name": "stdout"
        }
      ]
    },
    {
      "cell_type": "code",
      "metadata": {
        "id": "nQ5AG9XTGv3c"
      },
      "source": [
        "def read_file(path):\n",
        "  with open(path, 'r') as f:\n",
        "    return f.read()"
      ],
      "execution_count": 3,
      "outputs": []
    },
    {
      "cell_type": "code",
      "metadata": {
        "id": "fCj1rJ6bAjC2"
      },
      "source": [
        "if not os.path.exists('drive/MyDrive/CMPE/CMPE493'):\n",
        "  os.makedirs('drive/MyDrive/CMPE/CMPE493')"
      ],
      "execution_count": 4,
      "outputs": []
    },
    {
      "cell_type": "code",
      "metadata": {
        "id": "mm-aEzfN-53E"
      },
      "source": [
        "if not os.path.exists('drive/MyDrive/CMPE/CMPE493/topics-rnd5.xml'):\n",
        "  !curl https://ir.nist.gov/covidSubmit/data/topics-rnd5.xml --output drive/MyDrive/CMPE/CMPE493/topics-rnd5.xml\n",
        "\n",
        "if not os.path.exists('drive/MyDrive/CMPE/CMPE493/qrels-covid_d5_j0.5-5.txt'):\n",
        "  !curl https://ir.nist.gov/covidSubmit/data/qrels-covid_d5_j0.5-5.txt --output drive/MyDrive/CMPE/CMPE493/qrels-covid_d5_j0.5-5.txt\n",
        "\n",
        "if not os.path.exists('drive/MyDrive/CMPE/CMPE493/cord-19_2020-07-16.tar.gz'):\n",
        "  !curl https://ai2-semanticscholar-cord-19.s3-us-west-2.amazonaws.com/historical_releases/cord-19_2020-07-16.tar.gz --output drive/MyDrive/CMPE/CMPE493/cord-19_2020-07-16.tar.gz"
      ],
      "execution_count": 5,
      "outputs": []
    },
    {
      "cell_type": "code",
      "metadata": {
        "id": "GcQnwTCRBbv7"
      },
      "source": [
        "if not os.path.exists('2020-07-16'):\n",
        "  tar = tarfile.open('drive/MyDrive/CMPE/CMPE493/cord-19_2020-07-16.tar.gz', \"r:gz\")\n",
        "  tar.extractall()\n",
        "  tar.close()"
      ],
      "execution_count": 6,
      "outputs": []
    },
    {
      "cell_type": "code",
      "metadata": {
        "colab": {
          "base_uri": "https://localhost:8080/"
        },
        "id": "m_psEwqmCBb2",
        "outputId": "9b9351b1-aec0-4ebf-ddc6-4ada9dafeb33"
      },
      "source": [
        "df_metadata = pd.read_csv('2020-07-16/metadata.csv')"
      ],
      "execution_count": 7,
      "outputs": [
        {
          "output_type": "stream",
          "text": [
            "/usr/local/lib/python3.6/dist-packages/IPython/core/interactiveshell.py:2718: DtypeWarning: Columns (1,4,5,6,13,14,15,16) have mixed types.Specify dtype option on import or set low_memory=False.\n",
            "  interactivity=interactivity, compiler=compiler, result=result)\n"
          ],
          "name": "stderr"
        }
      ]
    },
    {
      "cell_type": "code",
      "metadata": {
        "id": "sYc9bGgtOx-u"
      },
      "source": [
        "del df_metadata['sha'], df_metadata['source_x'], df_metadata['doi'], df_metadata['pmcid'], df_metadata['pubmed_id'], df_metadata['license'], df_metadata['publish_time'], df_metadata['authors'], df_metadata['journal'], df_metadata['mag_id'], df_metadata['who_covidence_id'], df_metadata['arxiv_id'], df_metadata['pdf_json_files'], df_metadata['pmc_json_files'], df_metadata['url'], df_metadata['s2_id']"
      ],
      "execution_count": 8,
      "outputs": []
    },
    {
      "cell_type": "code",
      "metadata": {
        "id": "cKt-HNIOji_W"
      },
      "source": [
        "df_metadata.drop_duplicates(subset='cord_uid', keep='first', inplace=True)"
      ],
      "execution_count": 9,
      "outputs": []
    },
    {
      "cell_type": "code",
      "metadata": {
        "id": "7I7QIYPDmov8",
        "colab": {
          "base_uri": "https://localhost:8080/",
          "height": 402
        },
        "outputId": "e800ca1e-1b45-4397-d501-f6f9d6dab274"
      },
      "source": [
        "df_metadata"
      ],
      "execution_count": 10,
      "outputs": [
        {
          "output_type": "execute_result",
          "data": {
            "text/html": [
              "<div>\n",
              "<style scoped>\n",
              "    .dataframe tbody tr th:only-of-type {\n",
              "        vertical-align: middle;\n",
              "    }\n",
              "\n",
              "    .dataframe tbody tr th {\n",
              "        vertical-align: top;\n",
              "    }\n",
              "\n",
              "    .dataframe thead th {\n",
              "        text-align: right;\n",
              "    }\n",
              "</style>\n",
              "<table border=\"1\" class=\"dataframe\">\n",
              "  <thead>\n",
              "    <tr style=\"text-align: right;\">\n",
              "      <th></th>\n",
              "      <th>cord_uid</th>\n",
              "      <th>title</th>\n",
              "      <th>abstract</th>\n",
              "    </tr>\n",
              "  </thead>\n",
              "  <tbody>\n",
              "    <tr>\n",
              "      <th>0</th>\n",
              "      <td>ug7v899j</td>\n",
              "      <td>Clinical features of culture-proven Mycoplasma...</td>\n",
              "      <td>OBJECTIVE: This retrospective chart review des...</td>\n",
              "    </tr>\n",
              "    <tr>\n",
              "      <th>1</th>\n",
              "      <td>02tnwd4m</td>\n",
              "      <td>Nitric oxide: a pro-inflammatory mediator in l...</td>\n",
              "      <td>Inflammatory diseases of the respiratory tract...</td>\n",
              "    </tr>\n",
              "    <tr>\n",
              "      <th>2</th>\n",
              "      <td>ejv2xln0</td>\n",
              "      <td>Surfactant protein-D and pulmonary host defense</td>\n",
              "      <td>Surfactant protein-D (SP-D) participates in th...</td>\n",
              "    </tr>\n",
              "    <tr>\n",
              "      <th>3</th>\n",
              "      <td>2b73a28n</td>\n",
              "      <td>Role of endothelin-1 in lung disease</td>\n",
              "      <td>Endothelin-1 (ET-1) is a 21 amino acid peptide...</td>\n",
              "    </tr>\n",
              "    <tr>\n",
              "      <th>4</th>\n",
              "      <td>9785vg6d</td>\n",
              "      <td>Gene expression in epithelial cells in respons...</td>\n",
              "      <td>Respiratory syncytial virus (RSV) and pneumoni...</td>\n",
              "    </tr>\n",
              "    <tr>\n",
              "      <th>...</th>\n",
              "      <td>...</td>\n",
              "      <td>...</td>\n",
              "      <td>...</td>\n",
              "    </tr>\n",
              "    <tr>\n",
              "      <th>192504</th>\n",
              "      <td>z4ro6lmh</td>\n",
              "      <td>Rapid radiological improvement of COVID-19 pne...</td>\n",
              "      <td>NaN</td>\n",
              "    </tr>\n",
              "    <tr>\n",
              "      <th>192505</th>\n",
              "      <td>hi8k8wvb</td>\n",
              "      <td>SARS E protein in phospholipid bilayers: an an...</td>\n",
              "      <td>Abstract We report on an anomalous X-ray refle...</td>\n",
              "    </tr>\n",
              "    <tr>\n",
              "      <th>192506</th>\n",
              "      <td>ma3ndg41</td>\n",
              "      <td>Italian Society of Interventional Cardiology (...</td>\n",
              "      <td>COVID‐19 pandemic raised the issue to guarante...</td>\n",
              "    </tr>\n",
              "    <tr>\n",
              "      <th>192507</th>\n",
              "      <td>wh10285j</td>\n",
              "      <td>Nimble, Together: A Training Program's Respons...</td>\n",
              "      <td>NaN</td>\n",
              "    </tr>\n",
              "    <tr>\n",
              "      <th>192508</th>\n",
              "      <td>pnl9th2c</td>\n",
              "      <td>Vascular Life during the COVID-19 Pandemic Rem...</td>\n",
              "      <td>NaN</td>\n",
              "    </tr>\n",
              "  </tbody>\n",
              "</table>\n",
              "<p>191175 rows × 3 columns</p>\n",
              "</div>"
            ],
            "text/plain": [
              "        cord_uid  ...                                           abstract\n",
              "0       ug7v899j  ...  OBJECTIVE: This retrospective chart review des...\n",
              "1       02tnwd4m  ...  Inflammatory diseases of the respiratory tract...\n",
              "2       ejv2xln0  ...  Surfactant protein-D (SP-D) participates in th...\n",
              "3       2b73a28n  ...  Endothelin-1 (ET-1) is a 21 amino acid peptide...\n",
              "4       9785vg6d  ...  Respiratory syncytial virus (RSV) and pneumoni...\n",
              "...          ...  ...                                                ...\n",
              "192504  z4ro6lmh  ...                                                NaN\n",
              "192505  hi8k8wvb  ...  Abstract We report on an anomalous X-ray refle...\n",
              "192506  ma3ndg41  ...  COVID‐19 pandemic raised the issue to guarante...\n",
              "192507  wh10285j  ...                                                NaN\n",
              "192508  pnl9th2c  ...                                                NaN\n",
              "\n",
              "[191175 rows x 3 columns]"
            ]
          },
          "metadata": {
            "tags": []
          },
          "execution_count": 10
        }
      ]
    },
    {
      "cell_type": "code",
      "metadata": {
        "colab": {
          "base_uri": "https://localhost:8080/",
          "height": 402
        },
        "id": "EGkG7afREkla",
        "outputId": "e7dbee32-d67e-4c6b-ddaa-b018665bb7dd"
      },
      "source": [
        "topic_relevances = 'topic iter document_id judgement\\n' + read_file('drive/MyDrive/CMPE/CMPE493/qrels-covid_d5_j0.5-5.txt')\n",
        "\n",
        "df_relevances = pd.read_csv(  io.StringIO(topic_relevances)  , sep=\" \")\n",
        "del df_relevances['iter']\n",
        "\n",
        "df_relevances"
      ],
      "execution_count": 11,
      "outputs": [
        {
          "output_type": "execute_result",
          "data": {
            "text/html": [
              "<div>\n",
              "<style scoped>\n",
              "    .dataframe tbody tr th:only-of-type {\n",
              "        vertical-align: middle;\n",
              "    }\n",
              "\n",
              "    .dataframe tbody tr th {\n",
              "        vertical-align: top;\n",
              "    }\n",
              "\n",
              "    .dataframe thead th {\n",
              "        text-align: right;\n",
              "    }\n",
              "</style>\n",
              "<table border=\"1\" class=\"dataframe\">\n",
              "  <thead>\n",
              "    <tr style=\"text-align: right;\">\n",
              "      <th></th>\n",
              "      <th>topic</th>\n",
              "      <th>document_id</th>\n",
              "      <th>judgement</th>\n",
              "    </tr>\n",
              "  </thead>\n",
              "  <tbody>\n",
              "    <tr>\n",
              "      <th>0</th>\n",
              "      <td>1</td>\n",
              "      <td>005b2j4b</td>\n",
              "      <td>2</td>\n",
              "    </tr>\n",
              "    <tr>\n",
              "      <th>1</th>\n",
              "      <td>1</td>\n",
              "      <td>00fmeepz</td>\n",
              "      <td>1</td>\n",
              "    </tr>\n",
              "    <tr>\n",
              "      <th>2</th>\n",
              "      <td>1</td>\n",
              "      <td>010vptx3</td>\n",
              "      <td>2</td>\n",
              "    </tr>\n",
              "    <tr>\n",
              "      <th>3</th>\n",
              "      <td>1</td>\n",
              "      <td>0194oljo</td>\n",
              "      <td>1</td>\n",
              "    </tr>\n",
              "    <tr>\n",
              "      <th>4</th>\n",
              "      <td>1</td>\n",
              "      <td>021q9884</td>\n",
              "      <td>1</td>\n",
              "    </tr>\n",
              "    <tr>\n",
              "      <th>...</th>\n",
              "      <td>...</td>\n",
              "      <td>...</td>\n",
              "      <td>...</td>\n",
              "    </tr>\n",
              "    <tr>\n",
              "      <th>69313</th>\n",
              "      <td>50</td>\n",
              "      <td>zvop8bxh</td>\n",
              "      <td>2</td>\n",
              "    </tr>\n",
              "    <tr>\n",
              "      <th>69314</th>\n",
              "      <td>50</td>\n",
              "      <td>zwf26o63</td>\n",
              "      <td>1</td>\n",
              "    </tr>\n",
              "    <tr>\n",
              "      <th>69315</th>\n",
              "      <td>50</td>\n",
              "      <td>zwsvlnwe</td>\n",
              "      <td>0</td>\n",
              "    </tr>\n",
              "    <tr>\n",
              "      <th>69316</th>\n",
              "      <td>50</td>\n",
              "      <td>zxr01yln</td>\n",
              "      <td>1</td>\n",
              "    </tr>\n",
              "    <tr>\n",
              "      <th>69317</th>\n",
              "      <td>50</td>\n",
              "      <td>zz8wvos9</td>\n",
              "      <td>1</td>\n",
              "    </tr>\n",
              "  </tbody>\n",
              "</table>\n",
              "<p>69318 rows × 3 columns</p>\n",
              "</div>"
            ],
            "text/plain": [
              "       topic document_id  judgement\n",
              "0          1    005b2j4b          2\n",
              "1          1    00fmeepz          1\n",
              "2          1    010vptx3          2\n",
              "3          1    0194oljo          1\n",
              "4          1    021q9884          1\n",
              "...      ...         ...        ...\n",
              "69313     50    zvop8bxh          2\n",
              "69314     50    zwf26o63          1\n",
              "69315     50    zwsvlnwe          0\n",
              "69316     50    zxr01yln          1\n",
              "69317     50    zz8wvos9          1\n",
              "\n",
              "[69318 rows x 3 columns]"
            ]
          },
          "metadata": {
            "tags": []
          },
          "execution_count": 11
        }
      ]
    },
    {
      "cell_type": "code",
      "metadata": {
        "id": "BfQ3a3yIItFa"
      },
      "source": [
        "topics_obj = xmltodict.parse(read_file('drive/MyDrive/CMPE/CMPE493/topics-rnd5.xml'))\n",
        "topics     = json.loads(json.dumps(topics_obj))\n",
        "\n",
        "topics_dict = {}\n",
        "for topic in topics['topics']['topic']:\n",
        "  # a topic has the following fields:\n",
        "  #  * @number\n",
        "  #  * narrative\n",
        "  #  * query\n",
        "  #  * question\n",
        "  topics_dict[topic['@number']] = topic['query'] + ' ' + topic['question'] + ' ' + topic['narrative']"
      ],
      "execution_count": 12,
      "outputs": []
    },
    {
      "cell_type": "markdown",
      "metadata": {
        "id": "iwwehnTLLIyy"
      },
      "source": [
        "# Data so far\n",
        "\n",
        "* `topics_dict` \n",
        "      has `topic-id` for keys, and topic description for values\n",
        "* `df_relevances` \n",
        "      has the following three columns:\n",
        "      topic\tdocument-id\tjudgement\n",
        "* `df_metadata`\n",
        "      holds information about the documents\n",
        "      has the following three columns (others are deleted):\n",
        "      cord_uid\ttitle\tabstract\n"
      ]
    },
    {
      "cell_type": "code",
      "metadata": {
        "colab": {
          "base_uri": "https://localhost:8080/"
        },
        "id": "moo9WB8LY5R4",
        "outputId": "4b2d272b-49dc-4630-eaa1-a649062bb7df"
      },
      "source": [
        "nltk.download('stopwords')"
      ],
      "execution_count": 139,
      "outputs": [
        {
          "output_type": "stream",
          "text": [
            "[nltk_data] Downloading package stopwords to /root/nltk_data...\n",
            "[nltk_data]   Package stopwords is already up-to-date!\n"
          ],
          "name": "stdout"
        },
        {
          "output_type": "execute_result",
          "data": {
            "text/plain": [
              "True"
            ]
          },
          "metadata": {
            "tags": []
          },
          "execution_count": 139
        }
      ]
    },
    {
      "cell_type": "code",
      "metadata": {
        "id": "nfBFOSwlX9w5"
      },
      "source": [
        "docs = np.array(df_metadata)\n",
        "contents = {}\n",
        "\n",
        "# create a contents dictionary with all contents of a document\n",
        "for doc in docs:\n",
        "  contents[doc[0]] = f'{doc[1]} {doc[2]}'"
      ],
      "execution_count": 15,
      "outputs": []
    },
    {
      "cell_type": "code",
      "metadata": {
        "id": "R7h_TY6PvwWY"
      },
      "source": [
        "porter_stemmer = PorterStemmer()\n",
        "sw = stopwords.words('english')\n",
        "\n",
        "# preprocessing\n",
        "# case folding\n",
        "# punctuation removal\n",
        "# number deletion\n",
        "# stemming & stopword removal\n",
        "def preprocess(s):\n",
        "  s = s.casefold()\n",
        "  s = s.translate(str.maketrans(string.punctuation, ' ' * len(string.punctuation)))\n",
        "  #s = re.sub(\"\\d+\", \"\", s) #Delete numbers\n",
        "  s = ' '.join([porter_stemmer.stem(word) for word in s.split() if word not in sw and word != 'nan'])\n",
        "  return s"
      ],
      "execution_count": 16,
      "outputs": []
    },
    {
      "cell_type": "markdown",
      "metadata": {
        "id": "c4xzgaOSNnz1"
      },
      "source": [
        "### `contents` is a dictionary with document id keys and f'{document title} {document content}' values.\n",
        "```\n",
        "document_id: f'{document_title} {document_content}'\n",
        "```"
      ]
    },
    {
      "cell_type": "code",
      "metadata": {
        "id": "s1-SnUFDTmjZ"
      },
      "source": [
        "################################################## WORD EMBEDDINGS ##########################################################"
      ],
      "execution_count": 17,
      "outputs": []
    },
    {
      "cell_type": "code",
      "metadata": {
        "colab": {
          "base_uri": "https://localhost:8080/"
        },
        "id": "-mCm_i31NjFn",
        "outputId": "e7095f2b-4446-48f2-c9eb-fcb9e14b12aa"
      },
      "source": [
        "# download spacy model\n",
        "!python3 -m spacy download en_core_web_md"
      ],
      "execution_count": 18,
      "outputs": [
        {
          "output_type": "stream",
          "text": [
            "Requirement already satisfied: en_core_web_md==2.2.5 from https://github.com/explosion/spacy-models/releases/download/en_core_web_md-2.2.5/en_core_web_md-2.2.5.tar.gz#egg=en_core_web_md==2.2.5 in /usr/local/lib/python3.6/dist-packages (2.2.5)\n",
            "Requirement already satisfied: spacy>=2.2.2 in /usr/local/lib/python3.6/dist-packages (from en_core_web_md==2.2.5) (2.2.4)\n",
            "Requirement already satisfied: srsly<1.1.0,>=1.0.2 in /usr/local/lib/python3.6/dist-packages (from spacy>=2.2.2->en_core_web_md==2.2.5) (1.0.5)\n",
            "Requirement already satisfied: requests<3.0.0,>=2.13.0 in /usr/local/lib/python3.6/dist-packages (from spacy>=2.2.2->en_core_web_md==2.2.5) (2.23.0)\n",
            "Requirement already satisfied: thinc==7.4.0 in /usr/local/lib/python3.6/dist-packages (from spacy>=2.2.2->en_core_web_md==2.2.5) (7.4.0)\n",
            "Requirement already satisfied: catalogue<1.1.0,>=0.0.7 in /usr/local/lib/python3.6/dist-packages (from spacy>=2.2.2->en_core_web_md==2.2.5) (1.0.0)\n",
            "Requirement already satisfied: setuptools in /usr/local/lib/python3.6/dist-packages (from spacy>=2.2.2->en_core_web_md==2.2.5) (53.0.0)\n",
            "Requirement already satisfied: plac<1.2.0,>=0.9.6 in /usr/local/lib/python3.6/dist-packages (from spacy>=2.2.2->en_core_web_md==2.2.5) (1.1.3)\n",
            "Requirement already satisfied: numpy>=1.15.0 in /usr/local/lib/python3.6/dist-packages (from spacy>=2.2.2->en_core_web_md==2.2.5) (1.19.5)\n",
            "Requirement already satisfied: murmurhash<1.1.0,>=0.28.0 in /usr/local/lib/python3.6/dist-packages (from spacy>=2.2.2->en_core_web_md==2.2.5) (1.0.5)\n",
            "Requirement already satisfied: blis<0.5.0,>=0.4.0 in /usr/local/lib/python3.6/dist-packages (from spacy>=2.2.2->en_core_web_md==2.2.5) (0.4.1)\n",
            "Requirement already satisfied: cymem<2.1.0,>=2.0.2 in /usr/local/lib/python3.6/dist-packages (from spacy>=2.2.2->en_core_web_md==2.2.5) (2.0.5)\n",
            "Requirement already satisfied: tqdm<5.0.0,>=4.38.0 in /usr/local/lib/python3.6/dist-packages (from spacy>=2.2.2->en_core_web_md==2.2.5) (4.41.1)\n",
            "Requirement already satisfied: preshed<3.1.0,>=3.0.2 in /usr/local/lib/python3.6/dist-packages (from spacy>=2.2.2->en_core_web_md==2.2.5) (3.0.5)\n",
            "Requirement already satisfied: wasabi<1.1.0,>=0.4.0 in /usr/local/lib/python3.6/dist-packages (from spacy>=2.2.2->en_core_web_md==2.2.5) (0.8.2)\n",
            "Requirement already satisfied: chardet<4,>=3.0.2 in /usr/local/lib/python3.6/dist-packages (from requests<3.0.0,>=2.13.0->spacy>=2.2.2->en_core_web_md==2.2.5) (3.0.4)\n",
            "Requirement already satisfied: certifi>=2017.4.17 in /usr/local/lib/python3.6/dist-packages (from requests<3.0.0,>=2.13.0->spacy>=2.2.2->en_core_web_md==2.2.5) (2020.12.5)\n",
            "Requirement already satisfied: idna<3,>=2.5 in /usr/local/lib/python3.6/dist-packages (from requests<3.0.0,>=2.13.0->spacy>=2.2.2->en_core_web_md==2.2.5) (2.10)\n",
            "Requirement already satisfied: urllib3!=1.25.0,!=1.25.1,<1.26,>=1.21.1 in /usr/local/lib/python3.6/dist-packages (from requests<3.0.0,>=2.13.0->spacy>=2.2.2->en_core_web_md==2.2.5) (1.24.3)\n",
            "Requirement already satisfied: importlib-metadata>=0.20; python_version < \"3.8\" in /usr/local/lib/python3.6/dist-packages (from catalogue<1.1.0,>=0.0.7->spacy>=2.2.2->en_core_web_md==2.2.5) (3.4.0)\n",
            "Requirement already satisfied: typing-extensions>=3.6.4; python_version < \"3.8\" in /usr/local/lib/python3.6/dist-packages (from importlib-metadata>=0.20; python_version < \"3.8\"->catalogue<1.1.0,>=0.0.7->spacy>=2.2.2->en_core_web_md==2.2.5) (3.7.4.3)\n",
            "Requirement already satisfied: zipp>=0.5 in /usr/local/lib/python3.6/dist-packages (from importlib-metadata>=0.20; python_version < \"3.8\"->catalogue<1.1.0,>=0.0.7->spacy>=2.2.2->en_core_web_md==2.2.5) (3.4.0)\n",
            "\u001b[38;5;2m✔ Download and installation successful\u001b[0m\n",
            "You can now load the model via spacy.load('en_core_web_md')\n"
          ],
          "name": "stdout"
        }
      ]
    },
    {
      "cell_type": "code",
      "metadata": {
        "id": "5U_ykgj7QsKv"
      },
      "source": [
        "import spacy"
      ],
      "execution_count": 19,
      "outputs": []
    },
    {
      "cell_type": "code",
      "metadata": {
        "id": "5DGqizMqdMih"
      },
      "source": [
        "# load the spacy English model\n",
        "# disable unused parts of the spacy pipeline (to speed up the process)\n",
        "nlp_stripped = spacy.load('en_core_web_md', disable=['tagger', 'parser', 'ner', 'entity_linker', 'entity_ruler', 'textcat', 'lemmatizer', 'morphologizer', 'attribute_ruler', 'senter', 'sentencizer', 'tok2vec', 'transformer'])"
      ],
      "execution_count": 20,
      "outputs": []
    },
    {
      "cell_type": "code",
      "metadata": {
        "id": "qad1XbxvsQ7P"
      },
      "source": [
        "# DISCLAIMER: our numerous trials have shown that preprocessing, \n",
        "# although costly, often results in a decrease in performance\n",
        "\n",
        "# whether or not to use preprocessing\n",
        "preprocessing = False"
      ],
      "execution_count": 25,
      "outputs": []
    },
    {
      "cell_type": "code",
      "metadata": {
        "id": "y3fDrTk8gqfw",
        "colab": {
          "base_uri": "https://localhost:8080/"
        },
        "outputId": "5a0e31d6-b515-4bfb-fab4-7b44cecc6933"
      },
      "source": [
        "%%time\n",
        "\n",
        "# takes around 3mins with preprocessing\n",
        "if preprocessing:\n",
        "  preprocessed_contents = list(map(preprocess, contents.values()))\n",
        "  preprocessed_topic_contents = list(map(preprocess, topics_dict.values()))\n",
        "else:\n",
        "  preprocessed_contents = list(contents.values())\n",
        "  preprocessed_topic_contents = list(topics_dict.values())"
      ],
      "execution_count": 26,
      "outputs": [
        {
          "output_type": "stream",
          "text": [
            "CPU times: user 8.09 ms, sys: 911 µs, total: 9 ms\n",
            "Wall time: 9.52 ms\n"
          ],
          "name": "stdout"
        }
      ]
    },
    {
      "cell_type": "code",
      "metadata": {
        "colab": {
          "base_uri": "https://localhost:8080/"
        },
        "id": "1GDjpRKAPkvF",
        "outputId": "9c573713-75bc-47d7-bef9-40e92ef48bd4"
      },
      "source": [
        "%%time\n",
        "\n",
        "# ~100 sec operation\n",
        "doc_content_list = []\n",
        "doc_content_list = list(nlp_stripped.pipe(preprocessed_contents))\n",
        "\n",
        "topic_content_list = []\n",
        "topic_content_list = list(nlp.pipe(preprocessed_topic_contents))"
      ],
      "execution_count": 28,
      "outputs": [
        {
          "output_type": "stream",
          "text": [
            "CPU times: user 1min 38s, sys: 7.26 s, total: 1min 45s\n",
            "Wall time: 1min 45s\n"
          ],
          "name": "stdout"
        }
      ]
    },
    {
      "cell_type": "code",
      "metadata": {
        "id": "4UDSeKJTiQWG",
        "colab": {
          "base_uri": "https://localhost:8080/"
        },
        "outputId": "5e9ca710-b33a-47ae-8052-33e0bec62f1c"
      },
      "source": [
        "%%time\n",
        "\n",
        "# ~320 sec operation\n",
        "doc_vector_list   = list(map(lambda x: x.vector, doc_content_list))\n",
        "topic_vector_list = list(map(lambda x: x.vector, topic_content_list))"
      ],
      "execution_count": 30,
      "outputs": [
        {
          "output_type": "stream",
          "text": [
            "CPU times: user 5min 14s, sys: 1.88 s, total: 5min 16s\n",
            "Wall time: 5min 15s\n"
          ],
          "name": "stdout"
        }
      ]
    },
    {
      "cell_type": "code",
      "metadata": {
        "id": "kIKDOqjrE7sU"
      },
      "source": [
        "del doc_content_list, topic_content_list, preprocessed_contents, preprocessed_topic_contents, df_metadata"
      ],
      "execution_count": 34,
      "outputs": []
    },
    {
      "cell_type": "code",
      "metadata": {
        "id": "Z51RDqWGYZpW"
      },
      "source": [
        ""
      ],
      "execution_count": 37,
      "outputs": []
    },
    {
      "cell_type": "code",
      "metadata": {
        "colab": {
          "base_uri": "https://localhost:8080/"
        },
        "id": "CGGQaZPQYEpL",
        "outputId": "81af976e-6949-4f18-ad7c-25e4df666a8e"
      },
      "source": [
        "cos_sims = cosine_similarity(doc_vector_list, topic_vector_list)\n",
        "man_dist = manhattan_distances(doc_vector_list, topic_vector_list)\n",
        "euc_dist = euclidean_distances(doc_vector_list, topic_vector_list)"
      ],
      "execution_count": 38,
      "outputs": [
        {
          "output_type": "stream",
          "text": [
            "CPU times: user 4.06 s, sys: 1.76 s, total: 5.82 s\n",
            "Wall time: 4.67 s\n"
          ],
          "name": "stdout"
        }
      ]
    },
    {
      "cell_type": "code",
      "metadata": {
        "colab": {
          "base_uri": "https://localhost:8080/"
        },
        "id": "f4BC744sEBzn",
        "outputId": "d6684475-4e7c-4ec0-ac98-14d9773fa84f"
      },
      "source": [
        "%%time\n",
        "\n",
        "# index lookup dictionary for document ids\n",
        "lookup_ck = {\n",
        "    key: i\n",
        "    for i, key in enumerate(contents.keys())\n",
        "}\n",
        "\n",
        "# index lookup dictionary for topic ids\n",
        "lookup_tk = {\n",
        "    int(key): i\n",
        "    for i, key in enumerate(topics_dict.keys())\n",
        "}\n",
        "\n",
        "# dataset\n",
        "X_all, y_all     = [], []\n",
        "X_train, y_train = [], []\n",
        "X_test, y_test   = [], []\n",
        "\n",
        "\n",
        "for row in np.array(df_relevances):\n",
        "  \n",
        "  ck_index = lookup_ck[row[1]]\n",
        "  tk_index = lookup_tk[row[0]]\n",
        "  \n",
        "  # a datapoint x in the dataset is an array of length 311:\n",
        "  x = np.hstack([\n",
        "    # the first 300 elements:\n",
        "    # the elementwise difference between the document and topic vectors\n",
        "    doc_vector_list[ck_index] - topic_vector_list[tk_index],\n",
        "    # the other 11 elements are certain statistics about these vectors\n",
        "    [\n",
        "      # cosine similarity between the two vectors\n",
        "      cos_sims[ck_index, tk_index],\n",
        "      # manhattan distance between the two vectors\n",
        "      man_dist[ck_index, tk_index],\n",
        "      # euclidean distance between the two vectors\n",
        "      euc_dist[ck_index, tk_index],\n",
        "      # mean of the document vector\n",
        "      np.mean(doc_vector_list[ck_index]),\n",
        "      # mean of the topic vector\n",
        "      np.mean(topic_vector_list[tk_index]),\n",
        "      # mean of the absolute values of the document vector\n",
        "      np.mean(abs(doc_vector_list[ck_index])),\n",
        "      # mean of the absolute values of the topic vector\n",
        "      np.mean(abs(topic_vector_list[tk_index])),\n",
        "      # standard deviation of the document vector\n",
        "      np.std(doc_vector_list[ck_index]),\n",
        "      # standard deviation of the topic vector\n",
        "      np.std(topic_vector_list[tk_index]),\n",
        "      # standard deviation of the absolute valued document vector\n",
        "      np.std(abs(doc_vector_list[ck_index])),\n",
        "      # standard deviation of the absolute valued topic vector\n",
        "      np.std(abs(topic_vector_list[tk_index])),\n",
        "    ],\n",
        "  ])\n",
        "  \n",
        "  if row[0] % 2:\n",
        "    X_train.append(x)\n",
        "    y_train.append(np.array([row[2]/2]))\n",
        "  else:\n",
        "    X_test.append(x)\n",
        "    y_test.append(np.array([row[2]/2]))\n",
        "  \n",
        "  X_all.append(x)\n",
        "  y_all.append(np.array([row[2]/2]))\n",
        "\n",
        "X_train = np.array(X_train)\n",
        "y_train = np.array(y_train)\n",
        "\n",
        "X_test = np.array(X_test)\n",
        "y_test = np.array(y_test)\n",
        "\n",
        "X_all = np.array(X_all)\n",
        "y_all = np.array(y_all)"
      ],
      "execution_count": 142,
      "outputs": [
        {
          "output_type": "stream",
          "text": [
            "CPU times: user 13.7 s, sys: 289 ms, total: 14 s\n",
            "Wall time: 13.6 s\n"
          ],
          "name": "stdout"
        }
      ]
    },
    {
      "cell_type": "code",
      "metadata": {
        "colab": {
          "base_uri": "https://localhost:8080/"
        },
        "id": "xiipBQuDIgkk",
        "outputId": "77a88147-ad32-4e67-8b99-2c5dd2b044ea"
      },
      "source": [
        "print('train set X:', X_train.shape, 'y:', y_train.shape)\n",
        "print('test set  X:', X_test.shape, 'y:', y_test.shape)"
      ],
      "execution_count": 143,
      "outputs": [
        {
          "output_type": "stream",
          "text": [
            "train set X: (35894, 311) y: (35894, 1)\n",
            "test set  X: (33424, 311) y: (33424, 1)\n"
          ],
          "name": "stdout"
        }
      ]
    },
    {
      "cell_type": "code",
      "metadata": {
        "colab": {
          "base_uri": "https://localhost:8080/"
        },
        "id": "Pq0qHme5GHRN",
        "outputId": "242ec12f-c5d3-45bc-fa2e-ee6edd66647e"
      },
      "source": [
        "%%time \n",
        "\n",
        "from keras.models import Sequential\n",
        "from keras.layers import Dense, Dropout, BatchNormalization\n",
        "from keras.callbacks import EarlyStopping, ModelCheckpoint, ReduceLROnPlateau\n",
        "\n",
        "# we will use a very small neural network because the data is easily overfitted\n",
        "# we will also make use of batch normalization and dropout (0.5)\n",
        "# Our data has 311 features, so the model will be:\n",
        "# 311 -> 4 -> 8 -> 1 (all dense layers)\n",
        "\n",
        "# define a sequential keras model\n",
        "model = Sequential()\n",
        "\n",
        "# layer 1\n",
        "model.add(Dense(4, input_dim=311, activation='relu'))\n",
        "model.add(BatchNormalization())\n",
        "model.add(Dropout(0.5))\n",
        "\n",
        "# layer 2\n",
        "model.add(Dense(8, activation='sigmoid'))\n",
        "model.add(BatchNormalization())\n",
        "model.add(Dropout(0.5))\n",
        "\n",
        "# layer 3\n",
        "model.add(Dense(1, activation='sigmoid'))\n",
        "\n",
        "# define early stopping to avoid unnecessary training and overfitting\n",
        "# return to best weights after stop\n",
        "# REF: https://stackoverflow.com/questions/48285129/saving-best-model-in-keras/48286003\n",
        "earlyStopping = EarlyStopping(monitor='val_loss', patience=10, verbose=0, mode='min', restore_best_weights=True)\n",
        "mcp_save = ModelCheckpoint('.mdl_wts.hdf5', save_best_only=True, monitor='val_loss', mode='min')\n",
        "reduce_lr_loss = ReduceLROnPlateau(monitor='val_loss', factor=0.1, patience=7, verbose=1, epsilon=1e-4, mode='min')\n",
        "\n",
        "# compile the keras model with mean square error loss\n",
        "model.compile(loss='mse', optimizer='adam', metrics=['mse'])\n",
        "\n",
        "# fit the keras model on the dataset\n",
        "history = model.fit(\n",
        "    X_train[:], \n",
        "    y_train[:], \n",
        "    epochs=200, \n",
        "    batch_size=1000, \n",
        "    verbose=1, \n",
        "    validation_data=(X_test, y_test),\n",
        "    callbacks=[earlyStopping, mcp_save, reduce_lr_loss]\n",
        ")"
      ],
      "execution_count": 144,
      "outputs": [
        {
          "output_type": "stream",
          "text": [
            "WARNING:tensorflow:`epsilon` argument is deprecated and will be removed, use `min_delta` instead.\n",
            "Epoch 1/200\n",
            "36/36 [==============================] - 1s 15ms/step - loss: 0.2343 - mse: 0.2343 - val_loss: 0.2568 - val_mse: 0.2568\n",
            "Epoch 2/200\n",
            "36/36 [==============================] - 0s 8ms/step - loss: 0.2151 - mse: 0.2151 - val_loss: 0.2252 - val_mse: 0.2252\n",
            "Epoch 3/200\n",
            "36/36 [==============================] - 0s 9ms/step - loss: 0.1999 - mse: 0.1999 - val_loss: 0.2065 - val_mse: 0.2065\n",
            "Epoch 4/200\n",
            "36/36 [==============================] - 0s 8ms/step - loss: 0.1871 - mse: 0.1871 - val_loss: 0.1940 - val_mse: 0.1940\n",
            "Epoch 5/200\n",
            "36/36 [==============================] - 0s 8ms/step - loss: 0.1773 - mse: 0.1773 - val_loss: 0.1845 - val_mse: 0.1845\n",
            "Epoch 6/200\n",
            "36/36 [==============================] - 0s 9ms/step - loss: 0.1691 - mse: 0.1691 - val_loss: 0.1796 - val_mse: 0.1796\n",
            "Epoch 7/200\n",
            "36/36 [==============================] - 0s 8ms/step - loss: 0.1634 - mse: 0.1634 - val_loss: 0.1774 - val_mse: 0.1774\n",
            "Epoch 8/200\n",
            "36/36 [==============================] - 0s 8ms/step - loss: 0.1605 - mse: 0.1605 - val_loss: 0.1768 - val_mse: 0.1768\n",
            "Epoch 9/200\n",
            "36/36 [==============================] - 1s 16ms/step - loss: 0.1570 - mse: 0.1570 - val_loss: 0.1756 - val_mse: 0.1756\n",
            "Epoch 10/200\n",
            "36/36 [==============================] - 0s 9ms/step - loss: 0.1562 - mse: 0.1562 - val_loss: 0.1747 - val_mse: 0.1747\n",
            "Epoch 11/200\n",
            "36/36 [==============================] - 0s 9ms/step - loss: 0.1541 - mse: 0.1541 - val_loss: 0.1735 - val_mse: 0.1735\n",
            "Epoch 12/200\n",
            "36/36 [==============================] - 0s 9ms/step - loss: 0.1533 - mse: 0.1533 - val_loss: 0.1715 - val_mse: 0.1715\n",
            "Epoch 13/200\n",
            "36/36 [==============================] - 0s 8ms/step - loss: 0.1510 - mse: 0.1510 - val_loss: 0.1706 - val_mse: 0.1706\n",
            "Epoch 14/200\n",
            "36/36 [==============================] - 0s 8ms/step - loss: 0.1511 - mse: 0.1511 - val_loss: 0.1680 - val_mse: 0.1680\n",
            "Epoch 15/200\n",
            "36/36 [==============================] - 0s 8ms/step - loss: 0.1489 - mse: 0.1489 - val_loss: 0.1664 - val_mse: 0.1664\n",
            "Epoch 16/200\n",
            "36/36 [==============================] - 0s 8ms/step - loss: 0.1474 - mse: 0.1474 - val_loss: 0.1655 - val_mse: 0.1655\n",
            "Epoch 17/200\n",
            "36/36 [==============================] - 0s 8ms/step - loss: 0.1478 - mse: 0.1478 - val_loss: 0.1647 - val_mse: 0.1647\n",
            "Epoch 18/200\n",
            "36/36 [==============================] - 0s 8ms/step - loss: 0.1469 - mse: 0.1469 - val_loss: 0.1625 - val_mse: 0.1625\n",
            "Epoch 19/200\n",
            "36/36 [==============================] - 0s 8ms/step - loss: 0.1473 - mse: 0.1473 - val_loss: 0.1619 - val_mse: 0.1619\n",
            "Epoch 20/200\n",
            "36/36 [==============================] - 0s 8ms/step - loss: 0.1479 - mse: 0.1479 - val_loss: 0.1619 - val_mse: 0.1619\n",
            "Epoch 21/200\n",
            "36/36 [==============================] - 0s 8ms/step - loss: 0.1454 - mse: 0.1454 - val_loss: 0.1605 - val_mse: 0.1605\n",
            "Epoch 22/200\n",
            "36/36 [==============================] - 0s 8ms/step - loss: 0.1461 - mse: 0.1461 - val_loss: 0.1605 - val_mse: 0.1605\n",
            "Epoch 23/200\n",
            "36/36 [==============================] - 0s 7ms/step - loss: 0.1466 - mse: 0.1466 - val_loss: 0.1605 - val_mse: 0.1605\n",
            "Epoch 24/200\n",
            "36/36 [==============================] - 0s 8ms/step - loss: 0.1467 - mse: 0.1467 - val_loss: 0.1607 - val_mse: 0.1607\n",
            "Epoch 25/200\n",
            "36/36 [==============================] - 0s 8ms/step - loss: 0.1459 - mse: 0.1459 - val_loss: 0.1603 - val_mse: 0.1603\n",
            "Epoch 26/200\n",
            "36/36 [==============================] - 0s 8ms/step - loss: 0.1448 - mse: 0.1448 - val_loss: 0.1596 - val_mse: 0.1596\n",
            "Epoch 27/200\n",
            "36/36 [==============================] - 1s 14ms/step - loss: 0.1448 - mse: 0.1448 - val_loss: 0.1609 - val_mse: 0.1609\n",
            "Epoch 28/200\n",
            "36/36 [==============================] - 0s 8ms/step - loss: 0.1462 - mse: 0.1462 - val_loss: 0.1596 - val_mse: 0.1596\n",
            "Epoch 29/200\n",
            "36/36 [==============================] - 0s 7ms/step - loss: 0.1448 - mse: 0.1448 - val_loss: 0.1597 - val_mse: 0.1597\n",
            "Epoch 30/200\n",
            "36/36 [==============================] - 0s 8ms/step - loss: 0.1464 - mse: 0.1464 - val_loss: 0.1598 - val_mse: 0.1598\n",
            "Epoch 31/200\n",
            "36/36 [==============================] - 0s 8ms/step - loss: 0.1464 - mse: 0.1464 - val_loss: 0.1595 - val_mse: 0.1595\n",
            "Epoch 32/200\n",
            "36/36 [==============================] - 0s 8ms/step - loss: 0.1448 - mse: 0.1448 - val_loss: 0.1594 - val_mse: 0.1594\n",
            "Epoch 33/200\n",
            "36/36 [==============================] - 0s 8ms/step - loss: 0.1451 - mse: 0.1451 - val_loss: 0.1598 - val_mse: 0.1598\n",
            "Epoch 34/200\n",
            "36/36 [==============================] - 0s 8ms/step - loss: 0.1453 - mse: 0.1453 - val_loss: 0.1600 - val_mse: 0.1600\n",
            "Epoch 35/200\n",
            "36/36 [==============================] - 0s 8ms/step - loss: 0.1444 - mse: 0.1444 - val_loss: 0.1597 - val_mse: 0.1597\n",
            "Epoch 36/200\n",
            "36/36 [==============================] - 0s 7ms/step - loss: 0.1436 - mse: 0.1436 - val_loss: 0.1596 - val_mse: 0.1596\n",
            "Epoch 37/200\n",
            "36/36 [==============================] - 0s 8ms/step - loss: 0.1444 - mse: 0.1444 - val_loss: 0.1617 - val_mse: 0.1617\n",
            "Epoch 38/200\n",
            "36/36 [==============================] - 0s 7ms/step - loss: 0.1438 - mse: 0.1438 - val_loss: 0.1602 - val_mse: 0.1602\n",
            "Epoch 39/200\n",
            "36/36 [==============================] - 0s 8ms/step - loss: 0.1450 - mse: 0.1450 - val_loss: 0.1602 - val_mse: 0.1602\n",
            "\n",
            "Epoch 00039: ReduceLROnPlateau reducing learning rate to 0.00010000000474974513.\n",
            "Epoch 40/200\n",
            "36/36 [==============================] - 0s 8ms/step - loss: 0.1427 - mse: 0.1427 - val_loss: 0.1596 - val_mse: 0.1596\n",
            "Epoch 41/200\n",
            "36/36 [==============================] - 1s 15ms/step - loss: 0.1446 - mse: 0.1446 - val_loss: 0.1595 - val_mse: 0.1595\n",
            "Epoch 42/200\n",
            "36/36 [==============================] - 0s 9ms/step - loss: 0.1438 - mse: 0.1438 - val_loss: 0.1595 - val_mse: 0.1595\n",
            "CPU times: user 18.1 s, sys: 770 ms, total: 18.9 s\n",
            "Wall time: 14.9 s\n"
          ],
          "name": "stdout"
        }
      ]
    },
    {
      "cell_type": "code",
      "metadata": {
        "colab": {
          "base_uri": "https://localhost:8080/",
          "height": 282
        },
        "id": "V8rNmitAVacp",
        "outputId": "02bfadae-783b-43d3-ac0e-7dc8775eddc7"
      },
      "source": [
        "# plot loss history\n",
        "for key, hist in history.history.items():\n",
        "  if key == 'lr':\n",
        "    continue\n",
        "  plt.plot(hist, label=key)\n",
        "plt.legend()"
      ],
      "execution_count": 145,
      "outputs": [
        {
          "output_type": "execute_result",
          "data": {
            "text/plain": [
              "<matplotlib.legend.Legend at 0x7faa30e43630>"
            ]
          },
          "metadata": {
            "tags": []
          },
          "execution_count": 145
        },
        {
          "output_type": "display_data",
          "data": {
            "image/png": "[encoded data removed]",
            "text/plain": [
              "<Figure size 432x288 with 1 Axes>"
            ]
          },
          "metadata": {
            "tags": [],
            "needs_background": "light"
          }
        }
      ]
    },
    {
      "cell_type": "code",
      "metadata": {
        "colab": {
          "base_uri": "https://localhost:8080/"
        },
        "id": "IWmI5g54DCIH",
        "outputId": "183e7a95-6f35-4c5c-ef41-94e0aa4e2b2c"
      },
      "source": [
        "pred_all = model.predict(X_all)\n",
        "\n",
        "rel_nn = np.array(rel)\n",
        "for i in range(len(rel_nn)):\n",
        "  rel_nn[i][-1] = pred_all[i][0]\n",
        "\n",
        "rel_nn"
      ],
      "execution_count": 146,
      "outputs": [
        {
          "output_type": "execute_result",
          "data": {
            "text/plain": [
              "array([[1, '005b2j4b', 0.3877328],\n",
              "       [1, '00fmeepz', 0.323334],\n",
              "       [1, '010vptx3', 0.33921647],\n",
              "       ...,\n",
              "       [50, 'zwsvlnwe', 0.5133299],\n",
              "       [50, 'zxr01yln', 0.28957987],\n",
              "       [50, 'zz8wvos9', 0.5292808]], dtype=object)"
            ]
          },
          "metadata": {
            "tags": []
          },
          "execution_count": 146
        }
      ]
    },
    {
      "cell_type": "code",
      "metadata": {
        "id": "Hz_JCST4OK5h"
      },
      "source": [
        "results = []\n",
        "for i, row in enumerate(rel_nn):\n",
        "  if not row[0] % 2:\n",
        "    results.append(f'{row[0]} 0 {row[1]} 0 {row[2]} 0')"
      ],
      "execution_count": 147,
      "outputs": []
    },
    {
      "cell_type": "code",
      "metadata": {
        "colab": {
          "base_uri": "https://localhost:8080/"
        },
        "id": "PjGlUWF7Tef8",
        "outputId": "a5cbe8fb-a279-4a16-b786-605100dde817"
      },
      "source": [
        "results[:10]"
      ],
      "execution_count": 148,
      "outputs": [
        {
          "output_type": "execute_result",
          "data": {
            "text/plain": [
              "['2 0 01goni72 0 0.3947508931159973 0',\n",
              " '2 0 01yc7lzk 0 0.30791807174682617 0',\n",
              " '2 0 02cy1s8x 0 0.16445490717887878 0',\n",
              " '2 0 02f0opkr 0 0.28832077980041504 0',\n",
              " '2 0 03h85lvy 0 0.3423709273338318 0',\n",
              " '2 0 03id5o2g 0 0.1404300332069397 0',\n",
              " '2 0 03s9spbi 0 0.33893638849258423 0',\n",
              " '2 0 04awj06g 0 0.24142131209373474 0',\n",
              " '2 0 04rbtmmi 0 0.31168097257614136 0',\n",
              " '2 0 084o1dmp 0 0.1675756573677063 0']"
            ]
          },
          "metadata": {
            "tags": []
          },
          "execution_count": 148
        }
      ]
    },
    {
      "cell_type": "code",
      "metadata": {
        "id": "I8r9P5RDSelZ"
      },
      "source": [
        "# Write results to file\n",
        "with open('results_we_nn_69_nprep_early_stopping_bf.txt', 'w') as f:\n",
        "    f.write('\\n'.join(results))"
      ],
      "execution_count": 149,
      "outputs": []
    },
    {
      "cell_type": "code",
      "metadata": {
        "id": "7Vt1siWqEh7G"
      },
      "source": [
        ""
      ],
      "execution_count": null,
      "outputs": []
    }
  ]
}