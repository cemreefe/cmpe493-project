{
  "nbformat": 4,
  "nbformat_minor": 0,
  "metadata": {
    "colab": {
      "name": "Copy of 493-playground.ipynb",
      "provenance": [],
      "collapsed_sections": [],
      "toc_visible": true,
      "include_colab_link": true
    },
    "kernelspec": {
      "name": "python3",
      "display_name": "Python 3"
    }
  },
  "cells": [
    {
      "cell_type": "markdown",
      "metadata": {
        "id": "view-in-github",
        "colab_type": "text"
      },
      "source": [
        "<a href=\"https://colab.research.google.com/github/cemreefe/cmpe493-project/blob/main/tfidf-cosine_similarity.ipynb\" target=\"_parent\"><img src=\"https://colab.research.google.com/assets/colab-badge.svg\" alt=\"Open In Colab\"/></a>"
      ]
    },
    {
      "cell_type": "markdown",
      "metadata": {
        "id": "ej6pmscdUfFg"
      },
      "source": [
        "# TF-IDF Vectorizer\n"
      ]
    },
    {
      "cell_type": "code",
      "metadata": {
        "colab": {
          "base_uri": "https://localhost:8080/"
        },
        "id": "JVZLCZdmBY78",
        "outputId": "b1919f35-6f8b-4b26-b5a4-886173f71eab"
      },
      "source": [
        "!pip3 install xmltodict\n",
        "\n",
        "import os\n",
        "import io   \n",
        "import re\n",
        "import json\n",
        "import math\n",
        "import pickle\n",
        "import string\n",
        "import tarfile\n",
        "import xmltodict\n",
        "import numpy as np\n",
        "import pandas as pd\n",
        "\n",
        "import nltk\n",
        "from nltk.stem.porter import PorterStemmer\n",
        "from nltk.corpus import stopwords"
      ],
      "execution_count": null,
      "outputs": [
        {
          "output_type": "stream",
          "text": [
            "Collecting xmltodict\n",
            "  Downloading https://files.pythonhosted.org/packages/28/fd/30d5c1d3ac29ce229f6bdc40bbc20b28f716e8b363140c26eff19122d8a5/xmltodict-0.12.0-py2.py3-none-any.whl\n",
            "Installing collected packages: xmltodict\n",
            "Successfully installed xmltodict-0.12.0\n"
          ],
          "name": "stdout"
        }
      ]
    },
    {
      "cell_type": "code",
      "metadata": {
        "colab": {
          "base_uri": "https://localhost:8080/"
        },
        "id": "vF1KRp5a_KRn",
        "outputId": "3c9e13f4-72f7-4997-fa44-00a13364d1b9"
      },
      "source": [
        "from google.colab import drive\n",
        "drive.mount('/content/drive')"
      ],
      "execution_count": null,
      "outputs": [
        {
          "output_type": "stream",
          "text": [
            "Mounted at /content/drive\n"
          ],
          "name": "stdout"
        }
      ]
    },
    {
      "cell_type": "markdown",
      "metadata": {
        "id": "lJKU25yYUqIp"
      },
      "source": [
        "\n",
        "**Dataset download**\n"
      ]
    },
    {
      "cell_type": "code",
      "metadata": {
        "id": "Y9umOnRIieD7"
      },
      "source": [
        "def read_file(path):\n",
        "  with open(path, 'r') as f:\n",
        "    return f.read()"
      ],
      "execution_count": null,
      "outputs": []
    },
    {
      "cell_type": "code",
      "metadata": {
        "id": "fCj1rJ6bAjC2"
      },
      "source": [
        "if not os.path.exists('drive/MyDrive/CMPE/CMPE493'):\n",
        "  os.makedirs('drive/MyDrive/CMPE/CMPE493')"
      ],
      "execution_count": null,
      "outputs": []
    },
    {
      "cell_type": "code",
      "metadata": {
        "id": "mm-aEzfN-53E"
      },
      "source": [
        "if not os.path.exists('drive/MyDrive/CMPE/CMPE493/topics-rnd5.xml'):\n",
        "  !curl https://ir.nist.gov/covidSubmit/data/topics-rnd5.xml --output drive/MyDrive/CMPE/CMPE493/topics-rnd5.xml\n",
        "\n",
        "if not os.path.exists('drive/MyDrive/CMPE/CMPE493/qrels-covid_d5_j0.5-5.txt'):\n",
        "  !curl https://ir.nist.gov/covidSubmit/data/qrels-covid_d5_j0.5-5.txt --output drive/MyDrive/CMPE/CMPE493/qrels-covid_d5_j0.5-5.txt\n",
        "\n",
        "if not os.path.exists('drive/MyDrive/CMPE/CMPE493/cord-19_2020-07-16.tar.gz'):\n",
        "  !curl https://ai2-semanticscholar-cord-19.s3-us-west-2.amazonaws.com/historical_releases/cord-19_2020-07-16.tar.gz --output drive/MyDrive/CMPE/CMPE493/cord-19_2020-07-16.tar.gz"
      ],
      "execution_count": null,
      "outputs": []
    },
    {
      "cell_type": "code",
      "metadata": {
        "id": "GcQnwTCRBbv7"
      },
      "source": [
        "if not os.path.exists('2020-07-16'):\n",
        "  tar = tarfile.open('drive/MyDrive/CMPE/CMPE493/cord-19_2020-07-16.tar.gz', \"r:gz\")\n",
        "  tar.extractall()\n",
        "  tar.close()"
      ],
      "execution_count": null,
      "outputs": []
    },
    {
      "cell_type": "markdown",
      "metadata": {
        "id": "NW4q3y82UxD6"
      },
      "source": [
        "**Using pandas dataframes to read and prepare the data**"
      ]
    },
    {
      "cell_type": "code",
      "metadata": {
        "colab": {
          "base_uri": "https://localhost:8080/"
        },
        "id": "m_psEwqmCBb2",
        "outputId": "9eea156a-0827-4eca-d4f6-241391dbfb8b"
      },
      "source": [
        "df_metadata = pd.read_csv('2020-07-16/metadata.csv')"
      ],
      "execution_count": null,
      "outputs": [
        {
          "output_type": "stream",
          "text": [
            "/usr/local/lib/python3.6/dist-packages/IPython/core/interactiveshell.py:2718: DtypeWarning: Columns (1,4,5,6,13,14,15,16) have mixed types.Specify dtype option on import or set low_memory=False.\n",
            "  interactivity=interactivity, compiler=compiler, result=result)\n"
          ],
          "name": "stderr"
        }
      ]
    },
    {
      "cell_type": "code",
      "metadata": {
        "id": "sYc9bGgtOx-u"
      },
      "source": [
        "# Delete unused data columns\n",
        "del df_metadata['sha'], df_metadata['source_x'], df_metadata['doi'], df_metadata['pmcid'], df_metadata['pubmed_id'], df_metadata['license'], df_metadata['publish_time'], df_metadata['authors'], df_metadata['journal'], df_metadata['mag_id'], df_metadata['who_covidence_id'], df_metadata['arxiv_id'], df_metadata['pdf_json_files'], df_metadata['pmc_json_files'], df_metadata['url'], df_metadata['s2_id']"
      ],
      "execution_count": null,
      "outputs": []
    },
    {
      "cell_type": "code",
      "metadata": {
        "id": "cKt-HNIOji_W"
      },
      "source": [
        "# Delete duplicate document entries\n",
        "df_metadata.drop_duplicates(subset='cord_uid', keep='first', inplace=True)"
      ],
      "execution_count": null,
      "outputs": []
    },
    {
      "cell_type": "code",
      "metadata": {
        "id": "7I7QIYPDmov8",
        "colab": {
          "base_uri": "https://localhost:8080/",
          "height": 419
        },
        "outputId": "5039d6f5-3939-4103-f33e-0a5456bdcabf"
      },
      "source": [
        "df_metadata"
      ],
      "execution_count": null,
      "outputs": [
        {
          "output_type": "execute_result",
          "data": {
            "text/html": [
              "<div>\n",
              "<style scoped>\n",
              "    .dataframe tbody tr th:only-of-type {\n",
              "        vertical-align: middle;\n",
              "    }\n",
              "\n",
              "    .dataframe tbody tr th {\n",
              "        vertical-align: top;\n",
              "    }\n",
              "\n",
              "    .dataframe thead th {\n",
              "        text-align: right;\n",
              "    }\n",
              "</style>\n",
              "<table border=\"1\" class=\"dataframe\">\n",
              "  <thead>\n",
              "    <tr style=\"text-align: right;\">\n",
              "      <th></th>\n",
              "      <th>cord_uid</th>\n",
              "      <th>title</th>\n",
              "      <th>abstract</th>\n",
              "    </tr>\n",
              "  </thead>\n",
              "  <tbody>\n",
              "    <tr>\n",
              "      <th>0</th>\n",
              "      <td>ug7v899j</td>\n",
              "      <td>Clinical features of culture-proven Mycoplasma...</td>\n",
              "      <td>OBJECTIVE: This retrospective chart review des...</td>\n",
              "    </tr>\n",
              "    <tr>\n",
              "      <th>1</th>\n",
              "      <td>02tnwd4m</td>\n",
              "      <td>Nitric oxide: a pro-inflammatory mediator in l...</td>\n",
              "      <td>Inflammatory diseases of the respiratory tract...</td>\n",
              "    </tr>\n",
              "    <tr>\n",
              "      <th>2</th>\n",
              "      <td>ejv2xln0</td>\n",
              "      <td>Surfactant protein-D and pulmonary host defense</td>\n",
              "      <td>Surfactant protein-D (SP-D) participates in th...</td>\n",
              "    </tr>\n",
              "    <tr>\n",
              "      <th>3</th>\n",
              "      <td>2b73a28n</td>\n",
              "      <td>Role of endothelin-1 in lung disease</td>\n",
              "      <td>Endothelin-1 (ET-1) is a 21 amino acid peptide...</td>\n",
              "    </tr>\n",
              "    <tr>\n",
              "      <th>4</th>\n",
              "      <td>9785vg6d</td>\n",
              "      <td>Gene expression in epithelial cells in respons...</td>\n",
              "      <td>Respiratory syncytial virus (RSV) and pneumoni...</td>\n",
              "    </tr>\n",
              "    <tr>\n",
              "      <th>...</th>\n",
              "      <td>...</td>\n",
              "      <td>...</td>\n",
              "      <td>...</td>\n",
              "    </tr>\n",
              "    <tr>\n",
              "      <th>192504</th>\n",
              "      <td>z4ro6lmh</td>\n",
              "      <td>Rapid radiological improvement of COVID-19 pne...</td>\n",
              "      <td>NaN</td>\n",
              "    </tr>\n",
              "    <tr>\n",
              "      <th>192505</th>\n",
              "      <td>hi8k8wvb</td>\n",
              "      <td>SARS E protein in phospholipid bilayers: an an...</td>\n",
              "      <td>Abstract We report on an anomalous X-ray refle...</td>\n",
              "    </tr>\n",
              "    <tr>\n",
              "      <th>192506</th>\n",
              "      <td>ma3ndg41</td>\n",
              "      <td>Italian Society of Interventional Cardiology (...</td>\n",
              "      <td>COVID‐19 pandemic raised the issue to guarante...</td>\n",
              "    </tr>\n",
              "    <tr>\n",
              "      <th>192507</th>\n",
              "      <td>wh10285j</td>\n",
              "      <td>Nimble, Together: A Training Program's Respons...</td>\n",
              "      <td>NaN</td>\n",
              "    </tr>\n",
              "    <tr>\n",
              "      <th>192508</th>\n",
              "      <td>pnl9th2c</td>\n",
              "      <td>Vascular Life during the COVID-19 Pandemic Rem...</td>\n",
              "      <td>NaN</td>\n",
              "    </tr>\n",
              "  </tbody>\n",
              "</table>\n",
              "<p>191175 rows × 3 columns</p>\n",
              "</div>"
            ],
            "text/plain": [
              "        cord_uid  ...                                           abstract\n",
              "0       ug7v899j  ...  OBJECTIVE: This retrospective chart review des...\n",
              "1       02tnwd4m  ...  Inflammatory diseases of the respiratory tract...\n",
              "2       ejv2xln0  ...  Surfactant protein-D (SP-D) participates in th...\n",
              "3       2b73a28n  ...  Endothelin-1 (ET-1) is a 21 amino acid peptide...\n",
              "4       9785vg6d  ...  Respiratory syncytial virus (RSV) and pneumoni...\n",
              "...          ...  ...                                                ...\n",
              "192504  z4ro6lmh  ...                                                NaN\n",
              "192505  hi8k8wvb  ...  Abstract We report on an anomalous X-ray refle...\n",
              "192506  ma3ndg41  ...  COVID‐19 pandemic raised the issue to guarante...\n",
              "192507  wh10285j  ...                                                NaN\n",
              "192508  pnl9th2c  ...                                                NaN\n",
              "\n",
              "[191175 rows x 3 columns]"
            ]
          },
          "metadata": {
            "tags": []
          },
          "execution_count": 10
        }
      ]
    },
    {
      "cell_type": "code",
      "metadata": {
        "colab": {
          "base_uri": "https://localhost:8080/",
          "height": 402
        },
        "id": "EGkG7afREkla",
        "outputId": "09f38bda-24bf-4f95-e463-ca6c37437323"
      },
      "source": [
        "# Read relevances file\n",
        "topic_relevances = 'topic iter document_id judgement\\n' + read_file('drive/MyDrive/CMPE/CMPE493/qrels-covid_d5_j0.5-5.txt')\n",
        "\n",
        "df_relevances = pd.read_csv(  io.StringIO(topic_relevances)  , sep=\" \")\n",
        "del df_relevances['iter']\n",
        "\n",
        "df_relevances"
      ],
      "execution_count": null,
      "outputs": [
        {
          "output_type": "execute_result",
          "data": {
            "text/html": [
              "<div>\n",
              "<style scoped>\n",
              "    .dataframe tbody tr th:only-of-type {\n",
              "        vertical-align: middle;\n",
              "    }\n",
              "\n",
              "    .dataframe tbody tr th {\n",
              "        vertical-align: top;\n",
              "    }\n",
              "\n",
              "    .dataframe thead th {\n",
              "        text-align: right;\n",
              "    }\n",
              "</style>\n",
              "<table border=\"1\" class=\"dataframe\">\n",
              "  <thead>\n",
              "    <tr style=\"text-align: right;\">\n",
              "      <th></th>\n",
              "      <th>topic</th>\n",
              "      <th>document_id</th>\n",
              "      <th>judgement</th>\n",
              "    </tr>\n",
              "  </thead>\n",
              "  <tbody>\n",
              "    <tr>\n",
              "      <th>0</th>\n",
              "      <td>1</td>\n",
              "      <td>005b2j4b</td>\n",
              "      <td>2</td>\n",
              "    </tr>\n",
              "    <tr>\n",
              "      <th>1</th>\n",
              "      <td>1</td>\n",
              "      <td>00fmeepz</td>\n",
              "      <td>1</td>\n",
              "    </tr>\n",
              "    <tr>\n",
              "      <th>2</th>\n",
              "      <td>1</td>\n",
              "      <td>010vptx3</td>\n",
              "      <td>2</td>\n",
              "    </tr>\n",
              "    <tr>\n",
              "      <th>3</th>\n",
              "      <td>1</td>\n",
              "      <td>0194oljo</td>\n",
              "      <td>1</td>\n",
              "    </tr>\n",
              "    <tr>\n",
              "      <th>4</th>\n",
              "      <td>1</td>\n",
              "      <td>021q9884</td>\n",
              "      <td>1</td>\n",
              "    </tr>\n",
              "    <tr>\n",
              "      <th>...</th>\n",
              "      <td>...</td>\n",
              "      <td>...</td>\n",
              "      <td>...</td>\n",
              "    </tr>\n",
              "    <tr>\n",
              "      <th>69313</th>\n",
              "      <td>50</td>\n",
              "      <td>zvop8bxh</td>\n",
              "      <td>2</td>\n",
              "    </tr>\n",
              "    <tr>\n",
              "      <th>69314</th>\n",
              "      <td>50</td>\n",
              "      <td>zwf26o63</td>\n",
              "      <td>1</td>\n",
              "    </tr>\n",
              "    <tr>\n",
              "      <th>69315</th>\n",
              "      <td>50</td>\n",
              "      <td>zwsvlnwe</td>\n",
              "      <td>0</td>\n",
              "    </tr>\n",
              "    <tr>\n",
              "      <th>69316</th>\n",
              "      <td>50</td>\n",
              "      <td>zxr01yln</td>\n",
              "      <td>1</td>\n",
              "    </tr>\n",
              "    <tr>\n",
              "      <th>69317</th>\n",
              "      <td>50</td>\n",
              "      <td>zz8wvos9</td>\n",
              "      <td>1</td>\n",
              "    </tr>\n",
              "  </tbody>\n",
              "</table>\n",
              "<p>69318 rows × 3 columns</p>\n",
              "</div>"
            ],
            "text/plain": [
              "       topic document_id  judgement\n",
              "0          1    005b2j4b          2\n",
              "1          1    00fmeepz          1\n",
              "2          1    010vptx3          2\n",
              "3          1    0194oljo          1\n",
              "4          1    021q9884          1\n",
              "...      ...         ...        ...\n",
              "69313     50    zvop8bxh          2\n",
              "69314     50    zwf26o63          1\n",
              "69315     50    zwsvlnwe          0\n",
              "69316     50    zxr01yln          1\n",
              "69317     50    zz8wvos9          1\n",
              "\n",
              "[69318 rows x 3 columns]"
            ]
          },
          "metadata": {
            "tags": []
          },
          "execution_count": 11
        }
      ]
    },
    {
      "cell_type": "code",
      "metadata": {
        "id": "BfQ3a3yIItFa"
      },
      "source": [
        "# Read topics file\n",
        "topics_obj = xmltodict.parse(read_file('drive/MyDrive/CMPE/CMPE493/topics-rnd5.xml'))\n",
        "topics     = json.loads(json.dumps(topics_obj))\n",
        "\n",
        "# Query, question and narrative fields are concatenated\n",
        "topics_dict = {}\n",
        "for topic in topics['topics']['topic']:\n",
        "  # a topic has the following fields:\n",
        "  #  * @number\n",
        "  #  * narrative\n",
        "  #  * query\n",
        "  #  * question\n",
        "  topics_dict[topic['@number']] = topic['query'] + ' ' + topic['question'] + ' ' + topic['narrative']"
      ],
      "execution_count": null,
      "outputs": []
    },
    {
      "cell_type": "markdown",
      "metadata": {
        "id": "iwwehnTLLIyy"
      },
      "source": [
        "# Data so far\n",
        "\n",
        "* `topics_dict` \n",
        "      has `topic-id` for keys, and topic description for values\n",
        "* `df_relevances` \n",
        "      has the following three columns:\n",
        "      topic\tdocument-id\tjudgement\n",
        "* `df_metadata`\n",
        "      holds information about the documents\n",
        "      has the following three columns (others are deleted):\n",
        "      cord_uid\ttitle\tabstract\n"
      ]
    },
    {
      "cell_type": "code",
      "metadata": {
        "colab": {
          "base_uri": "https://localhost:8080/"
        },
        "id": "moo9WB8LY5R4",
        "outputId": "b7c54bed-6bed-4131-b901-7b27e2dc19db"
      },
      "source": [
        "# Download nltk English stopwords\n",
        "nltk.download('stopwords')"
      ],
      "execution_count": null,
      "outputs": [
        {
          "output_type": "stream",
          "text": [
            "[nltk_data] Downloading package stopwords to /root/nltk_data...\n",
            "[nltk_data]   Unzipping corpora/stopwords.zip.\n"
          ],
          "name": "stdout"
        },
        {
          "output_type": "execute_result",
          "data": {
            "text/plain": [
              "True"
            ]
          },
          "metadata": {
            "tags": []
          },
          "execution_count": 11
        }
      ]
    },
    {
      "cell_type": "code",
      "metadata": {
        "id": "nfBFOSwlX9w5"
      },
      "source": [
        "# Title and abstracts of the documents are concatenated\n",
        "docs = np.array(df_metadata)\n",
        "contents = {}\n",
        "\n",
        "for doc in docs:\n",
        "  contents[doc[0]] = f'{doc[1]} {doc[2]}'"
      ],
      "execution_count": null,
      "outputs": []
    },
    {
      "cell_type": "code",
      "metadata": {
        "id": "R7h_TY6PvwWY"
      },
      "source": [
        "porter_stemmer = PorterStemmer()\n",
        "sw = stopwords.words('english')\n",
        "\n",
        "# preprocessing\n",
        "# case folding\n",
        "# punctuation removal\n",
        "# number deletion\n",
        "# stemming & stopword removal\n",
        "def preprocess(s):\n",
        "  s = s.casefold()\n",
        "  s = s.translate(str.maketrans(string.punctuation, ' ' * len(string.punctuation)))\n",
        "  s = re.sub(\"\\d+\", \"\", s) #Delete numbers\n",
        "  s = ' '.join([porter_stemmer.stem(word) for word in s.split() if word not in sw and word != 'nan'])\n",
        "  return s"
      ],
      "execution_count": null,
      "outputs": []
    },
    {
      "cell_type": "code",
      "metadata": {
        "colab": {
          "base_uri": "https://localhost:8080/"
        },
        "id": "oGdwOCOlYak7",
        "outputId": "a6f5048f-c455-4898-8eb2-c5bd4235b6e4"
      },
      "source": [
        "from sklearn.feature_extraction.text import TfidfVectorizer\n",
        "\n",
        "# Fit TfidfVectorizer on documents \n",
        "doc_vectorizer = TfidfVectorizer(preprocessor=preprocess)\n",
        "doc_vectors = doc_vectorizer.fit_transform(list(contents.values()))\n",
        "\n",
        "print(\"There are\", len(doc_vectorizer.vocabulary_), \"tokens in our vocabulary.\")"
      ],
      "execution_count": null,
      "outputs": [
        {
          "output_type": "stream",
          "text": [
            "There are 145387 tokens in our vocabulary.\n"
          ],
          "name": "stdout"
        }
      ]
    },
    {
      "cell_type": "code",
      "metadata": {
        "id": "ZD0Au6yKfIFU"
      },
      "source": [
        "# Vectorize the topics with the same vectorizer\n",
        "topic_vectors = doc_vectorizer.transform(list(topics_dict.values()))"
      ],
      "execution_count": null,
      "outputs": []
    },
    {
      "cell_type": "code",
      "metadata": {
        "colab": {
          "base_uri": "https://localhost:8080/"
        },
        "id": "2jXjECpbGHfY",
        "outputId": "df5afe77-851b-4dad-cb2a-0c2986e813ac"
      },
      "source": [
        "# number of documents, length of vector\n",
        "doc_vectors.shape"
      ],
      "execution_count": null,
      "outputs": [
        {
          "output_type": "execute_result",
          "data": {
            "text/plain": [
              "(191175, 145387)"
            ]
          },
          "metadata": {
            "tags": []
          },
          "execution_count": 18
        }
      ]
    },
    {
      "cell_type": "code",
      "metadata": {
        "colab": {
          "base_uri": "https://localhost:8080/"
        },
        "id": "NqdsRXTefRee",
        "outputId": "2df3d9de-71cd-4917-c304-c9ddd00ced7c"
      },
      "source": [
        "# number of topics, length of vector\n",
        "topic_vectors.shape"
      ],
      "execution_count": null,
      "outputs": [
        {
          "output_type": "execute_result",
          "data": {
            "text/plain": [
              "(50, 145387)"
            ]
          },
          "metadata": {
            "tags": []
          },
          "execution_count": 19
        }
      ]
    },
    {
      "cell_type": "code",
      "metadata": {
        "id": "AyNFLw7birAa"
      },
      "source": [
        "# key: document_id\n",
        "# val: document's TFIDF vector\n",
        "doc_vectors_dict = {\n",
        "    docs[i][0] : doc_vectors[i]\n",
        "    for i in range(0,len(docs))\n",
        "}"
      ],
      "execution_count": null,
      "outputs": []
    },
    {
      "cell_type": "code",
      "metadata": {
        "id": "gMbq_tAHnVAS"
      },
      "source": [
        "# key: topic_id\n",
        "# val: topic's TFIDF vector\n",
        "topic_vectors_dict = {\n",
        "    key : topic_vectors[i]\n",
        "    for i, key in enumerate(topics_dict.keys())\n",
        "}"
      ],
      "execution_count": null,
      "outputs": []
    },
    {
      "cell_type": "code",
      "metadata": {
        "colab": {
          "base_uri": "https://localhost:8080/"
        },
        "id": "LI8k1njZbdFz",
        "outputId": "b3d718e9-8f5d-4340-aa97-caa92ef9b8e8"
      },
      "source": [
        "from sklearn.metrics.pairwise import cosine_similarity\n",
        "\n",
        "#Take random doc_id and print most relevant topic\n",
        "ex_document = df_metadata.sample().cord_uid.to_string().split()[1]\n",
        "similarity = cosine_similarity(doc_vectors_dict[ex_document],topic_vectors).flatten()\n",
        "\n",
        "best_sim      = np.max(similarity)\n",
        "best_topic_id = np.argmax(similarity) + 1\n",
        "\n",
        "print(f\"Example document id: {ex_document}\")\n",
        "print(f\"Maximum cosine similarity among all topics: {best_sim:.4f}\")\n",
        "print(f\"Argmax of maximum cos. sim.: {best_topic_id}\")\n",
        "print(f\"Contents of document '{ex_document}': {contents[ex_document]}\")\n",
        "print(f\"Contents of topic '{best_topic_id}': {topics_dict[str(best_topic_id)]}\")\n"
      ],
      "execution_count": null,
      "outputs": [
        {
          "output_type": "stream",
          "text": [
            "Example document id: 6mrd9axh\n",
            "Maximum cosine similarity among all topics: 0.0921\n",
            "Argmax of maximum cos. sim.: 3\n",
            "Contents of document '6mrd9axh': Genetic Characterization of Middle East Respiratory Syndrome Coronavirus, South Korea, 2018 We evaluated genetic variation in Middle East respiratory syndrome coronavirus (MERS-CoV) imported to South Korea in 2018 using specimens from a patient and isolates from infected Caco-2 cells. The MERS-CoV strain in this study was genetically similar to a strain isolated in Riyadh, Saudi Arabia, in 2017.\n",
            "Contents of topic '3': coronavirus immunity will SARS-CoV2 infected people develop immunity? Is cross protection possible? seeking studies of immunity developed due to infection with SARS-CoV2 or cross protection gained due to infection with other coronavirus types\n"
          ],
          "name": "stdout"
        }
      ]
    },
    {
      "cell_type": "code",
      "metadata": {
        "id": "TW5q7j63eQzs",
        "colab": {
          "base_uri": "https://localhost:8080/"
        },
        "outputId": "5d8cc7a9-c3c1-4467-d638-58193f7e9072"
      },
      "source": [
        "sims = cosine_similarity(topic_vectors, doc_vectors)\n",
        "sims.shape"
      ],
      "execution_count": null,
      "outputs": [
        {
          "output_type": "execute_result",
          "data": {
            "text/plain": [
              "(50, 191175)"
            ]
          },
          "metadata": {
            "tags": []
          },
          "execution_count": 23
        }
      ]
    },
    {
      "cell_type": "markdown",
      "metadata": {
        "id": "Pk742I-7uu_N"
      },
      "source": [
        "**results.csv columns:**\n",
        "qid, iter, docno, rank, sim, run_id "
      ]
    },
    {
      "cell_type": "code",
      "metadata": {
        "id": "towzilv0oBlg"
      },
      "source": [
        "results = np.ndarray((len(contents)*int(len(topics_dict)/2),1))\n",
        "results = list(results)\n",
        "\n",
        "#Even results\n",
        "for j,topic in enumerate(topics_dict.keys()):\n",
        "  if(j%2 != 0):\n",
        "    for i,doc_id in enumerate(contents.keys()):\n",
        "      element = f'{topic} 0 {doc_id} 0 {sims[j][i]} 0'\n",
        "      results[int(j/2)*len(contents.keys())+i] = element"
      ],
      "execution_count": null,
      "outputs": []
    },
    {
      "cell_type": "code",
      "metadata": {
        "colab": {
          "base_uri": "https://localhost:8080/"
        },
        "id": "hsUXg21UqvBM",
        "outputId": "322cff4c-f29c-44d4-d4f3-7550cefae855"
      },
      "source": [
        "results[:10]"
      ],
      "execution_count": null,
      "outputs": [
        {
          "output_type": "execute_result",
          "data": {
            "text/plain": [
              "['2 0 ug7v899j 0 0.0 0',\n",
              " '2 0 02tnwd4m 0 0.011011974322833466 0',\n",
              " '2 0 ejv2xln0 0 0.012277492779388261 0',\n",
              " '2 0 2b73a28n 0 0.0 0',\n",
              " '2 0 9785vg6d 0 0.06059505130597204 0',\n",
              " '2 0 zjufx4fo 0 0.00864037385739897 0',\n",
              " '2 0 5yhe786e 0 0.0 0',\n",
              " '2 0 8zchiykl 0 0.0 0',\n",
              " '2 0 8qnrcgnk 0 0.008868282023550493 0',\n",
              " '2 0 jg13scgo 0 0.0035325109038701072 0']"
            ]
          },
          "metadata": {
            "tags": []
          },
          "execution_count": 25
        }
      ]
    },
    {
      "cell_type": "code",
      "metadata": {
        "id": "k7AdWE-cld6C"
      },
      "source": [
        "# Write results to file\n",
        "with open('results_tfidf.txt', 'w') as f:\n",
        "    f.write('\\n'.join(results))"
      ],
      "execution_count": null,
      "outputs": []
    }
  ]
}