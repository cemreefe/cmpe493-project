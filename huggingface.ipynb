{
  "nbformat": 4,
  "nbformat_minor": 0,
  "metadata": {
    "colab": {
      "name": "Copy of 493-playground.ipynb",
      "provenance": [],
      "collapsed_sections": [],
      "include_colab_link": true
    },
    "kernelspec": {
      "name": "python3",
      "display_name": "Python 3"
    },
    "accelerator": "GPU"
  },
  "cells": [
    {
      "cell_type": "markdown",
      "metadata": {
        "id": "view-in-github",
        "colab_type": "text"
      },
      "source": [
        "<a href=\"https://colab.research.google.com/github/cemreefe/cmpe493-project/blob/main/huggingface.ipynb\" target=\"_parent\"><img src=\"https://colab.research.google.com/assets/colab-badge.svg\" alt=\"Open In Colab\"/></a>"
      ]
    },
    {
      "cell_type": "code",
      "metadata": {
        "colab": {
          "base_uri": "https://localhost:8080/"
        },
        "id": "JVZLCZdmBY78",
        "outputId": "dc9dbcfb-c3d0-40df-c4b5-1b1a0d310db1"
      },
      "source": [
        "!pip3 install xmltodict\n",
        "\n",
        "import os\n",
        "import io   \n",
        "import re\n",
        "import json\n",
        "import math\n",
        "import pickle\n",
        "import string\n",
        "import tarfile\n",
        "import xmltodict\n",
        "import numpy as np\n",
        "import pandas as pd\n",
        "\n",
        "import nltk\n",
        "from nltk.stem.porter import PorterStemmer\n",
        "from nltk.corpus import stopwords"
      ],
      "execution_count": 2,
      "outputs": [
        {
          "output_type": "stream",
          "text": [
            "Collecting xmltodict\n",
            "  Downloading https://files.pythonhosted.org/packages/28/fd/30d5c1d3ac29ce229f6bdc40bbc20b28f716e8b363140c26eff19122d8a5/xmltodict-0.12.0-py2.py3-none-any.whl\n",
            "Installing collected packages: xmltodict\n",
            "Successfully installed xmltodict-0.12.0\n"
          ],
          "name": "stdout"
        }
      ]
    },
    {
      "cell_type": "code",
      "metadata": {
        "colab": {
          "base_uri": "https://localhost:8080/"
        },
        "id": "vF1KRp5a_KRn",
        "outputId": "12be4079-2c63-4a12-852a-6c0a1228631f"
      },
      "source": [
        "from google.colab import drive\n",
        "drive.mount('/content/drive')"
      ],
      "execution_count": 3,
      "outputs": [
        {
          "output_type": "stream",
          "text": [
            "Mounted at /content/drive\n"
          ],
          "name": "stdout"
        }
      ]
    },
    {
      "cell_type": "code",
      "metadata": {
        "id": "nQ5AG9XTGv3c"
      },
      "source": [
        "def read_file(path):\n",
        "  with open(path, 'r') as f:\n",
        "    return f.read()"
      ],
      "execution_count": 4,
      "outputs": []
    },
    {
      "cell_type": "code",
      "metadata": {
        "id": "fCj1rJ6bAjC2"
      },
      "source": [
        "if not os.path.exists('drive/MyDrive/CMPE/CMPE493'):\n",
        "  os.makedirs('drive/MyDrive/CMPE/CMPE493')"
      ],
      "execution_count": 5,
      "outputs": []
    },
    {
      "cell_type": "code",
      "metadata": {
        "id": "mm-aEzfN-53E"
      },
      "source": [
        "if not os.path.exists('drive/MyDrive/CMPE/CMPE493/topics-rnd5.xml'):\n",
        "  !curl https://ir.nist.gov/covidSubmit/data/topics-rnd5.xml --output drive/MyDrive/CMPE/CMPE493/topics-rnd5.xml\n",
        "\n",
        "if not os.path.exists('drive/MyDrive/CMPE/CMPE493/qrels-covid_d5_j0.5-5.txt'):\n",
        "  !curl https://ir.nist.gov/covidSubmit/data/qrels-covid_d5_j0.5-5.txt --output drive/MyDrive/CMPE/CMPE493/qrels-covid_d5_j0.5-5.txt\n",
        "\n",
        "if not os.path.exists('drive/MyDrive/CMPE/CMPE493/cord-19_2020-07-16.tar.gz'):\n",
        "  !curl https://ai2-semanticscholar-cord-19.s3-us-west-2.amazonaws.com/historical_releases/cord-19_2020-07-16.tar.gz --output drive/MyDrive/CMPE/CMPE493/cord-19_2020-07-16.tar.gz"
      ],
      "execution_count": 6,
      "outputs": []
    },
    {
      "cell_type": "code",
      "metadata": {
        "id": "GcQnwTCRBbv7"
      },
      "source": [
        "if not os.path.exists('2020-07-16'):\n",
        "  tar = tarfile.open('drive/MyDrive/CMPE/CMPE493/cord-19_2020-07-16.tar.gz', \"r:gz\")\n",
        "  tar.extractall()\n",
        "  tar.close()"
      ],
      "execution_count": 7,
      "outputs": []
    },
    {
      "cell_type": "code",
      "metadata": {
        "colab": {
          "base_uri": "https://localhost:8080/"
        },
        "id": "m_psEwqmCBb2",
        "outputId": "49bcf3c7-bfd0-4e78-809e-13fa6e2a26ba"
      },
      "source": [
        "df_metadata = pd.read_csv('2020-07-16/metadata.csv')"
      ],
      "execution_count": 8,
      "outputs": [
        {
          "output_type": "stream",
          "text": [
            "/usr/local/lib/python3.6/dist-packages/IPython/core/interactiveshell.py:2718: DtypeWarning: Columns (1,4,5,6,13,14,15,16) have mixed types.Specify dtype option on import or set low_memory=False.\n",
            "  interactivity=interactivity, compiler=compiler, result=result)\n"
          ],
          "name": "stderr"
        }
      ]
    },
    {
      "cell_type": "code",
      "metadata": {
        "id": "sYc9bGgtOx-u"
      },
      "source": [
        "del df_metadata['sha'], df_metadata['source_x'], df_metadata['doi'], df_metadata['pmcid'], df_metadata['pubmed_id'], df_metadata['license'], df_metadata['publish_time'], df_metadata['authors'], df_metadata['journal'], df_metadata['mag_id'], df_metadata['who_covidence_id'], df_metadata['arxiv_id'], df_metadata['pdf_json_files'], df_metadata['pmc_json_files'], df_metadata['url'], df_metadata['s2_id']"
      ],
      "execution_count": 9,
      "outputs": []
    },
    {
      "cell_type": "code",
      "metadata": {
        "id": "cKt-HNIOji_W"
      },
      "source": [
        "df_metadata.drop_duplicates(subset='cord_uid', keep='first', inplace=True)"
      ],
      "execution_count": 10,
      "outputs": []
    },
    {
      "cell_type": "code",
      "metadata": {
        "id": "7I7QIYPDmov8",
        "colab": {
          "base_uri": "https://localhost:8080/",
          "height": 419
        },
        "outputId": "78ae0a07-7e34-4fc7-c8a2-af7ee33e7b68"
      },
      "source": [
        "df_metadata"
      ],
      "execution_count": 11,
      "outputs": [
        {
          "output_type": "execute_result",
          "data": {
            "text/html": [
              "<div>\n",
              "<style scoped>\n",
              "    .dataframe tbody tr th:only-of-type {\n",
              "        vertical-align: middle;\n",
              "    }\n",
              "\n",
              "    .dataframe tbody tr th {\n",
              "        vertical-align: top;\n",
              "    }\n",
              "\n",
              "    .dataframe thead th {\n",
              "        text-align: right;\n",
              "    }\n",
              "</style>\n",
              "<table border=\"1\" class=\"dataframe\">\n",
              "  <thead>\n",
              "    <tr style=\"text-align: right;\">\n",
              "      <th></th>\n",
              "      <th>cord_uid</th>\n",
              "      <th>title</th>\n",
              "      <th>abstract</th>\n",
              "    </tr>\n",
              "  </thead>\n",
              "  <tbody>\n",
              "    <tr>\n",
              "      <th>0</th>\n",
              "      <td>ug7v899j</td>\n",
              "      <td>Clinical features of culture-proven Mycoplasma...</td>\n",
              "      <td>OBJECTIVE: This retrospective chart review des...</td>\n",
              "    </tr>\n",
              "    <tr>\n",
              "      <th>1</th>\n",
              "      <td>02tnwd4m</td>\n",
              "      <td>Nitric oxide: a pro-inflammatory mediator in l...</td>\n",
              "      <td>Inflammatory diseases of the respiratory tract...</td>\n",
              "    </tr>\n",
              "    <tr>\n",
              "      <th>2</th>\n",
              "      <td>ejv2xln0</td>\n",
              "      <td>Surfactant protein-D and pulmonary host defense</td>\n",
              "      <td>Surfactant protein-D (SP-D) participates in th...</td>\n",
              "    </tr>\n",
              "    <tr>\n",
              "      <th>3</th>\n",
              "      <td>2b73a28n</td>\n",
              "      <td>Role of endothelin-1 in lung disease</td>\n",
              "      <td>Endothelin-1 (ET-1) is a 21 amino acid peptide...</td>\n",
              "    </tr>\n",
              "    <tr>\n",
              "      <th>4</th>\n",
              "      <td>9785vg6d</td>\n",
              "      <td>Gene expression in epithelial cells in respons...</td>\n",
              "      <td>Respiratory syncytial virus (RSV) and pneumoni...</td>\n",
              "    </tr>\n",
              "    <tr>\n",
              "      <th>...</th>\n",
              "      <td>...</td>\n",
              "      <td>...</td>\n",
              "      <td>...</td>\n",
              "    </tr>\n",
              "    <tr>\n",
              "      <th>192504</th>\n",
              "      <td>z4ro6lmh</td>\n",
              "      <td>Rapid radiological improvement of COVID-19 pne...</td>\n",
              "      <td>NaN</td>\n",
              "    </tr>\n",
              "    <tr>\n",
              "      <th>192505</th>\n",
              "      <td>hi8k8wvb</td>\n",
              "      <td>SARS E protein in phospholipid bilayers: an an...</td>\n",
              "      <td>Abstract We report on an anomalous X-ray refle...</td>\n",
              "    </tr>\n",
              "    <tr>\n",
              "      <th>192506</th>\n",
              "      <td>ma3ndg41</td>\n",
              "      <td>Italian Society of Interventional Cardiology (...</td>\n",
              "      <td>COVID‐19 pandemic raised the issue to guarante...</td>\n",
              "    </tr>\n",
              "    <tr>\n",
              "      <th>192507</th>\n",
              "      <td>wh10285j</td>\n",
              "      <td>Nimble, Together: A Training Program's Respons...</td>\n",
              "      <td>NaN</td>\n",
              "    </tr>\n",
              "    <tr>\n",
              "      <th>192508</th>\n",
              "      <td>pnl9th2c</td>\n",
              "      <td>Vascular Life during the COVID-19 Pandemic Rem...</td>\n",
              "      <td>NaN</td>\n",
              "    </tr>\n",
              "  </tbody>\n",
              "</table>\n",
              "<p>191175 rows × 3 columns</p>\n",
              "</div>"
            ],
            "text/plain": [
              "        cord_uid  ...                                           abstract\n",
              "0       ug7v899j  ...  OBJECTIVE: This retrospective chart review des...\n",
              "1       02tnwd4m  ...  Inflammatory diseases of the respiratory tract...\n",
              "2       ejv2xln0  ...  Surfactant protein-D (SP-D) participates in th...\n",
              "3       2b73a28n  ...  Endothelin-1 (ET-1) is a 21 amino acid peptide...\n",
              "4       9785vg6d  ...  Respiratory syncytial virus (RSV) and pneumoni...\n",
              "...          ...  ...                                                ...\n",
              "192504  z4ro6lmh  ...                                                NaN\n",
              "192505  hi8k8wvb  ...  Abstract We report on an anomalous X-ray refle...\n",
              "192506  ma3ndg41  ...  COVID‐19 pandemic raised the issue to guarante...\n",
              "192507  wh10285j  ...                                                NaN\n",
              "192508  pnl9th2c  ...                                                NaN\n",
              "\n",
              "[191175 rows x 3 columns]"
            ]
          },
          "metadata": {
            "tags": []
          },
          "execution_count": 11
        }
      ]
    },
    {
      "cell_type": "code",
      "metadata": {
        "colab": {
          "base_uri": "https://localhost:8080/",
          "height": 419
        },
        "id": "EGkG7afREkla",
        "outputId": "2465eb19-0622-424f-e863-bd4ccc0a625e"
      },
      "source": [
        "topic_relevances = 'topic iter document_id judgement\\n' + read_file('drive/MyDrive/CMPE/CMPE493/qrels-covid_d5_j0.5-5.txt')\n",
        "\n",
        "df_relevances = pd.read_csv(  io.StringIO(topic_relevances)  , sep=\" \")\n",
        "del df_relevances['iter']\n",
        "\n",
        "df_relevances"
      ],
      "execution_count": 12,
      "outputs": [
        {
          "output_type": "execute_result",
          "data": {
            "text/html": [
              "<div>\n",
              "<style scoped>\n",
              "    .dataframe tbody tr th:only-of-type {\n",
              "        vertical-align: middle;\n",
              "    }\n",
              "\n",
              "    .dataframe tbody tr th {\n",
              "        vertical-align: top;\n",
              "    }\n",
              "\n",
              "    .dataframe thead th {\n",
              "        text-align: right;\n",
              "    }\n",
              "</style>\n",
              "<table border=\"1\" class=\"dataframe\">\n",
              "  <thead>\n",
              "    <tr style=\"text-align: right;\">\n",
              "      <th></th>\n",
              "      <th>topic</th>\n",
              "      <th>document_id</th>\n",
              "      <th>judgement</th>\n",
              "    </tr>\n",
              "  </thead>\n",
              "  <tbody>\n",
              "    <tr>\n",
              "      <th>0</th>\n",
              "      <td>1</td>\n",
              "      <td>005b2j4b</td>\n",
              "      <td>2</td>\n",
              "    </tr>\n",
              "    <tr>\n",
              "      <th>1</th>\n",
              "      <td>1</td>\n",
              "      <td>00fmeepz</td>\n",
              "      <td>1</td>\n",
              "    </tr>\n",
              "    <tr>\n",
              "      <th>2</th>\n",
              "      <td>1</td>\n",
              "      <td>010vptx3</td>\n",
              "      <td>2</td>\n",
              "    </tr>\n",
              "    <tr>\n",
              "      <th>3</th>\n",
              "      <td>1</td>\n",
              "      <td>0194oljo</td>\n",
              "      <td>1</td>\n",
              "    </tr>\n",
              "    <tr>\n",
              "      <th>4</th>\n",
              "      <td>1</td>\n",
              "      <td>021q9884</td>\n",
              "      <td>1</td>\n",
              "    </tr>\n",
              "    <tr>\n",
              "      <th>...</th>\n",
              "      <td>...</td>\n",
              "      <td>...</td>\n",
              "      <td>...</td>\n",
              "    </tr>\n",
              "    <tr>\n",
              "      <th>69313</th>\n",
              "      <td>50</td>\n",
              "      <td>zvop8bxh</td>\n",
              "      <td>2</td>\n",
              "    </tr>\n",
              "    <tr>\n",
              "      <th>69314</th>\n",
              "      <td>50</td>\n",
              "      <td>zwf26o63</td>\n",
              "      <td>1</td>\n",
              "    </tr>\n",
              "    <tr>\n",
              "      <th>69315</th>\n",
              "      <td>50</td>\n",
              "      <td>zwsvlnwe</td>\n",
              "      <td>0</td>\n",
              "    </tr>\n",
              "    <tr>\n",
              "      <th>69316</th>\n",
              "      <td>50</td>\n",
              "      <td>zxr01yln</td>\n",
              "      <td>1</td>\n",
              "    </tr>\n",
              "    <tr>\n",
              "      <th>69317</th>\n",
              "      <td>50</td>\n",
              "      <td>zz8wvos9</td>\n",
              "      <td>1</td>\n",
              "    </tr>\n",
              "  </tbody>\n",
              "</table>\n",
              "<p>69318 rows × 3 columns</p>\n",
              "</div>"
            ],
            "text/plain": [
              "       topic document_id  judgement\n",
              "0          1    005b2j4b          2\n",
              "1          1    00fmeepz          1\n",
              "2          1    010vptx3          2\n",
              "3          1    0194oljo          1\n",
              "4          1    021q9884          1\n",
              "...      ...         ...        ...\n",
              "69313     50    zvop8bxh          2\n",
              "69314     50    zwf26o63          1\n",
              "69315     50    zwsvlnwe          0\n",
              "69316     50    zxr01yln          1\n",
              "69317     50    zz8wvos9          1\n",
              "\n",
              "[69318 rows x 3 columns]"
            ]
          },
          "metadata": {
            "tags": []
          },
          "execution_count": 12
        }
      ]
    },
    {
      "cell_type": "code",
      "metadata": {
        "id": "BfQ3a3yIItFa"
      },
      "source": [
        "topics_obj = xmltodict.parse(read_file('drive/MyDrive/CMPE/CMPE493/topics-rnd5.xml'))\n",
        "topics     = json.loads(json.dumps(topics_obj))\n",
        "\n",
        "topics_dict = {}\n",
        "for topic in topics['topics']['topic']:\n",
        "  # a topic has the following fields:\n",
        "  #  * @number\n",
        "  #  * narrative\n",
        "  #  * query\n",
        "  #  * question\n",
        "  topics_dict[topic['@number']] = topic['query'] + ' ' + topic['question'] + ' ' + topic['narrative']"
      ],
      "execution_count": 13,
      "outputs": []
    },
    {
      "cell_type": "code",
      "metadata": {
        "colab": {
          "base_uri": "https://localhost:8080/"
        },
        "id": "Ym_9xG3zVjrk",
        "outputId": "4d542af8-d3ac-437a-aedd-3aff8cdb641d"
      },
      "source": [
        "len(topics_dict)"
      ],
      "execution_count": 14,
      "outputs": [
        {
          "output_type": "execute_result",
          "data": {
            "text/plain": [
              "50"
            ]
          },
          "metadata": {
            "tags": []
          },
          "execution_count": 14
        }
      ]
    },
    {
      "cell_type": "markdown",
      "metadata": {
        "id": "iwwehnTLLIyy"
      },
      "source": [
        "# Data so far\n",
        "\n",
        "* `topics_dict` \n",
        "      has `topic-id` for keys, and topic description for values\n",
        "* `df_relevances` \n",
        "      has the following three columns:\n",
        "      topic\tdocument-id\tjudgement\n",
        "* `df_metadata`\n",
        "      holds information about the documents\n",
        "      has the following three columns (others are deleted):\n",
        "      cord_uid\ttitle\tabstract\n"
      ]
    },
    {
      "cell_type": "code",
      "metadata": {
        "colab": {
          "base_uri": "https://localhost:8080/"
        },
        "id": "moo9WB8LY5R4",
        "outputId": "ac87e9aa-1c0d-4dfc-f3ec-5b9ac9beb209"
      },
      "source": [
        "nltk.download('stopwords')\n",
        "#stopwords.words('english')"
      ],
      "execution_count": 15,
      "outputs": [
        {
          "output_type": "stream",
          "text": [
            "[nltk_data] Downloading package stopwords to /root/nltk_data...\n",
            "[nltk_data]   Unzipping corpora/stopwords.zip.\n"
          ],
          "name": "stdout"
        },
        {
          "output_type": "execute_result",
          "data": {
            "text/plain": [
              "True"
            ]
          },
          "metadata": {
            "tags": []
          },
          "execution_count": 15
        }
      ]
    },
    {
      "cell_type": "code",
      "metadata": {
        "id": "nfBFOSwlX9w5"
      },
      "source": [
        "docs = np.array(df_metadata)\n",
        "contents = {}\n",
        "\n",
        "for doc in docs:\n",
        "  contents[doc[0]] = f'{doc[1]} {doc[2]}'"
      ],
      "execution_count": 16,
      "outputs": []
    },
    {
      "cell_type": "markdown",
      "metadata": {
        "id": "c4xzgaOSNnz1"
      },
      "source": [
        "### `contents` is a dictionary with document id keys and f'{document title} {document content}' values.\n",
        "```\n",
        "document_id: f'{document_title} {document_content}'\n",
        "```"
      ]
    },
    {
      "cell_type": "code",
      "metadata": {
        "id": "xzRN6cjFpzoz"
      },
      "source": [
        "!pip install -U sentence-transformers"
      ],
      "execution_count": null,
      "outputs": []
    },
    {
      "cell_type": "code",
      "metadata": {
        "id": "nJtU1otHsfbi",
        "outputId": "eb0ee42d-200b-4e6a-ae7a-71fc556e310f",
        "colab": {
          "base_uri": "https://localhost:8080/"
        }
      },
      "source": [
        "!unzip trec_eval-master.zip"
      ],
      "execution_count": 18,
      "outputs": [
        {
          "output_type": "stream",
          "text": [
            "unzip:  cannot find or open trec_eval-master.zip, trec_eval-master.zip.zip or trec_eval-master.zip.ZIP.\n"
          ],
          "name": "stdout"
        }
      ]
    },
    {
      "cell_type": "code",
      "metadata": {
        "id": "vgYCvCHzD_3a"
      },
      "source": [
        "porter_stemmer = PorterStemmer()\n",
        "sw = stopwords.words('english')\n",
        "\n",
        "# preprocessing\n",
        "# case folding\n",
        "# punctuation removal\n",
        "# number deletion\n",
        "# stemming & stopword removal\n",
        "def preprocess(s):\n",
        "  s = s.casefold()\n",
        "  s = s.translate(str.maketrans(string.punctuation, ' ' * len(string.punctuation)))\n",
        "  s = re.sub(\"\\d+\", \"\", s) #Delete numbers\n",
        "  s = ' '.join([porter_stemmer.stem(word) for word in s.split() if word not in sw and word != 'nan'])\n",
        "  return s"
      ],
      "execution_count": 58,
      "outputs": []
    },
    {
      "cell_type": "markdown",
      "metadata": {
        "id": "Vo7Ds_I6ISW2"
      },
      "source": [
        "https://huggingface.co/sentence-transformers/ce-ms-marco-TinyBERT-L-2"
      ]
    },
    {
      "cell_type": "code",
      "metadata": {
        "id": "50YBS74GEIl7"
      },
      "source": [
        "for key, value in contents.items():\n",
        "  contents[key] = preprocess(value)"
      ],
      "execution_count": 59,
      "outputs": []
    },
    {
      "cell_type": "code",
      "metadata": {
        "id": "QwtUrDhmyvRF"
      },
      "source": [
        "from sentence_transformers import CrossEncoder\n",
        "import transformers\n",
        "model_name = 'sentence-transformers/ce-ms-marco-TinyBERT-L-6'\n",
        "model = CrossEncoder(model_name, max_length=512)\n",
        "model.tokenizer = transformers.BertTokenizerFast.from_pretrained(model_name)"
      ],
      "execution_count": 70,
      "outputs": []
    },
    {
      "cell_type": "code",
      "metadata": {
        "id": "iYx13FhzzmPY",
        "outputId": "4c1e77bb-5cd2-49df-9821-6ebce7cd933a",
        "colab": {
          "base_uri": "https://localhost:8080/"
        }
      },
      "source": [
        "pairs = df_relevances[['topic', 'document_id']]\n",
        "pairs = np.array(pairs)\n",
        "pairs"
      ],
      "execution_count": 71,
      "outputs": [
        {
          "output_type": "execute_result",
          "data": {
            "text/plain": [
              "array([[1, '005b2j4b'],\n",
              "       [1, '00fmeepz'],\n",
              "       [1, '010vptx3'],\n",
              "       ...,\n",
              "       [50, 'zwsvlnwe'],\n",
              "       [50, 'zxr01yln'],\n",
              "       [50, 'zz8wvos9']], dtype=object)"
            ]
          },
          "metadata": {
            "tags": []
          },
          "execution_count": 71
        }
      ]
    },
    {
      "cell_type": "code",
      "metadata": {
        "id": "cqJWRpVA1BJ2"
      },
      "source": [
        "value_pairs = [[]]*len(pairs)"
      ],
      "execution_count": 72,
      "outputs": []
    },
    {
      "cell_type": "code",
      "metadata": {
        "id": "eAosNDfl0LPm"
      },
      "source": [
        "for i,pair in enumerate(pairs):\n",
        "  value_pairs[i] = (topics_dict[str(pair[0])], contents[pair[1]])"
      ],
      "execution_count": 73,
      "outputs": []
    },
    {
      "cell_type": "code",
      "metadata": {
        "id": "ZcJeWCwj3VUc",
        "outputId": "b23e8ae6-b9b4-4277-db41-b67d4e627792",
        "colab": {
          "base_uri": "https://localhost:8080/"
        }
      },
      "source": [
        "len(value_pairs)"
      ],
      "execution_count": 74,
      "outputs": [
        {
          "output_type": "execute_result",
          "data": {
            "text/plain": [
              "69318"
            ]
          },
          "metadata": {
            "tags": []
          },
          "execution_count": 74
        }
      ]
    },
    {
      "cell_type": "code",
      "metadata": {
        "id": "uW22r3c5y_TD",
        "outputId": "fafb3c54-9eb4-4f27-8dbf-40cf632d3a05",
        "colab": {
          "base_uri": "https://localhost:8080/"
        }
      },
      "source": [
        "%%time\n",
        "scores = model.predict(value_pairs)"
      ],
      "execution_count": 75,
      "outputs": [
        {
          "output_type": "stream",
          "text": [
            "CPU times: user 6min 20s, sys: 3min 54s, total: 10min 15s\n",
            "Wall time: 9min 42s\n"
          ],
          "name": "stdout"
        }
      ]
    },
    {
      "cell_type": "code",
      "metadata": {
        "id": "VWrg5BIg3vnQ",
        "outputId": "22682076-f333-442a-bc1c-772ca55be2d9",
        "colab": {
          "base_uri": "https://localhost:8080/"
        }
      },
      "source": [
        "scores"
      ],
      "execution_count": 76,
      "outputs": [
        {
          "output_type": "execute_result",
          "data": {
            "text/plain": [
              "array([0.00980095, 0.05991739, 0.0151718 , ..., 0.00376705, 0.00209249,\n",
              "       0.0374207 ], dtype=float32)"
            ]
          },
          "metadata": {
            "tags": []
          },
          "execution_count": 76
        }
      ]
    },
    {
      "cell_type": "code",
      "metadata": {
        "id": "0lJ1SiKd33J5"
      },
      "source": [
        "results = []\n",
        "for score, pair in zip(scores, pairs):\n",
        "  results.append(f'{pair[0]} 0 {pair[1]} 0 {score} 0')"
      ],
      "execution_count": 77,
      "outputs": []
    },
    {
      "cell_type": "code",
      "metadata": {
        "id": "Usrd2GR24M2l",
        "outputId": "45ab9951-b728-4aa1-d955-a9e4a6552e6e",
        "colab": {
          "base_uri": "https://localhost:8080/"
        }
      },
      "source": [
        "results[:10]"
      ],
      "execution_count": 78,
      "outputs": [
        {
          "output_type": "execute_result",
          "data": {
            "text/plain": [
              "['1 0 005b2j4b 0 0.00980095099657774 0',\n",
              " '1 0 00fmeepz 0 0.0599173903465271 0',\n",
              " '1 0 010vptx3 0 0.015171797946095467 0',\n",
              " '1 0 0194oljo 0 0.008037539198994637 0',\n",
              " '1 0 021q9884 0 0.00019172504835296422 0',\n",
              " '1 0 02f0opkr 0 0.058555226773023605 0',\n",
              " '1 0 047xpt2c 0 0.009575512260198593 0',\n",
              " '1 0 04ftw7k9 0 0.00019838951993733644 0',\n",
              " '1 0 05qglt1f 0 0.002087506465613842 0',\n",
              " '1 0 05vx82oo 0 0.0002874651690945029 0']"
            ]
          },
          "metadata": {
            "tags": []
          },
          "execution_count": 78
        }
      ]
    },
    {
      "cell_type": "code",
      "metadata": {
        "id": "XgRw94ql4XYh"
      },
      "source": [
        "# Write results to file\n",
        "with open('results_preprocessed_tinybertl6', 'w') as f:\n",
        "    f.write('\\n'.join(results))"
      ],
      "execution_count": 79,
      "outputs": []
    },
    {
      "cell_type": "code",
      "metadata": {
        "id": "wuKkmuW_Dseh"
      },
      "source": [
        ""
      ],
      "execution_count": null,
      "outputs": []
    },
    {
      "cell_type": "code",
      "metadata": {
        "id": "ej0zIjxyD23U"
      },
      "source": [
        ""
      ],
      "execution_count": null,
      "outputs": []
    },
    {
      "cell_type": "code",
      "metadata": {
        "id": "jSj2cQYCpPQr",
        "outputId": "f7dc57a9-0576-4702-9eac-2d3a2deb0121",
        "colab": {
          "base_uri": "https://localhost:8080/"
        }
      },
      "source": [
        "from sentence_transformers import SentenceTransformer\n",
        "model = SentenceTransformer('bert-base-nli-mean-tokens')"
      ],
      "execution_count": 20,
      "outputs": [
        {
          "output_type": "stream",
          "text": [
            "100%|██████████| 405M/405M [00:18<00:00, 21.3MB/s]\n"
          ],
          "name": "stderr"
        }
      ]
    },
    {
      "cell_type": "code",
      "metadata": {
        "id": "1NAcNjrXwxnS",
        "outputId": "2c1ea0a1-c996-4feb-97a5-ddd24783845d",
        "colab": {
          "base_uri": "https://localhost:8080/"
        }
      },
      "source": [
        "list(contents.items())[:10]"
      ],
      "execution_count": 21,
      "outputs": [
        {
          "output_type": "execute_result",
          "data": {
            "text/plain": [
              "[('ug7v899j',\n",
              "  'Clinical features of culture-proven Mycoplasma pneumoniae infections at King Abdulaziz University Hospital, Jeddah, Saudi Arabia OBJECTIVE: This retrospective chart review describes the epidemiology and clinical features of 40 patients with culture-proven Mycoplasma pneumoniae infections at King Abdulaziz University Hospital, Jeddah, Saudi Arabia. METHODS: Patients with positive M. pneumoniae cultures from respiratory specimens from January 1997 through December 1998 were identified through the Microbiology records. Charts of patients were reviewed. RESULTS: 40 patients were identified, 33 (82.5%) of whom required admission. Most infections (92.5%) were community-acquired. The infection affected all age groups but was most common in infants (32.5%) and pre-school children (22.5%). It occurred year-round but was most common in the fall (35%) and spring (30%). More than three-quarters of patients (77.5%) had comorbidities. Twenty-four isolates (60%) were associated with pneumonia, 14 (35%) with upper respiratory tract infections, and 2 (5%) with bronchiolitis. Cough (82.5%), fever (75%), and malaise (58.8%) were the most common symptoms, and crepitations (60%), and wheezes (40%) were the most common signs. Most patients with pneumonia had crepitations (79.2%) but only 25% had bronchial breathing. Immunocompromised patients were more likely than non-immunocompromised patients to present with pneumonia (8/9 versus 16/31, P = 0.05). Of the 24 patients with pneumonia, 14 (58.3%) had uneventful recovery, 4 (16.7%) recovered following some complications, 3 (12.5%) died because of M pneumoniae infection, and 3 (12.5%) died due to underlying comorbidities. The 3 patients who died of M pneumoniae pneumonia had other comorbidities. CONCLUSION: our results were similar to published data except for the finding that infections were more common in infants and preschool children and that the mortality rate of pneumonia in patients with comorbidities was high.'),\n",
              " ('02tnwd4m',\n",
              "  'Nitric oxide: a pro-inflammatory mediator in lung disease? Inflammatory diseases of the respiratory tract are commonly associated with elevated production of nitric oxide (NO•) and increased indices of NO• -dependent oxidative stress. Although NO• is known to have anti-microbial, anti-inflammatory and anti-oxidant properties, various lines of evidence support the contribution of NO• to lung injury in several disease models. On the basis of biochemical evidence, it is often presumed that such NO• -dependent oxidations are due to the formation of the oxidant peroxynitrite, although alternative mechanisms involving the phagocyte-derived heme proteins myeloperoxidase and eosinophil peroxidase might be operative during conditions of inflammation. Because of the overwhelming literature on NO• generation and activities in the respiratory tract, it would be beyond the scope of this commentary to review this area comprehensively. Instead, it focuses on recent evidence and concepts of the presumed contribution of NO• to inflammatory diseases of the lung.'),\n",
              " ('ejv2xln0',\n",
              "  'Surfactant protein-D and pulmonary host defense Surfactant protein-D (SP-D) participates in the innate response to inhaled microorganisms and organic antigens, and contributes to immune and inflammatory regulation within the lung. SP-D is synthesized and secreted by alveolar and bronchiolar epithelial cells, but is also expressed by epithelial cells lining various exocrine ducts and the mucosa of the gastrointestinal and genitourinary tracts. SP-D, a collagenous calcium-dependent lectin (or collectin), binds to surface glycoconjugates expressed by a wide variety of microorganisms, and to oligosaccharides associated with the surface of various complex organic antigens. SP-D also specifically interacts with glycoconjugates and other molecules expressed on the surface of macrophages, neutrophils, and lymphocytes. In addition, SP-D binds to specific surfactant-associated lipids and can influence the organization of lipid mixtures containing phosphatidylinositol in vitro. Consistent with these diverse in vitro activities is the observation that SP-D-deficient transgenic mice show abnormal accumulations of surfactant lipids, and respond abnormally to challenge with respiratory viruses and bacterial lipopolysaccharides. The phenotype of macrophages isolated from the lungs of SP-D-deficient mice is altered, and there is circumstantial evidence that abnormal oxidant metabolism and/or increased metalloproteinase expression contributes to the development of emphysema. The expression of SP-D is increased in response to many forms of lung injury, and deficient accumulation of appropriately oligomerized SP-D might contribute to the pathogenesis of a variety of human lung diseases.'),\n",
              " ('2b73a28n',\n",
              "  'Role of endothelin-1 in lung disease Endothelin-1 (ET-1) is a 21 amino acid peptide with diverse biological activity that has been implicated in numerous diseases. ET-1 is a potent mitogen regulator of smooth muscle tone, and inflammatory mediator that may play a key role in diseases of the airways, pulmonary circulation, and inflammatory lung diseases, both acute and chronic. This review will focus on the biology of ET-1 and its role in lung disease.'),\n",
              " ('9785vg6d',\n",
              "  'Gene expression in epithelial cells in response to pneumovirus infection Respiratory syncytial virus (RSV) and pneumonia virus of mice (PVM) are viruses of the family Paramyxoviridae, subfamily pneumovirus, which cause clinically important respiratory infections in humans and rodents, respectively. The respiratory epithelial target cells respond to viral infection with specific alterations in gene expression, including production of chemoattractant cytokines, adhesion molecules, elements that are related to the apoptosis response, and others that remain incompletely understood. Here we review our current understanding of these mucosal responses and discuss several genomic approaches, including differential display reverse transcription-polymerase chain reaction (PCR) and gene array strategies, that will permit us to unravel the nature of these responses in a more complete and systematic manner.'),\n",
              " ('zjufx4fo',\n",
              "  'Sequence requirements for RNA strand transfer during nidovirus discontinuous subgenomic RNA synthesis Nidovirus subgenomic mRNAs contain a leader sequence derived from the 5′ end of the genome fused to different sequences (‘bodies’) derived from the 3′ end. Their generation involves a unique mechanism of discontinuous subgenomic RNA synthesis that resembles copy-choice RNA recombination. During this process, the nascent RNA strand is transferred from one site in the template to another, during either plus or minus strand synthesis, to yield subgenomic RNA molecules. Central to this process are transcription-regulating sequences (TRSs), which are present at both template sites and ensure the fidelity of strand transfer. Here we present results of a comprehensive co-variation mutagenesis study of equine arteritis virus TRSs, demonstrating that discontinuous RNA synthesis depends not only on base pairing between sense leader TRS and antisense body TRS, but also on the primary sequence of the body TRS. While the leader TRS merely plays a targeting role for strand transfer, the body TRS fulfils multiple functions. The sequences of mRNA leader–body junctions of TRS mutants strongly suggested that the discontinuous step occurs during minus strand synthesis.'),\n",
              " ('5yhe786e',\n",
              "  'Debate: Transfusing to normal haemoglobin levels will not improve outcome Recent evidence suggests that critically ill patients are able to tolerate lower levels of haemoglobin than was previously believed. It is our goal to show that transfusing to a level of 100 g/l does not improve mortality and other clinically important outcomes in a critical care setting. Although many questions remain, many laboratory and clinical studies, including a recent randomized controlled trial (RCT), have established that transfusing to normal haemoglobin concentrations does not improve organ failure and mortality in the critically ill patient. In addition, a restrictive transfusion strategy will reduce exposure to allogeneic transfusions, result in more efficient use of red blood cells (RBCs), save blood overall, and decrease health care costs.'),\n",
              " ('8zchiykl',\n",
              "  \"The 21st International Symposium on Intensive Care and Emergency Medicine, Brussels, Belgium, 20-23 March 2001 The 21st International Symposium on Intensive Care and Emergency Medicine was dominated by the results of recent clinical trials in sepsis and acute respiratory distress syndrome (ARDS). The promise of extracorporeal liver replacement therapy and noninvasive ventilation were other areas of interest. Ethical issues also received attention. Overall, the 'state of the art' lectures, pro/con debates, seminars and tutorials were of a high standard. The meeting was marked by a sense of renewed enthusiasm that positive progress is occurring in intensive care medicine.\"),\n",
              " ('8qnrcgnk',\n",
              "  'Heme oxygenase-1 and carbon monoxide in pulmonary medicine Heme oxygenase-1 (HO-1), an inducible stress protein, confers cytoprotection against oxidative stress in vitro and in vivo. In addition to its physiological role in heme degradation, HO-1 may influence a number of cellular processes, including growth, inflammation, and apoptosis. By virtue of anti-inflammatory effects, HO-1 limits tissue damage in response to proinflammatory stimuli and prevents allograft rejection after transplantation. The transcriptional upregulation of HO-1 responds to many agents, such as hypoxia, bacterial lipopolysaccharide, and reactive oxygen/nitrogen species. HO-1 and its constitutively expressed isozyme, heme oxygenase-2, catalyze the rate-limiting step in the conversion of heme to its metabolites, bilirubin IXα, ferrous iron, and carbon monoxide (CO). The mechanisms by which HO-1 provides protection most likely involve its enzymatic reaction products. Remarkably, administration of CO at low concentrations can substitute for HO-1 with respect to anti-inflammatory and anti-apoptotic effects, suggesting a role for CO as a key mediator of HO-1 function. Chronic, low-level, exogenous exposure to CO from cigarette smoking contributes to the importance of CO in pulmonary medicine. The implications of the HO-1/CO system in pulmonary diseases will be discussed in this review, with an emphasis on inflammatory states.'),\n",
              " ('jg13scgo',\n",
              "  'Technical Description of RODS: A Real-time Public Health Surveillance System This report describes the design and implementation of the Real-time Outbreak and Disease Surveillance (RODS) system, a computer-based public health surveillance system for early detection of disease outbreaks. Hospitals send RODS data from clinical encounters over virtual private networks and leased lines using the Health Level 7 (HL7) message protocol. The data are sent in real time. RODS automatically classifies the registration chief complaint from the visit into one of seven syndrome categories using Bayesian classifiers. It stores the data in a relational database, aggregates the data for analysis using data warehousing techniques, applies univariate and multivariate statistical detection algorithms to the data, and alerts users of when the algorithms identify anomalous patterns in the syndrome counts. RODS also has a Web-based user interface that supports temporal and spatial analyses. RODS processes sales of over-the-counter health care products in a similar manner but receives such data in batch mode on a daily basis. RODS was used during the 2002 Winter Olympics and currently operates in two states—Pennsylvania and Utah. It has been and continues to be a resource for implementing, evaluating, and applying new methods of public health surveillance.')]"
            ]
          },
          "metadata": {
            "tags": []
          },
          "execution_count": 21
        }
      ]
    },
    {
      "cell_type": "code",
      "metadata": {
        "id": "O1DEEUnBxefd",
        "outputId": "6611d547-2b16-464d-c924-d90c77f9b14f",
        "colab": {
          "base_uri": "https://localhost:8080/"
        }
      },
      "source": [
        "len(df_relevances.document_id.unique())"
      ],
      "execution_count": 29,
      "outputs": [
        {
          "output_type": "execute_result",
          "data": {
            "text/plain": [
              "37924"
            ]
          },
          "metadata": {
            "tags": []
          },
          "execution_count": 29
        }
      ]
    },
    {
      "cell_type": "code",
      "metadata": {
        "id": "-Zf731MSjR1p"
      },
      "source": [
        "%%time\n",
        "\n",
        "def get_doc_vectors():\n",
        "  return model.encode(list(contents.keys()))\n",
        "\n",
        "doc_vectors = get_doc_vectors()"
      ],
      "execution_count": null,
      "outputs": []
    },
    {
      "cell_type": "code",
      "metadata": {
        "colab": {
          "base_uri": "https://localhost:8080/"
        },
        "id": "eeF_FOCypybA",
        "outputId": "c5b373f4-8d54-4c59-89ee-755306d105a7"
      },
      "source": [
        "%%time\n",
        "\n",
        "def get_topic_vectors():\n",
        "  return model.encode(list(topics_dict.values()))\n",
        "\n",
        "topic_vectors = get_topic_vectors()"
      ],
      "execution_count": 30,
      "outputs": [
        {
          "output_type": "stream",
          "text": [
            "CPU times: user 12.2 s, sys: 6.65 ms, total: 12.2 s\n",
            "Wall time: 12.3 s\n"
          ],
          "name": "stdout"
        }
      ]
    },
    {
      "cell_type": "code",
      "metadata": {
        "id": "e8ozdwzux_gO",
        "outputId": "b7616c84-0d22-408d-82ec-bbf3205e0bb5",
        "colab": {
          "base_uri": "https://localhost:8080/"
        }
      },
      "source": [
        "topic_vectors.shape"
      ],
      "execution_count": 31,
      "outputs": [
        {
          "output_type": "execute_result",
          "data": {
            "text/plain": [
              "(50, 768)"
            ]
          },
          "metadata": {
            "tags": []
          },
          "execution_count": 31
        }
      ]
    },
    {
      "cell_type": "code",
      "metadata": {
        "colab": {
          "base_uri": "https://localhost:8080/"
        },
        "id": "kKjTXQyZpz8x",
        "outputId": "d01d91bf-7bbb-4e44-9da1-26e68285a70d"
      },
      "source": [
        "len(topic_vectors)"
      ],
      "execution_count": 46,
      "outputs": [
        {
          "output_type": "execute_result",
          "data": {
            "text/plain": [
              "50"
            ]
          },
          "metadata": {
            "tags": []
          },
          "execution_count": 46
        }
      ]
    },
    {
      "cell_type": "code",
      "metadata": {
        "colab": {
          "base_uri": "https://localhost:8080/"
        },
        "id": "Ks-hqfntpzw2",
        "outputId": "2c738da9-353e-4b9b-a677-f44b6640adce"
      },
      "source": [
        "from sklearn.metrics.pairwise import cosine_similarity\n",
        "\n",
        "sims = cosine_similarity(doc_vectors, topic_vectors)\n",
        "sims.shape"
      ],
      "execution_count": 47,
      "outputs": [
        {
          "output_type": "execute_result",
          "data": {
            "text/plain": [
              "(191175, 50)"
            ]
          },
          "metadata": {
            "tags": []
          },
          "execution_count": 47
        }
      ]
    },
    {
      "cell_type": "code",
      "metadata": {
        "colab": {
          "base_uri": "https://localhost:8080/",
          "height": 439
        },
        "id": "BEGdhfXtuCg6",
        "outputId": "f5821b4d-6d34-4dc4-cdf2-87ee958a5a1b"
      },
      "source": [
        "all_sims = pd.DataFrame(sims, columns=list(np.array(range(50))+1))\n",
        "all_sims.insert(loc=0, column='doc_id', value=contents.keys())\n",
        "all_sims"
      ],
      "execution_count": 48,
      "outputs": [
        {
          "output_type": "execute_result",
          "data": {
            "text/html": [
              "<div>\n",
              "<style scoped>\n",
              "    .dataframe tbody tr th:only-of-type {\n",
              "        vertical-align: middle;\n",
              "    }\n",
              "\n",
              "    .dataframe tbody tr th {\n",
              "        vertical-align: top;\n",
              "    }\n",
              "\n",
              "    .dataframe thead th {\n",
              "        text-align: right;\n",
              "    }\n",
              "</style>\n",
              "<table border=\"1\" class=\"dataframe\">\n",
              "  <thead>\n",
              "    <tr style=\"text-align: right;\">\n",
              "      <th></th>\n",
              "      <th>doc_id</th>\n",
              "      <th>1</th>\n",
              "      <th>2</th>\n",
              "      <th>3</th>\n",
              "      <th>4</th>\n",
              "      <th>5</th>\n",
              "      <th>6</th>\n",
              "      <th>7</th>\n",
              "      <th>8</th>\n",
              "      <th>9</th>\n",
              "      <th>10</th>\n",
              "      <th>11</th>\n",
              "      <th>12</th>\n",
              "      <th>13</th>\n",
              "      <th>14</th>\n",
              "      <th>15</th>\n",
              "      <th>16</th>\n",
              "      <th>17</th>\n",
              "      <th>18</th>\n",
              "      <th>19</th>\n",
              "      <th>20</th>\n",
              "      <th>21</th>\n",
              "      <th>22</th>\n",
              "      <th>23</th>\n",
              "      <th>24</th>\n",
              "      <th>25</th>\n",
              "      <th>26</th>\n",
              "      <th>27</th>\n",
              "      <th>28</th>\n",
              "      <th>29</th>\n",
              "      <th>30</th>\n",
              "      <th>31</th>\n",
              "      <th>32</th>\n",
              "      <th>33</th>\n",
              "      <th>34</th>\n",
              "      <th>35</th>\n",
              "      <th>36</th>\n",
              "      <th>37</th>\n",
              "      <th>38</th>\n",
              "      <th>39</th>\n",
              "      <th>40</th>\n",
              "      <th>41</th>\n",
              "      <th>42</th>\n",
              "      <th>43</th>\n",
              "      <th>44</th>\n",
              "      <th>45</th>\n",
              "      <th>46</th>\n",
              "      <th>47</th>\n",
              "      <th>48</th>\n",
              "      <th>49</th>\n",
              "      <th>50</th>\n",
              "    </tr>\n",
              "  </thead>\n",
              "  <tbody>\n",
              "    <tr>\n",
              "      <th>0</th>\n",
              "      <td>ug7v899j</td>\n",
              "      <td>0.790289</td>\n",
              "      <td>0.560938</td>\n",
              "      <td>0.513738</td>\n",
              "      <td>0.783259</td>\n",
              "      <td>0.620462</td>\n",
              "      <td>0.490478</td>\n",
              "      <td>0.798114</td>\n",
              "      <td>0.823216</td>\n",
              "      <td>0.636358</td>\n",
              "      <td>0.835604</td>\n",
              "      <td>0.770633</td>\n",
              "      <td>0.769841</td>\n",
              "      <td>0.415509</td>\n",
              "      <td>0.803367</td>\n",
              "      <td>0.641954</td>\n",
              "      <td>0.446103</td>\n",
              "      <td>0.608661</td>\n",
              "      <td>0.677222</td>\n",
              "      <td>0.796022</td>\n",
              "      <td>0.743759</td>\n",
              "      <td>0.755667</td>\n",
              "      <td>0.694395</td>\n",
              "      <td>0.694711</td>\n",
              "      <td>0.816873</td>\n",
              "      <td>0.663551</td>\n",
              "      <td>0.635219</td>\n",
              "      <td>0.422218</td>\n",
              "      <td>0.556565</td>\n",
              "      <td>0.815236</td>\n",
              "      <td>0.729534</td>\n",
              "      <td>0.773056</td>\n",
              "      <td>0.795988</td>\n",
              "      <td>0.792966</td>\n",
              "      <td>0.788263</td>\n",
              "      <td>0.722316</td>\n",
              "      <td>0.685445</td>\n",
              "      <td>0.701736</td>\n",
              "      <td>0.805388</td>\n",
              "      <td>0.681546</td>\n",
              "      <td>0.812574</td>\n",
              "      <td>0.835786</td>\n",
              "      <td>0.743074</td>\n",
              "      <td>0.516458</td>\n",
              "      <td>0.687099</td>\n",
              "      <td>0.759748</td>\n",
              "      <td>0.785593</td>\n",
              "      <td>0.805212</td>\n",
              "      <td>0.739708</td>\n",
              "      <td>0.646190</td>\n",
              "      <td>0.090384</td>\n",
              "    </tr>\n",
              "    <tr>\n",
              "      <th>1</th>\n",
              "      <td>02tnwd4m</td>\n",
              "      <td>0.877255</td>\n",
              "      <td>0.748425</td>\n",
              "      <td>0.515580</td>\n",
              "      <td>0.826949</td>\n",
              "      <td>0.709421</td>\n",
              "      <td>0.599424</td>\n",
              "      <td>0.865828</td>\n",
              "      <td>0.861213</td>\n",
              "      <td>0.732754</td>\n",
              "      <td>0.905929</td>\n",
              "      <td>0.782914</td>\n",
              "      <td>0.779727</td>\n",
              "      <td>0.510066</td>\n",
              "      <td>0.880614</td>\n",
              "      <td>0.745157</td>\n",
              "      <td>0.489774</td>\n",
              "      <td>0.672370</td>\n",
              "      <td>0.759146</td>\n",
              "      <td>0.826194</td>\n",
              "      <td>0.766928</td>\n",
              "      <td>0.796589</td>\n",
              "      <td>0.715603</td>\n",
              "      <td>0.730765</td>\n",
              "      <td>0.774743</td>\n",
              "      <td>0.748095</td>\n",
              "      <td>0.722675</td>\n",
              "      <td>0.411795</td>\n",
              "      <td>0.626364</td>\n",
              "      <td>0.894940</td>\n",
              "      <td>0.805261</td>\n",
              "      <td>0.847421</td>\n",
              "      <td>0.875828</td>\n",
              "      <td>0.852120</td>\n",
              "      <td>0.839547</td>\n",
              "      <td>0.842807</td>\n",
              "      <td>0.776802</td>\n",
              "      <td>0.742453</td>\n",
              "      <td>0.834237</td>\n",
              "      <td>0.792267</td>\n",
              "      <td>0.861581</td>\n",
              "      <td>0.860497</td>\n",
              "      <td>0.809104</td>\n",
              "      <td>0.607975</td>\n",
              "      <td>0.750657</td>\n",
              "      <td>0.865160</td>\n",
              "      <td>0.854839</td>\n",
              "      <td>0.812955</td>\n",
              "      <td>0.781438</td>\n",
              "      <td>0.685546</td>\n",
              "      <td>0.197357</td>\n",
              "    </tr>\n",
              "    <tr>\n",
              "      <th>2</th>\n",
              "      <td>ejv2xln0</td>\n",
              "      <td>0.498984</td>\n",
              "      <td>0.430952</td>\n",
              "      <td>0.379334</td>\n",
              "      <td>0.447198</td>\n",
              "      <td>0.427484</td>\n",
              "      <td>0.136433</td>\n",
              "      <td>0.525795</td>\n",
              "      <td>0.601944</td>\n",
              "      <td>0.350439</td>\n",
              "      <td>0.645880</td>\n",
              "      <td>0.500992</td>\n",
              "      <td>0.495980</td>\n",
              "      <td>0.228100</td>\n",
              "      <td>0.563923</td>\n",
              "      <td>0.411030</td>\n",
              "      <td>0.149464</td>\n",
              "      <td>0.331208</td>\n",
              "      <td>0.423315</td>\n",
              "      <td>0.560627</td>\n",
              "      <td>0.359007</td>\n",
              "      <td>0.546911</td>\n",
              "      <td>0.431786</td>\n",
              "      <td>0.356227</td>\n",
              "      <td>0.487584</td>\n",
              "      <td>0.446145</td>\n",
              "      <td>0.463828</td>\n",
              "      <td>0.141113</td>\n",
              "      <td>0.221931</td>\n",
              "      <td>0.538692</td>\n",
              "      <td>0.459141</td>\n",
              "      <td>0.584447</td>\n",
              "      <td>0.601795</td>\n",
              "      <td>0.472295</td>\n",
              "      <td>0.405798</td>\n",
              "      <td>0.405580</td>\n",
              "      <td>0.342915</td>\n",
              "      <td>0.360031</td>\n",
              "      <td>0.467659</td>\n",
              "      <td>0.422727</td>\n",
              "      <td>0.549793</td>\n",
              "      <td>0.564138</td>\n",
              "      <td>0.395977</td>\n",
              "      <td>0.373270</td>\n",
              "      <td>0.403990</td>\n",
              "      <td>0.561510</td>\n",
              "      <td>0.568355</td>\n",
              "      <td>0.578534</td>\n",
              "      <td>0.480300</td>\n",
              "      <td>0.453456</td>\n",
              "      <td>0.045800</td>\n",
              "    </tr>\n",
              "    <tr>\n",
              "      <th>3</th>\n",
              "      <td>2b73a28n</td>\n",
              "      <td>0.722706</td>\n",
              "      <td>0.707721</td>\n",
              "      <td>0.509893</td>\n",
              "      <td>0.688653</td>\n",
              "      <td>0.673477</td>\n",
              "      <td>0.460392</td>\n",
              "      <td>0.736154</td>\n",
              "      <td>0.745663</td>\n",
              "      <td>0.583307</td>\n",
              "      <td>0.779096</td>\n",
              "      <td>0.674365</td>\n",
              "      <td>0.733126</td>\n",
              "      <td>0.546839</td>\n",
              "      <td>0.776779</td>\n",
              "      <td>0.702145</td>\n",
              "      <td>0.341471</td>\n",
              "      <td>0.475131</td>\n",
              "      <td>0.585146</td>\n",
              "      <td>0.708204</td>\n",
              "      <td>0.621153</td>\n",
              "      <td>0.713491</td>\n",
              "      <td>0.619412</td>\n",
              "      <td>0.584529</td>\n",
              "      <td>0.538679</td>\n",
              "      <td>0.680818</td>\n",
              "      <td>0.644221</td>\n",
              "      <td>0.365278</td>\n",
              "      <td>0.575426</td>\n",
              "      <td>0.735927</td>\n",
              "      <td>0.618939</td>\n",
              "      <td>0.776189</td>\n",
              "      <td>0.664323</td>\n",
              "      <td>0.772608</td>\n",
              "      <td>0.686741</td>\n",
              "      <td>0.745538</td>\n",
              "      <td>0.639971</td>\n",
              "      <td>0.702932</td>\n",
              "      <td>0.727490</td>\n",
              "      <td>0.653448</td>\n",
              "      <td>0.720112</td>\n",
              "      <td>0.756367</td>\n",
              "      <td>0.659465</td>\n",
              "      <td>0.524263</td>\n",
              "      <td>0.685404</td>\n",
              "      <td>0.777640</td>\n",
              "      <td>0.704267</td>\n",
              "      <td>0.763601</td>\n",
              "      <td>0.658516</td>\n",
              "      <td>0.566715</td>\n",
              "      <td>0.165385</td>\n",
              "    </tr>\n",
              "    <tr>\n",
              "      <th>4</th>\n",
              "      <td>9785vg6d</td>\n",
              "      <td>0.784565</td>\n",
              "      <td>0.694703</td>\n",
              "      <td>0.585636</td>\n",
              "      <td>0.714717</td>\n",
              "      <td>0.654176</td>\n",
              "      <td>0.524959</td>\n",
              "      <td>0.850373</td>\n",
              "      <td>0.882554</td>\n",
              "      <td>0.673269</td>\n",
              "      <td>0.887617</td>\n",
              "      <td>0.777947</td>\n",
              "      <td>0.795195</td>\n",
              "      <td>0.486774</td>\n",
              "      <td>0.838309</td>\n",
              "      <td>0.701806</td>\n",
              "      <td>0.411637</td>\n",
              "      <td>0.577186</td>\n",
              "      <td>0.661345</td>\n",
              "      <td>0.872198</td>\n",
              "      <td>0.712044</td>\n",
              "      <td>0.794241</td>\n",
              "      <td>0.699666</td>\n",
              "      <td>0.624473</td>\n",
              "      <td>0.697629</td>\n",
              "      <td>0.681121</td>\n",
              "      <td>0.718872</td>\n",
              "      <td>0.346116</td>\n",
              "      <td>0.535897</td>\n",
              "      <td>0.822029</td>\n",
              "      <td>0.749277</td>\n",
              "      <td>0.837317</td>\n",
              "      <td>0.810106</td>\n",
              "      <td>0.834032</td>\n",
              "      <td>0.805102</td>\n",
              "      <td>0.733642</td>\n",
              "      <td>0.699602</td>\n",
              "      <td>0.772806</td>\n",
              "      <td>0.771533</td>\n",
              "      <td>0.742790</td>\n",
              "      <td>0.803458</td>\n",
              "      <td>0.883201</td>\n",
              "      <td>0.785348</td>\n",
              "      <td>0.610024</td>\n",
              "      <td>0.748325</td>\n",
              "      <td>0.855124</td>\n",
              "      <td>0.861329</td>\n",
              "      <td>0.843592</td>\n",
              "      <td>0.708874</td>\n",
              "      <td>0.682017</td>\n",
              "      <td>0.218055</td>\n",
              "    </tr>\n",
              "    <tr>\n",
              "      <th>...</th>\n",
              "      <td>...</td>\n",
              "      <td>...</td>\n",
              "      <td>...</td>\n",
              "      <td>...</td>\n",
              "      <td>...</td>\n",
              "      <td>...</td>\n",
              "      <td>...</td>\n",
              "      <td>...</td>\n",
              "      <td>...</td>\n",
              "      <td>...</td>\n",
              "      <td>...</td>\n",
              "      <td>...</td>\n",
              "      <td>...</td>\n",
              "      <td>...</td>\n",
              "      <td>...</td>\n",
              "      <td>...</td>\n",
              "      <td>...</td>\n",
              "      <td>...</td>\n",
              "      <td>...</td>\n",
              "      <td>...</td>\n",
              "      <td>...</td>\n",
              "      <td>...</td>\n",
              "      <td>...</td>\n",
              "      <td>...</td>\n",
              "      <td>...</td>\n",
              "      <td>...</td>\n",
              "      <td>...</td>\n",
              "      <td>...</td>\n",
              "      <td>...</td>\n",
              "      <td>...</td>\n",
              "      <td>...</td>\n",
              "      <td>...</td>\n",
              "      <td>...</td>\n",
              "      <td>...</td>\n",
              "      <td>...</td>\n",
              "      <td>...</td>\n",
              "      <td>...</td>\n",
              "      <td>...</td>\n",
              "      <td>...</td>\n",
              "      <td>...</td>\n",
              "      <td>...</td>\n",
              "      <td>...</td>\n",
              "      <td>...</td>\n",
              "      <td>...</td>\n",
              "      <td>...</td>\n",
              "      <td>...</td>\n",
              "      <td>...</td>\n",
              "      <td>...</td>\n",
              "      <td>...</td>\n",
              "      <td>...</td>\n",
              "      <td>...</td>\n",
              "    </tr>\n",
              "    <tr>\n",
              "      <th>191170</th>\n",
              "      <td>z4ro6lmh</td>\n",
              "      <td>0.794034</td>\n",
              "      <td>0.624479</td>\n",
              "      <td>0.509463</td>\n",
              "      <td>0.753063</td>\n",
              "      <td>0.609186</td>\n",
              "      <td>0.574060</td>\n",
              "      <td>0.764455</td>\n",
              "      <td>0.745514</td>\n",
              "      <td>0.739772</td>\n",
              "      <td>0.755611</td>\n",
              "      <td>0.731637</td>\n",
              "      <td>0.666584</td>\n",
              "      <td>0.439192</td>\n",
              "      <td>0.739244</td>\n",
              "      <td>0.693851</td>\n",
              "      <td>0.528724</td>\n",
              "      <td>0.682815</td>\n",
              "      <td>0.658582</td>\n",
              "      <td>0.701900</td>\n",
              "      <td>0.702433</td>\n",
              "      <td>0.707321</td>\n",
              "      <td>0.635850</td>\n",
              "      <td>0.695226</td>\n",
              "      <td>0.724759</td>\n",
              "      <td>0.671555</td>\n",
              "      <td>0.630638</td>\n",
              "      <td>0.262875</td>\n",
              "      <td>0.616960</td>\n",
              "      <td>0.790911</td>\n",
              "      <td>0.748170</td>\n",
              "      <td>0.725088</td>\n",
              "      <td>0.722748</td>\n",
              "      <td>0.775518</td>\n",
              "      <td>0.754473</td>\n",
              "      <td>0.649815</td>\n",
              "      <td>0.735995</td>\n",
              "      <td>0.722540</td>\n",
              "      <td>0.736884</td>\n",
              "      <td>0.740395</td>\n",
              "      <td>0.723317</td>\n",
              "      <td>0.798859</td>\n",
              "      <td>0.773625</td>\n",
              "      <td>0.537622</td>\n",
              "      <td>0.677370</td>\n",
              "      <td>0.779874</td>\n",
              "      <td>0.753726</td>\n",
              "      <td>0.729876</td>\n",
              "      <td>0.688082</td>\n",
              "      <td>0.566610</td>\n",
              "      <td>0.218233</td>\n",
              "    </tr>\n",
              "    <tr>\n",
              "      <th>191171</th>\n",
              "      <td>hi8k8wvb</td>\n",
              "      <td>0.705673</td>\n",
              "      <td>0.617568</td>\n",
              "      <td>0.436568</td>\n",
              "      <td>0.574614</td>\n",
              "      <td>0.597392</td>\n",
              "      <td>0.461285</td>\n",
              "      <td>0.636284</td>\n",
              "      <td>0.765217</td>\n",
              "      <td>0.523858</td>\n",
              "      <td>0.673549</td>\n",
              "      <td>0.605334</td>\n",
              "      <td>0.543787</td>\n",
              "      <td>0.543372</td>\n",
              "      <td>0.617818</td>\n",
              "      <td>0.506871</td>\n",
              "      <td>0.369045</td>\n",
              "      <td>0.553222</td>\n",
              "      <td>0.599898</td>\n",
              "      <td>0.643053</td>\n",
              "      <td>0.466036</td>\n",
              "      <td>0.677955</td>\n",
              "      <td>0.710215</td>\n",
              "      <td>0.609389</td>\n",
              "      <td>0.519294</td>\n",
              "      <td>0.639241</td>\n",
              "      <td>0.661586</td>\n",
              "      <td>0.201240</td>\n",
              "      <td>0.495555</td>\n",
              "      <td>0.726867</td>\n",
              "      <td>0.643732</td>\n",
              "      <td>0.759870</td>\n",
              "      <td>0.715031</td>\n",
              "      <td>0.699513</td>\n",
              "      <td>0.639277</td>\n",
              "      <td>0.661385</td>\n",
              "      <td>0.547860</td>\n",
              "      <td>0.497357</td>\n",
              "      <td>0.600634</td>\n",
              "      <td>0.643973</td>\n",
              "      <td>0.637813</td>\n",
              "      <td>0.746112</td>\n",
              "      <td>0.609898</td>\n",
              "      <td>0.575532</td>\n",
              "      <td>0.639404</td>\n",
              "      <td>0.694279</td>\n",
              "      <td>0.719769</td>\n",
              "      <td>0.687152</td>\n",
              "      <td>0.663382</td>\n",
              "      <td>0.541657</td>\n",
              "      <td>0.224542</td>\n",
              "    </tr>\n",
              "    <tr>\n",
              "      <th>191172</th>\n",
              "      <td>ma3ndg41</td>\n",
              "      <td>0.850092</td>\n",
              "      <td>0.799343</td>\n",
              "      <td>0.616650</td>\n",
              "      <td>0.725864</td>\n",
              "      <td>0.754112</td>\n",
              "      <td>0.663770</td>\n",
              "      <td>0.827476</td>\n",
              "      <td>0.820969</td>\n",
              "      <td>0.716526</td>\n",
              "      <td>0.812072</td>\n",
              "      <td>0.809880</td>\n",
              "      <td>0.774469</td>\n",
              "      <td>0.561903</td>\n",
              "      <td>0.761202</td>\n",
              "      <td>0.731910</td>\n",
              "      <td>0.501808</td>\n",
              "      <td>0.623038</td>\n",
              "      <td>0.738016</td>\n",
              "      <td>0.778583</td>\n",
              "      <td>0.745208</td>\n",
              "      <td>0.773849</td>\n",
              "      <td>0.641685</td>\n",
              "      <td>0.718069</td>\n",
              "      <td>0.660087</td>\n",
              "      <td>0.796883</td>\n",
              "      <td>0.809641</td>\n",
              "      <td>0.417493</td>\n",
              "      <td>0.587168</td>\n",
              "      <td>0.852018</td>\n",
              "      <td>0.784274</td>\n",
              "      <td>0.776513</td>\n",
              "      <td>0.772021</td>\n",
              "      <td>0.820081</td>\n",
              "      <td>0.841753</td>\n",
              "      <td>0.727239</td>\n",
              "      <td>0.757053</td>\n",
              "      <td>0.789810</td>\n",
              "      <td>0.825589</td>\n",
              "      <td>0.817259</td>\n",
              "      <td>0.784786</td>\n",
              "      <td>0.852513</td>\n",
              "      <td>0.769411</td>\n",
              "      <td>0.693576</td>\n",
              "      <td>0.736352</td>\n",
              "      <td>0.850597</td>\n",
              "      <td>0.831782</td>\n",
              "      <td>0.745589</td>\n",
              "      <td>0.676431</td>\n",
              "      <td>0.718020</td>\n",
              "      <td>0.229489</td>\n",
              "    </tr>\n",
              "    <tr>\n",
              "      <th>191173</th>\n",
              "      <td>wh10285j</td>\n",
              "      <td>0.737630</td>\n",
              "      <td>0.675275</td>\n",
              "      <td>0.534926</td>\n",
              "      <td>0.696567</td>\n",
              "      <td>0.728463</td>\n",
              "      <td>0.573914</td>\n",
              "      <td>0.796877</td>\n",
              "      <td>0.718061</td>\n",
              "      <td>0.706373</td>\n",
              "      <td>0.762767</td>\n",
              "      <td>0.790566</td>\n",
              "      <td>0.752563</td>\n",
              "      <td>0.503755</td>\n",
              "      <td>0.719377</td>\n",
              "      <td>0.701447</td>\n",
              "      <td>0.509466</td>\n",
              "      <td>0.675998</td>\n",
              "      <td>0.759313</td>\n",
              "      <td>0.731671</td>\n",
              "      <td>0.739130</td>\n",
              "      <td>0.733073</td>\n",
              "      <td>0.673177</td>\n",
              "      <td>0.687832</td>\n",
              "      <td>0.677875</td>\n",
              "      <td>0.660550</td>\n",
              "      <td>0.654387</td>\n",
              "      <td>0.396902</td>\n",
              "      <td>0.495655</td>\n",
              "      <td>0.779283</td>\n",
              "      <td>0.717933</td>\n",
              "      <td>0.691894</td>\n",
              "      <td>0.641402</td>\n",
              "      <td>0.680533</td>\n",
              "      <td>0.767664</td>\n",
              "      <td>0.675471</td>\n",
              "      <td>0.679088</td>\n",
              "      <td>0.806511</td>\n",
              "      <td>0.706925</td>\n",
              "      <td>0.745150</td>\n",
              "      <td>0.707774</td>\n",
              "      <td>0.741961</td>\n",
              "      <td>0.635654</td>\n",
              "      <td>0.502933</td>\n",
              "      <td>0.662206</td>\n",
              "      <td>0.764296</td>\n",
              "      <td>0.708243</td>\n",
              "      <td>0.678629</td>\n",
              "      <td>0.682641</td>\n",
              "      <td>0.592771</td>\n",
              "      <td>0.100286</td>\n",
              "    </tr>\n",
              "    <tr>\n",
              "      <th>191174</th>\n",
              "      <td>pnl9th2c</td>\n",
              "      <td>0.726117</td>\n",
              "      <td>0.657543</td>\n",
              "      <td>0.422578</td>\n",
              "      <td>0.664960</td>\n",
              "      <td>0.547013</td>\n",
              "      <td>0.517723</td>\n",
              "      <td>0.718060</td>\n",
              "      <td>0.769886</td>\n",
              "      <td>0.563741</td>\n",
              "      <td>0.700735</td>\n",
              "      <td>0.600793</td>\n",
              "      <td>0.672735</td>\n",
              "      <td>0.404001</td>\n",
              "      <td>0.710908</td>\n",
              "      <td>0.612245</td>\n",
              "      <td>0.356204</td>\n",
              "      <td>0.452969</td>\n",
              "      <td>0.644551</td>\n",
              "      <td>0.671209</td>\n",
              "      <td>0.668646</td>\n",
              "      <td>0.662939</td>\n",
              "      <td>0.586544</td>\n",
              "      <td>0.580037</td>\n",
              "      <td>0.551261</td>\n",
              "      <td>0.601774</td>\n",
              "      <td>0.654951</td>\n",
              "      <td>0.321499</td>\n",
              "      <td>0.552741</td>\n",
              "      <td>0.751985</td>\n",
              "      <td>0.636326</td>\n",
              "      <td>0.754297</td>\n",
              "      <td>0.743561</td>\n",
              "      <td>0.721114</td>\n",
              "      <td>0.704839</td>\n",
              "      <td>0.635318</td>\n",
              "      <td>0.588214</td>\n",
              "      <td>0.610439</td>\n",
              "      <td>0.667858</td>\n",
              "      <td>0.647541</td>\n",
              "      <td>0.725585</td>\n",
              "      <td>0.769715</td>\n",
              "      <td>0.615778</td>\n",
              "      <td>0.485179</td>\n",
              "      <td>0.600511</td>\n",
              "      <td>0.733521</td>\n",
              "      <td>0.732156</td>\n",
              "      <td>0.790965</td>\n",
              "      <td>0.646768</td>\n",
              "      <td>0.557852</td>\n",
              "      <td>0.081644</td>\n",
              "    </tr>\n",
              "  </tbody>\n",
              "</table>\n",
              "<p>191175 rows × 51 columns</p>\n",
              "</div>"
            ],
            "text/plain": [
              "          doc_id         1         2  ...        48        49        50\n",
              "0       ug7v899j  0.790289  0.560938  ...  0.739708  0.646190  0.090384\n",
              "1       02tnwd4m  0.877255  0.748425  ...  0.781438  0.685546  0.197357\n",
              "2       ejv2xln0  0.498984  0.430952  ...  0.480300  0.453456  0.045800\n",
              "3       2b73a28n  0.722706  0.707721  ...  0.658516  0.566715  0.165385\n",
              "4       9785vg6d  0.784565  0.694703  ...  0.708874  0.682017  0.218055\n",
              "...          ...       ...       ...  ...       ...       ...       ...\n",
              "191170  z4ro6lmh  0.794034  0.624479  ...  0.688082  0.566610  0.218233\n",
              "191171  hi8k8wvb  0.705673  0.617568  ...  0.663382  0.541657  0.224542\n",
              "191172  ma3ndg41  0.850092  0.799343  ...  0.676431  0.718020  0.229489\n",
              "191173  wh10285j  0.737630  0.675275  ...  0.682641  0.592771  0.100286\n",
              "191174  pnl9th2c  0.726117  0.657543  ...  0.646768  0.557852  0.081644\n",
              "\n",
              "[191175 rows x 51 columns]"
            ]
          },
          "metadata": {
            "tags": []
          },
          "execution_count": 48
        }
      ]
    },
    {
      "cell_type": "code",
      "metadata": {
        "id": "FJDEanQfcWtQ"
      },
      "source": [
        "c = all_sims.melt(\n",
        "    id_vars=['doc_id'],\n",
        "    var_name='topic',\n",
        "    value_name='similarity',\n",
        ")\n",
        "\n",
        "c.columns = ['document_id', 'topic', 'similarity']\n",
        "new_results = pd.merge(c, df_relevances, left_on=['document_id', 'topic'], right_on=['document_id', 'topic'])\n",
        "del new_results['judgement']\n",
        "nae = np.array(new_results)\n",
        "results = []\n",
        "for i, row in enumerate(nae):\n",
        "  results.append(f'{row[1]} 0 {row[0]} 0 {row[2]} 0')"
      ],
      "execution_count": 49,
      "outputs": []
    },
    {
      "cell_type": "code",
      "metadata": {
        "id": "OD0ffQYHiwQD"
      },
      "source": [
        "# Write results to file\n",
        "with open('results_gensim_20ep.txt', 'w') as f:\n",
        "    f.write('\\n'.join(results))"
      ],
      "execution_count": 50,
      "outputs": []
    },
    {
      "cell_type": "code",
      "metadata": {
        "id": "5WPwkDn_o2xS",
        "outputId": "adf64d9e-e3ce-4896-f8b4-19c10b86a624",
        "colab": {
          "base_uri": "https://localhost:8080/"
        }
      },
      "source": [
        "from sentence_transformers import SentenceTransformer\n",
        "model = SentenceTransformer('bert-base-nli-mean-tokens')\n",
        "sentences = ['This framework generates embeddings for each input sentence',\n",
        "    'Sentences are passed as a list of string.', \n",
        "    'The quick brown fox jumps over the lazy dog.']\n",
        "sentence_embeddings = model.encode(sentences)\n",
        "\n",
        "print(\"Sentence embeddings:\")\n",
        "print(sentence_embeddings)"
      ],
      "execution_count": 52,
      "outputs": [
        {
          "output_type": "stream",
          "text": [
            "100%|██████████| 405M/405M [00:26<00:00, 15.5MB/s]\n"
          ],
          "name": "stderr"
        },
        {
          "output_type": "stream",
          "text": [
            "Sentence embeddings:\n",
            "[[-0.10409425  0.5274767   1.1797731  ... -0.43389115 -0.6945233\n",
            "   0.5386927 ]\n",
            " [-0.13118456 -0.17390285  1.1052188  ...  0.02624461 -0.00269846\n",
            "   0.916111  ]\n",
            " [-0.7489929   0.71891737 -1.039457   ...  0.15582633  1.0202514\n",
            "   0.09790451]]\n"
          ],
          "name": "stdout"
        }
      ]
    },
    {
      "cell_type": "code",
      "metadata": {
        "id": "jxshy8fbo-G-"
      },
      "source": [
        ""
      ],
      "execution_count": null,
      "outputs": []
    }
  ]
}