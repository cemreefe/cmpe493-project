{
  "nbformat": 4,
  "nbformat_minor": 0,
  "metadata": {
    "colab": {
      "name": "Copy of 493-playground.ipynb",
      "provenance": [],
      "collapsed_sections": [],
      "toc_visible": true,
      "include_colab_link": true
    },
    "kernelspec": {
      "name": "python3",
      "display_name": "Python 3"
    }
  },
  "cells": [
    {
      "cell_type": "markdown",
      "metadata": {
        "id": "view-in-github",
        "colab_type": "text"
      },
      "source": [
        "<a href=\"https://colab.research.google.com/github/cemreefe/cmpe493-project/blob/main/word_embeddings.ipynb\" target=\"_parent\"><img src=\"https://colab.research.google.com/assets/colab-badge.svg\" alt=\"Open In Colab\"/></a>"
      ]
    },
    {
      "cell_type": "code",
      "metadata": {
        "colab": {
          "base_uri": "https://localhost:8080/"
        },
        "id": "JVZLCZdmBY78",
        "outputId": "562b299a-ea80-41ce-8f73-ec67ac51c772"
      },
      "source": [
        "!pip3 install xmltodict\n",
        "\n",
        "import os\n",
        "import io   \n",
        "import re\n",
        "import json\n",
        "import math\n",
        "import pickle\n",
        "import string\n",
        "import tarfile\n",
        "import xmltodict\n",
        "import numpy as np\n",
        "import pandas as pd\n",
        "\n",
        "import nltk\n",
        "from nltk.stem.porter import PorterStemmer\n",
        "from nltk.corpus import stopwords"
      ],
      "execution_count": 1,
      "outputs": [
        {
          "output_type": "stream",
          "text": [
            "Requirement already satisfied: xmltodict in /usr/local/lib/python3.6/dist-packages (0.12.0)\n"
          ],
          "name": "stdout"
        }
      ]
    },
    {
      "cell_type": "code",
      "metadata": {
        "colab": {
          "base_uri": "https://localhost:8080/"
        },
        "id": "vF1KRp5a_KRn",
        "outputId": "a0640f59-138b-46e3-9e25-55e5c19d42fc"
      },
      "source": [
        "from google.colab import drive\n",
        "drive.mount('/content/drive')"
      ],
      "execution_count": 2,
      "outputs": [
        {
          "output_type": "stream",
          "text": [
            "Drive already mounted at /content/drive; to attempt to forcibly remount, call drive.mount(\"/content/drive\", force_remount=True).\n"
          ],
          "name": "stdout"
        }
      ]
    },
    {
      "cell_type": "code",
      "metadata": {
        "id": "nQ5AG9XTGv3c"
      },
      "source": [
        "def read_file(path):\n",
        "  with open(path, 'r') as f:\n",
        "    return f.read()"
      ],
      "execution_count": 3,
      "outputs": []
    },
    {
      "cell_type": "code",
      "metadata": {
        "id": "fCj1rJ6bAjC2"
      },
      "source": [
        "if not os.path.exists('drive/MyDrive/CMPE/CMPE493'):\n",
        "  os.makedirs('drive/MyDrive/CMPE/CMPE493')"
      ],
      "execution_count": 4,
      "outputs": []
    },
    {
      "cell_type": "code",
      "metadata": {
        "id": "mm-aEzfN-53E"
      },
      "source": [
        "if not os.path.exists('drive/MyDrive/CMPE/CMPE493/topics-rnd5.xml'):\n",
        "  !curl https://ir.nist.gov/covidSubmit/data/topics-rnd5.xml --output drive/MyDrive/CMPE/CMPE493/topics-rnd5.xml\n",
        "\n",
        "if not os.path.exists('drive/MyDrive/CMPE/CMPE493/qrels-covid_d5_j0.5-5.txt'):\n",
        "  !curl https://ir.nist.gov/covidSubmit/data/qrels-covid_d5_j0.5-5.txt --output drive/MyDrive/CMPE/CMPE493/qrels-covid_d5_j0.5-5.txt\n",
        "\n",
        "if not os.path.exists('drive/MyDrive/CMPE/CMPE493/cord-19_2020-07-16.tar.gz'):\n",
        "  !curl https://ai2-semanticscholar-cord-19.s3-us-west-2.amazonaws.com/historical_releases/cord-19_2020-07-16.tar.gz --output drive/MyDrive/CMPE/CMPE493/cord-19_2020-07-16.tar.gz"
      ],
      "execution_count": 5,
      "outputs": []
    },
    {
      "cell_type": "code",
      "metadata": {
        "id": "GcQnwTCRBbv7"
      },
      "source": [
        "if not os.path.exists('2020-07-16'):\n",
        "  tar = tarfile.open('drive/MyDrive/CMPE/CMPE493/cord-19_2020-07-16.tar.gz', \"r:gz\")\n",
        "  tar.extractall()\n",
        "  tar.close()"
      ],
      "execution_count": 6,
      "outputs": []
    },
    {
      "cell_type": "code",
      "metadata": {
        "colab": {
          "base_uri": "https://localhost:8080/"
        },
        "id": "m_psEwqmCBb2",
        "outputId": "e607cecc-09cc-4c07-82a0-0351d20695b3"
      },
      "source": [
        "df_metadata = pd.read_csv('2020-07-16/metadata.csv')"
      ],
      "execution_count": 7,
      "outputs": [
        {
          "output_type": "stream",
          "text": [
            "/usr/local/lib/python3.6/dist-packages/IPython/core/interactiveshell.py:2718: DtypeWarning: Columns (1,4,5,6,13,14,15,16) have mixed types.Specify dtype option on import or set low_memory=False.\n",
            "  interactivity=interactivity, compiler=compiler, result=result)\n"
          ],
          "name": "stderr"
        }
      ]
    },
    {
      "cell_type": "code",
      "metadata": {
        "id": "sYc9bGgtOx-u"
      },
      "source": [
        "del df_metadata['sha'], df_metadata['source_x'], df_metadata['doi'], df_metadata['pmcid'], df_metadata['pubmed_id'], df_metadata['license'], df_metadata['publish_time'], df_metadata['authors'], df_metadata['journal'], df_metadata['mag_id'], df_metadata['who_covidence_id'], df_metadata['arxiv_id'], df_metadata['pdf_json_files'], df_metadata['pmc_json_files'], df_metadata['url'], df_metadata['s2_id']"
      ],
      "execution_count": 8,
      "outputs": []
    },
    {
      "cell_type": "code",
      "metadata": {
        "id": "cKt-HNIOji_W"
      },
      "source": [
        "df_metadata.drop_duplicates(subset='cord_uid', keep='first', inplace=True)"
      ],
      "execution_count": 9,
      "outputs": []
    },
    {
      "cell_type": "code",
      "metadata": {
        "id": "7I7QIYPDmov8",
        "colab": {
          "base_uri": "https://localhost:8080/",
          "height": 402
        },
        "outputId": "8cfcfc9e-dfaa-48a5-f17d-33254c58a443"
      },
      "source": [
        "df_metadata"
      ],
      "execution_count": 10,
      "outputs": [
        {
          "output_type": "execute_result",
          "data": {
            "text/html": [
              "<div>\n",
              "<style scoped>\n",
              "    .dataframe tbody tr th:only-of-type {\n",
              "        vertical-align: middle;\n",
              "    }\n",
              "\n",
              "    .dataframe tbody tr th {\n",
              "        vertical-align: top;\n",
              "    }\n",
              "\n",
              "    .dataframe thead th {\n",
              "        text-align: right;\n",
              "    }\n",
              "</style>\n",
              "<table border=\"1\" class=\"dataframe\">\n",
              "  <thead>\n",
              "    <tr style=\"text-align: right;\">\n",
              "      <th></th>\n",
              "      <th>cord_uid</th>\n",
              "      <th>title</th>\n",
              "      <th>abstract</th>\n",
              "    </tr>\n",
              "  </thead>\n",
              "  <tbody>\n",
              "    <tr>\n",
              "      <th>0</th>\n",
              "      <td>ug7v899j</td>\n",
              "      <td>Clinical features of culture-proven Mycoplasma...</td>\n",
              "      <td>OBJECTIVE: This retrospective chart review des...</td>\n",
              "    </tr>\n",
              "    <tr>\n",
              "      <th>1</th>\n",
              "      <td>02tnwd4m</td>\n",
              "      <td>Nitric oxide: a pro-inflammatory mediator in l...</td>\n",
              "      <td>Inflammatory diseases of the respiratory tract...</td>\n",
              "    </tr>\n",
              "    <tr>\n",
              "      <th>2</th>\n",
              "      <td>ejv2xln0</td>\n",
              "      <td>Surfactant protein-D and pulmonary host defense</td>\n",
              "      <td>Surfactant protein-D (SP-D) participates in th...</td>\n",
              "    </tr>\n",
              "    <tr>\n",
              "      <th>3</th>\n",
              "      <td>2b73a28n</td>\n",
              "      <td>Role of endothelin-1 in lung disease</td>\n",
              "      <td>Endothelin-1 (ET-1) is a 21 amino acid peptide...</td>\n",
              "    </tr>\n",
              "    <tr>\n",
              "      <th>4</th>\n",
              "      <td>9785vg6d</td>\n",
              "      <td>Gene expression in epithelial cells in respons...</td>\n",
              "      <td>Respiratory syncytial virus (RSV) and pneumoni...</td>\n",
              "    </tr>\n",
              "    <tr>\n",
              "      <th>...</th>\n",
              "      <td>...</td>\n",
              "      <td>...</td>\n",
              "      <td>...</td>\n",
              "    </tr>\n",
              "    <tr>\n",
              "      <th>192504</th>\n",
              "      <td>z4ro6lmh</td>\n",
              "      <td>Rapid radiological improvement of COVID-19 pne...</td>\n",
              "      <td>NaN</td>\n",
              "    </tr>\n",
              "    <tr>\n",
              "      <th>192505</th>\n",
              "      <td>hi8k8wvb</td>\n",
              "      <td>SARS E protein in phospholipid bilayers: an an...</td>\n",
              "      <td>Abstract We report on an anomalous X-ray refle...</td>\n",
              "    </tr>\n",
              "    <tr>\n",
              "      <th>192506</th>\n",
              "      <td>ma3ndg41</td>\n",
              "      <td>Italian Society of Interventional Cardiology (...</td>\n",
              "      <td>COVID‐19 pandemic raised the issue to guarante...</td>\n",
              "    </tr>\n",
              "    <tr>\n",
              "      <th>192507</th>\n",
              "      <td>wh10285j</td>\n",
              "      <td>Nimble, Together: A Training Program's Respons...</td>\n",
              "      <td>NaN</td>\n",
              "    </tr>\n",
              "    <tr>\n",
              "      <th>192508</th>\n",
              "      <td>pnl9th2c</td>\n",
              "      <td>Vascular Life during the COVID-19 Pandemic Rem...</td>\n",
              "      <td>NaN</td>\n",
              "    </tr>\n",
              "  </tbody>\n",
              "</table>\n",
              "<p>191175 rows × 3 columns</p>\n",
              "</div>"
            ],
            "text/plain": [
              "        cord_uid  ...                                           abstract\n",
              "0       ug7v899j  ...  OBJECTIVE: This retrospective chart review des...\n",
              "1       02tnwd4m  ...  Inflammatory diseases of the respiratory tract...\n",
              "2       ejv2xln0  ...  Surfactant protein-D (SP-D) participates in th...\n",
              "3       2b73a28n  ...  Endothelin-1 (ET-1) is a 21 amino acid peptide...\n",
              "4       9785vg6d  ...  Respiratory syncytial virus (RSV) and pneumoni...\n",
              "...          ...  ...                                                ...\n",
              "192504  z4ro6lmh  ...                                                NaN\n",
              "192505  hi8k8wvb  ...  Abstract We report on an anomalous X-ray refle...\n",
              "192506  ma3ndg41  ...  COVID‐19 pandemic raised the issue to guarante...\n",
              "192507  wh10285j  ...                                                NaN\n",
              "192508  pnl9th2c  ...                                                NaN\n",
              "\n",
              "[191175 rows x 3 columns]"
            ]
          },
          "metadata": {
            "tags": []
          },
          "execution_count": 10
        }
      ]
    },
    {
      "cell_type": "code",
      "metadata": {
        "colab": {
          "base_uri": "https://localhost:8080/",
          "height": 402
        },
        "id": "EGkG7afREkla",
        "outputId": "a8cf1a2d-be89-43cd-8941-f644cf87b0e4"
      },
      "source": [
        "topic_relevances = 'topic iter document_id judgement\\n' + read_file('drive/MyDrive/CMPE/CMPE493/qrels-covid_d5_j0.5-5.txt')\n",
        "\n",
        "df_relevances = pd.read_csv(  io.StringIO(topic_relevances)  , sep=\" \")\n",
        "del df_relevances['iter']\n",
        "\n",
        "df_relevances"
      ],
      "execution_count": 11,
      "outputs": [
        {
          "output_type": "execute_result",
          "data": {
            "text/html": [
              "<div>\n",
              "<style scoped>\n",
              "    .dataframe tbody tr th:only-of-type {\n",
              "        vertical-align: middle;\n",
              "    }\n",
              "\n",
              "    .dataframe tbody tr th {\n",
              "        vertical-align: top;\n",
              "    }\n",
              "\n",
              "    .dataframe thead th {\n",
              "        text-align: right;\n",
              "    }\n",
              "</style>\n",
              "<table border=\"1\" class=\"dataframe\">\n",
              "  <thead>\n",
              "    <tr style=\"text-align: right;\">\n",
              "      <th></th>\n",
              "      <th>topic</th>\n",
              "      <th>document_id</th>\n",
              "      <th>judgement</th>\n",
              "    </tr>\n",
              "  </thead>\n",
              "  <tbody>\n",
              "    <tr>\n",
              "      <th>0</th>\n",
              "      <td>1</td>\n",
              "      <td>005b2j4b</td>\n",
              "      <td>2</td>\n",
              "    </tr>\n",
              "    <tr>\n",
              "      <th>1</th>\n",
              "      <td>1</td>\n",
              "      <td>00fmeepz</td>\n",
              "      <td>1</td>\n",
              "    </tr>\n",
              "    <tr>\n",
              "      <th>2</th>\n",
              "      <td>1</td>\n",
              "      <td>010vptx3</td>\n",
              "      <td>2</td>\n",
              "    </tr>\n",
              "    <tr>\n",
              "      <th>3</th>\n",
              "      <td>1</td>\n",
              "      <td>0194oljo</td>\n",
              "      <td>1</td>\n",
              "    </tr>\n",
              "    <tr>\n",
              "      <th>4</th>\n",
              "      <td>1</td>\n",
              "      <td>021q9884</td>\n",
              "      <td>1</td>\n",
              "    </tr>\n",
              "    <tr>\n",
              "      <th>...</th>\n",
              "      <td>...</td>\n",
              "      <td>...</td>\n",
              "      <td>...</td>\n",
              "    </tr>\n",
              "    <tr>\n",
              "      <th>69313</th>\n",
              "      <td>50</td>\n",
              "      <td>zvop8bxh</td>\n",
              "      <td>2</td>\n",
              "    </tr>\n",
              "    <tr>\n",
              "      <th>69314</th>\n",
              "      <td>50</td>\n",
              "      <td>zwf26o63</td>\n",
              "      <td>1</td>\n",
              "    </tr>\n",
              "    <tr>\n",
              "      <th>69315</th>\n",
              "      <td>50</td>\n",
              "      <td>zwsvlnwe</td>\n",
              "      <td>0</td>\n",
              "    </tr>\n",
              "    <tr>\n",
              "      <th>69316</th>\n",
              "      <td>50</td>\n",
              "      <td>zxr01yln</td>\n",
              "      <td>1</td>\n",
              "    </tr>\n",
              "    <tr>\n",
              "      <th>69317</th>\n",
              "      <td>50</td>\n",
              "      <td>zz8wvos9</td>\n",
              "      <td>1</td>\n",
              "    </tr>\n",
              "  </tbody>\n",
              "</table>\n",
              "<p>69318 rows × 3 columns</p>\n",
              "</div>"
            ],
            "text/plain": [
              "       topic document_id  judgement\n",
              "0          1    005b2j4b          2\n",
              "1          1    00fmeepz          1\n",
              "2          1    010vptx3          2\n",
              "3          1    0194oljo          1\n",
              "4          1    021q9884          1\n",
              "...      ...         ...        ...\n",
              "69313     50    zvop8bxh          2\n",
              "69314     50    zwf26o63          1\n",
              "69315     50    zwsvlnwe          0\n",
              "69316     50    zxr01yln          1\n",
              "69317     50    zz8wvos9          1\n",
              "\n",
              "[69318 rows x 3 columns]"
            ]
          },
          "metadata": {
            "tags": []
          },
          "execution_count": 11
        }
      ]
    },
    {
      "cell_type": "code",
      "metadata": {
        "id": "BfQ3a3yIItFa"
      },
      "source": [
        "topics_obj = xmltodict.parse(read_file('drive/MyDrive/CMPE/CMPE493/topics-rnd5.xml'))\n",
        "topics     = json.loads(json.dumps(topics_obj))\n",
        "\n",
        "topics_dict = {}\n",
        "for topic in topics['topics']['topic']:\n",
        "  # a topic has the following fields:\n",
        "  #  * @number\n",
        "  #  * narrative\n",
        "  #  * query\n",
        "  #  * question\n",
        "  topics_dict[topic['@number']] = topic['query'] + ' ' + topic['question'] + ' ' + topic['narrative']"
      ],
      "execution_count": 12,
      "outputs": []
    },
    {
      "cell_type": "code",
      "metadata": {
        "colab": {
          "base_uri": "https://localhost:8080/"
        },
        "id": "Ym_9xG3zVjrk",
        "outputId": "845ef668-42e3-437b-e30f-5f07d3a029da"
      },
      "source": [
        "len(topics_dict)"
      ],
      "execution_count": 13,
      "outputs": [
        {
          "output_type": "execute_result",
          "data": {
            "text/plain": [
              "50"
            ]
          },
          "metadata": {
            "tags": []
          },
          "execution_count": 13
        }
      ]
    },
    {
      "cell_type": "markdown",
      "metadata": {
        "id": "iwwehnTLLIyy"
      },
      "source": [
        "# Data so far\n",
        "\n",
        "* `topics_dict` \n",
        "      has `topic-id` for keys, and topic description for values\n",
        "* `df_relevances` \n",
        "      has the following three columns:\n",
        "      topic\tdocument-id\tjudgement\n",
        "* `df_metadata`\n",
        "      holds information about the documents\n",
        "      has the following three columns (others are deleted):\n",
        "      cord_uid\ttitle\tabstract\n"
      ]
    },
    {
      "cell_type": "code",
      "metadata": {
        "colab": {
          "base_uri": "https://localhost:8080/"
        },
        "id": "moo9WB8LY5R4",
        "outputId": "c116da01-78d4-4eaa-df98-f6d94ed14fcd"
      },
      "source": [
        "nltk.download('stopwords')\n",
        "#stopwords.words('english')"
      ],
      "execution_count": 14,
      "outputs": [
        {
          "output_type": "stream",
          "text": [
            "[nltk_data] Downloading package stopwords to /root/nltk_data...\n",
            "[nltk_data]   Package stopwords is already up-to-date!\n"
          ],
          "name": "stdout"
        },
        {
          "output_type": "execute_result",
          "data": {
            "text/plain": [
              "True"
            ]
          },
          "metadata": {
            "tags": []
          },
          "execution_count": 14
        }
      ]
    },
    {
      "cell_type": "code",
      "metadata": {
        "id": "nfBFOSwlX9w5"
      },
      "source": [
        "docs = np.array(df_metadata)\n",
        "contents = {}\n",
        "\n",
        "for doc in docs:\n",
        "  contents[doc[0]] = f'{doc[1]} {doc[2]}'"
      ],
      "execution_count": 15,
      "outputs": []
    },
    {
      "cell_type": "code",
      "metadata": {
        "id": "R7h_TY6PvwWY"
      },
      "source": [
        "porter_stemmer = PorterStemmer()\n",
        "sw = stopwords.words('english')\n",
        "\n",
        "# preprocessing\n",
        "# case folding\n",
        "# punctuation removal\n",
        "# number deletion\n",
        "# stemming & stopword removal\n",
        "def preprocess(s):\n",
        "  s = s.casefold()\n",
        "  s = s.translate(str.maketrans(string.punctuation, ' ' * len(string.punctuation)))\n",
        "  s = re.sub(\"\\d+\", \"\", s) #Delete numbers\n",
        "  s = ' '.join([porter_stemmer.stem(word) for word in s.split() if word not in sw and word != 'nan'])\n",
        "  return s"
      ],
      "execution_count": 16,
      "outputs": []
    },
    {
      "cell_type": "markdown",
      "metadata": {
        "id": "c4xzgaOSNnz1"
      },
      "source": [
        "### `contents` is a dictionary with document id keys and f'{document title} {document content}' values.\n",
        "```\n",
        "document_id: f'{document_title} {document_content}'\n",
        "```"
      ]
    },
    {
      "cell_type": "code",
      "metadata": {
        "id": "s1-SnUFDTmjZ"
      },
      "source": [
        "################################################## WORD EMBEDDINGS ##########################################################"
      ],
      "execution_count": 17,
      "outputs": []
    },
    {
      "cell_type": "code",
      "metadata": {
        "colab": {
          "base_uri": "https://localhost:8080/"
        },
        "id": "-mCm_i31NjFn",
        "outputId": "ab770f71-2e74-4a05-bb7a-eecd04853cd5"
      },
      "source": [
        "!python3 -m spacy download en_core_web_md"
      ],
      "execution_count": 18,
      "outputs": [
        {
          "output_type": "stream",
          "text": [
            "Requirement already satisfied: en_core_web_md==2.2.5 from https://github.com/explosion/spacy-models/releases/download/en_core_web_md-2.2.5/en_core_web_md-2.2.5.tar.gz#egg=en_core_web_md==2.2.5 in /usr/local/lib/python3.6/dist-packages (2.2.5)\n",
            "Requirement already satisfied: spacy>=2.2.2 in /usr/local/lib/python3.6/dist-packages (from en_core_web_md==2.2.5) (2.2.4)\n",
            "Requirement already satisfied: cymem<2.1.0,>=2.0.2 in /usr/local/lib/python3.6/dist-packages (from spacy>=2.2.2->en_core_web_md==2.2.5) (2.0.5)\n",
            "Requirement already satisfied: preshed<3.1.0,>=3.0.2 in /usr/local/lib/python3.6/dist-packages (from spacy>=2.2.2->en_core_web_md==2.2.5) (3.0.5)\n",
            "Requirement already satisfied: numpy>=1.15.0 in /usr/local/lib/python3.6/dist-packages (from spacy>=2.2.2->en_core_web_md==2.2.5) (1.19.5)\n",
            "Requirement already satisfied: catalogue<1.1.0,>=0.0.7 in /usr/local/lib/python3.6/dist-packages (from spacy>=2.2.2->en_core_web_md==2.2.5) (1.0.0)\n",
            "Requirement already satisfied: setuptools in /usr/local/lib/python3.6/dist-packages (from spacy>=2.2.2->en_core_web_md==2.2.5) (53.0.0)\n",
            "Requirement already satisfied: plac<1.2.0,>=0.9.6 in /usr/local/lib/python3.6/dist-packages (from spacy>=2.2.2->en_core_web_md==2.2.5) (1.1.3)\n",
            "Requirement already satisfied: blis<0.5.0,>=0.4.0 in /usr/local/lib/python3.6/dist-packages (from spacy>=2.2.2->en_core_web_md==2.2.5) (0.4.1)\n",
            "Requirement already satisfied: requests<3.0.0,>=2.13.0 in /usr/local/lib/python3.6/dist-packages (from spacy>=2.2.2->en_core_web_md==2.2.5) (2.23.0)\n",
            "Requirement already satisfied: wasabi<1.1.0,>=0.4.0 in /usr/local/lib/python3.6/dist-packages (from spacy>=2.2.2->en_core_web_md==2.2.5) (0.8.2)\n",
            "Requirement already satisfied: thinc==7.4.0 in /usr/local/lib/python3.6/dist-packages (from spacy>=2.2.2->en_core_web_md==2.2.5) (7.4.0)\n",
            "Requirement already satisfied: tqdm<5.0.0,>=4.38.0 in /usr/local/lib/python3.6/dist-packages (from spacy>=2.2.2->en_core_web_md==2.2.5) (4.41.1)\n",
            "Requirement already satisfied: srsly<1.1.0,>=1.0.2 in /usr/local/lib/python3.6/dist-packages (from spacy>=2.2.2->en_core_web_md==2.2.5) (1.0.5)\n",
            "Requirement already satisfied: murmurhash<1.1.0,>=0.28.0 in /usr/local/lib/python3.6/dist-packages (from spacy>=2.2.2->en_core_web_md==2.2.5) (1.0.5)\n",
            "Requirement already satisfied: importlib-metadata>=0.20; python_version < \"3.8\" in /usr/local/lib/python3.6/dist-packages (from catalogue<1.1.0,>=0.0.7->spacy>=2.2.2->en_core_web_md==2.2.5) (3.4.0)\n",
            "Requirement already satisfied: certifi>=2017.4.17 in /usr/local/lib/python3.6/dist-packages (from requests<3.0.0,>=2.13.0->spacy>=2.2.2->en_core_web_md==2.2.5) (2020.12.5)\n",
            "Requirement already satisfied: chardet<4,>=3.0.2 in /usr/local/lib/python3.6/dist-packages (from requests<3.0.0,>=2.13.0->spacy>=2.2.2->en_core_web_md==2.2.5) (3.0.4)\n",
            "Requirement already satisfied: urllib3!=1.25.0,!=1.25.1,<1.26,>=1.21.1 in /usr/local/lib/python3.6/dist-packages (from requests<3.0.0,>=2.13.0->spacy>=2.2.2->en_core_web_md==2.2.5) (1.24.3)\n",
            "Requirement already satisfied: idna<3,>=2.5 in /usr/local/lib/python3.6/dist-packages (from requests<3.0.0,>=2.13.0->spacy>=2.2.2->en_core_web_md==2.2.5) (2.10)\n",
            "Requirement already satisfied: zipp>=0.5 in /usr/local/lib/python3.6/dist-packages (from importlib-metadata>=0.20; python_version < \"3.8\"->catalogue<1.1.0,>=0.0.7->spacy>=2.2.2->en_core_web_md==2.2.5) (3.4.0)\n",
            "Requirement already satisfied: typing-extensions>=3.6.4; python_version < \"3.8\" in /usr/local/lib/python3.6/dist-packages (from importlib-metadata>=0.20; python_version < \"3.8\"->catalogue<1.1.0,>=0.0.7->spacy>=2.2.2->en_core_web_md==2.2.5) (3.7.4.3)\n",
            "\u001b[38;5;2m✔ Download and installation successful\u001b[0m\n",
            "You can now load the model via spacy.load('en_core_web_md')\n"
          ],
          "name": "stdout"
        }
      ]
    },
    {
      "cell_type": "code",
      "metadata": {
        "id": "5U_ykgj7QsKv"
      },
      "source": [
        "import spacy\n",
        "\n",
        "# Load the spacy model that you have installed\n",
        "nlp = spacy.load('en_core_web_md')"
      ],
      "execution_count": 19,
      "outputs": []
    },
    {
      "cell_type": "code",
      "metadata": {
        "id": "5DGqizMqdMih"
      },
      "source": [
        "nlp_stripped = spacy.load('en_core_web_md', disable=['tagger', 'parser', 'ner', 'entity_linker', 'entity_ruler', 'textcat', 'lemmatizer', 'morphologizer', 'attribute_ruler', 'senter', 'sentencizer', 'tok2vec', 'transformer'])"
      ],
      "execution_count": 20,
      "outputs": []
    },
    {
      "cell_type": "code",
      "metadata": {
        "id": "SBRUyLX2eCy1",
        "outputId": "96df4464-d28a-4474-f612-3e44041f1af0",
        "colab": {
          "base_uri": "https://localhost:8080/"
        }
      },
      "source": [
        "%%time\n",
        "docx = nlp_stripped('i will only be parsed')"
      ],
      "execution_count": 21,
      "outputs": [
        {
          "output_type": "stream",
          "text": [
            "CPU times: user 385 µs, sys: 0 ns, total: 385 µs\n",
            "Wall time: 465 µs\n"
          ],
          "name": "stdout"
        }
      ]
    },
    {
      "cell_type": "code",
      "metadata": {
        "id": "BElTlCz0dQKr",
        "outputId": "0ac4e2c8-4d1f-4cd1-cdfd-7f0e3fdebc46",
        "colab": {
          "base_uri": "https://localhost:8080/"
        }
      },
      "source": [
        "%%time\n",
        "docy = nlp('i will only be parsed')"
      ],
      "execution_count": 22,
      "outputs": [
        {
          "output_type": "stream",
          "text": [
            "CPU times: user 15.8 ms, sys: 915 µs, total: 16.7 ms\n",
            "Wall time: 26.8 ms\n"
          ],
          "name": "stdout"
        }
      ]
    },
    {
      "cell_type": "code",
      "metadata": {
        "id": "k7uDsWsReiUE"
      },
      "source": [
        "# they yield the same vectors\n",
        "assert np.prod(docx.vector == docy.vector) == 1"
      ],
      "execution_count": 23,
      "outputs": []
    },
    {
      "cell_type": "code",
      "metadata": {
        "id": "ZWa66yiYftTt"
      },
      "source": [
        "# they yield the same vectors\n",
        "assert np.prod(list(nlp_stripped.pipe(list(contents.values())[:5]))[0].vector == list(nlp.pipe(list(contents.values())[:5]))[0].vector)"
      ],
      "execution_count": 37,
      "outputs": []
    },
    {
      "cell_type": "code",
      "metadata": {
        "id": "y3fDrTk8gqfw",
        "outputId": "fdfcd045-bf32-4cd2-d110-627351dad986",
        "colab": {
          "base_uri": "https://localhost:8080/"
        }
      },
      "source": [
        "%%time\n",
        "preprocessed_contents = list(map(preprocess, contents.values()))"
      ],
      "execution_count": 38,
      "outputs": [
        {
          "output_type": "stream",
          "text": [
            "CPU times: user 7min 11s, sys: 946 ms, total: 7min 12s\n",
            "Wall time: 7min 13s\n"
          ],
          "name": "stdout"
        }
      ]
    },
    {
      "cell_type": "code",
      "metadata": {
        "id": "gWroOfXNqZ2q",
        "outputId": "ce7eb9c4-e846-491f-baf2-1f6034decaee",
        "colab": {
          "base_uri": "https://localhost:8080/"
        }
      },
      "source": [
        "%%time\n",
        "preprocessed_topic_contents = list(map(preprocess, topics_dict.values()))"
      ],
      "execution_count": 39,
      "outputs": [
        {
          "output_type": "stream",
          "text": [
            "CPU times: user 34.1 ms, sys: 1.95 ms, total: 36 ms\n",
            "Wall time: 38.4 ms\n"
          ],
          "name": "stdout"
        }
      ]
    },
    {
      "cell_type": "code",
      "metadata": {
        "colab": {
          "base_uri": "https://localhost:8080/"
        },
        "id": "1GDjpRKAPkvF",
        "outputId": "952d7f68-aef9-463c-a12a-d8fdcd55c40e"
      },
      "source": [
        "%%time\n",
        "doc_content_list = []\n",
        "doc_content_list = list(nlp_stripped.pipe(list(contents.values())[:]))"
      ],
      "execution_count": 26,
      "outputs": [
        {
          "output_type": "stream",
          "text": [
            "CPU times: user 1min 46s, sys: 6.31 s, total: 1min 53s\n",
            "Wall time: 1min 53s\n"
          ],
          "name": "stdout"
        }
      ]
    },
    {
      "cell_type": "code",
      "metadata": {
        "colab": {
          "base_uri": "https://localhost:8080/"
        },
        "id": "INwiyB-KauPN",
        "outputId": "61de8696-a38e-4963-ee92-51d17d8dcd8e"
      },
      "source": [
        "%%time\n",
        "topic_content_list = []\n",
        "topic_content_list = list(nlp.pipe(list(topics_dict.values())[:]))"
      ],
      "execution_count": 27,
      "outputs": [
        {
          "output_type": "stream",
          "text": [
            "CPU times: user 342 ms, sys: 45.9 ms, total: 388 ms\n",
            "Wall time: 389 ms\n"
          ],
          "name": "stdout"
        }
      ]
    },
    {
      "cell_type": "code",
      "metadata": {
        "id": "l0oH796aXpMo"
      },
      "source": [
        "from sklearn.metrics.pairwise import cosine_similarity"
      ],
      "execution_count": 28,
      "outputs": []
    },
    {
      "cell_type": "code",
      "metadata": {
        "id": "4UDSeKJTiQWG"
      },
      "source": [
        "%%time\n",
        "doc_vector_list = list(map(lambda x: x.vector, doc_content_list))\n",
        "topic_vector_list = list(map(lambda x: x.vector, topic_content_list))"
      ],
      "execution_count": 29,
      "outputs": []
    },
    {
      "cell_type": "code",
      "metadata": {
        "colab": {
          "base_uri": "https://localhost:8080/"
        },
        "id": "HGslBdfUa2_-",
        "outputId": "b7ead57f-8d8a-4f42-9243-df9d13dfa29f"
      },
      "source": [
        "%%time\n",
        "sims = cosine_similarity(doc_vector_list, topic_vector_list)"
      ],
      "execution_count": 30,
      "outputs": [
        {
          "output_type": "stream",
          "text": [
            "CPU times: user 749 ms, sys: 1.31 s, total: 2.06 s\n",
            "Wall time: 1.61 s\n"
          ],
          "name": "stdout"
        }
      ]
    },
    {
      "cell_type": "code",
      "metadata": {
        "id": "q_OcDplclyUJ",
        "outputId": "3c32d15c-998c-43ef-8b78-b5838f009b33",
        "colab": {
          "base_uri": "https://localhost:8080/"
        }
      },
      "source": [
        "sims.shape"
      ],
      "execution_count": 31,
      "outputs": [
        {
          "output_type": "execute_result",
          "data": {
            "text/plain": [
              "(191175, 50)"
            ]
          },
          "metadata": {
            "tags": []
          },
          "execution_count": 31
        }
      ]
    },
    {
      "cell_type": "code",
      "metadata": {
        "id": "Z58tacXRsQ81",
        "outputId": "b7ca5f19-357a-4204-dbc1-f25b4e1cd549",
        "colab": {
          "base_uri": "https://localhost:8080/",
          "height": 286
        }
      },
      "source": [
        "import matplotlib.pyplot as plt\n",
        "plt.imshow(sims[:100])"
      ],
      "execution_count": 43,
      "outputs": [
        {
          "output_type": "execute_result",
          "data": {
            "text/plain": [
              "<matplotlib.image.AxesImage at 0x7f11e29cda90>"
            ]
          },
          "metadata": {
            "tags": []
          },
          "execution_count": 43
        },
        {
          "output_type": "display_data",
          "data": {
            "image/png": "[encoded data removed]",
            "text/plain": [
              "<Figure size 432x288 with 1 Axes>"
            ]
          },
          "metadata": {
            "tags": [],
            "needs_background": "light"
          }
        }
      ]
    },
    {
      "cell_type": "code",
      "metadata": {
        "id": "50IGnGegrva4",
        "outputId": "ffcf7590-3d97-4704-cd04-8f0a550d1922",
        "colab": {
          "base_uri": "https://localhost:8080/",
          "height": 422
        }
      },
      "source": [
        "all_sims = pd.DataFrame(sims, columns=list(np.array(range(50))+1))\n",
        "all_sims.insert(loc=0, column='doc_id', value=contents.keys())\n",
        "all_sims"
      ],
      "execution_count": 46,
      "outputs": [
        {
          "output_type": "execute_result",
          "data": {
            "text/html": [
              "<div>\n",
              "<style scoped>\n",
              "    .dataframe tbody tr th:only-of-type {\n",
              "        vertical-align: middle;\n",
              "    }\n",
              "\n",
              "    .dataframe tbody tr th {\n",
              "        vertical-align: top;\n",
              "    }\n",
              "\n",
              "    .dataframe thead th {\n",
              "        text-align: right;\n",
              "    }\n",
              "</style>\n",
              "<table border=\"1\" class=\"dataframe\">\n",
              "  <thead>\n",
              "    <tr style=\"text-align: right;\">\n",
              "      <th></th>\n",
              "      <th>doc_id</th>\n",
              "      <th>1</th>\n",
              "      <th>2</th>\n",
              "      <th>3</th>\n",
              "      <th>4</th>\n",
              "      <th>5</th>\n",
              "      <th>6</th>\n",
              "      <th>7</th>\n",
              "      <th>8</th>\n",
              "      <th>9</th>\n",
              "      <th>10</th>\n",
              "      <th>11</th>\n",
              "      <th>12</th>\n",
              "      <th>13</th>\n",
              "      <th>14</th>\n",
              "      <th>15</th>\n",
              "      <th>16</th>\n",
              "      <th>17</th>\n",
              "      <th>18</th>\n",
              "      <th>19</th>\n",
              "      <th>20</th>\n",
              "      <th>21</th>\n",
              "      <th>22</th>\n",
              "      <th>23</th>\n",
              "      <th>24</th>\n",
              "      <th>25</th>\n",
              "      <th>26</th>\n",
              "      <th>27</th>\n",
              "      <th>28</th>\n",
              "      <th>29</th>\n",
              "      <th>30</th>\n",
              "      <th>31</th>\n",
              "      <th>32</th>\n",
              "      <th>33</th>\n",
              "      <th>34</th>\n",
              "      <th>35</th>\n",
              "      <th>36</th>\n",
              "      <th>37</th>\n",
              "      <th>38</th>\n",
              "      <th>39</th>\n",
              "      <th>40</th>\n",
              "      <th>41</th>\n",
              "      <th>42</th>\n",
              "      <th>43</th>\n",
              "      <th>44</th>\n",
              "      <th>45</th>\n",
              "      <th>46</th>\n",
              "      <th>47</th>\n",
              "      <th>48</th>\n",
              "      <th>49</th>\n",
              "      <th>50</th>\n",
              "    </tr>\n",
              "  </thead>\n",
              "  <tbody>\n",
              "    <tr>\n",
              "      <th>0</th>\n",
              "      <td>ug7v899j</td>\n",
              "      <td>0.830510</td>\n",
              "      <td>0.813232</td>\n",
              "      <td>0.832345</td>\n",
              "      <td>0.850632</td>\n",
              "      <td>0.860104</td>\n",
              "      <td>0.816504</td>\n",
              "      <td>0.822341</td>\n",
              "      <td>0.850594</td>\n",
              "      <td>0.908619</td>\n",
              "      <td>0.823024</td>\n",
              "      <td>0.852186</td>\n",
              "      <td>0.851570</td>\n",
              "      <td>0.838465</td>\n",
              "      <td>0.825690</td>\n",
              "      <td>0.861713</td>\n",
              "      <td>0.858359</td>\n",
              "      <td>0.788684</td>\n",
              "      <td>0.822921</td>\n",
              "      <td>0.821114</td>\n",
              "      <td>0.879741</td>\n",
              "      <td>0.857672</td>\n",
              "      <td>0.872780</td>\n",
              "      <td>0.896149</td>\n",
              "      <td>0.893224</td>\n",
              "      <td>0.850255</td>\n",
              "      <td>0.875938</td>\n",
              "      <td>0.883603</td>\n",
              "      <td>0.852150</td>\n",
              "      <td>0.826361</td>\n",
              "      <td>0.831958</td>\n",
              "      <td>0.855486</td>\n",
              "      <td>0.804707</td>\n",
              "      <td>0.848663</td>\n",
              "      <td>0.876200</td>\n",
              "      <td>0.828502</td>\n",
              "      <td>0.811568</td>\n",
              "      <td>0.777669</td>\n",
              "      <td>0.870765</td>\n",
              "      <td>0.825678</td>\n",
              "      <td>0.820396</td>\n",
              "      <td>0.873553</td>\n",
              "      <td>0.852257</td>\n",
              "      <td>0.815550</td>\n",
              "      <td>0.860203</td>\n",
              "      <td>0.822760</td>\n",
              "      <td>0.893795</td>\n",
              "      <td>0.866217</td>\n",
              "      <td>0.867570</td>\n",
              "      <td>0.904514</td>\n",
              "      <td>0.835710</td>\n",
              "    </tr>\n",
              "    <tr>\n",
              "      <th>1</th>\n",
              "      <td>02tnwd4m</td>\n",
              "      <td>0.902775</td>\n",
              "      <td>0.905738</td>\n",
              "      <td>0.881949</td>\n",
              "      <td>0.899766</td>\n",
              "      <td>0.935804</td>\n",
              "      <td>0.890665</td>\n",
              "      <td>0.898810</td>\n",
              "      <td>0.915355</td>\n",
              "      <td>0.878858</td>\n",
              "      <td>0.899188</td>\n",
              "      <td>0.880355</td>\n",
              "      <td>0.894135</td>\n",
              "      <td>0.900859</td>\n",
              "      <td>0.916071</td>\n",
              "      <td>0.924395</td>\n",
              "      <td>0.907868</td>\n",
              "      <td>0.831805</td>\n",
              "      <td>0.890969</td>\n",
              "      <td>0.894832</td>\n",
              "      <td>0.903027</td>\n",
              "      <td>0.899201</td>\n",
              "      <td>0.926352</td>\n",
              "      <td>0.919700</td>\n",
              "      <td>0.919477</td>\n",
              "      <td>0.912498</td>\n",
              "      <td>0.928725</td>\n",
              "      <td>0.900010</td>\n",
              "      <td>0.939208</td>\n",
              "      <td>0.934009</td>\n",
              "      <td>0.883335</td>\n",
              "      <td>0.910773</td>\n",
              "      <td>0.900635</td>\n",
              "      <td>0.912075</td>\n",
              "      <td>0.937968</td>\n",
              "      <td>0.870068</td>\n",
              "      <td>0.915233</td>\n",
              "      <td>0.887361</td>\n",
              "      <td>0.964994</td>\n",
              "      <td>0.951601</td>\n",
              "      <td>0.929872</td>\n",
              "      <td>0.918532</td>\n",
              "      <td>0.914705</td>\n",
              "      <td>0.874502</td>\n",
              "      <td>0.932180</td>\n",
              "      <td>0.871341</td>\n",
              "      <td>0.929010</td>\n",
              "      <td>0.920111</td>\n",
              "      <td>0.922142</td>\n",
              "      <td>0.930785</td>\n",
              "      <td>0.892001</td>\n",
              "    </tr>\n",
              "    <tr>\n",
              "      <th>2</th>\n",
              "      <td>ejv2xln0</td>\n",
              "      <td>0.863836</td>\n",
              "      <td>0.857501</td>\n",
              "      <td>0.861542</td>\n",
              "      <td>0.854318</td>\n",
              "      <td>0.918774</td>\n",
              "      <td>0.849374</td>\n",
              "      <td>0.889822</td>\n",
              "      <td>0.845335</td>\n",
              "      <td>0.843203</td>\n",
              "      <td>0.827381</td>\n",
              "      <td>0.841717</td>\n",
              "      <td>0.842123</td>\n",
              "      <td>0.858640</td>\n",
              "      <td>0.866653</td>\n",
              "      <td>0.901740</td>\n",
              "      <td>0.877269</td>\n",
              "      <td>0.778318</td>\n",
              "      <td>0.852612</td>\n",
              "      <td>0.875095</td>\n",
              "      <td>0.920991</td>\n",
              "      <td>0.850342</td>\n",
              "      <td>0.893083</td>\n",
              "      <td>0.888700</td>\n",
              "      <td>0.888428</td>\n",
              "      <td>0.868307</td>\n",
              "      <td>0.881018</td>\n",
              "      <td>0.859841</td>\n",
              "      <td>0.877626</td>\n",
              "      <td>0.938981</td>\n",
              "      <td>0.834404</td>\n",
              "      <td>0.863556</td>\n",
              "      <td>0.907466</td>\n",
              "      <td>0.855270</td>\n",
              "      <td>0.874885</td>\n",
              "      <td>0.827441</td>\n",
              "      <td>0.903017</td>\n",
              "      <td>0.853025</td>\n",
              "      <td>0.928473</td>\n",
              "      <td>0.885408</td>\n",
              "      <td>0.910963</td>\n",
              "      <td>0.854915</td>\n",
              "      <td>0.893731</td>\n",
              "      <td>0.794538</td>\n",
              "      <td>0.881107</td>\n",
              "      <td>0.816186</td>\n",
              "      <td>0.874572</td>\n",
              "      <td>0.860664</td>\n",
              "      <td>0.851469</td>\n",
              "      <td>0.919297</td>\n",
              "      <td>0.856391</td>\n",
              "    </tr>\n",
              "    <tr>\n",
              "      <th>3</th>\n",
              "      <td>2b73a28n</td>\n",
              "      <td>0.879075</td>\n",
              "      <td>0.876153</td>\n",
              "      <td>0.872226</td>\n",
              "      <td>0.871815</td>\n",
              "      <td>0.917147</td>\n",
              "      <td>0.870059</td>\n",
              "      <td>0.883223</td>\n",
              "      <td>0.886861</td>\n",
              "      <td>0.891580</td>\n",
              "      <td>0.866622</td>\n",
              "      <td>0.877872</td>\n",
              "      <td>0.880399</td>\n",
              "      <td>0.864102</td>\n",
              "      <td>0.884280</td>\n",
              "      <td>0.905419</td>\n",
              "      <td>0.880770</td>\n",
              "      <td>0.834249</td>\n",
              "      <td>0.851163</td>\n",
              "      <td>0.870022</td>\n",
              "      <td>0.904123</td>\n",
              "      <td>0.884557</td>\n",
              "      <td>0.926866</td>\n",
              "      <td>0.909304</td>\n",
              "      <td>0.909611</td>\n",
              "      <td>0.909235</td>\n",
              "      <td>0.916909</td>\n",
              "      <td>0.885694</td>\n",
              "      <td>0.916877</td>\n",
              "      <td>0.915743</td>\n",
              "      <td>0.887434</td>\n",
              "      <td>0.896050</td>\n",
              "      <td>0.889967</td>\n",
              "      <td>0.886740</td>\n",
              "      <td>0.908246</td>\n",
              "      <td>0.841928</td>\n",
              "      <td>0.879986</td>\n",
              "      <td>0.861221</td>\n",
              "      <td>0.958388</td>\n",
              "      <td>0.927929</td>\n",
              "      <td>0.921594</td>\n",
              "      <td>0.887866</td>\n",
              "      <td>0.919133</td>\n",
              "      <td>0.856234</td>\n",
              "      <td>0.902439</td>\n",
              "      <td>0.870168</td>\n",
              "      <td>0.916637</td>\n",
              "      <td>0.901722</td>\n",
              "      <td>0.889688</td>\n",
              "      <td>0.916498</td>\n",
              "      <td>0.881126</td>\n",
              "    </tr>\n",
              "    <tr>\n",
              "      <th>4</th>\n",
              "      <td>9785vg6d</td>\n",
              "      <td>0.894055</td>\n",
              "      <td>0.896267</td>\n",
              "      <td>0.897643</td>\n",
              "      <td>0.875873</td>\n",
              "      <td>0.936149</td>\n",
              "      <td>0.891265</td>\n",
              "      <td>0.932866</td>\n",
              "      <td>0.877325</td>\n",
              "      <td>0.890859</td>\n",
              "      <td>0.868569</td>\n",
              "      <td>0.900594</td>\n",
              "      <td>0.888434</td>\n",
              "      <td>0.896061</td>\n",
              "      <td>0.896174</td>\n",
              "      <td>0.918104</td>\n",
              "      <td>0.885288</td>\n",
              "      <td>0.838230</td>\n",
              "      <td>0.878969</td>\n",
              "      <td>0.889113</td>\n",
              "      <td>0.930561</td>\n",
              "      <td>0.890150</td>\n",
              "      <td>0.927198</td>\n",
              "      <td>0.924954</td>\n",
              "      <td>0.925248</td>\n",
              "      <td>0.920797</td>\n",
              "      <td>0.916810</td>\n",
              "      <td>0.894081</td>\n",
              "      <td>0.901921</td>\n",
              "      <td>0.947823</td>\n",
              "      <td>0.877910</td>\n",
              "      <td>0.911930</td>\n",
              "      <td>0.930928</td>\n",
              "      <td>0.909369</td>\n",
              "      <td>0.904430</td>\n",
              "      <td>0.878985</td>\n",
              "      <td>0.895382</td>\n",
              "      <td>0.884187</td>\n",
              "      <td>0.947967</td>\n",
              "      <td>0.905302</td>\n",
              "      <td>0.947080</td>\n",
              "      <td>0.880579</td>\n",
              "      <td>0.891497</td>\n",
              "      <td>0.840703</td>\n",
              "      <td>0.911374</td>\n",
              "      <td>0.842048</td>\n",
              "      <td>0.901386</td>\n",
              "      <td>0.899052</td>\n",
              "      <td>0.874732</td>\n",
              "      <td>0.937948</td>\n",
              "      <td>0.907285</td>\n",
              "    </tr>\n",
              "    <tr>\n",
              "      <th>...</th>\n",
              "      <td>...</td>\n",
              "      <td>...</td>\n",
              "      <td>...</td>\n",
              "      <td>...</td>\n",
              "      <td>...</td>\n",
              "      <td>...</td>\n",
              "      <td>...</td>\n",
              "      <td>...</td>\n",
              "      <td>...</td>\n",
              "      <td>...</td>\n",
              "      <td>...</td>\n",
              "      <td>...</td>\n",
              "      <td>...</td>\n",
              "      <td>...</td>\n",
              "      <td>...</td>\n",
              "      <td>...</td>\n",
              "      <td>...</td>\n",
              "      <td>...</td>\n",
              "      <td>...</td>\n",
              "      <td>...</td>\n",
              "      <td>...</td>\n",
              "      <td>...</td>\n",
              "      <td>...</td>\n",
              "      <td>...</td>\n",
              "      <td>...</td>\n",
              "      <td>...</td>\n",
              "      <td>...</td>\n",
              "      <td>...</td>\n",
              "      <td>...</td>\n",
              "      <td>...</td>\n",
              "      <td>...</td>\n",
              "      <td>...</td>\n",
              "      <td>...</td>\n",
              "      <td>...</td>\n",
              "      <td>...</td>\n",
              "      <td>...</td>\n",
              "      <td>...</td>\n",
              "      <td>...</td>\n",
              "      <td>...</td>\n",
              "      <td>...</td>\n",
              "      <td>...</td>\n",
              "      <td>...</td>\n",
              "      <td>...</td>\n",
              "      <td>...</td>\n",
              "      <td>...</td>\n",
              "      <td>...</td>\n",
              "      <td>...</td>\n",
              "      <td>...</td>\n",
              "      <td>...</td>\n",
              "      <td>...</td>\n",
              "      <td>...</td>\n",
              "    </tr>\n",
              "    <tr>\n",
              "      <th>191170</th>\n",
              "      <td>z4ro6lmh</td>\n",
              "      <td>0.750646</td>\n",
              "      <td>0.765923</td>\n",
              "      <td>0.807221</td>\n",
              "      <td>0.759712</td>\n",
              "      <td>0.791173</td>\n",
              "      <td>0.821352</td>\n",
              "      <td>0.817662</td>\n",
              "      <td>0.792188</td>\n",
              "      <td>0.787437</td>\n",
              "      <td>0.737934</td>\n",
              "      <td>0.820531</td>\n",
              "      <td>0.796478</td>\n",
              "      <td>0.742055</td>\n",
              "      <td>0.763895</td>\n",
              "      <td>0.771767</td>\n",
              "      <td>0.789129</td>\n",
              "      <td>0.763158</td>\n",
              "      <td>0.770642</td>\n",
              "      <td>0.790237</td>\n",
              "      <td>0.790635</td>\n",
              "      <td>0.750417</td>\n",
              "      <td>0.847329</td>\n",
              "      <td>0.810773</td>\n",
              "      <td>0.812244</td>\n",
              "      <td>0.832346</td>\n",
              "      <td>0.858170</td>\n",
              "      <td>0.789456</td>\n",
              "      <td>0.811438</td>\n",
              "      <td>0.791832</td>\n",
              "      <td>0.832714</td>\n",
              "      <td>0.787585</td>\n",
              "      <td>0.727524</td>\n",
              "      <td>0.764037</td>\n",
              "      <td>0.808664</td>\n",
              "      <td>0.701335</td>\n",
              "      <td>0.772508</td>\n",
              "      <td>0.743478</td>\n",
              "      <td>0.827625</td>\n",
              "      <td>0.825376</td>\n",
              "      <td>0.804981</td>\n",
              "      <td>0.743363</td>\n",
              "      <td>0.819472</td>\n",
              "      <td>0.735772</td>\n",
              "      <td>0.787785</td>\n",
              "      <td>0.786389</td>\n",
              "      <td>0.825527</td>\n",
              "      <td>0.774252</td>\n",
              "      <td>0.738716</td>\n",
              "      <td>0.795219</td>\n",
              "      <td>0.790392</td>\n",
              "    </tr>\n",
              "    <tr>\n",
              "      <th>191171</th>\n",
              "      <td>hi8k8wvb</td>\n",
              "      <td>0.878249</td>\n",
              "      <td>0.864962</td>\n",
              "      <td>0.824818</td>\n",
              "      <td>0.850468</td>\n",
              "      <td>0.920121</td>\n",
              "      <td>0.860349</td>\n",
              "      <td>0.874533</td>\n",
              "      <td>0.854300</td>\n",
              "      <td>0.804174</td>\n",
              "      <td>0.845361</td>\n",
              "      <td>0.823504</td>\n",
              "      <td>0.830812</td>\n",
              "      <td>0.871548</td>\n",
              "      <td>0.882228</td>\n",
              "      <td>0.906358</td>\n",
              "      <td>0.889653</td>\n",
              "      <td>0.782011</td>\n",
              "      <td>0.840561</td>\n",
              "      <td>0.868763</td>\n",
              "      <td>0.887844</td>\n",
              "      <td>0.847064</td>\n",
              "      <td>0.854876</td>\n",
              "      <td>0.862652</td>\n",
              "      <td>0.861977</td>\n",
              "      <td>0.853959</td>\n",
              "      <td>0.863401</td>\n",
              "      <td>0.841301</td>\n",
              "      <td>0.890604</td>\n",
              "      <td>0.946068</td>\n",
              "      <td>0.829109</td>\n",
              "      <td>0.867714</td>\n",
              "      <td>0.899456</td>\n",
              "      <td>0.870254</td>\n",
              "      <td>0.879493</td>\n",
              "      <td>0.851616</td>\n",
              "      <td>0.945570</td>\n",
              "      <td>0.896649</td>\n",
              "      <td>0.891115</td>\n",
              "      <td>0.875322</td>\n",
              "      <td>0.910167</td>\n",
              "      <td>0.861932</td>\n",
              "      <td>0.858528</td>\n",
              "      <td>0.794502</td>\n",
              "      <td>0.898851</td>\n",
              "      <td>0.782784</td>\n",
              "      <td>0.870214</td>\n",
              "      <td>0.859542</td>\n",
              "      <td>0.864708</td>\n",
              "      <td>0.878287</td>\n",
              "      <td>0.870347</td>\n",
              "    </tr>\n",
              "    <tr>\n",
              "      <th>191172</th>\n",
              "      <td>ma3ndg41</td>\n",
              "      <td>0.893417</td>\n",
              "      <td>0.894662</td>\n",
              "      <td>0.866749</td>\n",
              "      <td>0.890088</td>\n",
              "      <td>0.908675</td>\n",
              "      <td>0.887320</td>\n",
              "      <td>0.862268</td>\n",
              "      <td>0.931211</td>\n",
              "      <td>0.914175</td>\n",
              "      <td>0.906224</td>\n",
              "      <td>0.911394</td>\n",
              "      <td>0.926916</td>\n",
              "      <td>0.905010</td>\n",
              "      <td>0.912853</td>\n",
              "      <td>0.918711</td>\n",
              "      <td>0.891546</td>\n",
              "      <td>0.860010</td>\n",
              "      <td>0.875539</td>\n",
              "      <td>0.876571</td>\n",
              "      <td>0.868614</td>\n",
              "      <td>0.909277</td>\n",
              "      <td>0.913127</td>\n",
              "      <td>0.918266</td>\n",
              "      <td>0.918328</td>\n",
              "      <td>0.891561</td>\n",
              "      <td>0.910527</td>\n",
              "      <td>0.891229</td>\n",
              "      <td>0.946541</td>\n",
              "      <td>0.881714</td>\n",
              "      <td>0.908480</td>\n",
              "      <td>0.909698</td>\n",
              "      <td>0.839432</td>\n",
              "      <td>0.919357</td>\n",
              "      <td>0.946557</td>\n",
              "      <td>0.898693</td>\n",
              "      <td>0.870596</td>\n",
              "      <td>0.847996</td>\n",
              "      <td>0.915268</td>\n",
              "      <td>0.910138</td>\n",
              "      <td>0.876693</td>\n",
              "      <td>0.932954</td>\n",
              "      <td>0.901136</td>\n",
              "      <td>0.898204</td>\n",
              "      <td>0.924059</td>\n",
              "      <td>0.882340</td>\n",
              "      <td>0.929734</td>\n",
              "      <td>0.936356</td>\n",
              "      <td>0.946645</td>\n",
              "      <td>0.903044</td>\n",
              "      <td>0.888587</td>\n",
              "    </tr>\n",
              "    <tr>\n",
              "      <th>191173</th>\n",
              "      <td>wh10285j</td>\n",
              "      <td>0.824306</td>\n",
              "      <td>0.835290</td>\n",
              "      <td>0.772745</td>\n",
              "      <td>0.815793</td>\n",
              "      <td>0.799599</td>\n",
              "      <td>0.832790</td>\n",
              "      <td>0.802956</td>\n",
              "      <td>0.824362</td>\n",
              "      <td>0.802778</td>\n",
              "      <td>0.839784</td>\n",
              "      <td>0.794070</td>\n",
              "      <td>0.831419</td>\n",
              "      <td>0.833540</td>\n",
              "      <td>0.848883</td>\n",
              "      <td>0.854478</td>\n",
              "      <td>0.818393</td>\n",
              "      <td>0.744250</td>\n",
              "      <td>0.784697</td>\n",
              "      <td>0.805294</td>\n",
              "      <td>0.748466</td>\n",
              "      <td>0.784554</td>\n",
              "      <td>0.784353</td>\n",
              "      <td>0.806098</td>\n",
              "      <td>0.802121</td>\n",
              "      <td>0.791063</td>\n",
              "      <td>0.824297</td>\n",
              "      <td>0.799641</td>\n",
              "      <td>0.835531</td>\n",
              "      <td>0.808277</td>\n",
              "      <td>0.794429</td>\n",
              "      <td>0.826108</td>\n",
              "      <td>0.774452</td>\n",
              "      <td>0.831166</td>\n",
              "      <td>0.848681</td>\n",
              "      <td>0.822104</td>\n",
              "      <td>0.804068</td>\n",
              "      <td>0.787398</td>\n",
              "      <td>0.821413</td>\n",
              "      <td>0.809069</td>\n",
              "      <td>0.787366</td>\n",
              "      <td>0.828894</td>\n",
              "      <td>0.793388</td>\n",
              "      <td>0.828311</td>\n",
              "      <td>0.835332</td>\n",
              "      <td>0.793937</td>\n",
              "      <td>0.822123</td>\n",
              "      <td>0.848216</td>\n",
              "      <td>0.867401</td>\n",
              "      <td>0.828794</td>\n",
              "      <td>0.812819</td>\n",
              "    </tr>\n",
              "    <tr>\n",
              "      <th>191174</th>\n",
              "      <td>pnl9th2c</td>\n",
              "      <td>0.814525</td>\n",
              "      <td>0.841081</td>\n",
              "      <td>0.781275</td>\n",
              "      <td>0.867137</td>\n",
              "      <td>0.833423</td>\n",
              "      <td>0.819907</td>\n",
              "      <td>0.818478</td>\n",
              "      <td>0.836309</td>\n",
              "      <td>0.758750</td>\n",
              "      <td>0.810809</td>\n",
              "      <td>0.784732</td>\n",
              "      <td>0.840054</td>\n",
              "      <td>0.847888</td>\n",
              "      <td>0.831032</td>\n",
              "      <td>0.864122</td>\n",
              "      <td>0.851204</td>\n",
              "      <td>0.731271</td>\n",
              "      <td>0.821456</td>\n",
              "      <td>0.841005</td>\n",
              "      <td>0.754686</td>\n",
              "      <td>0.778634</td>\n",
              "      <td>0.797349</td>\n",
              "      <td>0.817479</td>\n",
              "      <td>0.815305</td>\n",
              "      <td>0.821124</td>\n",
              "      <td>0.845911</td>\n",
              "      <td>0.823819</td>\n",
              "      <td>0.847316</td>\n",
              "      <td>0.820396</td>\n",
              "      <td>0.769270</td>\n",
              "      <td>0.833690</td>\n",
              "      <td>0.779098</td>\n",
              "      <td>0.806138</td>\n",
              "      <td>0.868108</td>\n",
              "      <td>0.746884</td>\n",
              "      <td>0.826229</td>\n",
              "      <td>0.790359</td>\n",
              "      <td>0.814475</td>\n",
              "      <td>0.842845</td>\n",
              "      <td>0.825243</td>\n",
              "      <td>0.845420</td>\n",
              "      <td>0.775096</td>\n",
              "      <td>0.827509</td>\n",
              "      <td>0.847956</td>\n",
              "      <td>0.776406</td>\n",
              "      <td>0.815319</td>\n",
              "      <td>0.854289</td>\n",
              "      <td>0.865987</td>\n",
              "      <td>0.828700</td>\n",
              "      <td>0.810035</td>\n",
              "    </tr>\n",
              "  </tbody>\n",
              "</table>\n",
              "<p>191175 rows × 51 columns</p>\n",
              "</div>"
            ],
            "text/plain": [
              "          doc_id         1         2  ...        48        49        50\n",
              "0       ug7v899j  0.830510  0.813232  ...  0.867570  0.904514  0.835710\n",
              "1       02tnwd4m  0.902775  0.905738  ...  0.922142  0.930785  0.892001\n",
              "2       ejv2xln0  0.863836  0.857501  ...  0.851469  0.919297  0.856391\n",
              "3       2b73a28n  0.879075  0.876153  ...  0.889688  0.916498  0.881126\n",
              "4       9785vg6d  0.894055  0.896267  ...  0.874732  0.937948  0.907285\n",
              "...          ...       ...       ...  ...       ...       ...       ...\n",
              "191170  z4ro6lmh  0.750646  0.765923  ...  0.738716  0.795219  0.790392\n",
              "191171  hi8k8wvb  0.878249  0.864962  ...  0.864708  0.878287  0.870347\n",
              "191172  ma3ndg41  0.893417  0.894662  ...  0.946645  0.903044  0.888587\n",
              "191173  wh10285j  0.824306  0.835290  ...  0.867401  0.828794  0.812819\n",
              "191174  pnl9th2c  0.814525  0.841081  ...  0.865987  0.828700  0.810035\n",
              "\n",
              "[191175 rows x 51 columns]"
            ]
          },
          "metadata": {
            "tags": []
          },
          "execution_count": 46
        }
      ]
    },
    {
      "cell_type": "code",
      "metadata": {
        "id": "TjeYAQiczSgu",
        "outputId": "8c81dbd5-eccb-43bd-9aea-6ae7dc6128d1",
        "colab": {
          "base_uri": "https://localhost:8080/",
          "height": 402
        }
      },
      "source": [
        "ours = df_relevances.copy()\n",
        "ours"
      ],
      "execution_count": 116,
      "outputs": [
        {
          "output_type": "execute_result",
          "data": {
            "text/html": [
              "<div>\n",
              "<style scoped>\n",
              "    .dataframe tbody tr th:only-of-type {\n",
              "        vertical-align: middle;\n",
              "    }\n",
              "\n",
              "    .dataframe tbody tr th {\n",
              "        vertical-align: top;\n",
              "    }\n",
              "\n",
              "    .dataframe thead th {\n",
              "        text-align: right;\n",
              "    }\n",
              "</style>\n",
              "<table border=\"1\" class=\"dataframe\">\n",
              "  <thead>\n",
              "    <tr style=\"text-align: right;\">\n",
              "      <th></th>\n",
              "      <th>topic</th>\n",
              "      <th>document_id</th>\n",
              "      <th>judgement</th>\n",
              "    </tr>\n",
              "  </thead>\n",
              "  <tbody>\n",
              "    <tr>\n",
              "      <th>0</th>\n",
              "      <td>1</td>\n",
              "      <td>005b2j4b</td>\n",
              "      <td>2</td>\n",
              "    </tr>\n",
              "    <tr>\n",
              "      <th>1</th>\n",
              "      <td>1</td>\n",
              "      <td>00fmeepz</td>\n",
              "      <td>1</td>\n",
              "    </tr>\n",
              "    <tr>\n",
              "      <th>2</th>\n",
              "      <td>1</td>\n",
              "      <td>010vptx3</td>\n",
              "      <td>2</td>\n",
              "    </tr>\n",
              "    <tr>\n",
              "      <th>3</th>\n",
              "      <td>1</td>\n",
              "      <td>0194oljo</td>\n",
              "      <td>1</td>\n",
              "    </tr>\n",
              "    <tr>\n",
              "      <th>4</th>\n",
              "      <td>1</td>\n",
              "      <td>021q9884</td>\n",
              "      <td>1</td>\n",
              "    </tr>\n",
              "    <tr>\n",
              "      <th>...</th>\n",
              "      <td>...</td>\n",
              "      <td>...</td>\n",
              "      <td>...</td>\n",
              "    </tr>\n",
              "    <tr>\n",
              "      <th>69313</th>\n",
              "      <td>50</td>\n",
              "      <td>zvop8bxh</td>\n",
              "      <td>2</td>\n",
              "    </tr>\n",
              "    <tr>\n",
              "      <th>69314</th>\n",
              "      <td>50</td>\n",
              "      <td>zwf26o63</td>\n",
              "      <td>1</td>\n",
              "    </tr>\n",
              "    <tr>\n",
              "      <th>69315</th>\n",
              "      <td>50</td>\n",
              "      <td>zwsvlnwe</td>\n",
              "      <td>0</td>\n",
              "    </tr>\n",
              "    <tr>\n",
              "      <th>69316</th>\n",
              "      <td>50</td>\n",
              "      <td>zxr01yln</td>\n",
              "      <td>1</td>\n",
              "    </tr>\n",
              "    <tr>\n",
              "      <th>69317</th>\n",
              "      <td>50</td>\n",
              "      <td>zz8wvos9</td>\n",
              "      <td>1</td>\n",
              "    </tr>\n",
              "  </tbody>\n",
              "</table>\n",
              "<p>69318 rows × 3 columns</p>\n",
              "</div>"
            ],
            "text/plain": [
              "       topic document_id  judgement\n",
              "0          1    005b2j4b          2\n",
              "1          1    00fmeepz          1\n",
              "2          1    010vptx3          2\n",
              "3          1    0194oljo          1\n",
              "4          1    021q9884          1\n",
              "...      ...         ...        ...\n",
              "69313     50    zvop8bxh          2\n",
              "69314     50    zwf26o63          1\n",
              "69315     50    zwsvlnwe          0\n",
              "69316     50    zxr01yln          1\n",
              "69317     50    zz8wvos9          1\n",
              "\n",
              "[69318 rows x 3 columns]"
            ]
          },
          "metadata": {
            "tags": []
          },
          "execution_count": 116
        }
      ]
    },
    {
      "cell_type": "code",
      "metadata": {
        "id": "dJxGUF8e3iFK"
      },
      "source": [
        "c = all_sims.melt(\n",
        "    id_vars=['doc_id'],\n",
        "    var_name='topic',\n",
        "    value_name='similarity',\n",
        ")"
      ],
      "execution_count": 134,
      "outputs": []
    },
    {
      "cell_type": "code",
      "metadata": {
        "id": "qPDfbS4b358t"
      },
      "source": [
        "c.columns = ['document_id', 'topic', 'similarity']"
      ],
      "execution_count": 141,
      "outputs": []
    },
    {
      "cell_type": "code",
      "metadata": {
        "id": "scr0QVox4JFg"
      },
      "source": [
        "new_results = pd.merge(c, df_relevances, left_on=['document_id', 'topic'], right_on=['document_id', 'topic'])"
      ],
      "execution_count": 143,
      "outputs": []
    },
    {
      "cell_type": "code",
      "metadata": {
        "id": "vNBKASqx5CF7"
      },
      "source": [
        "del new_results['judgement']"
      ],
      "execution_count": 144,
      "outputs": []
    },
    {
      "cell_type": "code",
      "metadata": {
        "id": "rx-JLMBM5Fbq"
      },
      "source": [
        "nae = np.array(new_results)"
      ],
      "execution_count": 146,
      "outputs": []
    },
    {
      "cell_type": "code",
      "metadata": {
        "id": "ZXKLKqTo5Mej",
        "outputId": "91c327e8-4332-4adc-912f-f723476255fc",
        "colab": {
          "base_uri": "https://localhost:8080/"
        }
      },
      "source": [
        "nae"
      ],
      "execution_count": 147,
      "outputs": [
        {
          "output_type": "execute_result",
          "data": {
            "text/plain": [
              "array([['sw4wtxdk', 1, 0.9006493091583252],\n",
              "       ['6wu024ng', 1, 0.9030534029006958],\n",
              "       ['sbxqwfmy', 1, 0.9005322456359863],\n",
              "       ...,\n",
              "       ['7g3p570l', 50, 0.8413161635398865],\n",
              "       ['eqfz0wpm', 50, 0.9174200296401978],\n",
              "       ['qyflkmi9', 50, 0.9213708639144897]], dtype=object)"
            ]
          },
          "metadata": {
            "tags": []
          },
          "execution_count": 147
        }
      ]
    },
    {
      "cell_type": "code",
      "metadata": {
        "id": "SN2ZMpTRv-m2"
      },
      "source": [
        "results = []\n",
        "for i, row in enumerate(nae):\n",
        "  results.append(f'{row[1]} 0 {row[0]} 0 {row[2]} 0')"
      ],
      "execution_count": 148,
      "outputs": []
    },
    {
      "cell_type": "code",
      "metadata": {
        "id": "VzlqJabV5aZm",
        "outputId": "a737e4ad-be70-44e8-e9f8-e6975c6ab741",
        "colab": {
          "base_uri": "https://localhost:8080/"
        }
      },
      "source": [
        "results[:10]"
      ],
      "execution_count": 149,
      "outputs": [
        {
          "output_type": "execute_result",
          "data": {
            "text/plain": [
              "['1 0 sw4wtxdk 0 0.9006493091583252 0',\n",
              " '1 0 6wu024ng 0 0.9030534029006958 0',\n",
              " '1 0 sbxqwfmy 0 0.9005322456359863 0',\n",
              " '1 0 1rhy8td0 0 0.9329431056976318 0',\n",
              " '1 0 t7rxmzvi 0 0.8557279109954834 0',\n",
              " '1 0 480d3yfv 0 0.8149345517158508 0',\n",
              " '1 0 b66bb2ri 0 0.9326356053352356 0',\n",
              " '1 0 sn1a7ikq 0 0.8469100594520569 0',\n",
              " '1 0 j7fx64k1 0 0.8691166043281555 0',\n",
              " '1 0 5opiip58 0 0.9068894386291504 0']"
            ]
          },
          "metadata": {
            "tags": []
          },
          "execution_count": 149
        }
      ]
    },
    {
      "cell_type": "code",
      "metadata": {
        "id": "wdRtLbkTmEkI"
      },
      "source": [
        "# Write results to file\n",
        "with open('results_we_cs_69.txt', 'w') as f:\n",
        "    f.write('\\n'.join(results))"
      ],
      "execution_count": 150,
      "outputs": []
    },
    {
      "cell_type": "code",
      "metadata": {
        "id": "y2ykazypM3Hj"
      },
      "source": [
        "##################################################### TFIDF ################################################################"
      ],
      "execution_count": null,
      "outputs": []
    },
    {
      "cell_type": "code",
      "metadata": {
        "id": "t3HnUO8Eq-_7"
      },
      "source": [
        "if os.path.exists('drive/MyDrive/CMPE/CMPE493'):\n",
        "  doc_vectors = pickle.load(open(\"drive/MyDrive/CMPE/CMPE493/doc_vectors.pickle\", \"rb\"))\n",
        "  doc_vectorizer = pickle.load(open(\"drive/MyDrive/CMPE/CMPE493/doc_vectorizer.pickle\", \"rb\"))"
      ],
      "execution_count": null,
      "outputs": []
    },
    {
      "cell_type": "code",
      "metadata": {
        "colab": {
          "base_uri": "https://localhost:8080/"
        },
        "id": "oGdwOCOlYak7",
        "outputId": "c00ff580-53f6-4ee6-d028-ef736af8eab7"
      },
      "source": [
        "from sklearn.feature_extraction.text import TfidfVectorizer\n",
        "\n",
        "# fit TfidfVectorizer on documents \n",
        "doc_vectorizer = TfidfVectorizer(preprocessor=preprocess)\n",
        "doc_vectors = doc_vectorizer.fit_transform(list(contents.values()))\n",
        "\n",
        "print(\"There are\", len(doc_vectorizer.vocabulary_), \"tokens in our vocabulary.\")"
      ],
      "execution_count": null,
      "outputs": [
        {
          "output_type": "stream",
          "text": [
            "There are 145387 tokens in our vocabulary.\n"
          ],
          "name": "stdout"
        }
      ]
    },
    {
      "cell_type": "code",
      "metadata": {
        "id": "ZD0Au6yKfIFU"
      },
      "source": [
        "# Vectorize the topics with the same vectorizer\n",
        "topic_vectors = doc_vectorizer.transform(list(topics_dict.values()))"
      ],
      "execution_count": null,
      "outputs": []
    },
    {
      "cell_type": "code",
      "metadata": {
        "id": "00_-qfbYRVlG"
      },
      "source": [
        "pickle.dump(doc_vectors, open(\"drive/MyDrive/CMPE/CMPE493/doc_vectors.pickle\", \"wb\"))\n",
        "pickle.dump(doc_vectorizer, open(\"drive/MyDrive/CMPE/CMPE493/doc_vectorizer.pickle\", \"wb\"))"
      ],
      "execution_count": null,
      "outputs": []
    },
    {
      "cell_type": "code",
      "metadata": {
        "colab": {
          "base_uri": "https://localhost:8080/"
        },
        "id": "2jXjECpbGHfY",
        "outputId": "ee3bdc2f-8b6c-4d62-a17a-f3333d4f4fb0"
      },
      "source": [
        "# number of documents, length of vector\n",
        "doc_vectors.shape"
      ],
      "execution_count": null,
      "outputs": [
        {
          "output_type": "execute_result",
          "data": {
            "text/plain": [
              "(191175, 145387)"
            ]
          },
          "metadata": {
            "tags": []
          },
          "execution_count": 21
        }
      ]
    },
    {
      "cell_type": "code",
      "metadata": {
        "colab": {
          "base_uri": "https://localhost:8080/"
        },
        "id": "NqdsRXTefRee",
        "outputId": "e7e4e45c-e354-429e-a99b-21240eebbacc"
      },
      "source": [
        "# number of topics, length of vector\n",
        "topic_vectors.shape"
      ],
      "execution_count": null,
      "outputs": [
        {
          "output_type": "execute_result",
          "data": {
            "text/plain": [
              "(50, 145387)"
            ]
          },
          "metadata": {
            "tags": []
          },
          "execution_count": 22
        }
      ]
    },
    {
      "cell_type": "code",
      "metadata": {
        "id": "AyNFLw7birAa"
      },
      "source": [
        "# key: document_id\n",
        "# val: document's TFIDF vector\n",
        "doc_vectors_dict = {\n",
        "    docs[i][0] : doc_vectors[i]\n",
        "    for i in range(0,len(docs))\n",
        "}"
      ],
      "execution_count": null,
      "outputs": []
    },
    {
      "cell_type": "code",
      "metadata": {
        "id": "gMbq_tAHnVAS"
      },
      "source": [
        "# key: topic_id\n",
        "# val: topic's TFIDF vector\n",
        "topic_vectors_dict = {\n",
        "    key : topic_vectors[i]\n",
        "    for i, key in enumerate(topics_dict.keys())\n",
        "}"
      ],
      "execution_count": null,
      "outputs": []
    },
    {
      "cell_type": "code",
      "metadata": {
        "colab": {
          "base_uri": "https://localhost:8080/"
        },
        "id": "LI8k1njZbdFz",
        "outputId": "88cc8eec-24cd-4a28-8e82-72cd41821223"
      },
      "source": [
        "from sklearn.metrics.pairwise import cosine_similarity\n",
        "\n",
        "#Take random doc_id and print most relevant topic\n",
        "ex_document = df_metadata.sample().cord_uid.to_string().split()[1]\n",
        "similarity = cosine_similarity(doc_vectors_dict[ex_document],topic_vectors).flatten()\n",
        "\n",
        "best_sim      = np.max(similarity)\n",
        "best_topic_id = np.argmax(similarity) + 1\n",
        "\n",
        "print(f\"Example document id: {ex_document}\")\n",
        "print(f\"Maximum cosine similarity among all topics: {best_sim:.4f}\")\n",
        "print(f\"Argmax of maximum cos. sim.: {best_topic_id}\")\n",
        "print(f\"Contents of document '{ex_document}': {contents[ex_document]}\")\n",
        "print(f\"Contents of topic '{best_topic_id}': {topics_dict[str(best_topic_id)]}\")\n"
      ],
      "execution_count": null,
      "outputs": [
        {
          "output_type": "stream",
          "text": [
            "Example document id: um607cmb\n",
            "Maximum cosine similarity among all topics: 0.0379\n",
            "Argmax of maximum cos. sim.: 4\n",
            "Contents of document 'um607cmb': Letter: News From the COVID-19 Front Lines: How Neurosurgeons Are Contributing nan\n",
            "Contents of topic '4': how do people die from the coronavirus what causes death from Covid-19? Studies looking at mechanisms of death from Covid-19.\n"
          ],
          "name": "stdout"
        }
      ]
    },
    {
      "cell_type": "code",
      "metadata": {
        "id": "TW5q7j63eQzs",
        "colab": {
          "base_uri": "https://localhost:8080/"
        },
        "outputId": "ea19968a-76e2-441f-deb1-a172b9dc0029"
      },
      "source": [
        "sims = cosine_similarity(topic_vectors, doc_vectors)\n",
        "sims.shape"
      ],
      "execution_count": null,
      "outputs": [
        {
          "output_type": "execute_result",
          "data": {
            "text/plain": [
              "(50, 191175)"
            ]
          },
          "metadata": {
            "tags": []
          },
          "execution_count": 26
        }
      ]
    },
    {
      "cell_type": "code",
      "metadata": {
        "id": "towzilv0oBlg"
      },
      "source": [
        "results = np.ndarray((len(contents)*int(len(topics_dict)/2),1))\n",
        "results = list(results)\n",
        "\n",
        "#Even results\n",
        "for j,topic in enumerate(topics_dict.keys()):\n",
        "  if(j%2 != 0):\n",
        "    for i,doc_id in enumerate(contents.keys()):\n",
        "      element = f'{topic} 0 {doc_id} 0 {sims[j][i]} 0'\n",
        "      results[int(j/2)*len(contents.keys())+i] = element"
      ],
      "execution_count": null,
      "outputs": []
    },
    {
      "cell_type": "markdown",
      "metadata": {
        "id": "Pk742I-7uu_N"
      },
      "source": [
        "**results.csv columns:**\n",
        "qid, iter, docno, rank, sim, run_id "
      ]
    },
    {
      "cell_type": "code",
      "metadata": {
        "colab": {
          "base_uri": "https://localhost:8080/"
        },
        "id": "hsUXg21UqvBM",
        "outputId": "f345b3c5-ddc8-4cfd-b83e-4d9aaa2dbd62"
      },
      "source": [
        "results[:10]"
      ],
      "execution_count": null,
      "outputs": [
        {
          "output_type": "execute_result",
          "data": {
            "text/plain": [
              "['2 0 ug7v899j 0 0.0 0',\n",
              " '2 0 02tnwd4m 0 0.011011974322833466 0',\n",
              " '2 0 ejv2xln0 0 0.012277492779388261 0',\n",
              " '2 0 2b73a28n 0 0.0 0',\n",
              " '2 0 9785vg6d 0 0.06059505130597204 0',\n",
              " '2 0 zjufx4fo 0 0.00864037385739897 0',\n",
              " '2 0 5yhe786e 0 0.0 0',\n",
              " '2 0 8zchiykl 0 0.0 0',\n",
              " '2 0 8qnrcgnk 0 0.008868282023550493 0',\n",
              " '2 0 jg13scgo 0 0.0035325109038701072 0']"
            ]
          },
          "metadata": {
            "tags": []
          },
          "execution_count": 28
        }
      ]
    },
    {
      "cell_type": "code",
      "metadata": {
        "id": "k7AdWE-cld6C"
      },
      "source": [
        "# Write results to file\n",
        "with open('results.txt', 'w') as f:\n",
        "    f.write('\\n'.join(results))"
      ],
      "execution_count": null,
      "outputs": []
    },
    {
      "cell_type": "code",
      "metadata": {
        "id": "r4LnteE5Nfcf"
      },
      "source": [
        "import random\n",
        "\n",
        "results_random = np.ndarray((len(contents)*int(len(topics_dict)/2),1))\n",
        "results_random = list(results_random)\n",
        "\n",
        "#Even results\n",
        "for j,topic in enumerate(topics_dict.keys()):\n",
        "  if(j%2 != 0):\n",
        "    for i,doc_id in enumerate(contents.keys()):\n",
        "      element = f'{topic} 0 {doc_id} 0 {random.random()} 0'\n",
        "      results_random[int(j/2)*len(contents.keys())+i] = element"
      ],
      "execution_count": 34,
      "outputs": []
    },
    {
      "cell_type": "code",
      "metadata": {
        "id": "fGCUusxlo0nk"
      },
      "source": [
        "# Write results to file\n",
        "with open('results_random.txt', 'w') as f:\n",
        "    f.write('\\n'.join(results_random))"
      ],
      "execution_count": 36,
      "outputs": []
    },
    {
      "cell_type": "code",
      "metadata": {
        "id": "-RPAJUAyo4j6"
      },
      "source": [
        ""
      ],
      "execution_count": null,
      "outputs": []
    }
  ]
}