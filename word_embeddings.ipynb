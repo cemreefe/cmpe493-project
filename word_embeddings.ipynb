{
 "cells": [
  {
   "cell_type": "markdown",
   "metadata": {
    "colab_type": "text",
    "id": "view-in-github"
   },
   "source": [
    "<a href=\"https://colab.research.google.com/github/cemreefe/cmpe493-project/blob/main/tfidf-cosine_similarity.ipynb\" target=\"_parent\"><img src=\"https://colab.research.google.com/assets/colab-badge.svg\" alt=\"Open In Colab\"/></a>"
   ]
  },
  {
   "cell_type": "code",
   "execution_count": 1,
   "metadata": {
    "colab": {
     "base_uri": "https://localhost:8080/"
    },
    "id": "JVZLCZdmBY78",
    "outputId": "73d470f8-2001-4b42-d93f-72bc4b2996b5"
   },
   "outputs": [
    {
     "name": "stdout",
     "output_type": "stream",
     "text": [
      "Requirement already satisfied: xmltodict in /usr/local/lib/python3.6/dist-packages (0.12.0)\n"
     ]
    }
   ],
   "source": [
    "!pip3 install xmltodict\n",
    "\n",
    "import os\n",
    "import io   \n",
    "import re\n",
    "import json\n",
    "import math\n",
    "import pickle\n",
    "import string\n",
    "import tarfile\n",
    "import xmltodict\n",
    "import numpy as np\n",
    "import pandas as pd\n",
    "\n",
    "import nltk\n",
    "from nltk.stem.porter import PorterStemmer\n",
    "from nltk.corpus import stopwords"
   ]
  },
  {
   "cell_type": "markdown",
   "metadata": {
    "id": "AAt0rbYHOGc8"
   },
   "source": []
  },
  {
   "cell_type": "code",
   "execution_count": 2,
   "metadata": {
    "colab": {
     "base_uri": "https://localhost:8080/"
    },
    "id": "vF1KRp5a_KRn",
    "outputId": "7f6ec3d7-8997-412c-ac9c-cd4bde7e18ee"
   },
   "outputs": [
    {
     "name": "stdout",
     "output_type": "stream",
     "text": [
      "Drive already mounted at /content/drive; to attempt to forcibly remount, call drive.mount(\"/content/drive\", force_remount=True).\n"
     ]
    }
   ],
   "source": [
    "from google.colab import drive\n",
    "drive.mount('/content/drive')"
   ]
  },
  {
   "cell_type": "code",
   "execution_count": 3,
   "metadata": {
    "id": "nQ5AG9XTGv3c"
   },
   "outputs": [],
   "source": [
    "def read_file(path):\n",
    "  with open(path, 'r') as f:\n",
    "    return f.read()"
   ]
  },
  {
   "cell_type": "code",
   "execution_count": 4,
   "metadata": {
    "id": "fCj1rJ6bAjC2"
   },
   "outputs": [],
   "source": [
    "if not os.path.exists('drive/MyDrive/CMPE/CMPE493'):\n",
    "  os.makedirs('drive/MyDrive/CMPE/CMPE493')"
   ]
  },
  {
   "cell_type": "code",
   "execution_count": 5,
   "metadata": {
    "id": "mm-aEzfN-53E"
   },
   "outputs": [],
   "source": [
    "if not os.path.exists('drive/MyDrive/CMPE/CMPE493/topics-rnd5.xml'):\n",
    "  !curl https://ir.nist.gov/covidSubmit/data/topics-rnd5.xml --output drive/MyDrive/CMPE/CMPE493/topics-rnd5.xml\n",
    "\n",
    "if not os.path.exists('drive/MyDrive/CMPE/CMPE493/qrels-covid_d5_j0.5-5.txt'):\n",
    "  !curl https://ir.nist.gov/covidSubmit/data/qrels-covid_d5_j0.5-5.txt --output drive/MyDrive/CMPE/CMPE493/qrels-covid_d5_j0.5-5.txt\n",
    "\n",
    "if not os.path.exists('drive/MyDrive/CMPE/CMPE493/cord-19_2020-07-16.tar.gz'):\n",
    "  !curl https://ai2-semanticscholar-cord-19.s3-us-west-2.amazonaws.com/historical_releases/cord-19_2020-07-16.tar.gz --output drive/MyDrive/CMPE/CMPE493/cord-19_2020-07-16.tar.gz"
   ]
  },
  {
   "cell_type": "code",
   "execution_count": 6,
   "metadata": {
    "id": "GcQnwTCRBbv7"
   },
   "outputs": [],
   "source": [
    "if not os.path.exists('2020-07-16'):\n",
    "  tar = tarfile.open('drive/MyDrive/CMPE/CMPE493/cord-19_2020-07-16.tar.gz', \"r:gz\")\n",
    "  tar.extractall()\n",
    "  tar.close()"
   ]
  },
  {
   "cell_type": "code",
   "execution_count": 7,
   "metadata": {
    "colab": {
     "base_uri": "https://localhost:8080/"
    },
    "id": "m_psEwqmCBb2",
    "outputId": "976f11ae-6a55-48df-c394-b15d2f46b9b6"
   },
   "outputs": [
    {
     "name": "stderr",
     "output_type": "stream",
     "text": [
      "/usr/local/lib/python3.6/dist-packages/IPython/core/interactiveshell.py:2718: DtypeWarning: Columns (1,4,5,6,13,14,15,16) have mixed types.Specify dtype option on import or set low_memory=False.\n",
      "  interactivity=interactivity, compiler=compiler, result=result)\n"
     ]
    }
   ],
   "source": [
    "df_metadata = pd.read_csv('2020-07-16/metadata.csv')"
   ]
  },
  {
   "cell_type": "code",
   "execution_count": 8,
   "metadata": {
    "id": "sYc9bGgtOx-u"
   },
   "outputs": [],
   "source": [
    "del df_metadata['sha'], df_metadata['source_x'], df_metadata['doi'], df_metadata['pmcid'], df_metadata['pubmed_id'], df_metadata['license'], df_metadata['publish_time'], df_metadata['authors'], df_metadata['journal'], df_metadata['mag_id'], df_metadata['who_covidence_id'], df_metadata['arxiv_id'], df_metadata['pdf_json_files'], df_metadata['pmc_json_files'], df_metadata['url'], df_metadata['s2_id']"
   ]
  },
  {
   "cell_type": "code",
   "execution_count": 9,
   "metadata": {
    "id": "cKt-HNIOji_W"
   },
   "outputs": [],
   "source": [
    "df_metadata.drop_duplicates(subset='cord_uid', keep='first', inplace=True)"
   ]
  },
  {
   "cell_type": "code",
   "execution_count": 10,
   "metadata": {
    "colab": {
     "base_uri": "https://localhost:8080/",
     "height": 402
    },
    "id": "7I7QIYPDmov8",
    "outputId": "7af80239-32ed-42f4-afaf-06bc892fdd68"
   },
   "outputs": [
    {
     "data": {
      "text/html": [
       "<div>\n",
       "<style scoped>\n",
       "    .dataframe tbody tr th:only-of-type {\n",
       "        vertical-align: middle;\n",
       "    }\n",
       "\n",
       "    .dataframe tbody tr th {\n",
       "        vertical-align: top;\n",
       "    }\n",
       "\n",
       "    .dataframe thead th {\n",
       "        text-align: right;\n",
       "    }\n",
       "</style>\n",
       "<table border=\"1\" class=\"dataframe\">\n",
       "  <thead>\n",
       "    <tr style=\"text-align: right;\">\n",
       "      <th></th>\n",
       "      <th>cord_uid</th>\n",
       "      <th>title</th>\n",
       "      <th>abstract</th>\n",
       "    </tr>\n",
       "  </thead>\n",
       "  <tbody>\n",
       "    <tr>\n",
       "      <th>0</th>\n",
       "      <td>ug7v899j</td>\n",
       "      <td>Clinical features of culture-proven Mycoplasma...</td>\n",
       "      <td>OBJECTIVE: This retrospective chart review des...</td>\n",
       "    </tr>\n",
       "    <tr>\n",
       "      <th>1</th>\n",
       "      <td>02tnwd4m</td>\n",
       "      <td>Nitric oxide: a pro-inflammatory mediator in l...</td>\n",
       "      <td>Inflammatory diseases of the respiratory tract...</td>\n",
       "    </tr>\n",
       "    <tr>\n",
       "      <th>2</th>\n",
       "      <td>ejv2xln0</td>\n",
       "      <td>Surfactant protein-D and pulmonary host defense</td>\n",
       "      <td>Surfactant protein-D (SP-D) participates in th...</td>\n",
       "    </tr>\n",
       "    <tr>\n",
       "      <th>3</th>\n",
       "      <td>2b73a28n</td>\n",
       "      <td>Role of endothelin-1 in lung disease</td>\n",
       "      <td>Endothelin-1 (ET-1) is a 21 amino acid peptide...</td>\n",
       "    </tr>\n",
       "    <tr>\n",
       "      <th>4</th>\n",
       "      <td>9785vg6d</td>\n",
       "      <td>Gene expression in epithelial cells in respons...</td>\n",
       "      <td>Respiratory syncytial virus (RSV) and pneumoni...</td>\n",
       "    </tr>\n",
       "    <tr>\n",
       "      <th>...</th>\n",
       "      <td>...</td>\n",
       "      <td>...</td>\n",
       "      <td>...</td>\n",
       "    </tr>\n",
       "    <tr>\n",
       "      <th>192504</th>\n",
       "      <td>z4ro6lmh</td>\n",
       "      <td>Rapid radiological improvement of COVID-19 pne...</td>\n",
       "      <td>NaN</td>\n",
       "    </tr>\n",
       "    <tr>\n",
       "      <th>192505</th>\n",
       "      <td>hi8k8wvb</td>\n",
       "      <td>SARS E protein in phospholipid bilayers: an an...</td>\n",
       "      <td>Abstract We report on an anomalous X-ray refle...</td>\n",
       "    </tr>\n",
       "    <tr>\n",
       "      <th>192506</th>\n",
       "      <td>ma3ndg41</td>\n",
       "      <td>Italian Society of Interventional Cardiology (...</td>\n",
       "      <td>COVID‐19 pandemic raised the issue to guarante...</td>\n",
       "    </tr>\n",
       "    <tr>\n",
       "      <th>192507</th>\n",
       "      <td>wh10285j</td>\n",
       "      <td>Nimble, Together: A Training Program's Respons...</td>\n",
       "      <td>NaN</td>\n",
       "    </tr>\n",
       "    <tr>\n",
       "      <th>192508</th>\n",
       "      <td>pnl9th2c</td>\n",
       "      <td>Vascular Life during the COVID-19 Pandemic Rem...</td>\n",
       "      <td>NaN</td>\n",
       "    </tr>\n",
       "  </tbody>\n",
       "</table>\n",
       "<p>191175 rows × 3 columns</p>\n",
       "</div>"
      ],
      "text/plain": [
       "        cord_uid  ...                                           abstract\n",
       "0       ug7v899j  ...  OBJECTIVE: This retrospective chart review des...\n",
       "1       02tnwd4m  ...  Inflammatory diseases of the respiratory tract...\n",
       "2       ejv2xln0  ...  Surfactant protein-D (SP-D) participates in th...\n",
       "3       2b73a28n  ...  Endothelin-1 (ET-1) is a 21 amino acid peptide...\n",
       "4       9785vg6d  ...  Respiratory syncytial virus (RSV) and pneumoni...\n",
       "...          ...  ...                                                ...\n",
       "192504  z4ro6lmh  ...                                                NaN\n",
       "192505  hi8k8wvb  ...  Abstract We report on an anomalous X-ray refle...\n",
       "192506  ma3ndg41  ...  COVID‐19 pandemic raised the issue to guarante...\n",
       "192507  wh10285j  ...                                                NaN\n",
       "192508  pnl9th2c  ...                                                NaN\n",
       "\n",
       "[191175 rows x 3 columns]"
      ]
     },
     "execution_count": 10,
     "metadata": {
      "tags": []
     },
     "output_type": "execute_result"
    }
   ],
   "source": [
    "df_metadata"
   ]
  },
  {
   "cell_type": "code",
   "execution_count": 11,
   "metadata": {
    "colab": {
     "base_uri": "https://localhost:8080/",
     "height": 402
    },
    "id": "EGkG7afREkla",
    "outputId": "09f38bda-24bf-4f95-e463-ca6c37437323"
   },
   "outputs": [
    {
     "data": {
      "text/html": [
       "<div>\n",
       "<style scoped>\n",
       "    .dataframe tbody tr th:only-of-type {\n",
       "        vertical-align: middle;\n",
       "    }\n",
       "\n",
       "    .dataframe tbody tr th {\n",
       "        vertical-align: top;\n",
       "    }\n",
       "\n",
       "    .dataframe thead th {\n",
       "        text-align: right;\n",
       "    }\n",
       "</style>\n",
       "<table border=\"1\" class=\"dataframe\">\n",
       "  <thead>\n",
       "    <tr style=\"text-align: right;\">\n",
       "      <th></th>\n",
       "      <th>topic</th>\n",
       "      <th>document_id</th>\n",
       "      <th>judgement</th>\n",
       "    </tr>\n",
       "  </thead>\n",
       "  <tbody>\n",
       "    <tr>\n",
       "      <th>0</th>\n",
       "      <td>1</td>\n",
       "      <td>005b2j4b</td>\n",
       "      <td>2</td>\n",
       "    </tr>\n",
       "    <tr>\n",
       "      <th>1</th>\n",
       "      <td>1</td>\n",
       "      <td>00fmeepz</td>\n",
       "      <td>1</td>\n",
       "    </tr>\n",
       "    <tr>\n",
       "      <th>2</th>\n",
       "      <td>1</td>\n",
       "      <td>010vptx3</td>\n",
       "      <td>2</td>\n",
       "    </tr>\n",
       "    <tr>\n",
       "      <th>3</th>\n",
       "      <td>1</td>\n",
       "      <td>0194oljo</td>\n",
       "      <td>1</td>\n",
       "    </tr>\n",
       "    <tr>\n",
       "      <th>4</th>\n",
       "      <td>1</td>\n",
       "      <td>021q9884</td>\n",
       "      <td>1</td>\n",
       "    </tr>\n",
       "    <tr>\n",
       "      <th>...</th>\n",
       "      <td>...</td>\n",
       "      <td>...</td>\n",
       "      <td>...</td>\n",
       "    </tr>\n",
       "    <tr>\n",
       "      <th>69313</th>\n",
       "      <td>50</td>\n",
       "      <td>zvop8bxh</td>\n",
       "      <td>2</td>\n",
       "    </tr>\n",
       "    <tr>\n",
       "      <th>69314</th>\n",
       "      <td>50</td>\n",
       "      <td>zwf26o63</td>\n",
       "      <td>1</td>\n",
       "    </tr>\n",
       "    <tr>\n",
       "      <th>69315</th>\n",
       "      <td>50</td>\n",
       "      <td>zwsvlnwe</td>\n",
       "      <td>0</td>\n",
       "    </tr>\n",
       "    <tr>\n",
       "      <th>69316</th>\n",
       "      <td>50</td>\n",
       "      <td>zxr01yln</td>\n",
       "      <td>1</td>\n",
       "    </tr>\n",
       "    <tr>\n",
       "      <th>69317</th>\n",
       "      <td>50</td>\n",
       "      <td>zz8wvos9</td>\n",
       "      <td>1</td>\n",
       "    </tr>\n",
       "  </tbody>\n",
       "</table>\n",
       "<p>69318 rows × 3 columns</p>\n",
       "</div>"
      ],
      "text/plain": [
       "       topic document_id  judgement\n",
       "0          1    005b2j4b          2\n",
       "1          1    00fmeepz          1\n",
       "2          1    010vptx3          2\n",
       "3          1    0194oljo          1\n",
       "4          1    021q9884          1\n",
       "...      ...         ...        ...\n",
       "69313     50    zvop8bxh          2\n",
       "69314     50    zwf26o63          1\n",
       "69315     50    zwsvlnwe          0\n",
       "69316     50    zxr01yln          1\n",
       "69317     50    zz8wvos9          1\n",
       "\n",
       "[69318 rows x 3 columns]"
      ]
     },
     "execution_count": 11,
     "metadata": {
      "tags": []
     },
     "output_type": "execute_result"
    }
   ],
   "source": [
    "topic_relevances = 'topic iter document_id judgement\\n' + read_file('drive/MyDrive/CMPE/CMPE493/qrels-covid_d5_j0.5-5.txt')\n",
    "\n",
    "df_relevances = pd.read_csv(  io.StringIO(topic_relevances)  , sep=\" \")\n",
    "del df_relevances['iter']\n",
    "\n",
    "df_relevances"
   ]
  },
  {
   "cell_type": "code",
   "execution_count": 12,
   "metadata": {
    "id": "BfQ3a3yIItFa"
   },
   "outputs": [],
   "source": [
    "topics_obj = xmltodict.parse(read_file('drive/MyDrive/CMPE/CMPE493/topics-rnd5.xml'))\n",
    "topics     = json.loads(json.dumps(topics_obj))\n",
    "\n",
    "topics_dict = {}\n",
    "for topic in topics['topics']['topic']:\n",
    "  # a topic has the following fields:\n",
    "  #  * @number\n",
    "  #  * narrative\n",
    "  #  * query\n",
    "  #  * question\n",
    "  topics_dict[topic['@number']] = topic['query'] + ' ' + topic['question'] + ' ' + topic['narrative']"
   ]
  },
  {
   "cell_type": "code",
   "execution_count": 13,
   "metadata": {
    "colab": {
     "base_uri": "https://localhost:8080/"
    },
    "id": "Ym_9xG3zVjrk",
    "outputId": "b8f95fc7-e004-4d71-ff2f-66377bf17837"
   },
   "outputs": [
    {
     "data": {
      "text/plain": [
       "50"
      ]
     },
     "execution_count": 13,
     "metadata": {
      "tags": []
     },
     "output_type": "execute_result"
    }
   ],
   "source": [
    "len(topics_dict)"
   ]
  },
  {
   "cell_type": "markdown",
   "metadata": {
    "id": "iwwehnTLLIyy"
   },
   "source": [
    "# Data so far\n",
    "\n",
    "* `topics_dict` \n",
    "      has `topic-id` for keys, and topic description for values\n",
    "* `df_relevances` \n",
    "      has the following three columns:\n",
    "      topic\tdocument-id\tjudgement\n",
    "* `df_metadata`\n",
    "      holds information about the documents\n",
    "      has the following three columns (others are deleted):\n",
    "      cord_uid\ttitle\tabstract\n"
   ]
  },
  {
   "cell_type": "code",
   "execution_count": 14,
   "metadata": {
    "colab": {
     "base_uri": "https://localhost:8080/"
    },
    "id": "moo9WB8LY5R4",
    "outputId": "631ec3e1-97c4-481b-dd9b-65bce7ec41ad"
   },
   "outputs": [
    {
     "name": "stdout",
     "output_type": "stream",
     "text": [
      "[nltk_data] Downloading package stopwords to /root/nltk_data...\n",
      "[nltk_data]   Package stopwords is already up-to-date!\n"
     ]
    },
    {
     "data": {
      "text/plain": [
       "True"
      ]
     },
     "execution_count": 14,
     "metadata": {
      "tags": []
     },
     "output_type": "execute_result"
    }
   ],
   "source": [
    "nltk.download('stopwords')\n",
    "#stopwords.words('english')"
   ]
  },
  {
   "cell_type": "code",
   "execution_count": 15,
   "metadata": {
    "id": "nfBFOSwlX9w5"
   },
   "outputs": [],
   "source": [
    "docs = np.array(df_metadata)\n",
    "contents = {}\n",
    "\n",
    "for doc in docs:\n",
    "  contents[doc[0]] = f'{doc[1]} {doc[2]}'"
   ]
  },
  {
   "cell_type": "code",
   "execution_count": 16,
   "metadata": {
    "id": "R7h_TY6PvwWY"
   },
   "outputs": [],
   "source": [
    "porter_stemmer = PorterStemmer()\n",
    "sw = stopwords.words('english')\n",
    "\n",
    "# preprocessing\n",
    "# case folding\n",
    "# punctuation removal\n",
    "# number deletion\n",
    "# stemming & stopword removal\n",
    "def preprocess(s):\n",
    "  s = s.casefold()\n",
    "  s = s.translate(str.maketrans(string.punctuation, ' ' * len(string.punctuation)))\n",
    "  s = re.sub(\"\\d+\", \"\", s) #Delete numbers\n",
    "  s = ' '.join([porter_stemmer.stem(word) for word in s.split() if word not in sw and word != 'nan'])\n",
    "  return s"
   ]
  },
  {
   "cell_type": "code",
   "execution_count": 17,
   "metadata": {
    "id": "t3HnUO8Eq-_7"
   },
   "outputs": [],
   "source": [
    "if os.path.exists('drive/MyDrive/CMPE/CMPE493'):\n",
    "  doc_vectors = pickle.load(open(\"drive/MyDrive/CMPE/CMPE493/doc_vectors.pickle\", \"rb\"))\n",
    "  doc_vectorizer = pickle.load(open(\"drive/MyDrive/CMPE/CMPE493/doc_vectorizer.pickle\", \"rb\"))"
   ]
  },
  {
   "cell_type": "code",
   "execution_count": 18,
   "metadata": {
    "colab": {
     "base_uri": "https://localhost:8080/"
    },
    "id": "oGdwOCOlYak7",
    "outputId": "c00ff580-53f6-4ee6-d028-ef736af8eab7"
   },
   "outputs": [
    {
     "name": "stdout",
     "output_type": "stream",
     "text": [
      "There are 145387 tokens in our vocabulary.\n"
     ]
    }
   ],
   "source": [
    "from sklearn.feature_extraction.text import TfidfVectorizer\n",
    "\n",
    "# fit TfidfVectorizer on documents \n",
    "doc_vectorizer = TfidfVectorizer(preprocessor=preprocess)\n",
    "doc_vectors = doc_vectorizer.fit_transform(list(contents.values()))\n",
    "\n",
    "print(\"There are\", len(doc_vectorizer.vocabulary_), \"tokens in our vocabulary.\")"
   ]
  },
  {
   "cell_type": "code",
   "execution_count": 19,
   "metadata": {
    "id": "ZD0Au6yKfIFU"
   },
   "outputs": [],
   "source": [
    "# Vectorize the topics with the same vectorizer\n",
    "topic_vectors = doc_vectorizer.transform(list(topics_dict.values()))"
   ]
  },
  {
   "cell_type": "code",
   "execution_count": 20,
   "metadata": {
    "id": "00_-qfbYRVlG"
   },
   "outputs": [],
   "source": [
    "pickle.dump(doc_vectors, open(\"drive/MyDrive/CMPE/CMPE493/doc_vectors.pickle\", \"wb\"))\n",
    "pickle.dump(doc_vectorizer, open(\"drive/MyDrive/CMPE/CMPE493/doc_vectorizer.pickle\", \"wb\"))"
   ]
  },
  {
   "cell_type": "code",
   "execution_count": 21,
   "metadata": {
    "colab": {
     "base_uri": "https://localhost:8080/"
    },
    "id": "2jXjECpbGHfY",
    "outputId": "ee3bdc2f-8b6c-4d62-a17a-f3333d4f4fb0"
   },
   "outputs": [
    {
     "data": {
      "text/plain": [
       "(191175, 145387)"
      ]
     },
     "execution_count": 21,
     "metadata": {
      "tags": []
     },
     "output_type": "execute_result"
    }
   ],
   "source": [
    "# number of documents, length of vector\n",
    "doc_vectors.shape"
   ]
  },
  {
   "cell_type": "code",
   "execution_count": 22,
   "metadata": {
    "colab": {
     "base_uri": "https://localhost:8080/"
    },
    "id": "NqdsRXTefRee",
    "outputId": "e7e4e45c-e354-429e-a99b-21240eebbacc"
   },
   "outputs": [
    {
     "data": {
      "text/plain": [
       "(50, 145387)"
      ]
     },
     "execution_count": 22,
     "metadata": {
      "tags": []
     },
     "output_type": "execute_result"
    }
   ],
   "source": [
    "# number of topics, length of vector\n",
    "topic_vectors.shape"
   ]
  },
  {
   "cell_type": "code",
   "execution_count": 23,
   "metadata": {
    "id": "AyNFLw7birAa"
   },
   "outputs": [],
   "source": [
    "# key: document_id\n",
    "# val: document's TFIDF vector\n",
    "doc_vectors_dict = {\n",
    "    docs[i][0] : doc_vectors[i]\n",
    "    for i in range(0,len(docs))\n",
    "}"
   ]
  },
  {
   "cell_type": "code",
   "execution_count": 24,
   "metadata": {
    "id": "gMbq_tAHnVAS"
   },
   "outputs": [],
   "source": [
    "# key: topic_id\n",
    "# val: topic's TFIDF vector\n",
    "topic_vectors_dict = {\n",
    "    key : topic_vectors[i]\n",
    "    for i, key in enumerate(topics_dict.keys())\n",
    "}"
   ]
  },
  {
   "cell_type": "code",
   "execution_count": 25,
   "metadata": {
    "colab": {
     "base_uri": "https://localhost:8080/"
    },
    "id": "LI8k1njZbdFz",
    "outputId": "88cc8eec-24cd-4a28-8e82-72cd41821223"
   },
   "outputs": [
    {
     "name": "stdout",
     "output_type": "stream",
     "text": [
      "Example document id: um607cmb\n",
      "Maximum cosine similarity among all topics: 0.0379\n",
      "Argmax of maximum cos. sim.: 4\n",
      "Contents of document 'um607cmb': Letter: News From the COVID-19 Front Lines: How Neurosurgeons Are Contributing nan\n",
      "Contents of topic '4': how do people die from the coronavirus what causes death from Covid-19? Studies looking at mechanisms of death from Covid-19.\n"
     ]
    }
   ],
   "source": [
    "from sklearn.metrics.pairwise import cosine_similarity\n",
    "\n",
    "#Take random doc_id and print most relevant topic\n",
    "ex_document = df_metadata.sample().cord_uid.to_string().split()[1]\n",
    "similarity = cosine_similarity(doc_vectors_dict[ex_document],topic_vectors).flatten()\n",
    "\n",
    "best_sim      = np.max(similarity)\n",
    "best_topic_id = np.argmax(similarity) + 1\n",
    "\n",
    "print(f\"Example document id: {ex_document}\")\n",
    "print(f\"Maximum cosine similarity among all topics: {best_sim:.4f}\")\n",
    "print(f\"Argmax of maximum cos. sim.: {best_topic_id}\")\n",
    "print(f\"Contents of document '{ex_document}': {contents[ex_document]}\")\n",
    "print(f\"Contents of topic '{best_topic_id}': {topics_dict[str(best_topic_id)]}\")\n"
   ]
  },
  {
   "cell_type": "code",
   "execution_count": 26,
   "metadata": {
    "colab": {
     "base_uri": "https://localhost:8080/"
    },
    "id": "TW5q7j63eQzs",
    "outputId": "ea19968a-76e2-441f-deb1-a172b9dc0029"
   },
   "outputs": [
    {
     "data": {
      "text/plain": [
       "(50, 191175)"
      ]
     },
     "execution_count": 26,
     "metadata": {
      "tags": []
     },
     "output_type": "execute_result"
    }
   ],
   "source": [
    "sims = cosine_similarity(topic_vectors, doc_vectors)\n",
    "sims.shape"
   ]
  },
  {
   "cell_type": "code",
   "execution_count": 27,
   "metadata": {
    "id": "towzilv0oBlg"
   },
   "outputs": [],
   "source": [
    "results = np.ndarray((len(contents)*int(len(topics_dict)/2),1))\n",
    "results = list(results)\n",
    "\n",
    "#Even results\n",
    "for j,topic in enumerate(topics_dict.keys()):\n",
    "  if(j%2 != 0):\n",
    "    for i,doc_id in enumerate(contents.keys()):\n",
    "      element = f'{topic} 0 {doc_id} 0 {sims[j][i]} 0'\n",
    "      results[int(j/2)*len(contents.keys())+i] = element"
   ]
  },
  {
   "cell_type": "markdown",
   "metadata": {
    "id": "Pk742I-7uu_N"
   },
   "source": [
    "**results.csv columns:**\n",
    "qid, iter, docno, rank, sim, run_id "
   ]
  },
  {
   "cell_type": "code",
   "execution_count": 28,
   "metadata": {
    "colab": {
     "base_uri": "https://localhost:8080/"
    },
    "id": "hsUXg21UqvBM",
    "outputId": "f345b3c5-ddc8-4cfd-b83e-4d9aaa2dbd62"
   },
   "outputs": [
    {
     "data": {
      "text/plain": [
       "['2 0 ug7v899j 0 0.0 0',\n",
       " '2 0 02tnwd4m 0 0.011011974322833466 0',\n",
       " '2 0 ejv2xln0 0 0.012277492779388261 0',\n",
       " '2 0 2b73a28n 0 0.0 0',\n",
       " '2 0 9785vg6d 0 0.06059505130597204 0',\n",
       " '2 0 zjufx4fo 0 0.00864037385739897 0',\n",
       " '2 0 5yhe786e 0 0.0 0',\n",
       " '2 0 8zchiykl 0 0.0 0',\n",
       " '2 0 8qnrcgnk 0 0.008868282023550493 0',\n",
       " '2 0 jg13scgo 0 0.0035325109038701072 0']"
      ]
     },
     "execution_count": 28,
     "metadata": {
      "tags": []
     },
     "output_type": "execute_result"
    }
   ],
   "source": [
    "results[:10]"
   ]
  },
  {
   "cell_type": "code",
   "execution_count": 29,
   "metadata": {
    "id": "k7AdWE-cld6C"
   },
   "outputs": [],
   "source": [
    "# Write results to file\n",
    "with open('results.txt', 'w') as f:\n",
    "    f.write('\\n'.join(results))"
   ]
  },
  {
   "cell_type": "code",
   "execution_count": 29,
   "metadata": {
    "id": "r4LnteE5Nfcf"
   },
   "outputs": [],
   "source": []
  }
 ],
 "metadata": {
  "colab": {
   "collapsed_sections": [],
   "include_colab_link": true,
   "name": "Copy of 493-playground.ipynb",
   "provenance": [],
   "toc_visible": true
  },
  "kernelspec": {
   "display_name": "Python 3",
   "name": "python3"
  }
 },
 "nbformat": 4,
 "nbformat_minor": 0
}
